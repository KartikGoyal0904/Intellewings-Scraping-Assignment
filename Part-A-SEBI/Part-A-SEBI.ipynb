{
  "nbformat": 4,
  "nbformat_minor": 0,
  "metadata": {
    "colab": {
      "provenance": []
    },
    "kernelspec": {
      "name": "python3",
      "display_name": "Python 3"
    },
    "language_info": {
      "name": "python"
    },
    "widgets": {
      "application/vnd.jupyter.widget-state+json": {
        "6dcbac582b4c4292b41ae53dc1905b1e": {
          "model_module": "@jupyter-widgets/controls",
          "model_name": "HBoxModel",
          "model_module_version": "1.5.0",
          "state": {
            "_dom_classes": [],
            "_model_module": "@jupyter-widgets/controls",
            "_model_module_version": "1.5.0",
            "_model_name": "HBoxModel",
            "_view_count": null,
            "_view_module": "@jupyter-widgets/controls",
            "_view_module_version": "1.5.0",
            "_view_name": "HBoxView",
            "box_style": "",
            "children": [
              "IPY_MODEL_c2061d4f2bf64578b1db023d13650953",
              "IPY_MODEL_6821a2ad38804c4497b6733e664c33e0",
              "IPY_MODEL_0055b138e9e3479693c10893f3ca5e38"
            ],
            "layout": "IPY_MODEL_d060ef0a6d2945bd8ccce8ca6711ab73"
          }
        },
        "c2061d4f2bf64578b1db023d13650953": {
          "model_module": "@jupyter-widgets/controls",
          "model_name": "HTMLModel",
          "model_module_version": "1.5.0",
          "state": {
            "_dom_classes": [],
            "_model_module": "@jupyter-widgets/controls",
            "_model_module_version": "1.5.0",
            "_model_name": "HTMLModel",
            "_view_count": null,
            "_view_module": "@jupyter-widgets/controls",
            "_view_module_version": "1.5.0",
            "_view_name": "HTMLView",
            "description": "",
            "description_tooltip": null,
            "layout": "IPY_MODEL_59928ac664ed4a6faf5aa5cd0887617c",
            "placeholder": "​",
            "style": "IPY_MODEL_7ef9e1ca020d4b07ae901f99342a384f",
            "value": "pytorch_model.bin: 100%"
          }
        },
        "6821a2ad38804c4497b6733e664c33e0": {
          "model_module": "@jupyter-widgets/controls",
          "model_name": "FloatProgressModel",
          "model_module_version": "1.5.0",
          "state": {
            "_dom_classes": [],
            "_model_module": "@jupyter-widgets/controls",
            "_model_module_version": "1.5.0",
            "_model_name": "FloatProgressModel",
            "_view_count": null,
            "_view_module": "@jupyter-widgets/controls",
            "_view_module_version": "1.5.0",
            "_view_name": "ProgressView",
            "bar_style": "success",
            "description": "",
            "description_tooltip": null,
            "layout": "IPY_MODEL_4305811dfd304d7a8f0af5a38693c6f7",
            "max": 419080819,
            "min": 0,
            "orientation": "horizontal",
            "style": "IPY_MODEL_40030239aaa748449498230c482b5504",
            "value": 419080819
          }
        },
        "0055b138e9e3479693c10893f3ca5e38": {
          "model_module": "@jupyter-widgets/controls",
          "model_name": "HTMLModel",
          "model_module_version": "1.5.0",
          "state": {
            "_dom_classes": [],
            "_model_module": "@jupyter-widgets/controls",
            "_model_module_version": "1.5.0",
            "_model_name": "HTMLModel",
            "_view_count": null,
            "_view_module": "@jupyter-widgets/controls",
            "_view_module_version": "1.5.0",
            "_view_name": "HTMLView",
            "description": "",
            "description_tooltip": null,
            "layout": "IPY_MODEL_f7648339f387432e9299c678b8d22057",
            "placeholder": "​",
            "style": "IPY_MODEL_857579ec28a8462a927306fa841fb94e",
            "value": " 419M/419M [00:06&lt;00:00, 71.7MB/s]"
          }
        },
        "d060ef0a6d2945bd8ccce8ca6711ab73": {
          "model_module": "@jupyter-widgets/base",
          "model_name": "LayoutModel",
          "model_module_version": "1.2.0",
          "state": {
            "_model_module": "@jupyter-widgets/base",
            "_model_module_version": "1.2.0",
            "_model_name": "LayoutModel",
            "_view_count": null,
            "_view_module": "@jupyter-widgets/base",
            "_view_module_version": "1.2.0",
            "_view_name": "LayoutView",
            "align_content": null,
            "align_items": null,
            "align_self": null,
            "border": null,
            "bottom": null,
            "display": null,
            "flex": null,
            "flex_flow": null,
            "grid_area": null,
            "grid_auto_columns": null,
            "grid_auto_flow": null,
            "grid_auto_rows": null,
            "grid_column": null,
            "grid_gap": null,
            "grid_row": null,
            "grid_template_areas": null,
            "grid_template_columns": null,
            "grid_template_rows": null,
            "height": null,
            "justify_content": null,
            "justify_items": null,
            "left": null,
            "margin": null,
            "max_height": null,
            "max_width": null,
            "min_height": null,
            "min_width": null,
            "object_fit": null,
            "object_position": null,
            "order": null,
            "overflow": null,
            "overflow_x": null,
            "overflow_y": null,
            "padding": null,
            "right": null,
            "top": null,
            "visibility": null,
            "width": null
          }
        },
        "59928ac664ed4a6faf5aa5cd0887617c": {
          "model_module": "@jupyter-widgets/base",
          "model_name": "LayoutModel",
          "model_module_version": "1.2.0",
          "state": {
            "_model_module": "@jupyter-widgets/base",
            "_model_module_version": "1.2.0",
            "_model_name": "LayoutModel",
            "_view_count": null,
            "_view_module": "@jupyter-widgets/base",
            "_view_module_version": "1.2.0",
            "_view_name": "LayoutView",
            "align_content": null,
            "align_items": null,
            "align_self": null,
            "border": null,
            "bottom": null,
            "display": null,
            "flex": null,
            "flex_flow": null,
            "grid_area": null,
            "grid_auto_columns": null,
            "grid_auto_flow": null,
            "grid_auto_rows": null,
            "grid_column": null,
            "grid_gap": null,
            "grid_row": null,
            "grid_template_areas": null,
            "grid_template_columns": null,
            "grid_template_rows": null,
            "height": null,
            "justify_content": null,
            "justify_items": null,
            "left": null,
            "margin": null,
            "max_height": null,
            "max_width": null,
            "min_height": null,
            "min_width": null,
            "object_fit": null,
            "object_position": null,
            "order": null,
            "overflow": null,
            "overflow_x": null,
            "overflow_y": null,
            "padding": null,
            "right": null,
            "top": null,
            "visibility": null,
            "width": null
          }
        },
        "7ef9e1ca020d4b07ae901f99342a384f": {
          "model_module": "@jupyter-widgets/controls",
          "model_name": "DescriptionStyleModel",
          "model_module_version": "1.5.0",
          "state": {
            "_model_module": "@jupyter-widgets/controls",
            "_model_module_version": "1.5.0",
            "_model_name": "DescriptionStyleModel",
            "_view_count": null,
            "_view_module": "@jupyter-widgets/base",
            "_view_module_version": "1.2.0",
            "_view_name": "StyleView",
            "description_width": ""
          }
        },
        "4305811dfd304d7a8f0af5a38693c6f7": {
          "model_module": "@jupyter-widgets/base",
          "model_name": "LayoutModel",
          "model_module_version": "1.2.0",
          "state": {
            "_model_module": "@jupyter-widgets/base",
            "_model_module_version": "1.2.0",
            "_model_name": "LayoutModel",
            "_view_count": null,
            "_view_module": "@jupyter-widgets/base",
            "_view_module_version": "1.2.0",
            "_view_name": "LayoutView",
            "align_content": null,
            "align_items": null,
            "align_self": null,
            "border": null,
            "bottom": null,
            "display": null,
            "flex": null,
            "flex_flow": null,
            "grid_area": null,
            "grid_auto_columns": null,
            "grid_auto_flow": null,
            "grid_auto_rows": null,
            "grid_column": null,
            "grid_gap": null,
            "grid_row": null,
            "grid_template_areas": null,
            "grid_template_columns": null,
            "grid_template_rows": null,
            "height": null,
            "justify_content": null,
            "justify_items": null,
            "left": null,
            "margin": null,
            "max_height": null,
            "max_width": null,
            "min_height": null,
            "min_width": null,
            "object_fit": null,
            "object_position": null,
            "order": null,
            "overflow": null,
            "overflow_x": null,
            "overflow_y": null,
            "padding": null,
            "right": null,
            "top": null,
            "visibility": null,
            "width": null
          }
        },
        "40030239aaa748449498230c482b5504": {
          "model_module": "@jupyter-widgets/controls",
          "model_name": "ProgressStyleModel",
          "model_module_version": "1.5.0",
          "state": {
            "_model_module": "@jupyter-widgets/controls",
            "_model_module_version": "1.5.0",
            "_model_name": "ProgressStyleModel",
            "_view_count": null,
            "_view_module": "@jupyter-widgets/base",
            "_view_module_version": "1.2.0",
            "_view_name": "StyleView",
            "bar_color": null,
            "description_width": ""
          }
        },
        "f7648339f387432e9299c678b8d22057": {
          "model_module": "@jupyter-widgets/base",
          "model_name": "LayoutModel",
          "model_module_version": "1.2.0",
          "state": {
            "_model_module": "@jupyter-widgets/base",
            "_model_module_version": "1.2.0",
            "_model_name": "LayoutModel",
            "_view_count": null,
            "_view_module": "@jupyter-widgets/base",
            "_view_module_version": "1.2.0",
            "_view_name": "LayoutView",
            "align_content": null,
            "align_items": null,
            "align_self": null,
            "border": null,
            "bottom": null,
            "display": null,
            "flex": null,
            "flex_flow": null,
            "grid_area": null,
            "grid_auto_columns": null,
            "grid_auto_flow": null,
            "grid_auto_rows": null,
            "grid_column": null,
            "grid_gap": null,
            "grid_row": null,
            "grid_template_areas": null,
            "grid_template_columns": null,
            "grid_template_rows": null,
            "height": null,
            "justify_content": null,
            "justify_items": null,
            "left": null,
            "margin": null,
            "max_height": null,
            "max_width": null,
            "min_height": null,
            "min_width": null,
            "object_fit": null,
            "object_position": null,
            "order": null,
            "overflow": null,
            "overflow_x": null,
            "overflow_y": null,
            "padding": null,
            "right": null,
            "top": null,
            "visibility": null,
            "width": null
          }
        },
        "857579ec28a8462a927306fa841fb94e": {
          "model_module": "@jupyter-widgets/controls",
          "model_name": "DescriptionStyleModel",
          "model_module_version": "1.5.0",
          "state": {
            "_model_module": "@jupyter-widgets/controls",
            "_model_module_version": "1.5.0",
            "_model_name": "DescriptionStyleModel",
            "_view_count": null,
            "_view_module": "@jupyter-widgets/base",
            "_view_module_version": "1.2.0",
            "_view_name": "StyleView",
            "description_width": ""
          }
        }
      }
    }
  },
  "cells": [
    {
      "cell_type": "code",
      "execution_count": 2,
      "metadata": {
        "colab": {
          "base_uri": "https://localhost:8080/"
        },
        "collapsed": true,
        "id": "K8OXu1MqNN0L",
        "outputId": "fa694e8f-152a-4e11-9518-2f346fe7ed87"
      },
      "outputs": [
        {
          "output_type": "stream",
          "name": "stdout",
          "text": [
            "Requirement already satisfied: requests in /usr/local/lib/python3.11/dist-packages (2.32.3)\n",
            "Requirement already satisfied: spacy in /usr/local/lib/python3.11/dist-packages (3.8.7)\n",
            "Requirement already satisfied: beautifulsoup4 in /usr/local/lib/python3.11/dist-packages (4.13.4)\n",
            "Collecting selenium\n",
            "  Downloading selenium-4.34.2-py3-none-any.whl.metadata (7.5 kB)\n",
            "Collecting PyMuPDF\n",
            "  Downloading pymupdf-1.26.3-cp39-abi3-manylinux_2_28_x86_64.whl.metadata (3.4 kB)\n",
            "Requirement already satisfied: charset-normalizer<4,>=2 in /usr/local/lib/python3.11/dist-packages (from requests) (3.4.2)\n",
            "Requirement already satisfied: idna<4,>=2.5 in /usr/local/lib/python3.11/dist-packages (from requests) (3.10)\n",
            "Requirement already satisfied: urllib3<3,>=1.21.1 in /usr/local/lib/python3.11/dist-packages (from requests) (2.5.0)\n",
            "Requirement already satisfied: certifi>=2017.4.17 in /usr/local/lib/python3.11/dist-packages (from requests) (2025.7.14)\n",
            "Requirement already satisfied: spacy-legacy<3.1.0,>=3.0.11 in /usr/local/lib/python3.11/dist-packages (from spacy) (3.0.12)\n",
            "Requirement already satisfied: spacy-loggers<2.0.0,>=1.0.0 in /usr/local/lib/python3.11/dist-packages (from spacy) (1.0.5)\n",
            "Requirement already satisfied: murmurhash<1.1.0,>=0.28.0 in /usr/local/lib/python3.11/dist-packages (from spacy) (1.0.13)\n",
            "Requirement already satisfied: cymem<2.1.0,>=2.0.2 in /usr/local/lib/python3.11/dist-packages (from spacy) (2.0.11)\n",
            "Requirement already satisfied: preshed<3.1.0,>=3.0.2 in /usr/local/lib/python3.11/dist-packages (from spacy) (3.0.10)\n",
            "Requirement already satisfied: thinc<8.4.0,>=8.3.4 in /usr/local/lib/python3.11/dist-packages (from spacy) (8.3.6)\n",
            "Requirement already satisfied: wasabi<1.2.0,>=0.9.1 in /usr/local/lib/python3.11/dist-packages (from spacy) (1.1.3)\n",
            "Requirement already satisfied: srsly<3.0.0,>=2.4.3 in /usr/local/lib/python3.11/dist-packages (from spacy) (2.5.1)\n",
            "Requirement already satisfied: catalogue<2.1.0,>=2.0.6 in /usr/local/lib/python3.11/dist-packages (from spacy) (2.0.10)\n",
            "Requirement already satisfied: weasel<0.5.0,>=0.1.0 in /usr/local/lib/python3.11/dist-packages (from spacy) (0.4.1)\n",
            "Requirement already satisfied: typer<1.0.0,>=0.3.0 in /usr/local/lib/python3.11/dist-packages (from spacy) (0.16.0)\n",
            "Requirement already satisfied: tqdm<5.0.0,>=4.38.0 in /usr/local/lib/python3.11/dist-packages (from spacy) (4.67.1)\n",
            "Requirement already satisfied: numpy>=1.19.0 in /usr/local/lib/python3.11/dist-packages (from spacy) (2.0.2)\n",
            "Requirement already satisfied: pydantic!=1.8,!=1.8.1,<3.0.0,>=1.7.4 in /usr/local/lib/python3.11/dist-packages (from spacy) (2.11.7)\n",
            "Requirement already satisfied: jinja2 in /usr/local/lib/python3.11/dist-packages (from spacy) (3.1.6)\n",
            "Requirement already satisfied: setuptools in /usr/local/lib/python3.11/dist-packages (from spacy) (75.2.0)\n",
            "Requirement already satisfied: packaging>=20.0 in /usr/local/lib/python3.11/dist-packages (from spacy) (25.0)\n",
            "Requirement already satisfied: langcodes<4.0.0,>=3.2.0 in /usr/local/lib/python3.11/dist-packages (from spacy) (3.5.0)\n",
            "Requirement already satisfied: soupsieve>1.2 in /usr/local/lib/python3.11/dist-packages (from beautifulsoup4) (2.7)\n",
            "Requirement already satisfied: typing-extensions>=4.0.0 in /usr/local/lib/python3.11/dist-packages (from beautifulsoup4) (4.14.1)\n",
            "Collecting trio~=0.30.0 (from selenium)\n",
            "  Downloading trio-0.30.0-py3-none-any.whl.metadata (8.5 kB)\n",
            "Collecting trio-websocket~=0.12.2 (from selenium)\n",
            "  Downloading trio_websocket-0.12.2-py3-none-any.whl.metadata (5.1 kB)\n",
            "Requirement already satisfied: websocket-client~=1.8.0 in /usr/local/lib/python3.11/dist-packages (from selenium) (1.8.0)\n",
            "Requirement already satisfied: language-data>=1.2 in /usr/local/lib/python3.11/dist-packages (from langcodes<4.0.0,>=3.2.0->spacy) (1.3.0)\n",
            "Requirement already satisfied: annotated-types>=0.6.0 in /usr/local/lib/python3.11/dist-packages (from pydantic!=1.8,!=1.8.1,<3.0.0,>=1.7.4->spacy) (0.7.0)\n",
            "Requirement already satisfied: pydantic-core==2.33.2 in /usr/local/lib/python3.11/dist-packages (from pydantic!=1.8,!=1.8.1,<3.0.0,>=1.7.4->spacy) (2.33.2)\n",
            "Requirement already satisfied: typing-inspection>=0.4.0 in /usr/local/lib/python3.11/dist-packages (from pydantic!=1.8,!=1.8.1,<3.0.0,>=1.7.4->spacy) (0.4.1)\n",
            "Requirement already satisfied: blis<1.4.0,>=1.3.0 in /usr/local/lib/python3.11/dist-packages (from thinc<8.4.0,>=8.3.4->spacy) (1.3.0)\n",
            "Requirement already satisfied: confection<1.0.0,>=0.0.1 in /usr/local/lib/python3.11/dist-packages (from thinc<8.4.0,>=8.3.4->spacy) (0.1.5)\n",
            "Requirement already satisfied: attrs>=23.2.0 in /usr/local/lib/python3.11/dist-packages (from trio~=0.30.0->selenium) (25.3.0)\n",
            "Requirement already satisfied: sortedcontainers in /usr/local/lib/python3.11/dist-packages (from trio~=0.30.0->selenium) (2.4.0)\n",
            "Collecting outcome (from trio~=0.30.0->selenium)\n",
            "  Downloading outcome-1.3.0.post0-py2.py3-none-any.whl.metadata (2.6 kB)\n",
            "Requirement already satisfied: sniffio>=1.3.0 in /usr/local/lib/python3.11/dist-packages (from trio~=0.30.0->selenium) (1.3.1)\n",
            "Collecting wsproto>=0.14 (from trio-websocket~=0.12.2->selenium)\n",
            "  Downloading wsproto-1.2.0-py3-none-any.whl.metadata (5.6 kB)\n",
            "Requirement already satisfied: click>=8.0.0 in /usr/local/lib/python3.11/dist-packages (from typer<1.0.0,>=0.3.0->spacy) (8.2.1)\n",
            "Requirement already satisfied: shellingham>=1.3.0 in /usr/local/lib/python3.11/dist-packages (from typer<1.0.0,>=0.3.0->spacy) (1.5.4)\n",
            "Requirement already satisfied: rich>=10.11.0 in /usr/local/lib/python3.11/dist-packages (from typer<1.0.0,>=0.3.0->spacy) (13.9.4)\n",
            "Requirement already satisfied: pysocks!=1.5.7,<2.0,>=1.5.6 in /usr/local/lib/python3.11/dist-packages (from urllib3[socks]~=2.5.0->selenium) (1.7.1)\n",
            "Requirement already satisfied: cloudpathlib<1.0.0,>=0.7.0 in /usr/local/lib/python3.11/dist-packages (from weasel<0.5.0,>=0.1.0->spacy) (0.21.1)\n",
            "Requirement already satisfied: smart-open<8.0.0,>=5.2.1 in /usr/local/lib/python3.11/dist-packages (from weasel<0.5.0,>=0.1.0->spacy) (7.3.0.post1)\n",
            "Requirement already satisfied: MarkupSafe>=2.0 in /usr/local/lib/python3.11/dist-packages (from jinja2->spacy) (3.0.2)\n",
            "Requirement already satisfied: marisa-trie>=1.1.0 in /usr/local/lib/python3.11/dist-packages (from language-data>=1.2->langcodes<4.0.0,>=3.2.0->spacy) (1.2.1)\n",
            "Requirement already satisfied: markdown-it-py>=2.2.0 in /usr/local/lib/python3.11/dist-packages (from rich>=10.11.0->typer<1.0.0,>=0.3.0->spacy) (3.0.0)\n",
            "Requirement already satisfied: pygments<3.0.0,>=2.13.0 in /usr/local/lib/python3.11/dist-packages (from rich>=10.11.0->typer<1.0.0,>=0.3.0->spacy) (2.19.2)\n",
            "Requirement already satisfied: wrapt in /usr/local/lib/python3.11/dist-packages (from smart-open<8.0.0,>=5.2.1->weasel<0.5.0,>=0.1.0->spacy) (1.17.2)\n",
            "Requirement already satisfied: h11<1,>=0.9.0 in /usr/local/lib/python3.11/dist-packages (from wsproto>=0.14->trio-websocket~=0.12.2->selenium) (0.16.0)\n",
            "Requirement already satisfied: mdurl~=0.1 in /usr/local/lib/python3.11/dist-packages (from markdown-it-py>=2.2.0->rich>=10.11.0->typer<1.0.0,>=0.3.0->spacy) (0.1.2)\n",
            "Downloading selenium-4.34.2-py3-none-any.whl (9.4 MB)\n",
            "\u001b[2K   \u001b[90m━━━━━━━━━━━━━━━━━━━━━━━━━━━━━━━━━━━━━━━━\u001b[0m \u001b[32m9.4/9.4 MB\u001b[0m \u001b[31m56.2 MB/s\u001b[0m eta \u001b[36m0:00:00\u001b[0m\n",
            "\u001b[?25hDownloading pymupdf-1.26.3-cp39-abi3-manylinux_2_28_x86_64.whl (24.1 MB)\n",
            "\u001b[2K   \u001b[90m━━━━━━━━━━━━━━━━━━━━━━━━━━━━━━━━━━━━━━━━\u001b[0m \u001b[32m24.1/24.1 MB\u001b[0m \u001b[31m58.8 MB/s\u001b[0m eta \u001b[36m0:00:00\u001b[0m\n",
            "\u001b[?25hDownloading trio-0.30.0-py3-none-any.whl (499 kB)\n",
            "\u001b[2K   \u001b[90m━━━━━━━━━━━━━━━━━━━━━━━━━━━━━━━━━━━━━━━━\u001b[0m \u001b[32m499.2/499.2 kB\u001b[0m \u001b[31m29.9 MB/s\u001b[0m eta \u001b[36m0:00:00\u001b[0m\n",
            "\u001b[?25hDownloading trio_websocket-0.12.2-py3-none-any.whl (21 kB)\n",
            "Downloading outcome-1.3.0.post0-py2.py3-none-any.whl (10 kB)\n",
            "Downloading wsproto-1.2.0-py3-none-any.whl (24 kB)\n",
            "Installing collected packages: wsproto, PyMuPDF, outcome, trio, trio-websocket, selenium\n",
            "Successfully installed PyMuPDF-1.26.3 outcome-1.3.0.post0 selenium-4.34.2 trio-0.30.0 trio-websocket-0.12.2 wsproto-1.2.0\n"
          ]
        }
      ],
      "source": [
        "pip install requests spacy beautifulsoup4 selenium PyMuPDF"
      ]
    },
    {
      "cell_type": "code",
      "source": [
        "pip install flair\n"
      ],
      "metadata": {
        "colab": {
          "base_uri": "https://localhost:8080/"
        },
        "collapsed": true,
        "id": "Odj-8bOTNlcU",
        "outputId": "6e8877f8-e688-4f5a-ec31-d828844c8291"
      },
      "execution_count": 3,
      "outputs": [
        {
          "output_type": "stream",
          "name": "stdout",
          "text": [
            "Collecting flair\n",
            "  Downloading flair-0.15.1-py3-none-any.whl.metadata (12 kB)\n",
            "Collecting boto3>=1.20.27 (from flair)\n",
            "  Downloading boto3-1.40.1-py3-none-any.whl.metadata (6.7 kB)\n",
            "Collecting conllu<5.0.0,>=4.0 (from flair)\n",
            "  Downloading conllu-4.5.3-py2.py3-none-any.whl.metadata (19 kB)\n",
            "Collecting deprecated>=1.2.13 (from flair)\n",
            "  Downloading Deprecated-1.2.18-py2.py3-none-any.whl.metadata (5.7 kB)\n",
            "Collecting ftfy>=6.1.0 (from flair)\n",
            "  Downloading ftfy-6.3.1-py3-none-any.whl.metadata (7.3 kB)\n",
            "Requirement already satisfied: gdown>=4.4.0 in /usr/local/lib/python3.11/dist-packages (from flair) (5.2.0)\n",
            "Requirement already satisfied: huggingface-hub>=0.10.0 in /usr/local/lib/python3.11/dist-packages (from flair) (0.34.1)\n",
            "Collecting langdetect>=1.0.9 (from flair)\n",
            "  Downloading langdetect-1.0.9.tar.gz (981 kB)\n",
            "\u001b[2K     \u001b[90m━━━━━━━━━━━━━━━━━━━━━━━━━━━━━━━━━━━━━━\u001b[0m \u001b[32m981.5/981.5 kB\u001b[0m \u001b[31m26.3 MB/s\u001b[0m eta \u001b[36m0:00:00\u001b[0m\n",
            "\u001b[?25h  Preparing metadata (setup.py) ... \u001b[?25l\u001b[?25hdone\n",
            "Requirement already satisfied: lxml>=4.8.0 in /usr/local/lib/python3.11/dist-packages (from flair) (5.4.0)\n",
            "Requirement already satisfied: matplotlib>=2.2.3 in /usr/local/lib/python3.11/dist-packages (from flair) (3.10.0)\n",
            "Requirement already satisfied: more-itertools>=8.13.0 in /usr/local/lib/python3.11/dist-packages (from flair) (10.7.0)\n",
            "Collecting mpld3>=0.3 (from flair)\n",
            "  Downloading mpld3-0.5.11-py3-none-any.whl.metadata (5.3 kB)\n",
            "Collecting pptree>=3.1 (from flair)\n",
            "  Downloading pptree-3.1.tar.gz (3.0 kB)\n",
            "  Preparing metadata (setup.py) ... \u001b[?25l\u001b[?25hdone\n",
            "Requirement already satisfied: python-dateutil>=2.8.2 in /usr/local/lib/python3.11/dist-packages (from flair) (2.9.0.post0)\n",
            "Collecting pytorch-revgrad>=0.2.0 (from flair)\n",
            "  Downloading pytorch_revgrad-0.2.0-py3-none-any.whl.metadata (1.7 kB)\n",
            "Requirement already satisfied: regex>=2022.1.18 in /usr/local/lib/python3.11/dist-packages (from flair) (2024.11.6)\n",
            "Requirement already satisfied: scikit-learn>=1.0.2 in /usr/local/lib/python3.11/dist-packages (from flair) (1.6.1)\n",
            "Collecting segtok>=1.5.11 (from flair)\n",
            "  Downloading segtok-1.5.11-py3-none-any.whl.metadata (9.0 kB)\n",
            "Collecting sqlitedict>=2.0.0 (from flair)\n",
            "  Downloading sqlitedict-2.1.0.tar.gz (21 kB)\n",
            "  Preparing metadata (setup.py) ... \u001b[?25l\u001b[?25hdone\n",
            "Requirement already satisfied: tabulate>=0.8.10 in /usr/local/lib/python3.11/dist-packages (from flair) (0.9.0)\n",
            "Requirement already satisfied: torch>=1.13.1 in /usr/local/lib/python3.11/dist-packages (from flair) (2.6.0+cu124)\n",
            "Requirement already satisfied: tqdm>=4.63.0 in /usr/local/lib/python3.11/dist-packages (from flair) (4.67.1)\n",
            "Collecting transformer-smaller-training-vocab>=0.2.3 (from flair)\n",
            "  Downloading transformer_smaller_training_vocab-0.4.2-py3-none-any.whl.metadata (7.9 kB)\n",
            "Requirement already satisfied: transformers<5.0.0,>=4.25.0 in /usr/local/lib/python3.11/dist-packages (from transformers[sentencepiece]<5.0.0,>=4.25.0->flair) (4.54.0)\n",
            "Collecting wikipedia-api>=0.5.7 (from flair)\n",
            "  Downloading wikipedia_api-0.8.1.tar.gz (19 kB)\n",
            "  Preparing metadata (setup.py) ... \u001b[?25l\u001b[?25hdone\n",
            "Collecting bioc<3.0.0,>=2.0.0 (from flair)\n",
            "  Downloading bioc-2.1-py3-none-any.whl.metadata (4.6 kB)\n",
            "Collecting jsonlines>=1.2.0 (from bioc<3.0.0,>=2.0.0->flair)\n",
            "  Downloading jsonlines-4.0.0-py3-none-any.whl.metadata (1.6 kB)\n",
            "Collecting intervaltree (from bioc<3.0.0,>=2.0.0->flair)\n",
            "  Downloading intervaltree-3.1.0.tar.gz (32 kB)\n",
            "  Preparing metadata (setup.py) ... \u001b[?25l\u001b[?25hdone\n",
            "Collecting docopt (from bioc<3.0.0,>=2.0.0->flair)\n",
            "  Downloading docopt-0.6.2.tar.gz (25 kB)\n",
            "  Preparing metadata (setup.py) ... \u001b[?25l\u001b[?25hdone\n",
            "Collecting botocore<1.41.0,>=1.40.1 (from boto3>=1.20.27->flair)\n",
            "  Downloading botocore-1.40.1-py3-none-any.whl.metadata (5.7 kB)\n",
            "Collecting jmespath<2.0.0,>=0.7.1 (from boto3>=1.20.27->flair)\n",
            "  Downloading jmespath-1.0.1-py3-none-any.whl.metadata (7.6 kB)\n",
            "Collecting s3transfer<0.14.0,>=0.13.0 (from boto3>=1.20.27->flair)\n",
            "  Downloading s3transfer-0.13.1-py3-none-any.whl.metadata (1.7 kB)\n",
            "Requirement already satisfied: wrapt<2,>=1.10 in /usr/local/lib/python3.11/dist-packages (from deprecated>=1.2.13->flair) (1.17.2)\n",
            "Requirement already satisfied: wcwidth in /usr/local/lib/python3.11/dist-packages (from ftfy>=6.1.0->flair) (0.2.13)\n",
            "Requirement already satisfied: beautifulsoup4 in /usr/local/lib/python3.11/dist-packages (from gdown>=4.4.0->flair) (4.13.4)\n",
            "Requirement already satisfied: filelock in /usr/local/lib/python3.11/dist-packages (from gdown>=4.4.0->flair) (3.18.0)\n",
            "Requirement already satisfied: requests[socks] in /usr/local/lib/python3.11/dist-packages (from gdown>=4.4.0->flair) (2.32.3)\n",
            "Requirement already satisfied: fsspec>=2023.5.0 in /usr/local/lib/python3.11/dist-packages (from huggingface-hub>=0.10.0->flair) (2025.3.0)\n",
            "Requirement already satisfied: packaging>=20.9 in /usr/local/lib/python3.11/dist-packages (from huggingface-hub>=0.10.0->flair) (25.0)\n",
            "Requirement already satisfied: pyyaml>=5.1 in /usr/local/lib/python3.11/dist-packages (from huggingface-hub>=0.10.0->flair) (6.0.2)\n",
            "Requirement already satisfied: typing-extensions>=3.7.4.3 in /usr/local/lib/python3.11/dist-packages (from huggingface-hub>=0.10.0->flair) (4.14.1)\n",
            "Requirement already satisfied: hf-xet<2.0.0,>=1.1.3 in /usr/local/lib/python3.11/dist-packages (from huggingface-hub>=0.10.0->flair) (1.1.5)\n",
            "Requirement already satisfied: six in /usr/local/lib/python3.11/dist-packages (from langdetect>=1.0.9->flair) (1.17.0)\n",
            "Requirement already satisfied: contourpy>=1.0.1 in /usr/local/lib/python3.11/dist-packages (from matplotlib>=2.2.3->flair) (1.3.2)\n",
            "Requirement already satisfied: cycler>=0.10 in /usr/local/lib/python3.11/dist-packages (from matplotlib>=2.2.3->flair) (0.12.1)\n",
            "Requirement already satisfied: fonttools>=4.22.0 in /usr/local/lib/python3.11/dist-packages (from matplotlib>=2.2.3->flair) (4.59.0)\n",
            "Requirement already satisfied: kiwisolver>=1.3.1 in /usr/local/lib/python3.11/dist-packages (from matplotlib>=2.2.3->flair) (1.4.8)\n",
            "Requirement already satisfied: numpy>=1.23 in /usr/local/lib/python3.11/dist-packages (from matplotlib>=2.2.3->flair) (2.0.2)\n",
            "Requirement already satisfied: pillow>=8 in /usr/local/lib/python3.11/dist-packages (from matplotlib>=2.2.3->flair) (11.3.0)\n",
            "Requirement already satisfied: pyparsing>=2.3.1 in /usr/local/lib/python3.11/dist-packages (from matplotlib>=2.2.3->flair) (3.2.3)\n",
            "Requirement already satisfied: jinja2 in /usr/local/lib/python3.11/dist-packages (from mpld3>=0.3->flair) (3.1.6)\n",
            "Requirement already satisfied: scipy>=1.6.0 in /usr/local/lib/python3.11/dist-packages (from scikit-learn>=1.0.2->flair) (1.16.0)\n",
            "Requirement already satisfied: joblib>=1.2.0 in /usr/local/lib/python3.11/dist-packages (from scikit-learn>=1.0.2->flair) (1.5.1)\n",
            "Requirement already satisfied: threadpoolctl>=3.1.0 in /usr/local/lib/python3.11/dist-packages (from scikit-learn>=1.0.2->flair) (3.6.0)\n",
            "Requirement already satisfied: networkx in /usr/local/lib/python3.11/dist-packages (from torch>=1.13.1->flair) (3.5)\n",
            "Collecting nvidia-cuda-nvrtc-cu12==12.4.127 (from torch>=1.13.1->flair)\n",
            "  Downloading nvidia_cuda_nvrtc_cu12-12.4.127-py3-none-manylinux2014_x86_64.whl.metadata (1.5 kB)\n",
            "Collecting nvidia-cuda-runtime-cu12==12.4.127 (from torch>=1.13.1->flair)\n",
            "  Downloading nvidia_cuda_runtime_cu12-12.4.127-py3-none-manylinux2014_x86_64.whl.metadata (1.5 kB)\n",
            "Collecting nvidia-cuda-cupti-cu12==12.4.127 (from torch>=1.13.1->flair)\n",
            "  Downloading nvidia_cuda_cupti_cu12-12.4.127-py3-none-manylinux2014_x86_64.whl.metadata (1.6 kB)\n",
            "Collecting nvidia-cudnn-cu12==9.1.0.70 (from torch>=1.13.1->flair)\n",
            "  Downloading nvidia_cudnn_cu12-9.1.0.70-py3-none-manylinux2014_x86_64.whl.metadata (1.6 kB)\n",
            "Collecting nvidia-cublas-cu12==12.4.5.8 (from torch>=1.13.1->flair)\n",
            "  Downloading nvidia_cublas_cu12-12.4.5.8-py3-none-manylinux2014_x86_64.whl.metadata (1.5 kB)\n",
            "Collecting nvidia-cufft-cu12==11.2.1.3 (from torch>=1.13.1->flair)\n",
            "  Downloading nvidia_cufft_cu12-11.2.1.3-py3-none-manylinux2014_x86_64.whl.metadata (1.5 kB)\n",
            "Collecting nvidia-curand-cu12==10.3.5.147 (from torch>=1.13.1->flair)\n",
            "  Downloading nvidia_curand_cu12-10.3.5.147-py3-none-manylinux2014_x86_64.whl.metadata (1.5 kB)\n",
            "Collecting nvidia-cusolver-cu12==11.6.1.9 (from torch>=1.13.1->flair)\n",
            "  Downloading nvidia_cusolver_cu12-11.6.1.9-py3-none-manylinux2014_x86_64.whl.metadata (1.6 kB)\n",
            "Collecting nvidia-cusparse-cu12==12.3.1.170 (from torch>=1.13.1->flair)\n",
            "  Downloading nvidia_cusparse_cu12-12.3.1.170-py3-none-manylinux2014_x86_64.whl.metadata (1.6 kB)\n",
            "Requirement already satisfied: nvidia-cusparselt-cu12==0.6.2 in /usr/local/lib/python3.11/dist-packages (from torch>=1.13.1->flair) (0.6.2)\n",
            "Requirement already satisfied: nvidia-nccl-cu12==2.21.5 in /usr/local/lib/python3.11/dist-packages (from torch>=1.13.1->flair) (2.21.5)\n",
            "Requirement already satisfied: nvidia-nvtx-cu12==12.4.127 in /usr/local/lib/python3.11/dist-packages (from torch>=1.13.1->flair) (12.4.127)\n",
            "Collecting nvidia-nvjitlink-cu12==12.4.127 (from torch>=1.13.1->flair)\n",
            "  Downloading nvidia_nvjitlink_cu12-12.4.127-py3-none-manylinux2014_x86_64.whl.metadata (1.5 kB)\n",
            "Requirement already satisfied: triton==3.2.0 in /usr/local/lib/python3.11/dist-packages (from torch>=1.13.1->flair) (3.2.0)\n",
            "Requirement already satisfied: sympy==1.13.1 in /usr/local/lib/python3.11/dist-packages (from torch>=1.13.1->flair) (1.13.1)\n",
            "Requirement already satisfied: mpmath<1.4,>=1.1.0 in /usr/local/lib/python3.11/dist-packages (from sympy==1.13.1->torch>=1.13.1->flair) (1.3.0)\n",
            "Requirement already satisfied: tokenizers<0.22,>=0.21 in /usr/local/lib/python3.11/dist-packages (from transformers<5.0.0,>=4.25.0->transformers[sentencepiece]<5.0.0,>=4.25.0->flair) (0.21.2)\n",
            "Requirement already satisfied: safetensors>=0.4.3 in /usr/local/lib/python3.11/dist-packages (from transformers<5.0.0,>=4.25.0->transformers[sentencepiece]<5.0.0,>=4.25.0->flair) (0.5.3)\n",
            "Requirement already satisfied: sentencepiece!=0.1.92,>=0.1.91 in /usr/local/lib/python3.11/dist-packages (from transformers[sentencepiece]<5.0.0,>=4.25.0->flair) (0.2.0)\n",
            "Requirement already satisfied: protobuf in /usr/local/lib/python3.11/dist-packages (from transformers[sentencepiece]<5.0.0,>=4.25.0->flair) (5.29.5)\n",
            "Requirement already satisfied: urllib3!=2.2.0,<3,>=1.25.4 in /usr/local/lib/python3.11/dist-packages (from botocore<1.41.0,>=1.40.1->boto3>=1.20.27->flair) (2.5.0)\n",
            "Requirement already satisfied: attrs>=19.2.0 in /usr/local/lib/python3.11/dist-packages (from jsonlines>=1.2.0->bioc<3.0.0,>=2.0.0->flair) (25.3.0)\n",
            "Requirement already satisfied: accelerate>=0.26.0 in /usr/local/lib/python3.11/dist-packages (from transformers[sentencepiece,torch]<5.0,>=4.1->transformer-smaller-training-vocab>=0.2.3->flair) (1.9.0)\n",
            "Requirement already satisfied: soupsieve>1.2 in /usr/local/lib/python3.11/dist-packages (from beautifulsoup4->gdown>=4.4.0->flair) (2.7)\n",
            "Requirement already satisfied: sortedcontainers<3.0,>=2.0 in /usr/local/lib/python3.11/dist-packages (from intervaltree->bioc<3.0.0,>=2.0.0->flair) (2.4.0)\n",
            "Requirement already satisfied: MarkupSafe>=2.0 in /usr/local/lib/python3.11/dist-packages (from jinja2->mpld3>=0.3->flair) (3.0.2)\n",
            "Requirement already satisfied: charset-normalizer<4,>=2 in /usr/local/lib/python3.11/dist-packages (from requests[socks]->gdown>=4.4.0->flair) (3.4.2)\n",
            "Requirement already satisfied: idna<4,>=2.5 in /usr/local/lib/python3.11/dist-packages (from requests[socks]->gdown>=4.4.0->flair) (3.10)\n",
            "Requirement already satisfied: certifi>=2017.4.17 in /usr/local/lib/python3.11/dist-packages (from requests[socks]->gdown>=4.4.0->flair) (2025.7.14)\n",
            "Requirement already satisfied: PySocks!=1.5.7,>=1.5.6 in /usr/local/lib/python3.11/dist-packages (from requests[socks]->gdown>=4.4.0->flair) (1.7.1)\n",
            "Requirement already satisfied: psutil in /usr/local/lib/python3.11/dist-packages (from accelerate>=0.26.0->transformers[sentencepiece,torch]<5.0,>=4.1->transformer-smaller-training-vocab>=0.2.3->flair) (5.9.5)\n",
            "Downloading flair-0.15.1-py3-none-any.whl (1.2 MB)\n",
            "\u001b[2K   \u001b[90m━━━━━━━━━━━━━━━━━━━━━━━━━━━━━━━━━━━━━━━━\u001b[0m \u001b[32m1.2/1.2 MB\u001b[0m \u001b[31m50.5 MB/s\u001b[0m eta \u001b[36m0:00:00\u001b[0m\n",
            "\u001b[?25hDownloading bioc-2.1-py3-none-any.whl (33 kB)\n",
            "Downloading boto3-1.40.1-py3-none-any.whl (139 kB)\n",
            "\u001b[2K   \u001b[90m━━━━━━━━━━━━━━━━━━━━━━━━━━━━━━━━━━━━━━━━\u001b[0m \u001b[32m139.9/139.9 kB\u001b[0m \u001b[31m11.4 MB/s\u001b[0m eta \u001b[36m0:00:00\u001b[0m\n",
            "\u001b[?25hDownloading conllu-4.5.3-py2.py3-none-any.whl (16 kB)\n",
            "Downloading Deprecated-1.2.18-py2.py3-none-any.whl (10.0 kB)\n",
            "Downloading ftfy-6.3.1-py3-none-any.whl (44 kB)\n",
            "\u001b[2K   \u001b[90m━━━━━━━━━━━━━━━━━━━━━━━━━━━━━━━━━━━━━━━━\u001b[0m \u001b[32m44.8/44.8 kB\u001b[0m \u001b[31m3.2 MB/s\u001b[0m eta \u001b[36m0:00:00\u001b[0m\n",
            "\u001b[?25hDownloading mpld3-0.5.11-py3-none-any.whl (202 kB)\n",
            "\u001b[2K   \u001b[90m━━━━━━━━━━━━━━━━━━━━━━━━━━━━━━━━━━━━━━━━\u001b[0m \u001b[32m202.9/202.9 kB\u001b[0m \u001b[31m14.6 MB/s\u001b[0m eta \u001b[36m0:00:00\u001b[0m\n",
            "\u001b[?25hDownloading pytorch_revgrad-0.2.0-py3-none-any.whl (4.6 kB)\n",
            "Downloading segtok-1.5.11-py3-none-any.whl (24 kB)\n",
            "Downloading nvidia_cublas_cu12-12.4.5.8-py3-none-manylinux2014_x86_64.whl (363.4 MB)\n",
            "\u001b[2K   \u001b[90m━━━━━━━━━━━━━━━━━━━━━━━━━━━━━━━━━━━━━━━━\u001b[0m \u001b[32m363.4/363.4 MB\u001b[0m \u001b[31m1.8 MB/s\u001b[0m eta \u001b[36m0:00:00\u001b[0m\n",
            "\u001b[?25hDownloading nvidia_cuda_cupti_cu12-12.4.127-py3-none-manylinux2014_x86_64.whl (13.8 MB)\n",
            "\u001b[2K   \u001b[90m━━━━━━━━━━━━━━━━━━━━━━━━━━━━━━━━━━━━━━━━\u001b[0m \u001b[32m13.8/13.8 MB\u001b[0m \u001b[31m99.3 MB/s\u001b[0m eta \u001b[36m0:00:00\u001b[0m\n",
            "\u001b[?25hDownloading nvidia_cuda_nvrtc_cu12-12.4.127-py3-none-manylinux2014_x86_64.whl (24.6 MB)\n",
            "\u001b[2K   \u001b[90m━━━━━━━━━━━━━━━━━━━━━━━━━━━━━━━━━━━━━━━━\u001b[0m \u001b[32m24.6/24.6 MB\u001b[0m \u001b[31m83.3 MB/s\u001b[0m eta \u001b[36m0:00:00\u001b[0m\n",
            "\u001b[?25hDownloading nvidia_cuda_runtime_cu12-12.4.127-py3-none-manylinux2014_x86_64.whl (883 kB)\n",
            "\u001b[2K   \u001b[90m━━━━━━━━━━━━━━━━━━━━━━━━━━━━━━━━━━━━━━━━\u001b[0m \u001b[32m883.7/883.7 kB\u001b[0m \u001b[31m39.9 MB/s\u001b[0m eta \u001b[36m0:00:00\u001b[0m\n",
            "\u001b[?25hDownloading nvidia_cudnn_cu12-9.1.0.70-py3-none-manylinux2014_x86_64.whl (664.8 MB)\n",
            "\u001b[2K   \u001b[90m━━━━━━━━━━━━━━━━━━━━━━━━━━━━━━━━━━━━━━━━\u001b[0m \u001b[32m664.8/664.8 MB\u001b[0m \u001b[31m2.9 MB/s\u001b[0m eta \u001b[36m0:00:00\u001b[0m\n",
            "\u001b[?25hDownloading nvidia_cufft_cu12-11.2.1.3-py3-none-manylinux2014_x86_64.whl (211.5 MB)\n",
            "\u001b[2K   \u001b[90m━━━━━━━━━━━━━━━━━━━━━━━━━━━━━━━━━━━━━━━━\u001b[0m \u001b[32m211.5/211.5 MB\u001b[0m \u001b[31m5.7 MB/s\u001b[0m eta \u001b[36m0:00:00\u001b[0m\n",
            "\u001b[?25hDownloading nvidia_curand_cu12-10.3.5.147-py3-none-manylinux2014_x86_64.whl (56.3 MB)\n",
            "\u001b[2K   \u001b[90m━━━━━━━━━━━━━━━━━━━━━━━━━━━━━━━━━━━━━━━━\u001b[0m \u001b[32m56.3/56.3 MB\u001b[0m \u001b[31m12.9 MB/s\u001b[0m eta \u001b[36m0:00:00\u001b[0m\n",
            "\u001b[?25hDownloading nvidia_cusolver_cu12-11.6.1.9-py3-none-manylinux2014_x86_64.whl (127.9 MB)\n",
            "\u001b[2K   \u001b[90m━━━━━━━━━━━━━━━━━━━━━━━━━━━━━━━━━━━━━━━━\u001b[0m \u001b[32m127.9/127.9 MB\u001b[0m \u001b[31m7.6 MB/s\u001b[0m eta \u001b[36m0:00:00\u001b[0m\n",
            "\u001b[?25hDownloading nvidia_cusparse_cu12-12.3.1.170-py3-none-manylinux2014_x86_64.whl (207.5 MB)\n",
            "\u001b[2K   \u001b[90m━━━━━━━━━━━━━━━━━━━━━━━━━━━━━━━━━━━━━━━━\u001b[0m \u001b[32m207.5/207.5 MB\u001b[0m \u001b[31m6.2 MB/s\u001b[0m eta \u001b[36m0:00:00\u001b[0m\n",
            "\u001b[?25hDownloading nvidia_nvjitlink_cu12-12.4.127-py3-none-manylinux2014_x86_64.whl (21.1 MB)\n",
            "\u001b[2K   \u001b[90m━━━━━━━━━━━━━━━━━━━━━━━━━━━━━━━━━━━━━━━━\u001b[0m \u001b[32m21.1/21.1 MB\u001b[0m \u001b[31m89.4 MB/s\u001b[0m eta \u001b[36m0:00:00\u001b[0m\n",
            "\u001b[?25hDownloading transformer_smaller_training_vocab-0.4.2-py3-none-any.whl (14 kB)\n",
            "Downloading botocore-1.40.1-py3-none-any.whl (13.9 MB)\n",
            "\u001b[2K   \u001b[90m━━━━━━━━━━━━━━━━━━━━━━━━━━━━━━━━━━━━━━━━\u001b[0m \u001b[32m13.9/13.9 MB\u001b[0m \u001b[31m95.5 MB/s\u001b[0m eta \u001b[36m0:00:00\u001b[0m\n",
            "\u001b[?25hDownloading jmespath-1.0.1-py3-none-any.whl (20 kB)\n",
            "Downloading jsonlines-4.0.0-py3-none-any.whl (8.7 kB)\n",
            "Downloading s3transfer-0.13.1-py3-none-any.whl (85 kB)\n",
            "\u001b[2K   \u001b[90m━━━━━━━━━━━━━━━━━━━━━━━━━━━━━━━━━━━━━━━━\u001b[0m \u001b[32m85.3/85.3 kB\u001b[0m \u001b[31m7.2 MB/s\u001b[0m eta \u001b[36m0:00:00\u001b[0m\n",
            "\u001b[?25hBuilding wheels for collected packages: langdetect, pptree, sqlitedict, wikipedia-api, docopt, intervaltree\n",
            "  Building wheel for langdetect (setup.py) ... \u001b[?25l\u001b[?25hdone\n",
            "  Created wheel for langdetect: filename=langdetect-1.0.9-py3-none-any.whl size=993223 sha256=eae02ab7542c3beca90b0b4d61760af98645dd59bcda4f3de2a820749388af40\n",
            "  Stored in directory: /root/.cache/pip/wheels/0a/f2/b2/e5ca405801e05eb7c8ed5b3b4bcf1fcabcd6272c167640072e\n",
            "  Building wheel for pptree (setup.py) ... \u001b[?25l\u001b[?25hdone\n",
            "  Created wheel for pptree: filename=pptree-3.1-py3-none-any.whl size=4609 sha256=9007ccde6e702fc573a5b3eb313268a9dbe00f2ed65957c41b81e7085b2fe8fb\n",
            "  Stored in directory: /root/.cache/pip/wheels/68/8a/eb/d683aa6d09dc68ebfde2f37566ddc8807837c4415b4fd2b04c\n",
            "  Building wheel for sqlitedict (setup.py) ... \u001b[?25l\u001b[?25hdone\n",
            "  Created wheel for sqlitedict: filename=sqlitedict-2.1.0-py3-none-any.whl size=16862 sha256=81ffcb2daa91e4273ad0576077f227b366df588f9d752ec454022bea378eb5cd\n",
            "  Stored in directory: /root/.cache/pip/wheels/73/63/89/7210274f9b7fb033b8f22671f64c0e0b55083d30c3c046a3ff\n",
            "  Building wheel for wikipedia-api (setup.py) ... \u001b[?25l\u001b[?25hdone\n",
            "  Created wheel for wikipedia-api: filename=Wikipedia_API-0.8.1-py3-none-any.whl size=15383 sha256=8bdc9a0b680d6ae550b3628f4188b0cf64ef24af49f66bc173997344fe36d539\n",
            "  Stored in directory: /root/.cache/pip/wheels/0b/0f/39/e8214ec038ccd5aeb8c82b957289f2f3ab2251febeae5c2860\n",
            "  Building wheel for docopt (setup.py) ... \u001b[?25l\u001b[?25hdone\n",
            "  Created wheel for docopt: filename=docopt-0.6.2-py2.py3-none-any.whl size=13706 sha256=7e716d6e1e07379f2e468121ff199ffc6dfd7a003688ebbc3980767535defa86\n",
            "  Stored in directory: /root/.cache/pip/wheels/1a/b0/8c/4b75c4116c31f83c8f9f047231251e13cc74481cca4a78a9ce\n",
            "  Building wheel for intervaltree (setup.py) ... \u001b[?25l\u001b[?25hdone\n",
            "  Created wheel for intervaltree: filename=intervaltree-3.1.0-py2.py3-none-any.whl size=26098 sha256=238e48959d966573d0b9943edd3972601924305118597edf656d012245baf4a9\n",
            "  Stored in directory: /root/.cache/pip/wheels/31/d7/d9/eec6891f78cac19a693bd40ecb8365d2f4613318c145ec9816\n",
            "Successfully built langdetect pptree sqlitedict wikipedia-api docopt intervaltree\n",
            "Installing collected packages: sqlitedict, pptree, docopt, segtok, nvidia-nvjitlink-cu12, nvidia-curand-cu12, nvidia-cufft-cu12, nvidia-cuda-runtime-cu12, nvidia-cuda-nvrtc-cu12, nvidia-cuda-cupti-cu12, nvidia-cublas-cu12, langdetect, jsonlines, jmespath, intervaltree, ftfy, deprecated, conllu, wikipedia-api, nvidia-cusparse-cu12, nvidia-cudnn-cu12, botocore, bioc, s3transfer, nvidia-cusolver-cu12, mpld3, boto3, pytorch-revgrad, transformer-smaller-training-vocab, flair\n",
            "  Attempting uninstall: nvidia-nvjitlink-cu12\n",
            "    Found existing installation: nvidia-nvjitlink-cu12 12.5.82\n",
            "    Uninstalling nvidia-nvjitlink-cu12-12.5.82:\n",
            "      Successfully uninstalled nvidia-nvjitlink-cu12-12.5.82\n",
            "  Attempting uninstall: nvidia-curand-cu12\n",
            "    Found existing installation: nvidia-curand-cu12 10.3.6.82\n",
            "    Uninstalling nvidia-curand-cu12-10.3.6.82:\n",
            "      Successfully uninstalled nvidia-curand-cu12-10.3.6.82\n",
            "  Attempting uninstall: nvidia-cufft-cu12\n",
            "    Found existing installation: nvidia-cufft-cu12 11.2.3.61\n",
            "    Uninstalling nvidia-cufft-cu12-11.2.3.61:\n",
            "      Successfully uninstalled nvidia-cufft-cu12-11.2.3.61\n",
            "  Attempting uninstall: nvidia-cuda-runtime-cu12\n",
            "    Found existing installation: nvidia-cuda-runtime-cu12 12.5.82\n",
            "    Uninstalling nvidia-cuda-runtime-cu12-12.5.82:\n",
            "      Successfully uninstalled nvidia-cuda-runtime-cu12-12.5.82\n",
            "  Attempting uninstall: nvidia-cuda-nvrtc-cu12\n",
            "    Found existing installation: nvidia-cuda-nvrtc-cu12 12.5.82\n",
            "    Uninstalling nvidia-cuda-nvrtc-cu12-12.5.82:\n",
            "      Successfully uninstalled nvidia-cuda-nvrtc-cu12-12.5.82\n",
            "  Attempting uninstall: nvidia-cuda-cupti-cu12\n",
            "    Found existing installation: nvidia-cuda-cupti-cu12 12.5.82\n",
            "    Uninstalling nvidia-cuda-cupti-cu12-12.5.82:\n",
            "      Successfully uninstalled nvidia-cuda-cupti-cu12-12.5.82\n",
            "  Attempting uninstall: nvidia-cublas-cu12\n",
            "    Found existing installation: nvidia-cublas-cu12 12.5.3.2\n",
            "    Uninstalling nvidia-cublas-cu12-12.5.3.2:\n",
            "      Successfully uninstalled nvidia-cublas-cu12-12.5.3.2\n",
            "  Attempting uninstall: nvidia-cusparse-cu12\n",
            "    Found existing installation: nvidia-cusparse-cu12 12.5.1.3\n",
            "    Uninstalling nvidia-cusparse-cu12-12.5.1.3:\n",
            "      Successfully uninstalled nvidia-cusparse-cu12-12.5.1.3\n",
            "  Attempting uninstall: nvidia-cudnn-cu12\n",
            "    Found existing installation: nvidia-cudnn-cu12 9.3.0.75\n",
            "    Uninstalling nvidia-cudnn-cu12-9.3.0.75:\n",
            "      Successfully uninstalled nvidia-cudnn-cu12-9.3.0.75\n",
            "  Attempting uninstall: nvidia-cusolver-cu12\n",
            "    Found existing installation: nvidia-cusolver-cu12 11.6.3.83\n",
            "    Uninstalling nvidia-cusolver-cu12-11.6.3.83:\n",
            "      Successfully uninstalled nvidia-cusolver-cu12-11.6.3.83\n",
            "Successfully installed bioc-2.1 boto3-1.40.1 botocore-1.40.1 conllu-4.5.3 deprecated-1.2.18 docopt-0.6.2 flair-0.15.1 ftfy-6.3.1 intervaltree-3.1.0 jmespath-1.0.1 jsonlines-4.0.0 langdetect-1.0.9 mpld3-0.5.11 nvidia-cublas-cu12-12.4.5.8 nvidia-cuda-cupti-cu12-12.4.127 nvidia-cuda-nvrtc-cu12-12.4.127 nvidia-cuda-runtime-cu12-12.4.127 nvidia-cudnn-cu12-9.1.0.70 nvidia-cufft-cu12-11.2.1.3 nvidia-curand-cu12-10.3.5.147 nvidia-cusolver-cu12-11.6.1.9 nvidia-cusparse-cu12-12.3.1.170 nvidia-nvjitlink-cu12-12.4.127 pptree-3.1 pytorch-revgrad-0.2.0 s3transfer-0.13.1 segtok-1.5.11 sqlitedict-2.1.0 transformer-smaller-training-vocab-0.4.2 wikipedia-api-0.8.1\n"
          ]
        }
      ]
    },
    {
      "cell_type": "code",
      "source": [
        "pip install textblob\n"
      ],
      "metadata": {
        "colab": {
          "base_uri": "https://localhost:8080/"
        },
        "id": "Ub76MHL7SkRB",
        "outputId": "60bc9433-2a1f-4797-f62b-f495ad1aa2d2"
      },
      "execution_count": 4,
      "outputs": [
        {
          "output_type": "stream",
          "name": "stdout",
          "text": [
            "Requirement already satisfied: textblob in /usr/local/lib/python3.11/dist-packages (0.19.0)\n",
            "Requirement already satisfied: nltk>=3.9 in /usr/local/lib/python3.11/dist-packages (from textblob) (3.9.1)\n",
            "Requirement already satisfied: click in /usr/local/lib/python3.11/dist-packages (from nltk>=3.9->textblob) (8.2.1)\n",
            "Requirement already satisfied: joblib in /usr/local/lib/python3.11/dist-packages (from nltk>=3.9->textblob) (1.5.1)\n",
            "Requirement already satisfied: regex>=2021.8.3 in /usr/local/lib/python3.11/dist-packages (from nltk>=3.9->textblob) (2024.11.6)\n",
            "Requirement already satisfied: tqdm in /usr/local/lib/python3.11/dist-packages (from nltk>=3.9->textblob) (4.67.1)\n"
          ]
        }
      ]
    },
    {
      "cell_type": "code",
      "source": [
        "import requests\n",
        "from bs4 import BeautifulSoup\n",
        "import re\n",
        "import os\n",
        "from urllib.parse import urljoin\n",
        "import spacy\n",
        "import pandas as pd\n",
        "import fitz\n",
        "from tqdm import tqdm\n",
        "import time\n"
      ],
      "metadata": {
        "id": "6uH7CeRqNa0L"
      },
      "execution_count": 4,
      "outputs": []
    },
    {
      "cell_type": "code",
      "source": [
        "from textblob import TextBlob"
      ],
      "metadata": {
        "id": "bRvuY4jqTuQ9"
      },
      "execution_count": 5,
      "outputs": []
    },
    {
      "cell_type": "code",
      "source": [
        "from flair.models import SequenceTagger\n",
        "from flair.data import Sentence"
      ],
      "metadata": {
        "id": "-cdXc6rlNkzU"
      },
      "execution_count": 6,
      "outputs": []
    },
    {
      "cell_type": "code",
      "source": [
        "#Extacting all the links from pages 425-435 inclusive\n",
        "\n",
        "\n",
        "url = \"https://www.sebi.gov.in/sebiweb/ajax/home/getnewslistinfo.jsp\"\n",
        "dictionary={}\n",
        "\n",
        "headers = {\n",
        "    \"User-Agent\": \"Mozilla/5.0 (Windows NT 10.0; Win64; x64) AppleWebKit/537.36 (KHTML, like Gecko) Chrome/138.0.0.0 Safari/537.36\",\n",
        "    \"Accept\": \"*/*\",\n",
        "    \"Accept-Encoding\": \"gzip, deflate, br, zstd\",\n",
        "    \"Accept-Language\": \"en-US,en;q=0.9\",\n",
        "    \"Content-Type\": \"application/x-www-form-urlencoded\",\n",
        "    \"Origin\": \"https://www.sebi.gov.in\",\n",
        "    \"Referer\": \"https://www.sebi.gov.in/sebiweb/home/HomeAction.do?doListing=yes&sid=2&ssid=9&smid=6\",\n",
        "}\n",
        "for i in range(424,435):\n",
        "\n",
        "  payload = {\n",
        "      \"nextValue\": \"1\",\n",
        "      \"next\": \"n\",\n",
        "      \"search\": \"\",\n",
        "      \"fromDate\": \"\",\n",
        "      \"toDate\": \"\",\n",
        "      \"fromYear\": \"\",\n",
        "      \"toYear\": \"\",\n",
        "      \"deptId\": \"-1\",\n",
        "      \"sid\": \"2\",\n",
        "      \"ssid\": \"9\",\n",
        "      \"smid\": \"6\",\n",
        "      \"ssidhidden\": \"9\",\n",
        "      \"intmid\": \"-1\",\n",
        "      \"sText\": \"Enforcement\",\n",
        "      \"ssText\": \"Orders\",\n",
        "      \"smText\": \"Orders of AO\",\n",
        "      \"doDirect\": f\"{i}\"\n",
        "  }\n",
        "\n",
        "  response = requests.post(url, headers=headers, data=payload)\n",
        "\n",
        "  # Parse and print\n",
        "  soup = BeautifulSoup(response.content, \"html.parser\")\n",
        "  items = soup.find_all(\"a\", href=True)\n",
        "\n",
        "  print(\"Extracted links:\")\n",
        "  for tag in items:\n",
        "      text = tag.get_text(strip=True)\n",
        "      href = tag[\"href\"]\n",
        "      if href.endswith(\".html\"):\n",
        "        dictionary[f\"{text}\"]=f\"{href}\"\n",
        "        print(f\"{text}: {href}\")\n"
      ],
      "metadata": {
        "colab": {
          "base_uri": "https://localhost:8080/"
        },
        "collapsed": true,
        "id": "vYoC1AflOQ9M",
        "outputId": "12100c8b-0474-42ea-e594-ecdefa8f770e"
      },
      "execution_count": 8,
      "outputs": [
        {
          "output_type": "stream",
          "name": "stdout",
          "text": [
            "Extracted links:\n",
            "PAY NOW: https://siportal.sebi.gov.in/intermediary/AOPaymentGateway.html\n",
            "Adjudication order in respect of Ahilya Commercial Pvt. Ltd. in the matter of Brahmanand Himghar Ltd: https://www.sebi.gov.in/enforcement/orders/jul-2009/adjudication-order-in-respect-of-ahilya-commercial-pvt-ltd-in-the-matter-of-brahmanand-himghar-ltd_4491.html\n",
            "Adjudication order in respect of Mintage Electro Equipments Ltd: https://www.sebi.gov.in/enforcement/orders/jul-2009/adjudication-order-in-respect-of-mintage-electro-equipments-ltd_4489.html\n",
            "Adjudication Order against Shri Prasad Tandel in the matter of M/s Fast Track Entertainment Limited: https://www.sebi.gov.in/enforcement/orders/jul-2009/adjudication-order-against-shri-prasad-tandel-in-the-matter-of-m-s-fast-track-entertainment-limited_4487.html\n",
            "Adjudication order in respect of Clock Sign Trading Co. Pvt. Ltd. in the matter of Global Capital Markets Ltd: https://www.sebi.gov.in/enforcement/orders/jul-2009/adjudication-order-in-respect-of-clock-sign-trading-co-pvt-ltd-in-the-matter-of-global-capital-markets-ltd_4483.html\n",
            "Adjudication order In respect of Eupharma Laboratories Limited: https://www.sebi.gov.in/enforcement/orders/jul-2009/adjudication-order-in-respect-of-eupharma-laboratories-limited_4485.html\n",
            "Adjudication Order in respect of Deepak B Desai in the matter of Gujarat Ambuja Export Limited: https://www.sebi.gov.in/enforcement/orders/jul-2009/adjudication-order-in-respect-of-deepak-b-desai-in-the-matter-of-gujarat-ambuja-export-limited_4481.html\n",
            "Adjudication Order in respect of Inventure Growth and Securities Limited in the matter of Gujarat Ambuja Export Limited: https://www.sebi.gov.in/enforcement/orders/jul-2009/adjudication-order-in-respect-of-inventure-growth-and-securities-limited-in-the-matter-of-gujarat-ambuja-export-limited_4480.html\n",
            "Adjudication Order passed against Santosh Narvekar in the matter of M/s. Mega Corporation Limited: https://www.sebi.gov.in/enforcement/orders/jul-2009/adjudication-order-passed-against-santosh-narvekar-in-the-matter-of-m-s-mega-corporation-limited_4477.html\n",
            "Adjudication Order passed against Vijay Suryavanshi in the matter of M/s. Mega Corporation Limited[SAT Appeal No.:74/2020 & Misc. App. No. 91/2020]: https://www.sebi.gov.in/enforcement/orders/jul-2009/adjudication-order-passed-against-vijay-suryavanshi-in-the-matter-of-m-s-mega-corporation-limited_4478.html\n",
            "Adjudication Order passed against Ajit Suryavanshi in the matter of Mega Corporation Limited: https://www.sebi.gov.in/enforcement/orders/jul-2009/adjudication-order-passed-against-ajit-suryavanshi-in-the-matter-of-mega-corporation-limited_4474.html\n",
            "Adjudication Order passed against M/s. Ramaben Samani Finance Ltd in the matter of M/s. Zigma Software Ltd: https://www.sebi.gov.in/enforcement/orders/jul-2009/adjudication-order-passed-against-m-s-ramaben-samani-finance-ltd-in-the-matter-of-m-s-zigma-software-ltd_4475.html\n",
            "Adjudication Order passed against Mr. Gaurav Raimalani in the matter of Karuna Cables Ltd: https://www.sebi.gov.in/enforcement/orders/jul-2009/adjudication-order-passed-against-mr-gaurav-raimalani-in-the-matter-of-karuna-cables-ltd_4472.html\n",
            "Adjudication Order passed against Mr. Murlidhar Raimalani in the matter of Karuna Cables Ltd: https://www.sebi.gov.in/enforcement/orders/jul-2009/adjudication-order-passed-against-mr-murlidhar-raimalani-in-the-matter-of-karuna-cables-ltd_4471.html\n",
            "Adjudication Order passed against Ms. Kanchan Raimalani in the matter of Karuna Cables Ltd: https://www.sebi.gov.in/enforcement/orders/jul-2009/adjudication-order-passed-against-ms-kanchan-raimalani-in-the-matter-of-karuna-cables-ltd_4470.html\n",
            "Adjudication Order passed against Ms. Neelam Raimalani in the matter of Karuna Cables Ltd: https://www.sebi.gov.in/enforcement/orders/jul-2009/adjudication-order-passed-against-ms-neelam-raimalani-in-the-matter-of-karuna-cables-ltd_4468.html\n",
            "Adjudication Order passed against Ms. Susheeladevi Raimalani in the matter of Karuna Cables Ltd: https://www.sebi.gov.in/enforcement/orders/jul-2009/adjudication-order-passed-against-ms-susheeladevi-raimalani-in-the-matter-of-karuna-cables-ltd_4467.html\n",
            "Adjudication order in respect of Mukesh Dokania & Co. in the matter of Minolta Finance Ltd: https://www.sebi.gov.in/enforcement/orders/jul-2009/adjudication-order-in-respect-of-mukesh-dokania-and-co-in-the-matter-of-minolta-finance-ltd_13629.html\n",
            "Adjudication Order against Gama Commerce Pvt. Ltd. in the matter of Amluckie Investment Company Limited.: https://www.sebi.gov.in/enforcement/orders/jul-2009/adjudication-order-against-gama-commerce-pvt-ltd-in-the-matter-of-amluckie-investment-company-limited-_4460.html\n",
            "Adjudication order in respect of Ahilya Commercial Pvt. Ltd. in the matter of Minolta Finance Ltd: https://www.sebi.gov.in/enforcement/orders/jul-2009/adjudication-order-in-respect-of-ahilya-commercial-pvt-ltd-in-the-matter-of-minolta-finance-ltd_4465.html\n",
            "Adjudication order in respect of Basant Periwal & Co. in the matter of Minolta Finance Ltd: https://www.sebi.gov.in/enforcement/orders/jul-2009/adjudication-order-in-respect-of-basant-periwal-and-co-in-the-matter-of-minolta-finance-ltd_4462.html\n",
            "Adjudication order in respect of Rajendra Prasad Shah in the matter of Minolta Finance Ltd: https://www.sebi.gov.in/enforcement/orders/jul-2009/adjudication-order-in-respect-of-rajendra-prasad-shah-in-the-matter-of-minolta-finance-ltd_4464.html\n",
            "Adjudication order in respect of Shri Ballabh Dass Daga in the matter of Minolta Finance Ltd: https://www.sebi.gov.in/enforcement/orders/jul-2009/adjudication-order-in-respect-of-shri-ballabh-dass-daga-in-the-matter-of-minolta-finance-ltd_4459.html\n",
            "Adjudicating Order against Mr. Ranjan Verghese and other promoters/PACs in the matter of Vertex Securities Pvt. Ltd: https://www.sebi.gov.in/enforcement/orders/jul-2009/adjudicating-order-against-mr-ranjan-verghese-and-other-promoters-pacs-in-the-matter-of-vertex-securities-pvt-ltd_4457.html\n",
            "Adjudication order in respect of M/s Anushree Tradelink (P) Ltd. in the matter of Nageshwar Investment Ltd: https://www.sebi.gov.in/enforcement/orders/jul-2009/adjudication-order-in-respect-of-m-s-anushree-tradelink-p-ltd-in-the-matter-of-nageshwar-investment-ltd_4452.html\n",
            "Adjudication order in respect of M/s Millennium Insurance Agent (P) Ltd. in the matter of Nageshwar Investment Ltd: https://www.sebi.gov.in/enforcement/orders/jul-2009/adjudication-order-in-respect-of-m-s-millennium-insurance-agent-p-ltd-in-the-matter-of-nageshwar-investment-ltd_4450.html\n",
            "Home: https://www.sebi.gov.in/index.html\n",
            "Enforcement: https://www.sebi.gov.in/enforcement.html\n",
            "Extracted links:\n",
            "PAY NOW: https://siportal.sebi.gov.in/intermediary/AOPaymentGateway.html\n",
            "Adjudication order in respect of M/s Shriram Insight Share Brokers Ltd. in the matter of M/s Shriram Insight Share Brokers Ltd: https://www.sebi.gov.in/enforcement/orders/jul-2009/adjudication-order-in-respect-of-m-s-shriram-insight-share-brokers-ltd-in-the-matter-of-m-s-shriram-insight-share-brokers-ltd_4453.html\n",
            "Adjudication order in respect of M/s Swarn Ganga Trading (P) Ltd. in the matter of Nageshwar Investment Ltd.: https://www.sebi.gov.in/enforcement/orders/jul-2009/adjudication-order-in-respect-of-m-s-swarn-ganga-trading-p-ltd-in-the-matter-of-nageshwar-investment-ltd-_4455.html\n",
            "Adjudication Order in respect of Prakash Nahata and  Co. in the matter of Cyber Family. Com Limited: https://www.sebi.gov.in/enforcement/orders/jul-2009/adjudication-order-in-respect-of-prakash-nahata-and-co-in-the-matter-of-cyber-family-com-limited_4449.html\n",
            "Adjudication Order in respect of Bimex Exports Private Limited in the matter of Cyber Family. Com Limited: https://www.sebi.gov.in/enforcement/orders/jul-2009/adjudication-order-in-respect-of-bimex-exports-private-limited-in-the-matter-of-cyber-family-com-limited_4448.html\n",
            "Adjudication Order in respect of Deepraj Vinimay Private Limited in the matter of Cyber Family. Com Limited: https://www.sebi.gov.in/enforcement/orders/jul-2009/adjudication-order-in-respect-of-deepraj-vinimay-private-limited-in-the-matter-of-cyber-family-com-limited_4445.html\n",
            "Adjudication Order in respect of M/s Ramakant Sales and  Services (P) Ltd. in the matter of Cyber Family. Com Limited: https://www.sebi.gov.in/enforcement/orders/jul-2009/adjudication-order-in-respect-of-m-s-ramakant-sales-and-services-p-ltd-in-the-matter-of-cyber-family-com-limited_4444.html\n",
            "Adjudication Order in respect of Sarash Trading Private Limited in the matter of Cyber Family. Com Limited: https://www.sebi.gov.in/enforcement/orders/jul-2009/adjudication-order-in-respect-of-sarash-trading-private-limited-in-the-matter-of-cyber-family-com-limited_4446.html\n",
            "Adjudicating Order against Mr. Ranjan Verghese and other promoters/PACs in the matter of Vertex Securities Pvt. Ltd: https://www.sebi.gov.in/enforcement/orders/jun-2009/adjudicating-order-against-mr-ranjan-verghese-and-other-promoters-pacs-in-the-matter-of-vertex-securities-pvt-ltd_4735.html\n",
            "Adjudication Order against Galaxy Broking Ltd. in the matter of K Sera Sera Productions Ltd: https://www.sebi.gov.in/enforcement/orders/jun-2009/adjudication-order-against-galaxy-broking-ltd-in-the-matter-of-k-sera-sera-productions-ltd_4737.html\n",
            "Adjudication Order against Triumph International Finance India Ltd. in the matter of Adani Exports Ltd: https://www.sebi.gov.in/enforcement/orders/jun-2009/adjudication-order-against-triumph-international-finance-india-ltd-in-the-matter-of-adani-exports-ltd_4736.html\n",
            "Adjudication Order against Baij Krishna and  Co. in the matter of Toplight Commercial Limited: https://www.sebi.gov.in/enforcement/orders/jun-2009/adjudication-order-against-baij-krishna-and-co-in-the-matter-of-toplight-commercial-limited_4734.html\n",
            "Adjudication Order against Hem Kanak Mercantile Pvt. Ltd. in the matter of Jindal Drilling and Industries Ltd: https://www.sebi.gov.in/enforcement/orders/jun-2009/adjudication-order-against-hem-kanak-mercantile-pvt-ltd-in-the-matter-of-jindal-drilling-and-industries-ltd_4731.html\n",
            "Adjudication Order against Ms. Premlata Nathany in the matter of Toplight Commercial Limited: https://www.sebi.gov.in/enforcement/orders/jun-2009/adjudication-order-against-ms-premlata-nathany-in-the-matter-of-toplight-commercial-limited_4733.html\n",
            "Adjudication Order against Shri Ramkrishna Dudwawala in the matter of Toplight Commercial Limited: https://www.sebi.gov.in/enforcement/orders/jun-2009/adjudication-order-against-shri-ramkrishna-dudwawala-in-the-matter-of-toplight-commercial-limited_4732.html\n",
            "Adjudication Order against M/s Vijay Bhagwandas and  Co. in the matter of M/s Karuna Cable Limited: https://www.sebi.gov.in/enforcement/orders/jun-2009/adjudication-order-against-m-s-vijay-bhagwandas-and-co-in-the-matter-of-m-s-karuna-cable-limited_4730.html\n",
            "Adjudication Order against Shri Jitendra Bharambe in the matter of M/s Fast Track Entertainment Limited: https://www.sebi.gov.in/enforcement/orders/jun-2009/adjudication-order-against-shri-jitendra-bharambe-in-the-matter-of-m-s-fast-track-entertainment-limited_4729.html\n",
            "Adjudication Order against M/s Rajesh Panchal in the matter of M/s Fast Track Entertainment Limited: https://www.sebi.gov.in/enforcement/orders/jun-2009/adjudication-order-against-m-s-rajesh-panchal-in-the-matter-of-m-s-fast-track-entertainment-limited_4728.html\n",
            "Adjudication order against OC Oerlikon Corporation AG, Pfaffikon and W. Reiners Verwaltungs GmbH: https://www.sebi.gov.in/enforcement/orders/jun-2009/adjudication-order-against-oc-oerlikon-corporation-ag-pfaffikon-and-w-reiners-verwaltungs-gmbh_4727.html\n",
            "Adjudication order against Satya Securities Ltd. and Basant Marketing pvt. Ltd. in the matter of Granules India Ltd: https://www.sebi.gov.in/enforcement/orders/jun-2009/adjudication-order-against-satya-securities-ltd-and-basant-marketing-pvt-ltd-in-the-matter-of-granules-india-ltd_4725.html\n",
            "Adjudication order passed against Jayesh Waghela in the matter of M/s. Mega Corporation Limited: https://www.sebi.gov.in/enforcement/orders/jun-2009/adjudication-order-passed-against-jayesh-waghela-in-the-matter-of-m-s-mega-corporation-limited_4726.html\n",
            "Adjudication order passed against Umesh Choukekar in the matter of M/s. Mega Corporation Limited: https://www.sebi.gov.in/enforcement/orders/jun-2009/adjudication-order-passed-against-umesh-choukekar-in-the-matter-of-m-s-mega-corporation-limited_4724.html\n",
            "Adjudication Order passed against Dattu Shitole in the matter of M/s. Mega Corporation Limited: https://www.sebi.gov.in/enforcement/orders/jun-2009/adjudication-order-passed-against-dattu-shitole-in-the-matter-of-m-s-mega-corporation-limited_4723.html\n",
            "Adjudication Order against M/s Abhinandan Fintex Pvt. Ltd. in the matter of M/s Bacchhat Investment and Finance Limited: https://www.sebi.gov.in/enforcement/orders/jun-2009/adjudication-order-against-m-s-abhinandan-fintex-pvt-ltd-in-the-matter-of-m-s-bacchhat-investment-and-finance-limited_4722.html\n",
            "Adjudication order against Mr. Bipin Shah in the matter of Karuna Cables Ltd[SAT Appeal No.:200/2016][SAT Appeal No.:198/2016]: https://www.sebi.gov.in/enforcement/orders/jun-2009/adjudication-order-against-mr-bipin-shah-in-the-matter-of-karuna-cables-ltd_4721.html\n",
            "Adjudication order against Ms. Bhavana Bipin Shah in the matter of Karuna Cables Ltd[SAT Appeal No.:199/2016][SAT Appeal No.:197/2016]: https://www.sebi.gov.in/enforcement/orders/jun-2009/adjudication-order-against-ms-bhavana-bipin-shah-in-the-matter-of-karuna-cables-ltd_4720.html\n",
            "Home: https://www.sebi.gov.in/index.html\n",
            "Enforcement: https://www.sebi.gov.in/enforcement.html\n",
            "Extracted links:\n",
            "PAY NOW: https://siportal.sebi.gov.in/intermediary/AOPaymentGateway.html\n",
            "Adjudication Order in respect of Naman Securities and Finance Pvt. Ltd. in the matter of Adani Exports Ltd: https://www.sebi.gov.in/enforcement/orders/jun-2009/adjudication-order-in-respect-of-naman-securities-and-finance-pvt-ltd-in-the-matter-of-adani-exports-ltd_4719.html\n",
            "Adjudication order of Rishabh Stock Broking Services Pvt. Ltd: https://www.sebi.gov.in/enforcement/orders/jun-2009/adjudication-order-of-rishabh-stock-broking-services-pvt-ltd_4718.html\n",
            "Adjudication Order  against M/s. Mansukh Securities and Finance Limited: https://www.sebi.gov.in/enforcement/orders/jun-2009/adjudication-order-against-m-s-mansukh-securities-and-finance-limited_4717.html\n",
            "Adjudication order in respect of Late Mrs. Putal Kavar: https://www.sebi.gov.in/enforcement/orders/jun-2009/adjudication-order-in-respect-of-late-mrs-putal-kavar_4716.html\n",
            "Adjudication Order in respect of P. K. Agarwal and Co in the matter of Cyber Family. Com Limited: https://www.sebi.gov.in/enforcement/orders/jun-2009/adjudication-order-in-respect-of-p-k-agarwal-and-co-in-the-matter-of-cyber-family-com-limited_4715.html\n",
            "Order against Celica Developers Private Limited: https://www.sebi.gov.in/enforcement/orders/jun-2009/order-against-celica-developers-private-limited_4714.html\n",
            "Adjudication order in respect of Jyotsenaben M Shah: https://www.sebi.gov.in/enforcement/orders/jun-2009/adjudication-order-in-respect-of-jyotsenaben-m-shah_4712.html\n",
            "Adjudication Order in respect of M/s. India Infoline Ltd. in the matter of GHCL Ltd: https://www.sebi.gov.in/enforcement/orders/jun-2009/adjudication-order-in-respect-of-m-s-india-infoline-ltd-in-the-matter-of-ghcl-ltd_4713.html\n",
            "Adjudication order in respect of M/s Alpha Hi Tech Fuel Limited in the matter of M/s Alpha Hi Tech Fuel Limited: https://www.sebi.gov.in/enforcement/orders/jun-2009/adjudication-order-in-respect-of-m-s-alpha-hi-tech-fuel-limited-in-the-matter-of-m-s-alpha-hi-tech-fuel-limited_4711.html\n",
            "Adjudication order of  Murari lal Goenka in the matter of BSR Finance and Construction Ltd: https://www.sebi.gov.in/enforcement/orders/jun-2009/adjudication-order-of-murari-lal-goenka-in-the-matter-of-bsr-finance-and-construction-ltd_4708.html\n",
            "Adjudication order of Prakash Nahata in the matter of BSR Finance and Construction Ltd: https://www.sebi.gov.in/enforcement/orders/jun-2009/adjudication-order-of-prakash-nahata-in-the-matter-of-bsr-finance-and-construction-ltd_4707.html\n",
            "Adjudication order of Rajrathan Financial Services Ltd: https://www.sebi.gov.in/enforcement/orders/jun-2009/adjudication-order-of-rajrathan-financial-services-ltd_4706.html\n",
            "Adjudication order of Sanju Kabra in the matter of BSR Finance and Construction Ltd: https://www.sebi.gov.in/enforcement/orders/jun-2009/adjudication-order-of-sanju-kabra-in-the-matter-of-bsr-finance-and-construction-ltd_4709.html\n",
            "Adjudication order of Shadilal Chopra in the matter of Atlanta Ltd: https://www.sebi.gov.in/enforcement/orders/jun-2009/adjudication-order-of-shadilal-chopra-in-the-matter-of-atlanta-ltd_4710.html\n",
            "Adjudication Order in respect of Alpa Haren Shah in the matter of Alpha Hi Tech Fuel Limited: https://www.sebi.gov.in/enforcement/orders/jun-2009/adjudication-order-in-respect-of-alpa-haren-shah-in-the-matter-of-alpha-hi-tech-fuel-limited_4701.html\n",
            "Adjudication Order in respect of Bhanuben Jaisukhlal Shah in the matter of Alpha Hi Tech Fuel Limited: https://www.sebi.gov.in/enforcement/orders/jun-2009/adjudication-order-in-respect-of-bhanuben-jaisukhlal-shah-in-the-matter-of-alpha-hi-tech-fuel-limited_4700.html\n",
            "Adjudication order in the matter of Coromadal Fertilizers Ltd. against Bhagwandas Agarwal: https://www.sebi.gov.in/enforcement/orders/jun-2009/adjudication-order-in-the-matter-of-coromadal-fertilizers-ltd-against-bhagwandas-agarwal_4705.html\n",
            "Adjudication order in the matter of Coromadal Fertilizers Ltd. against Gopal Kumar Agarwal: https://www.sebi.gov.in/enforcement/orders/jun-2009/adjudication-order-in-the-matter-of-coromadal-fertilizers-ltd-against-gopal-kumar-agarwal_4702.html\n",
            "Adjudication order in the matter of Coromadal Fertilizers Ltd. against K.Venkatraman[SAT Appeal No.:12/2021 & Misc. App. No. 78/2021]: https://www.sebi.gov.in/enforcement/orders/jun-2009/adjudication-order-in-the-matter-of-coromadal-fertilizers-ltd-against-k-venkatraman_4703.html\n",
            "Adjudication order in the matter of Coromadal Fertilizers Ltd. against Shankar Aggarwal: https://www.sebi.gov.in/enforcement/orders/jun-2009/adjudication-order-in-the-matter-of-coromadal-fertilizers-ltd-against-shankar-aggarwal_4704.html\n",
            "Adjudication order in the matter of Karuna Cables Ltd. against Adolf Pinto: https://www.sebi.gov.in/enforcement/orders/jun-2009/adjudication-order-in-the-matter-of-karuna-cables-ltd-against-adolf-pinto_4699.html\n",
            "Adjudication Order against Ms. Gillian Pinto in the matter of K Sera Sera Production Ltd: https://www.sebi.gov.in/enforcement/orders/jun-2009/adjudication-order-against-ms-gillian-pinto-in-the-matter-of-k-sera-sera-production-ltd_4696.html\n",
            "Adjudication Order against Shri Adolf Pinto in the matter of K Sera Sera Production Ltd: https://www.sebi.gov.in/enforcement/orders/jun-2009/adjudication-order-against-shri-adolf-pinto-in-the-matter-of-k-sera-sera-production-ltd_4698.html\n",
            "Adjudication Order aginst Shri Kenneth Pinto in the matter of K Sera Sera Production Ltd: https://www.sebi.gov.in/enforcement/orders/jun-2009/adjudication-order-aginst-shri-kenneth-pinto-in-the-matter-of-k-sera-sera-production-ltd_4697.html\n",
            "Adjudication order in the matter of Karuna Cables against  Harikishan Hiralal: https://www.sebi.gov.in/enforcement/orders/jun-2009/adjudication-order-in-the-matter-of-karuna-cables-against-harikishan-hiralal_4692.html\n",
            "Home: https://www.sebi.gov.in/index.html\n",
            "Enforcement: https://www.sebi.gov.in/enforcement.html\n",
            "Extracted links:\n",
            "PAY NOW: https://siportal.sebi.gov.in/intermediary/AOPaymentGateway.html\n",
            "Adjudication order in the matter of Karuna Cables against  Sanchay Fincom Ltd: https://www.sebi.gov.in/enforcement/orders/jun-2009/adjudication-order-in-the-matter-of-karuna-cables-against-sanchay-fincom-ltd_4694.html\n",
            "Adjudication order in the matter of Karuna Cables against Penninsular Capital Market Ltd: https://www.sebi.gov.in/enforcement/orders/jun-2009/adjudication-order-in-the-matter-of-karuna-cables-against-penninsular-capital-market-ltd_4693.html\n",
            "Order against Shri Dhaval Jhaveri in the mater of investigations in the scrip M/s Blue Information Technology Ltd: https://www.sebi.gov.in/enforcement/orders/jun-2009/order-against-shri-dhaval-jhaveri-in-the-mater-of-investigations-in-the-scrip-m-s-blue-information-technology-ltd_4695.html\n",
            "Adjudication Order in respect of Cyber Family.Com Limited in the matter of Cyber Family. Com Limited: https://www.sebi.gov.in/enforcement/orders/jun-2009/adjudication-order-in-respect-of-cyber-family-com-limited-in-the-matter-of-cyber-family-com-limited_4689.html\n",
            "Adjudication Order in respect of Pramod Kumar Kothari in the matter of Cyber Family. Com Limited: https://www.sebi.gov.in/enforcement/orders/jun-2009/adjudication-order-in-respect-of-pramod-kumar-kothari-in-the-matter-of-cyber-family-com-limited_4688.html\n",
            "Adjudication Order in respect of Sanchay Fincom Limited in the matter of Adani Exports Ltd: https://www.sebi.gov.in/enforcement/orders/jun-2009/adjudication-order-in-respect-of-sanchay-fincom-limited-in-the-matter-of-adani-exports-ltd_4691.html\n",
            "Adjudication Order in respect of Sanchay Finvest Limited in the matter of Adani Exports Ltd: https://www.sebi.gov.in/enforcement/orders/jun-2009/adjudication-order-in-respect-of-sanchay-finvest-limited-in-the-matter-of-adani-exports-ltd_4690.html\n",
            "Adjudication order in the matter of Karuna Cables against Vijaykumar J. Thakkar: https://www.sebi.gov.in/enforcement/orders/jun-2009/adjudication-order-in-the-matter-of-karuna-cables-against-vijaykumar-j-thakkar_4687.html\n",
            "Adjudication Order in respect of M/s. E Stocks Inc in the matter of Adani Exports Ltd: https://www.sebi.gov.in/enforcement/orders/jun-2009/adjudication-order-in-respect-of-m-s-e-stocks-inc-in-the-matter-of-adani-exports-ltd_4686.html\n",
            "Adjudication Orders in the matter of Karuna Cables against  S.P. Jain Securities Pvt. Ltd.: https://www.sebi.gov.in/enforcement/orders/jun-2009/adjudication-orders-in-the-matter-of-karuna-cables-against-s-p-jain-securities-pvt-ltd-_4684.html\n",
            "Adjudication Orders in the matter of Karuna Cables against Galaxy Broking Ltd: https://www.sebi.gov.in/enforcement/orders/jun-2009/adjudication-orders-in-the-matter-of-karuna-cables-against-galaxy-broking-ltd_4685.html\n",
            "Adjudication order in respecst of Mafatlal K. Bhansali in the matter of Nissan Copper Ltd: https://www.sebi.gov.in/enforcement/orders/may-2009/adjudication-order-in-respecst-of-mafatlal-k-bhansali-in-the-matter-of-nissan-copper-ltd_4994.html\n",
            "Adjudication order in respect of Babiben Bhansali in the matter of Nissan Copper Ltd: https://www.sebi.gov.in/enforcement/orders/may-2009/adjudication-order-in-respect-of-babiben-bhansali-in-the-matter-of-nissan-copper-ltd_4997.html\n",
            "Adjudication order in respect of Beenaben Bhansali in the matter of Nissan Copper Ltd: https://www.sebi.gov.in/enforcement/orders/may-2009/adjudication-order-in-respect-of-beenaben-bhansali-in-the-matter-of-nissan-copper-ltd_4996.html\n",
            "Adjudication order in respect of Fairy Vishal Bhansali in the matter of Nissan Copper Ltd: https://www.sebi.gov.in/enforcement/orders/may-2009/adjudication-order-in-respect-of-fairy-vishal-bhansali-in-the-matter-of-nissan-copper-ltd_4995.html\n",
            "Adjudication order in respect of Jyotshna Bhansali in the matter of Nissan Copper Ltd: https://www.sebi.gov.in/enforcement/orders/may-2009/adjudication-order-in-respect-of-jyotshna-bhansali-in-the-matter-of-nissan-copper-ltd_4992.html\n",
            "Adjudication order in respect of Navya Bhansali in the matter of Nissan Copper Ltd: https://www.sebi.gov.in/enforcement/orders/may-2009/adjudication-order-in-respect-of-navya-bhansali-in-the-matter-of-nissan-copper-ltd_4993.html\n",
            "Adjudication order in respect of Piyush M. Bhansali in the matter of Nissan Copper Ltd: https://www.sebi.gov.in/enforcement/orders/may-2009/adjudication-order-in-respect-of-piyush-m-bhansali-in-the-matter-of-nissan-copper-ltd_4989.html\n",
            "Adjudication order in respect of Puja Piyushkumar Bhansali in the matter of Nissan Copper Ltd: https://www.sebi.gov.in/enforcement/orders/may-2009/adjudication-order-in-respect-of-puja-piyushkumar-bhansali-in-the-matter-of-nissan-copper-ltd_4987.html\n",
            "Adjudication order in respect of Purviben Bhansali in the matter of Nissan Copper Ltd: https://www.sebi.gov.in/enforcement/orders/may-2009/adjudication-order-in-respect-of-purviben-bhansali-in-the-matter-of-nissan-copper-ltd_4986.html\n",
            "Adjudication order in respect of Raj P. Bhansali in the matter of Nissan Copper Ltd: https://www.sebi.gov.in/enforcement/orders/may-2009/adjudication-order-in-respect-of-raj-p-bhansali-in-the-matter-of-nissan-copper-ltd_4985.html\n",
            "Adjudication order in respect of Rajnikant Bhansali in the matter of Nissan Copper Ltd - HUF: https://www.sebi.gov.in/enforcement/orders/may-2009/adjudication-order-in-respect-of-rajnikant-bhansali-in-the-matter-of-nissan-copper-ltd-huf_4983.html\n",
            "Adjudication order in respect of Rajnikant M. Bhansali in the matter of Nissan Copper Ltd: https://www.sebi.gov.in/enforcement/orders/may-2009/adjudication-order-in-respect-of-rajnikant-m-bhansali-in-the-matter-of-nissan-copper-ltd_4982.html\n",
            "Adjudication order in respect of Riki R.Bhansali in the matter of Nissan Copper Ltd: https://www.sebi.gov.in/enforcement/orders/may-2009/adjudication-order-in-respect-of-riki-r-bhansali-in-the-matter-of-nissan-copper-ltd_4981.html\n",
            "Adjudication order in respect of Vishal R. Bhansali in the matter of Nissan Copper Ltd: https://www.sebi.gov.in/enforcement/orders/may-2009/adjudication-order-in-respect-of-vishal-r-bhansali-in-the-matter-of-nissan-copper-ltd_4984.html\n",
            "Home: https://www.sebi.gov.in/index.html\n",
            "Enforcement: https://www.sebi.gov.in/enforcement.html\n",
            "Extracted links:\n",
            "PAY NOW: https://siportal.sebi.gov.in/intermediary/AOPaymentGateway.html\n",
            "Adjudication order in respect of Yesha P. Bhansali in the matter of Nissan Copper Ltd: https://www.sebi.gov.in/enforcement/orders/may-2009/adjudication-order-in-respect-of-yesha-p-bhansali-in-the-matter-of-nissan-copper-ltd_4988.html\n",
            "Adjudication order in respect of Yogesh M. Bhansali in the matter of Nissan Copper Ltd: https://www.sebi.gov.in/enforcement/orders/may-2009/adjudication-order-in-respect-of-yogesh-m-bhansali-in-the-matter-of-nissan-copper-ltd_4990.html\n",
            "Adjudication order in respect of Yogesh Mafatlal Bhansali in the matter of Nissan Copper Limited: https://www.sebi.gov.in/enforcement/orders/may-2009/adjudication-order-in-respect-of-yogesh-mafatlal-bhansali-in-the-matter-of-nissan-copper-limited_4979.html\n",
            "Adjudication order of Varun Y. Bhansali in the matter of Nissan Copper Ltd: https://www.sebi.gov.in/enforcement/orders/may-2009/adjudication-order-of-varun-y-bhansali-in-the-matter-of-nissan-copper-ltd_4980.html\n",
            "Adjudication orderin respect  of Piyush Bhansali in the matter of Nissan Copper Ltd: https://www.sebi.gov.in/enforcement/orders/may-2009/adjudication-orderin-respect-of-piyush-bhansali-in-the-matter-of-nissan-copper-ltd_4991.html\n",
            "Adjudication order against Vision Technology India Ltd: https://www.sebi.gov.in/enforcement/orders/may-2009/adjudication-order-against-vision-technology-india-ltd_4978.html\n",
            "Adjudication Order in respect of Shri Sushil Kumar Patodia in the matter of Lumax Ind. Ltd and Crew BOS Ind. Ltd: https://www.sebi.gov.in/enforcement/orders/may-2009/adjudication-order-in-respect-of-shri-sushil-kumar-patodia-in-the-matter-of-lumax-ind-ltd-and-crew-bos-ind-ltd_4976.html\n",
            "Adjudication Order in the matter of Shri Suresh Bharrat: https://www.sebi.gov.in/enforcement/orders/may-2009/adjudication-order-in-the-matter-of-shri-suresh-bharrat_4977.html\n",
            "Adjudication Order against Jitendra Harjivandas Securities Pvt. Ltd. in the matter of Shukun Construction Ltd: https://www.sebi.gov.in/enforcement/orders/may-2009/adjudication-order-against-jitendra-harjivandas-securities-pvt-ltd-in-the-matter-of-shukun-construction-ltd_4973.html\n",
            "Adjudication Order against Kankeshwari Securities in the matter of Shukun Construction Ltd: https://www.sebi.gov.in/enforcement/orders/may-2009/adjudication-order-against-kankeshwari-securities-in-the-matter-of-shukun-construction-ltd_4972.html\n",
            "Adjudication order in respect of P J Chaudhary: https://www.sebi.gov.in/enforcement/orders/may-2009/adjudication-order-in-respect-of-p-j-chaudhary_4975.html\n",
            "Adjudication Order in respect of Shri Suresh K Shukla in the matter of M/s Ojas Technochem Products Limited: https://www.sebi.gov.in/enforcement/orders/may-2009/adjudication-order-in-respect-of-shri-suresh-k-shukla-in-the-matter-of-m-s-ojas-technochem-products-limited_4974.html\n",
            "Adjudication Order against M/s Ramaben Samani Finance Pvt. Ltd in the matter of M/s Veronica Laboratories Ltd: https://www.sebi.gov.in/enforcement/orders/may-2009/adjudication-order-against-m-s-ramaben-samani-finance-pvt-ltd-in-the-matter-of-m-s-veronica-laboratories-ltd_4969.html\n",
            "Adjudication order in respect of Shri Laxman Bhai Patel in the mater of M/s Kwality Dairy (India) Ltd: https://www.sebi.gov.in/enforcement/orders/may-2009/adjudication-order-in-respect-of-shri-laxman-bhai-patel-in-the-mater-of-m-s-kwality-dairy-india-ltd_4970.html\n",
            "Adjudication Order in the matter of Angel Capital and  Debt Market Limited: https://www.sebi.gov.in/enforcement/orders/may-2009/adjudication-order-in-the-matter-of-angel-capital-and-debt-market-limited_4968.html\n",
            "Adjudication Order in the matter of Steel City Securities Limited: https://www.sebi.gov.in/enforcement/orders/may-2009/adjudication-order-in-the-matter-of-steel-city-securities-limited_4967.html\n",
            "Adjudication Order in Uttam Financial Service Ltd.  - Now known as Manshukh Stock Brokers Ltd: https://www.sebi.gov.in/enforcement/orders/may-2009/adjudication-order-in-uttam-financial-service-ltd-now-known-as-manshukh-stock-brokers-ltd_4971.html\n",
            "Adjudication Order in respect of Manhattan Fingrowth Limited in the matter of Motorol Speciality Oils Limited: https://www.sebi.gov.in/enforcement/orders/may-2009/adjudication-order-in-respect-of-manhattan-fingrowth-limited-in-the-matter-of-motorol-speciality-oils-limited_4964.html\n",
            "Adjudication order in the matter of JYSKE Invest Fund Managemnt A/S: https://www.sebi.gov.in/enforcement/orders/may-2009/adjudication-order-in-the-matter-of-jyske-invest-fund-managemnt-a-s_4965.html\n",
            "Order against Shri Abhishek Khare in the mater of investigations in the scrip M/s Kwality Dairy (India) Ltd: https://www.sebi.gov.in/enforcement/orders/may-2009/order-against-shri-abhishek-khare-in-the-mater-of-investigations-in-the-scrip-m-s-kwality-dairy-india-ltd_4966.html\n",
            "Adjudication Order in respect of Shri Parshwa Finance (Proprietor: Piyush Jhaveri) in the matter of Havells India Ltd: https://www.sebi.gov.in/enforcement/orders/may-2009/adjudication-order-in-respect-of-shri-parshwa-finance-proprietor-piyush-jhaveri-in-the-matter-of-havells-india-ltd_4961.html\n",
            "Adjudication Order in respect of Steel City Capital Services (P) Ltd. in the matter of Recron Synthetics Limited: https://www.sebi.gov.in/enforcement/orders/may-2009/adjudication-order-in-respect-of-steel-city-capital-services-p-ltd-in-the-matter-of-recron-synthetics-limited_4963.html\n",
            "Adjudication order passed against Haresh R Posnak in the matter of M/s. Mega Corporation Limited: https://www.sebi.gov.in/enforcement/orders/may-2009/adjudication-order-passed-against-haresh-r-posnak-in-the-matter-of-m-s-mega-corporation-limited_4962.html\n",
            "Order against M/s Anushree Tradelink Pvt. Ltd. in the matter of M/s Bacchhat Investment  and Finance Limited: https://www.sebi.gov.in/enforcement/orders/may-2009/order-against-m-s-anushree-tradelink-pvt-ltd-in-the-matter-of-m-s-bacchhat-investment-and-finance-limited_4960.html\n",
            "Adjudication Order in respect of Hindustan Tea & Trading Co. Ltd. in the matter of Orion Paper and Industries Ltd: https://www.sebi.gov.in/enforcement/orders/may-2009/adjudication-order-in-respect-of-hindustan-tea-and-trading-co-ltd-in-the-matter-of-orion-paper-and-industries-ltd_4958.html\n",
            "Home: https://www.sebi.gov.in/index.html\n",
            "Enforcement: https://www.sebi.gov.in/enforcement.html\n",
            "Extracted links:\n",
            "PAY NOW: https://siportal.sebi.gov.in/intermediary/AOPaymentGateway.html\n",
            "Adjudication order in respect of Mr. Anil Nibber: https://www.sebi.gov.in/enforcement/orders/may-2009/adjudication-order-in-respect-of-mr-anil-nibber_4957.html\n",
            "Adjudication order in respect of Mr. Atul Nibber: https://www.sebi.gov.in/enforcement/orders/may-2009/adjudication-order-in-respect-of-mr-atul-nibber_4956.html\n",
            "Adjudication order in respect of Mr. Kashmir Chand: https://www.sebi.gov.in/enforcement/orders/may-2009/adjudication-order-in-respect-of-mr-kashmir-chand_4955.html\n",
            "Adjudication order of Shri V. K. Padmanabhan in the matter of Rishab Financial Services Limited (Formerly Madan Financial Services Ltd: https://www.sebi.gov.in/enforcement/orders/may-2009/adjudication-order-of-shri-v-k-padmanabhan-in-the-matter-of-rishab-financial-services-limited-formerly-madan-financial-services-ltd_4959.html\n",
            "Adjudication Order in respect of FMS Securities Limited in the matter of Havells India Ltd: https://www.sebi.gov.in/enforcement/orders/may-2009/adjudication-order-in-respect-of-fms-securities-limited-in-the-matter-of-havells-india-ltd_4953.html\n",
            "Adjudication Order in respect of Roopa S Shah in the matter of Motorol Speciality Oils Limited: https://www.sebi.gov.in/enforcement/orders/may-2009/adjudication-order-in-respect-of-roopa-s-shah-in-the-matter-of-motorol-speciality-oils-limited_4954.html\n",
            "Adjudication order in respect of Shri Murarilal Goenka in the matter of Richfield Financial Services Ltd: https://www.sebi.gov.in/enforcement/orders/may-2009/adjudication-order-in-respect-of-shri-murarilal-goenka-in-the-matter-of-richfield-financial-services-ltd_4951.html\n",
            "Adjudication order in respect of Shri N.M. Lohia in the matter of Richfield Financial Services Ltd: https://www.sebi.gov.in/enforcement/orders/may-2009/adjudication-order-in-respect-of-shri-n-m-lohia-in-the-matter-of-richfield-financial-services-ltd_4952.html\n",
            "Adjudication Order in respect of Roopshri Finvest Private Limited in the matter of Motorol Speciality Oils Limited: https://www.sebi.gov.in/enforcement/orders/may-2009/adjudication-order-in-respect-of-roopshri-finvest-private-limited-in-the-matter-of-motorol-speciality-oils-limited_4950.html\n",
            "Adjudication order in respect of M/s Poona Industrial and Finance (P) Ltd. in the matter of M/s Bilcare Ltd: https://www.sebi.gov.in/enforcement/orders/may-2009/adjudication-order-in-respect-of-m-s-poona-industrial-and-finance-p-ltd-in-the-matter-of-m-s-bilcare-ltd_4949.html\n",
            "Adjudication Order in respect of Mr. Sunil Giridharilal Raheja in the matter of Self/Synchronized Trades in 12 Scrips: https://www.sebi.gov.in/enforcement/orders/may-2009/adjudication-order-in-respect-of-mr-sunil-giridharilal-raheja-in-the-matter-of-self-synchronized-trades-in-12-scrips_4948.html\n",
            "Adjudication Order in respect of Mrs. Simran Sunil Raheja in the matter of Self/Synchronized Trades in 12 Scrips: https://www.sebi.gov.in/enforcement/orders/may-2009/adjudication-order-in-respect-of-mrs-simran-sunil-raheja-in-the-matter-of-self-synchronized-trades-in-12-scrips_4947.html\n",
            "Adjudication Order against M/s Poorva Trexim Pvt. Ltd. in the matter of M/s Bacchhat Investment and Finance Limited: https://www.sebi.gov.in/enforcement/orders/may-2009/adjudication-order-against-m-s-poorva-trexim-pvt-ltd-in-the-matter-of-m-s-bacchhat-investment-and-finance-limited_4946.html\n",
            "Adjudication order in respect of Pani Kawar in the matter of Rishab Financial Services Ltd. - Formerly Madan Financial Services Ltd: https://www.sebi.gov.in/enforcement/orders/may-2009/adjudication-order-in-respect-of-pani-kawar-in-the-matter-of-rishab-financial-services-ltd-formerly-madan-financial-services-ltd_4945.html\n",
            "Adjudication Order passed against Vijay Suryavanshi in the matter of M/s. Mega Corporation Limited[SAT Appeal No.:73/2020 & Misc. App. No. 90/2020]: https://www.sebi.gov.in/enforcement/orders/may-2009/adjudication-order-passed-against-vijay-suryavanshi-in-the-matter-of-m-s-mega-corporation-limited_4944.html\n",
            "Adjudication Order in respect of M/s Marino Fresh Foods Industries Limited in the matter of Sarang Viniyog Limited: https://www.sebi.gov.in/enforcement/orders/may-2009/adjudication-order-in-respect-of-m-s-marino-fresh-foods-industries-limited-in-the-matter-of-sarang-viniyog-limited_4939.html\n",
            "Adjudication order in respect of Naba Kumar Pal, Director, M/s Tricon Business Pvt Ltd  in the matter of Nageshwar Investment Ltd.: https://www.sebi.gov.in/enforcement/orders/may-2009/adjudication-order-in-respect-of-naba-kumar-pal-director-m-s-tricon-business-pvt-ltd-in-the-matter-of-nageshwar-investment-ltd-_4940.html\n",
            "Adjudication order in respect of Ram Chandra Singh, Director, M/s Delton Exim Private  Limited in the matter of Nageshwar Investment Ltd.: https://www.sebi.gov.in/enforcement/orders/may-2009/adjudication-order-in-respect-of-ram-chandra-singh-director-m-s-delton-exim-private-limited-in-the-matter-of-nageshwar-investment-ltd-_4941.html\n",
            "Adjudication order in respect of Ram Chandra Singh, Director, M/s Gateway Computers  Private Limited in the matter of Nageshwar Investment Ltd: https://www.sebi.gov.in/enforcement/orders/may-2009/adjudication-order-in-respect-of-ram-chandra-singh-director-m-s-gateway-computers-private-limited-in-the-matter-of-nageshwar-investment-ltd_4942.html\n",
            "Adjudication Order in respect of Sarang Viniyog Limited in the matter of Sarang Viniyog Limited: https://www.sebi.gov.in/enforcement/orders/may-2009/adjudication-order-in-respect-of-sarang-viniyog-limited-in-the-matter-of-sarang-viniyog-limited_4938.html\n",
            "Adjudication order of Rupesh H. Shah in the matter of Oasis Media Matrix Ltd: https://www.sebi.gov.in/enforcement/orders/may-2009/adjudication-order-of-rupesh-h-shah-in-the-matter-of-oasis-media-matrix-ltd_4943.html\n",
            "Adjudication Order in respect of B.N.Das in the matter of Sarang Viniyog Limited: https://www.sebi.gov.in/enforcement/orders/may-2009/adjudication-order-in-respect-of-b-n-das-in-the-matter-of-sarang-viniyog-limited_4936.html\n",
            "Adjudication Order in respect of M/S. Anand Rathi Share and Stock Brokers Limited - formerly known as M/S. Navratan Capital and Securities Pvt. Ltd: https://www.sebi.gov.in/enforcement/orders/may-2009/adjudication-order-in-respect-of-m-s-anand-rathi-share-and-stock-brokers-limited-formerly-known-as-m-s-navratan-capital-and-securities-pvt-ltd_4937.html\n",
            "In the Adjudication Proceedings against V.G. Capital Markets Limited in the matter of Hitech Gears and Munjal Showa Limited: https://www.sebi.gov.in/enforcement/orders/apr-2009/in-the-adjudication-proceedings-against-v-g-capital-markets-limited-in-the-matter-of-hitech-gears-and-munjal-showa-limited_5190.html\n",
            "Adjudication order in the matter of Prudential ICICI Mutual Fund: https://www.sebi.gov.in/enforcement/orders/apr-2009/adjudication-order-in-the-matter-of-prudential-icici-mutual-fund_5189.html\n",
            "Home: https://www.sebi.gov.in/index.html\n",
            "Enforcement: https://www.sebi.gov.in/enforcement.html\n",
            "Extracted links:\n",
            "PAY NOW: https://siportal.sebi.gov.in/intermediary/AOPaymentGateway.html\n",
            "Adjudication order in the matter of Vatsa Music Ltd: https://www.sebi.gov.in/enforcement/orders/apr-2009/adjudication-order-in-the-matter-of-vatsa-music-ltd_5188.html\n",
            "Adjudication proceedings against Sun TV  Network Limited: https://www.sebi.gov.in/enforcement/orders/apr-2009/adjudication-proceedings-against-sun-tv-network-limited_5187.html\n",
            "Adjudication order in respect of Mr. Brij Khanna in the matter of Blue Information Technology: https://www.sebi.gov.in/enforcement/orders/apr-2009/adjudication-order-in-respect-of-mr-brij-khanna-in-the-matter-of-blue-information-technology_5183.html\n",
            "Adjudication order in the matter of Usha India Ltd: https://www.sebi.gov.in/enforcement/orders/apr-2009/adjudication-order-in-the-matter-of-usha-india-ltd_5185.html\n",
            "Adjudication order in the matter of Usha Iron and Ferro Metals Corporation Ltd: https://www.sebi.gov.in/enforcement/orders/apr-2009/adjudication-order-in-the-matter-of-usha-iron-and-ferro-metals-corporation-ltd_5184.html\n",
            "Adjudication order of Kingfisher Overseas Pvt. Ltd. in the matter of Blue Information Technology: https://www.sebi.gov.in/enforcement/orders/apr-2009/adjudication-order-of-kingfisher-overseas-pvt-ltd-in-the-matter-of-blue-information-technology_5182.html\n",
            "Adjudication order of Navinbhai Shah in the matter of Oasis Media Matrix Ltd: https://www.sebi.gov.in/enforcement/orders/apr-2009/adjudication-order-of-navinbhai-shah-in-the-matter-of-oasis-media-matrix-ltd_5181.html\n",
            "Adjudication proceedings against DCM Financial Services Limited: https://www.sebi.gov.in/enforcement/orders/apr-2009/adjudication-proceedings-against-dcm-financial-services-limited_5186.html\n",
            "Adjudication Order against Action Financial Services (India) Ltd. in the matter of Shukun Construction Limited: https://www.sebi.gov.in/enforcement/orders/apr-2009/adjudication-order-against-action-financial-services-india-ltd-in-the-matter-of-shukun-construction-limited_5180.html\n",
            "Adjudication Order against Troup International Ltd., C.V. Kamani, R..C. Kamani and D.C.Kamani in the matter of Rajath Finance Limited: https://www.sebi.gov.in/enforcement/orders/apr-2009/adjudication-order-against-troup-international-ltd-c-v-kamani-r-c-kamani-and-d-c-kamani-in-the-matter-of-rajath-finance-limited_5179.html\n",
            "Adjudication order of Nirav Pandya in the matter of Oasis Media Matrix Ltd: https://www.sebi.gov.in/enforcement/orders/apr-2009/adjudication-order-of-nirav-pandya-in-the-matter-of-oasis-media-matrix-ltd_5178.html\n",
            "Adjudication Order in respect of Amrut Securities Ltd. in the matter of Axel Polymers Ltd: https://www.sebi.gov.in/enforcement/orders/apr-2009/adjudication-order-in-respect-of-amrut-securities-ltd-in-the-matter-of-axel-polymers-ltd_5175.html\n",
            "Adjudication order in respect of M/s Tricon Business Pvt. Ltd: https://www.sebi.gov.in/enforcement/orders/apr-2009/adjudication-order-in-respect-of-m-s-tricon-business-pvt-ltd_5174.html\n",
            "Adjudication order in respect of Mrs. Premlata Ramesh Saraogi: https://www.sebi.gov.in/enforcement/orders/apr-2009/adjudication-order-in-respect-of-mrs-premlata-ramesh-saraogi_5173.html\n",
            "Adjudication order in the matter of DSP Merill Lynch Ltd: https://www.sebi.gov.in/enforcement/orders/apr-2009/adjudication-order-in-the-matter-of-dsp-merill-lynch-ltd_5177.html\n",
            "Adjudication Order of Anil Kantilal Shah in the matter of Oasis Media Matrix Ltd: https://www.sebi.gov.in/enforcement/orders/apr-2009/adjudication-order-of-anil-kantilal-shah-in-the-matter-of-oasis-media-matrix-ltd_5176.html\n",
            "Adjudication order in respect of Canfin Homes Ltd.: https://www.sebi.gov.in/enforcement/orders/apr-2009/adjudication-order-in-respect-of-canfin-homes-ltd-_5172.html\n",
            "Adjudication order in respect of M/s Delton Exim Private Limited in the matter of Nageshwar Investment Ltd: https://www.sebi.gov.in/enforcement/orders/apr-2009/adjudication-order-in-respect-of-m-s-delton-exim-private-limited-in-the-matter-of-nageshwar-investment-ltd_5171.html\n",
            "Adjudication order in respect of M/s Gateway Computers Private Limited in the matter of Nageshwar Investment Ltd: https://www.sebi.gov.in/enforcement/orders/apr-2009/adjudication-order-in-respect-of-m-s-gateway-computers-private-limited-in-the-matter-of-nageshwar-investment-ltd_5170.html\n",
            "Adjudication order passed against M/s Platinum Finvest Pvt Ltd in the matter of Mittal Securities Finance Ltd: https://www.sebi.gov.in/enforcement/orders/apr-2009/adjudication-order-passed-against-m-s-platinum-finvest-pvt-ltd-in-the-matter-of-mittal-securities-finance-ltd_27322.html\n",
            "Adjudication order against  M/s Mittal Securities Finance Ltd: https://www.sebi.gov.in/enforcement/orders/apr-2009/adjudication-order-against-m-s-mittal-securities-finance-ltd_5169.html\n",
            "Adjudication Order against Ajit Suryavanshi in the matter of M/s. Mega Corporation Limited: https://www.sebi.gov.in/enforcement/orders/apr-2009/adjudication-order-against-ajit-suryavanshi-in-the-matter-of-m-s-mega-corporation-limited_5164.html\n",
            "Adjudication order against Santosh Narvekar in the matter of M/s Mega Corporation Limited: https://www.sebi.gov.in/enforcement/orders/apr-2009/adjudication-order-against-santosh-narvekar-in-the-matter-of-m-s-mega-corporation-limited_5162.html\n",
            "Adjudication order in respect of Brilliant Industries Ltd. in the matter of Brilliant Securities Ltd: https://www.sebi.gov.in/enforcement/orders/apr-2009/adjudication-order-in-respect-of-brilliant-industries-ltd-in-the-matter-of-brilliant-securities-ltd_5157.html\n",
            "Adjudication order in respect of Gowri Gopal Hospital Pvt. Ltd. in the matter of Brilliant Securities Ltd: https://www.sebi.gov.in/enforcement/orders/apr-2009/adjudication-order-in-respect-of-gowri-gopal-hospital-pvt-ltd-in-the-matter-of-brilliant-securities-ltd_5158.html\n",
            "Home: https://www.sebi.gov.in/index.html\n",
            "Enforcement: https://www.sebi.gov.in/enforcement.html\n",
            "Extracted links:\n",
            "PAY NOW: https://siportal.sebi.gov.in/intermediary/AOPaymentGateway.html\n",
            "Adjudication Order in respect of M/s. R A Gupta & Co. Proprietor- Mr. Ramawatar Gupta: https://www.sebi.gov.in/enforcement/orders/apr-2009/adjudication-order-in-respect-of-m-s-r-a-gupta-and-co-proprietor-mr-ramawatar-gupta_5163.html\n",
            "Adjudication order in respect of T.G. Bharath in the matter of Brilliant Securities Ltd: https://www.sebi.gov.in/enforcement/orders/apr-2009/adjudication-order-in-respect-of-t-g-bharath-in-the-matter-of-brilliant-securities-ltd_5156.html\n",
            "Adjudication order in respect of T.G. Venkatesh in the matter of Brilliant Securities Ltd: https://www.sebi.gov.in/enforcement/orders/apr-2009/adjudication-order-in-respect-of-t-g-venkatesh-in-the-matter-of-brilliant-securities-ltd_5155.html\n",
            "Adjudication order in respect of TGV Projects and Investments Ltd. in the matter of Brilliant Securities Ltd: https://www.sebi.gov.in/enforcement/orders/apr-2009/adjudication-order-in-respect-of-tgv-projects-and-investments-ltd-in-the-matter-of-brilliant-securities-ltd_5154.html\n",
            "Adjudication order in the matter of Arihant Capital Markets Ltd: https://www.sebi.gov.in/enforcement/orders/apr-2009/adjudication-order-in-the-matter-of-arihant-capital-markets-ltd_5166.html\n",
            "Adjudication order in the matter of Bonanza Stock Brokers Ltd: https://www.sebi.gov.in/enforcement/orders/apr-2009/adjudication-order-in-the-matter-of-bonanza-stock-brokers-ltd_5168.html\n",
            "Adjudication Order in the matter of Dani Shares & Stocks Pvt. Ltd: https://www.sebi.gov.in/enforcement/orders/apr-2009/adjudication-order-in-the-matter-of-dani-shares-and-stocks-pvt-ltd_5165.html\n",
            "Adjudication order in the matter of Wellworth Share & Stock Broking Ltd: https://www.sebi.gov.in/enforcement/orders/apr-2009/adjudication-order-in-the-matter-of-wellworth-share-and-stock-broking-ltd_5167.html\n",
            "Adjudication order passed against M/s Mittal Securities Ltd. in the matter of Mittal Securities Ltd: https://www.sebi.gov.in/enforcement/orders/apr-2009/adjudication-order-passed-against-m-s-mittal-securities-ltd-in-the-matter-of-mittal-securities-ltd_5160.html\n",
            "Adjudication Order passed against M/s Plantinum Finvest Pvt. Ltd. in the matter of Mittal Securities Ltd: https://www.sebi.gov.in/enforcement/orders/apr-2009/adjudication-order-passed-against-m-s-plantinum-finvest-pvt-ltd-in-the-matter-of-mittal-securities-ltd_5161.html\n",
            "Adjudication order passed against M/s. Pragari Finvest (I) Pvt. Ltd. in the matter of Mittal Securities Finance Ltd: https://www.sebi.gov.in/enforcement/orders/apr-2009/adjudication-order-passed-against-m-s-pragari-finvest-i-pvt-ltd-in-the-matter-of-mittal-securities-finance-ltd_5159.html\n",
            "Adjudication Order  in the Matter of M/s Hanil Era Textiles Ltd.: https://www.sebi.gov.in/enforcement/orders/apr-2009/adjudication-order-in-the-matter-of-m-s-hanil-era-textiles-ltd-_5152.html\n",
            "Adjudication order against Deepak Narvekar in the matter of M/s Mega Corporation Limited: https://www.sebi.gov.in/enforcement/orders/apr-2009/adjudication-order-against-deepak-narvekar-in-the-matter-of-m-s-mega-corporation-limited_5146.html\n",
            "Adjudication order against M/s Ask holdings Pvt. Ltd. in the matter of Cranes Software International Limited: https://www.sebi.gov.in/enforcement/orders/apr-2009/adjudication-order-against-m-s-ask-holdings-pvt-ltd-in-the-matter-of-cranes-software-international-limited_5145.html\n",
            "Adjudication Order Against M/s Kajol Impex Limited: https://www.sebi.gov.in/enforcement/orders/apr-2009/adjudication-order-against-m-s-kajol-impex-limited_5153.html\n",
            "Adjudication order of Jay Rapid Roller Ltd: https://www.sebi.gov.in/enforcement/orders/apr-2009/adjudication-order-of-jay-rapid-roller-ltd_5147.html\n",
            "Adjudication proceeding against Enam Financial Consultants in the matter of Syndicate Bank: https://www.sebi.gov.in/enforcement/orders/apr-2009/adjudication-proceeding-against-enam-financial-consultants-in-the-matter-of-syndicate-bank_5151.html\n",
            "Adjudication proceeding against JM Morgan Stanley Pvt. Ltd. in the matter of Syndicate Bank: https://www.sebi.gov.in/enforcement/orders/apr-2009/adjudication-proceeding-against-jm-morgan-stanley-pvt-ltd-in-the-matter-of-syndicate-bank_5149.html\n",
            "Adjudication proceeding against SBI Capital Markets Ltd.in the matter of Syndicate Bank: https://www.sebi.gov.in/enforcement/orders/apr-2009/adjudication-proceeding-against-sbi-capital-markets-ltd-in-the-matter-of-syndicate-bank_5150.html\n",
            "Adjudication proceeding against SSKI Corporate Finance Pvt. Ltd. in the matter of Syndicate Bank: https://www.sebi.gov.in/enforcement/orders/apr-2009/adjudication-proceeding-against-sski-corporate-finance-pvt-ltd-in-the-matter-of-syndicate-bank_5148.html\n",
            "Adjudication order of VSE Stock Services Ltd: https://www.sebi.gov.in/enforcement/orders/apr-2009/adjudication-order-of-vse-stock-services-ltd_5144.html\n",
            "Adjudication order against M/s Ramaben Samani Finance Pvt. Ltd. in the matter of Cranes Software International Limited: https://www.sebi.gov.in/enforcement/orders/apr-2009/adjudication-order-against-m-s-ramaben-samani-finance-pvt-ltd-in-the-matter-of-cranes-software-international-limited_5142.html\n",
            "Adjudication order in respect of M/s Southern Herbals Limited: https://www.sebi.gov.in/enforcement/orders/apr-2009/adjudication-order-in-respect-of-m-s-southern-herbals-limited_5141.html\n",
            "Adjudication Order in the matter of Adjudicating Proceedings against Shri Dilip Pendse and Others: https://www.sebi.gov.in/enforcement/orders/apr-2009/adjudication-order-in-the-matter-of-adjudicating-proceedings-against-shri-dilip-pendse-and-others_5143.html\n",
            "Adjudication order against M/s. R Ramrakh R Bohra: https://www.sebi.gov.in/enforcement/orders/apr-2009/adjudication-order-against-m-s-r-ramrakh-r-bohra_5139.html\n",
            "Home: https://www.sebi.gov.in/index.html\n",
            "Enforcement: https://www.sebi.gov.in/enforcement.html\n",
            "Extracted links:\n",
            "PAY NOW: https://siportal.sebi.gov.in/intermediary/AOPaymentGateway.html\n",
            "Adjudication Order in the matter of Uniglobal Securities Pvt. Ltd: https://www.sebi.gov.in/enforcement/orders/apr-2009/adjudication-order-in-the-matter-of-uniglobal-securities-pvt-ltd_5140.html\n",
            "Adjudication Order In respect of Shri  Tushar Javeri in the matter of Enrich Industries Ltd: https://www.sebi.gov.in/enforcement/orders/apr-2009/adjudication-order-in-respect-of-shri-tushar-javeri-in-the-matter-of-enrich-industries-ltd_5136.html\n",
            "Adjudication order of Apnapan Vyapaar Pvt. Ltd in the matter of Patriot Trading Co. Ltd: https://www.sebi.gov.in/enforcement/orders/apr-2009/adjudication-order-of-apnapan-vyapaar-pvt-ltd-in-the-matter-of-patriot-trading-co-ltd_5137.html\n",
            "Adjudication order of M/s.Sushovin Vinimay Pvt. Ltd in the matter of Patriot Trading Co. Ltd: https://www.sebi.gov.in/enforcement/orders/apr-2009/adjudication-order-of-m-s-sushovin-vinimay-pvt-ltd-in-the-matter-of-patriot-trading-co-ltd_5138.html\n",
            "Adjudication Order in respect of Alka India Limited in the matter of Alka India Limited: https://www.sebi.gov.in/enforcement/orders/apr-2009/adjudication-order-in-respect-of-alka-india-limited-in-the-matter-of-alka-india-limited_5135.html\n",
            "Adjudication Order in respect of Ahilya Commercial Private Limited in the matter of Sarang Viniyog Limited: https://www.sebi.gov.in/enforcement/orders/apr-2009/adjudication-order-in-respect-of-ahilya-commercial-private-limited-in-the-matter-of-sarang-viniyog-limited_5134.html\n",
            "Adjudication Order in respect of S Jhunjhunwala and  Co in the matter of Sarang Viniyog Limited: https://www.sebi.gov.in/enforcement/orders/apr-2009/adjudication-order-in-respect-of-s-jhunjhunwala-and-co-in-the-matter-of-sarang-viniyog-limited_5133.html\n",
            "Adjudication Order in respect of Subh Stock Broking Private Limited in the matter of Sarang Viniyog Limited: https://www.sebi.gov.in/enforcement/orders/apr-2009/adjudication-order-in-respect-of-subh-stock-broking-private-limited-in-the-matter-of-sarang-viniyog-limited_5132.html\n",
            "Order against Opal Industries Limited: https://www.sebi.gov.in/enforcement/orders/apr-2009/order-against-opal-industries-limited_5131.html\n",
            "Adjudication Order against M/s Janus Stock Brokers Pvt. Ltd. in the matter of M/s Veronica Laboratories Limited: https://www.sebi.gov.in/enforcement/orders/apr-2009/adjudication-order-against-m-s-janus-stock-brokers-pvt-ltd-in-the-matter-of-m-s-veronica-laboratories-limited_5129.html\n",
            "Adjudication Order in respect of Mansukh Securities & Finance Ltd. in the matter of Aarti Drugs Ltd. and Havells India Ltd: https://www.sebi.gov.in/enforcement/orders/apr-2009/adjudication-order-in-respect-of-mansukh-securities-and-finance-ltd-in-the-matter-of-aarti-drugs-ltd-and-havells-india-ltd_5128.html\n",
            "Adjudication Order in respect of TCW Galileo Funds, Inc: https://www.sebi.gov.in/enforcement/orders/mar-2009/adjudication-order-in-respect-of-tcw-galileo-funds-inc_5347.html\n",
            "Adjudication order in the matter of Mithani Securities Private Limited: https://www.sebi.gov.in/enforcement/orders/mar-2009/adjudication-order-in-the-matter-of-mithani-securities-private-limited_5348.html\n",
            "Adjudication order of M/s. Bharat Rasayan Finance Ltd: https://www.sebi.gov.in/enforcement/orders/mar-2009/adjudication-order-of-m-s-bharat-rasayan-finance-ltd_5349.html\n",
            "Adjudication Order in respect of M/s Banka India Limited: https://www.sebi.gov.in/enforcement/orders/mar-2009/adjudication-order-in-respect-of-m-s-banka-india-limited_5346.html\n",
            "Adjudication Order in respect of M/s Precision Fastners Limited: https://www.sebi.gov.in/enforcement/orders/mar-2009/adjudication-order-in-respect-of-m-s-precision-fastners-limited_5345.html\n",
            "Adjudication Order against Rakhi Trading Pvt. Ltd[SAT Appeal No.:01/2020 & Misc. App. No. 01/2020]: https://www.sebi.gov.in/enforcement/orders/mar-2009/adjudication-order-against-rakhi-trading-pvt-ltd_5343.html\n",
            "Adjudication order against Shri Sunil Kumar Bhageria in the matter of SBEC Sugar Limited: https://www.sebi.gov.in/enforcement/orders/mar-2009/adjudication-order-against-shri-sunil-kumar-bhageria-in-the-matter-of-sbec-sugar-limited_5340.html\n",
            "Adjudication Order in respect of Matra Realty Limited (formerly known as Yashraj Securities Limited) in the matter of Matra Realty Limited: https://www.sebi.gov.in/enforcement/orders/mar-2009/adjudication-order-in-respect-of-matra-realty-limited-formerly-known-as-yashraj-securities-limited-in-the-matter-of-matra-realty-limited_5341.html\n",
            "Adjudication order of Amit Bhavsar in the matter of Oasis Media Matrix Ltd: https://www.sebi.gov.in/enforcement/orders/mar-2009/adjudication-order-of-amit-bhavsar-in-the-matter-of-oasis-media-matrix-ltd_5342.html\n",
            "Adjudication Order passed against Sanjiv Kathuria in the matter of M/s. Mega Corporation Limited: https://www.sebi.gov.in/enforcement/orders/mar-2009/adjudication-order-passed-against-sanjiv-kathuria-in-the-matter-of-m-s-mega-corporation-limited_5344.html\n",
            "Adjudication order against  M/s. PKC Commodities Ltd: https://www.sebi.gov.in/enforcement/orders/mar-2009/adjudication-order-against-m-s-pkc-commodities-ltd_5337.html\n",
            "Adjudication Order against Shri S. Uttamchand in the matter of Radiant Financial Services Ltd: https://www.sebi.gov.in/enforcement/orders/mar-2009/adjudication-order-against-shri-s-uttamchand-in-the-matter-of-radiant-financial-services-ltd_5336.html\n",
            "Adjudication Order in respect of Emmanuel Anthraper in the matter of Matra Realty Limited: https://www.sebi.gov.in/enforcement/orders/mar-2009/adjudication-order-in-respect-of-emmanuel-anthraper-in-the-matter-of-matra-realty-limited_5338.html\n",
            "Adjudication Order passed against Ganesh Raut in the matter of M/s. Mega Corporation Limited: https://www.sebi.gov.in/enforcement/orders/mar-2009/adjudication-order-passed-against-ganesh-raut-in-the-matter-of-m-s-mega-corporation-limited_5339.html\n",
            "Home: https://www.sebi.gov.in/index.html\n",
            "Enforcement: https://www.sebi.gov.in/enforcement.html\n",
            "Extracted links:\n",
            "PAY NOW: https://siportal.sebi.gov.in/intermediary/AOPaymentGateway.html\n",
            "Adjudication order against M/s Stocknet International Limited in the matter of Stocknet International Limited: https://www.sebi.gov.in/enforcement/orders/mar-2009/adjudication-order-against-m-s-stocknet-international-limited-in-the-matter-of-stocknet-international-limited_5334.html\n",
            "Adjudication order in respect of Shri C.K. Chaturvedi: https://www.sebi.gov.in/enforcement/orders/mar-2009/adjudication-order-in-respect-of-shri-c-k-chaturvedi_5332.html\n",
            "Adjudication Order passed against Vivekanand Patankar in the matter of M/s. Mega Corporation Limited: https://www.sebi.gov.in/enforcement/orders/mar-2009/adjudication-order-passed-against-vivekanand-patankar-in-the-matter-of-m-s-mega-corporation-limited_5335.html\n",
            "Order against M/s Action Financial services (India) Limited in the matter of M/s Fast Track Entertainment Limited: https://www.sebi.gov.in/enforcement/orders/mar-2009/order-against-m-s-action-financial-services-india-limited-in-the-matter-of-m-s-fast-track-entertainment-limited_5333.html\n",
            "Adjudication order  against Bhankesh Bhavsar: https://www.sebi.gov.in/enforcement/orders/mar-2009/adjudication-order-against-bhankesh-bhavsar_5331.html\n",
            "Adjudication order against Shri Prasad Tandel in the matter of Shree Yaxx Pharma and Cosmetics Limited: https://www.sebi.gov.in/enforcement/orders/mar-2009/adjudication-order-against-shri-prasad-tandel-in-the-matter-of-shree-yaxx-pharma-and-cosmetics-limited_5330.html\n",
            "Adjudication Order in respect of Bharat Nagindas Lakhani in the matter of Matra Realty Limited: https://www.sebi.gov.in/enforcement/orders/mar-2009/adjudication-order-in-respect-of-bharat-nagindas-lakhani-in-the-matter-of-matra-realty-limited_5329.html\n",
            "Adjudication order in respect of Rajesh M. Ranka in the matter of M/s Softrack Technology Exports Limited: https://www.sebi.gov.in/enforcement/orders/mar-2009/adjudication-order-in-respect-of-rajesh-m-ranka-in-the-matter-of-m-s-softrack-technology-exports-limited_5326.html\n",
            "Adjudication Order in respect of S.K.Khemka in the matter of Brels Infotech Limited: https://www.sebi.gov.in/enforcement/orders/mar-2009/adjudication-order-in-respect-of-s-k-khemka-in-the-matter-of-brels-infotech-limited_5327.html\n",
            "Adjudication Order in respect of Steel City Securities Ltd.: https://www.sebi.gov.in/enforcement/orders/mar-2009/adjudication-order-in-respect-of-steel-city-securities-ltd-_5324.html\n",
            "Adjudication order  In respect of Shri. Vasant .C. Shah: https://www.sebi.gov.in/enforcement/orders/mar-2009/adjudication-order-in-respect-of-shri-vasant-c-shah_5322.html\n",
            "Adjudication order against Anushree Tradelink  Private Limited: https://www.sebi.gov.in/enforcement/orders/mar-2009/adjudication-order-against-anushree-tradelink-private-limited_5323.html\n",
            "Adjudication order Against Shri Ashish P Shah[SAT Appeal No.252/2017]: https://www.sebi.gov.in/enforcement/orders/mar-2009/adjudication-order-against-shri-ashish-p-shah_5316.html\n",
            "Adjudication Order passed against Ganesh Raut in the matter of M/s. Mega  Corporation Limited: https://www.sebi.gov.in/enforcement/orders/mar-2009/adjudication-order-passed-against-ganesh-raut-in-the-matter-of-m-s-mega-corporation-limited_5319.html\n",
            "Adjudication Order passed against Vivekanand Patankar in the matter of M/s. Mega Corporation Limited: https://www.sebi.gov.in/enforcement/orders/mar-2009/adjudication-order-passed-against-vivekanand-patankar-in-the-matter-of-m-s-mega-corporation-limited_5318.html\n",
            "Adjudicationi order in the matter of Swarnganga Trading Private Limited: https://www.sebi.gov.in/enforcement/orders/mar-2009/adjudicationi-order-in-the-matter-of-swarnganga-trading-private-limited_5321.html\n",
            "Adjudication order Against Srijan Vyapar Private Limited: https://www.sebi.gov.in/enforcement/orders/mar-2009/adjudication-order-against-srijan-vyapar-private-limited_5315.html\n",
            "Adjudication Order passed against Naidu Mohanbhai Narayanbhai in the matter of Karuna Cables Ltd144/2018]: https://www.sebi.gov.in/enforcement/orders/mar-2009/adjudication-order-passed-against-naidu-mohanbhai-narayanbhai-in-the-matter-of-karuna-cables-ltd_5314.html\n",
            "Adjudication order in the matter of Anil D Modi: https://www.sebi.gov.in/enforcement/orders/mar-2009/adjudication-order-in-the-matter-of-anil-d-modi_5312.html\n",
            "Adjudication Order in the matter of TLB Securities Pvt  Ltd: https://www.sebi.gov.in/enforcement/orders/mar-2009/adjudication-order-in-the-matter-of-tlb-securities-pvt-ltd_5311.html\n",
            "Adjudication Order passed against Arwind Makwana in the matter of Karuna Cables Ltd142/2018][SAT Appeal No.:210/2018,[SAT Appeal No.:211/2018,[SAT Appeal No.:212/2018]: https://www.sebi.gov.in/enforcement/orders/mar-2009/adjudication-order-passed-against-arwind-makwana-in-the-matter-of-karuna-cables-ltd_5309.html\n",
            "Adjudication Order passed against Prajapati Ganeshbhai Punamchand in the matter of Karuna Cables Ltd143/2018]: https://www.sebi.gov.in/enforcement/orders/mar-2009/adjudication-order-passed-against-prajapati-ganeshbhai-punamchand-in-the-matter-of-karuna-cables-ltd_5308.html\n",
            "Adjudication Order in respect of Alok Jain in the matter of Matra Realty Limited: https://www.sebi.gov.in/enforcement/orders/mar-2009/adjudication-order-in-respect-of-alok-jain-in-the-matter-of-matra-realty-limited_5306.html\n",
            "Adjudication Order in respect of Nimish Kantilal Unadkhat in the matter of Matra Realty Limited: https://www.sebi.gov.in/enforcement/orders/mar-2009/adjudication-order-in-respect-of-nimish-kantilal-unadkhat-in-the-matter-of-matra-realty-limited_5304.html\n",
            "Order in respect of Dimensional Securities Pvt. Ltd: https://www.sebi.gov.in/enforcement/orders/mar-2009/order-in-respect-of-dimensional-securities-pvt-ltd_5302.html\n",
            "Home: https://www.sebi.gov.in/index.html\n",
            "Enforcement: https://www.sebi.gov.in/enforcement.html\n",
            "Extracted links:\n",
            "PAY NOW: https://siportal.sebi.gov.in/intermediary/AOPaymentGateway.html\n",
            "Adjudication order in respect of Right Finstock Limited in the matter of Innovision E-Commerce Limited: https://www.sebi.gov.in/enforcement/orders/mar-2009/adjudication-order-in-respect-of-right-finstock-limited-in-the-matter-of-innovision-e-commerce-limited_5298.html\n",
            "Order iIn respect of  Shri Jagadish Savaji in the Matter of Shalibhadra Infosec Ltd: https://www.sebi.gov.in/enforcement/orders/mar-2009/order-iin-respect-of-shri-jagadish-savaji-in-the-matter-of-shalibhadra-infosec-ltd_5300.html\n",
            "Adjudication order in respect of Mr. Ashwani Kumar Mehra in the matter of  M/s Nageshwar Investment Limited: https://www.sebi.gov.in/enforcement/orders/mar-2009/adjudication-order-in-respect-of-mr-ashwani-kumar-mehra-in-the-matter-of-m-s-nageshwar-investment-limited_5296.html\n",
            "Adjudication Order in the matter of MCS Ltd: https://www.sebi.gov.in/enforcement/orders/mar-2009/adjudication-order-in-the-matter-of-mcs-ltd_5295.html\n",
            "Adjudication order In Respect Of Canara Bank: https://www.sebi.gov.in/enforcement/orders/feb-2009/adjudication-order-in-respect-of-canara-bank_5494.html\n",
            "Adjudication order in the matter of Anushree Tradelink Private Limited: https://www.sebi.gov.in/enforcement/orders/feb-2009/adjudication-order-in-the-matter-of-anushree-tradelink-private-limited_5495.html\n",
            "Adjudication order in the matter of Scope Vyapar Private Limited: https://www.sebi.gov.in/enforcement/orders/feb-2009/adjudication-order-in-the-matter-of-scope-vyapar-private-limited_5497.html\n",
            "Adjudication order in the matter of Srijan Vyapar Private Limited: https://www.sebi.gov.in/enforcement/orders/feb-2009/adjudication-order-in-the-matter-of-srijan-vyapar-private-limited_5498.html\n",
            "Adjudication order in the matter of Success Vyapar Private Limited: https://www.sebi.gov.in/enforcement/orders/feb-2009/adjudication-order-in-the-matter-of-success-vyapar-private-limited_5499.html\n",
            "Adjudication order in the matter of Swarnganga Trading Private Limited: https://www.sebi.gov.in/enforcement/orders/feb-2009/adjudication-order-in-the-matter-of-swarnganga-trading-private-limited_5496.html\n",
            "Adjudication Order against Jagatdal Jute and Industries Ltd. in the matter of Radiant Financial Services Ltd: https://www.sebi.gov.in/enforcement/orders/feb-2009/adjudication-order-against-jagatdal-jute-and-industries-ltd-in-the-matter-of-radiant-financial-services-ltd_5491.html\n",
            "Adjudication Order against Mangalam Viniyog Pvt. Ltd. in the matter of Radiant Financial Services Ltd: https://www.sebi.gov.in/enforcement/orders/feb-2009/adjudication-order-against-mangalam-viniyog-pvt-ltd-in-the-matter-of-radiant-financial-services-ltd_5493.html\n",
            "Adjudication Order against Shri Anurag Nopany in the matter of Radiant Financial Services Ltd: https://www.sebi.gov.in/enforcement/orders/feb-2009/adjudication-order-against-shri-anurag-nopany-in-the-matter-of-radiant-financial-services-ltd_5492.html\n",
            "Adjudication order in the matter of Shelter Vyapar Private Limited: https://www.sebi.gov.in/enforcement/orders/feb-2009/adjudication-order-in-the-matter-of-shelter-vyapar-private-limited_5490.html\n",
            "Adjudication order against Shri Surendra Kumar Kasera in the matter of SBEC Sugar Limited: https://www.sebi.gov.in/enforcement/orders/feb-2009/adjudication-order-against-shri-surendra-kumar-kasera-in-the-matter-of-sbec-sugar-limited_5488.html\n",
            "Adjudication order against Shri Vinod Khetan in the matter of Adani Exports Limited: https://www.sebi.gov.in/enforcement/orders/feb-2009/adjudication-order-against-shri-vinod-khetan-in-the-matter-of-adani-exports-limited_5489.html\n",
            "Adjudication Order in the matter of Indiabulls Securities Limited: https://www.sebi.gov.in/enforcement/orders/feb-2009/adjudication-order-in-the-matter-of-indiabulls-securities-limited_5487.html\n",
            "Adjudication Orders against  Jagruti Parikh  in the matter of JIK Industries Limited: https://www.sebi.gov.in/enforcement/orders/feb-2009/adjudication-orders-against-jagruti-parikh-in-the-matter-of-jik-industries-limited_5485.html\n",
            "Adjudication Orders against  Jagruti Securities Limited in the matter of JIK Industries Limited: https://www.sebi.gov.in/enforcement/orders/feb-2009/adjudication-orders-against-jagruti-securities-limited-in-the-matter-of-jik-industries-limited_5486.html\n",
            "Adjudication Orders against Rajendra parikh,  in the matter of JIK Industries Limited: https://www.sebi.gov.in/enforcement/orders/feb-2009/adjudication-orders-against-rajendra-parikh-in-the-matter-of-jik-industries-limited_5484.html\n",
            "Adjudication Order in respect of SNR Share and Stock Services: https://www.sebi.gov.in/enforcement/orders/feb-2009/adjudication-order-in-respect-of-snr-share-and-stock-services_5483.html\n",
            "Adjudication Order against Ms. Arti Jain in the matter of M/s Fast Track Entertainment Limi: https://www.sebi.gov.in/enforcement/orders/feb-2009/adjudication-order-against-ms-arti-jain-in-the-matter-of-m-s-fast-track-entertainment-limi_5480.html\n",
            "Adjudication Order against Shri Sailesh Jain in the matter of M/s Fast Track Entertainment Limited: https://www.sebi.gov.in/enforcement/orders/feb-2009/adjudication-order-against-shri-sailesh-jain-in-the-matter-of-m-s-fast-track-entertainment-limited_5481.html\n",
            "Adjudication Order in respect of Angel Broking Ltd. in the matter of Channel Guide India Limited: https://www.sebi.gov.in/enforcement/orders/feb-2009/adjudication-order-in-respect-of-angel-broking-ltd-in-the-matter-of-channel-guide-india-limited_5482.html\n",
            "Adjudication order in the matter of HB stockholdings Ltd and others: https://www.sebi.gov.in/enforcement/orders/feb-2009/adjudication-order-in-the-matter-of-hb-stockholdings-ltd-and-others_5466.html\n",
            "Home: https://www.sebi.gov.in/index.html\n",
            "Enforcement: https://www.sebi.gov.in/enforcement.html\n"
          ]
        }
      ]
    },
    {
      "cell_type": "code",
      "source": [
        "#dictionary output\n",
        "dictionary"
      ],
      "metadata": {
        "colab": {
          "base_uri": "https://localhost:8080/"
        },
        "collapsed": true,
        "id": "yCCirX3kOoww",
        "outputId": "ddc3b228-d66f-4bcf-be58-dd44b3ff5689"
      },
      "execution_count": 9,
      "outputs": [
        {
          "output_type": "execute_result",
          "data": {
            "text/plain": [
              "{'PAY NOW': 'https://siportal.sebi.gov.in/intermediary/AOPaymentGateway.html',\n",
              " 'Adjudication order in respect of Ahilya Commercial Pvt. Ltd. in the matter of Brahmanand Himghar Ltd': 'https://www.sebi.gov.in/enforcement/orders/jul-2009/adjudication-order-in-respect-of-ahilya-commercial-pvt-ltd-in-the-matter-of-brahmanand-himghar-ltd_4491.html',\n",
              " 'Adjudication order in respect of Mintage Electro Equipments Ltd': 'https://www.sebi.gov.in/enforcement/orders/jul-2009/adjudication-order-in-respect-of-mintage-electro-equipments-ltd_4489.html',\n",
              " 'Adjudication Order against Shri Prasad Tandel in the matter of M/s Fast Track Entertainment Limited': 'https://www.sebi.gov.in/enforcement/orders/jul-2009/adjudication-order-against-shri-prasad-tandel-in-the-matter-of-m-s-fast-track-entertainment-limited_4487.html',\n",
              " 'Adjudication order in respect of Clock Sign Trading Co. Pvt. Ltd. in the matter of Global Capital Markets Ltd': 'https://www.sebi.gov.in/enforcement/orders/jul-2009/adjudication-order-in-respect-of-clock-sign-trading-co-pvt-ltd-in-the-matter-of-global-capital-markets-ltd_4483.html',\n",
              " 'Adjudication order In respect of Eupharma Laboratories Limited': 'https://www.sebi.gov.in/enforcement/orders/jul-2009/adjudication-order-in-respect-of-eupharma-laboratories-limited_4485.html',\n",
              " 'Adjudication Order in respect of Deepak B Desai in the matter of Gujarat Ambuja Export Limited': 'https://www.sebi.gov.in/enforcement/orders/jul-2009/adjudication-order-in-respect-of-deepak-b-desai-in-the-matter-of-gujarat-ambuja-export-limited_4481.html',\n",
              " 'Adjudication Order in respect of Inventure Growth and Securities Limited in the matter of Gujarat Ambuja Export Limited': 'https://www.sebi.gov.in/enforcement/orders/jul-2009/adjudication-order-in-respect-of-inventure-growth-and-securities-limited-in-the-matter-of-gujarat-ambuja-export-limited_4480.html',\n",
              " 'Adjudication Order passed against Santosh Narvekar in the matter of M/s. Mega Corporation Limited': 'https://www.sebi.gov.in/enforcement/orders/jul-2009/adjudication-order-passed-against-santosh-narvekar-in-the-matter-of-m-s-mega-corporation-limited_4477.html',\n",
              " 'Adjudication Order passed against Vijay Suryavanshi in the matter of M/s. Mega Corporation Limited[SAT Appeal No.:74/2020 & Misc. App. No. 91/2020]': 'https://www.sebi.gov.in/enforcement/orders/jul-2009/adjudication-order-passed-against-vijay-suryavanshi-in-the-matter-of-m-s-mega-corporation-limited_4478.html',\n",
              " 'Adjudication Order passed against Ajit Suryavanshi in the matter of Mega Corporation Limited': 'https://www.sebi.gov.in/enforcement/orders/jul-2009/adjudication-order-passed-against-ajit-suryavanshi-in-the-matter-of-mega-corporation-limited_4474.html',\n",
              " 'Adjudication Order passed against M/s. Ramaben Samani Finance Ltd in the matter of M/s. Zigma Software Ltd': 'https://www.sebi.gov.in/enforcement/orders/jul-2009/adjudication-order-passed-against-m-s-ramaben-samani-finance-ltd-in-the-matter-of-m-s-zigma-software-ltd_4475.html',\n",
              " 'Adjudication Order passed against Mr. Gaurav Raimalani in the matter of Karuna Cables Ltd': 'https://www.sebi.gov.in/enforcement/orders/jul-2009/adjudication-order-passed-against-mr-gaurav-raimalani-in-the-matter-of-karuna-cables-ltd_4472.html',\n",
              " 'Adjudication Order passed against Mr. Murlidhar Raimalani in the matter of Karuna Cables Ltd': 'https://www.sebi.gov.in/enforcement/orders/jul-2009/adjudication-order-passed-against-mr-murlidhar-raimalani-in-the-matter-of-karuna-cables-ltd_4471.html',\n",
              " 'Adjudication Order passed against Ms. Kanchan Raimalani in the matter of Karuna Cables Ltd': 'https://www.sebi.gov.in/enforcement/orders/jul-2009/adjudication-order-passed-against-ms-kanchan-raimalani-in-the-matter-of-karuna-cables-ltd_4470.html',\n",
              " 'Adjudication Order passed against Ms. Neelam Raimalani in the matter of Karuna Cables Ltd': 'https://www.sebi.gov.in/enforcement/orders/jul-2009/adjudication-order-passed-against-ms-neelam-raimalani-in-the-matter-of-karuna-cables-ltd_4468.html',\n",
              " 'Adjudication Order passed against Ms. Susheeladevi Raimalani in the matter of Karuna Cables Ltd': 'https://www.sebi.gov.in/enforcement/orders/jul-2009/adjudication-order-passed-against-ms-susheeladevi-raimalani-in-the-matter-of-karuna-cables-ltd_4467.html',\n",
              " 'Adjudication order in respect of Mukesh Dokania & Co. in the matter of Minolta Finance Ltd': 'https://www.sebi.gov.in/enforcement/orders/jul-2009/adjudication-order-in-respect-of-mukesh-dokania-and-co-in-the-matter-of-minolta-finance-ltd_13629.html',\n",
              " 'Adjudication Order against Gama Commerce Pvt. Ltd. in the matter of Amluckie Investment Company Limited.': 'https://www.sebi.gov.in/enforcement/orders/jul-2009/adjudication-order-against-gama-commerce-pvt-ltd-in-the-matter-of-amluckie-investment-company-limited-_4460.html',\n",
              " 'Adjudication order in respect of Ahilya Commercial Pvt. Ltd. in the matter of Minolta Finance Ltd': 'https://www.sebi.gov.in/enforcement/orders/jul-2009/adjudication-order-in-respect-of-ahilya-commercial-pvt-ltd-in-the-matter-of-minolta-finance-ltd_4465.html',\n",
              " 'Adjudication order in respect of Basant Periwal & Co. in the matter of Minolta Finance Ltd': 'https://www.sebi.gov.in/enforcement/orders/jul-2009/adjudication-order-in-respect-of-basant-periwal-and-co-in-the-matter-of-minolta-finance-ltd_4462.html',\n",
              " 'Adjudication order in respect of Rajendra Prasad Shah in the matter of Minolta Finance Ltd': 'https://www.sebi.gov.in/enforcement/orders/jul-2009/adjudication-order-in-respect-of-rajendra-prasad-shah-in-the-matter-of-minolta-finance-ltd_4464.html',\n",
              " 'Adjudication order in respect of Shri Ballabh Dass Daga in the matter of Minolta Finance Ltd': 'https://www.sebi.gov.in/enforcement/orders/jul-2009/adjudication-order-in-respect-of-shri-ballabh-dass-daga-in-the-matter-of-minolta-finance-ltd_4459.html',\n",
              " 'Adjudicating Order against Mr. Ranjan Verghese and other promoters/PACs in the matter of Vertex Securities Pvt. Ltd': 'https://www.sebi.gov.in/enforcement/orders/jun-2009/adjudicating-order-against-mr-ranjan-verghese-and-other-promoters-pacs-in-the-matter-of-vertex-securities-pvt-ltd_4735.html',\n",
              " 'Adjudication order in respect of M/s Anushree Tradelink (P) Ltd. in the matter of Nageshwar Investment Ltd': 'https://www.sebi.gov.in/enforcement/orders/jul-2009/adjudication-order-in-respect-of-m-s-anushree-tradelink-p-ltd-in-the-matter-of-nageshwar-investment-ltd_4452.html',\n",
              " 'Adjudication order in respect of M/s Millennium Insurance Agent (P) Ltd. in the matter of Nageshwar Investment Ltd': 'https://www.sebi.gov.in/enforcement/orders/jul-2009/adjudication-order-in-respect-of-m-s-millennium-insurance-agent-p-ltd-in-the-matter-of-nageshwar-investment-ltd_4450.html',\n",
              " 'Home': 'https://www.sebi.gov.in/index.html',\n",
              " 'Enforcement': 'https://www.sebi.gov.in/enforcement.html',\n",
              " 'Adjudication order in respect of M/s Shriram Insight Share Brokers Ltd. in the matter of M/s Shriram Insight Share Brokers Ltd': 'https://www.sebi.gov.in/enforcement/orders/jul-2009/adjudication-order-in-respect-of-m-s-shriram-insight-share-brokers-ltd-in-the-matter-of-m-s-shriram-insight-share-brokers-ltd_4453.html',\n",
              " 'Adjudication order in respect of M/s Swarn Ganga Trading (P) Ltd. in the matter of Nageshwar Investment Ltd.': 'https://www.sebi.gov.in/enforcement/orders/jul-2009/adjudication-order-in-respect-of-m-s-swarn-ganga-trading-p-ltd-in-the-matter-of-nageshwar-investment-ltd-_4455.html',\n",
              " 'Adjudication Order in respect of Prakash Nahata and  Co. in the matter of Cyber Family. Com Limited': 'https://www.sebi.gov.in/enforcement/orders/jul-2009/adjudication-order-in-respect-of-prakash-nahata-and-co-in-the-matter-of-cyber-family-com-limited_4449.html',\n",
              " 'Adjudication Order in respect of Bimex Exports Private Limited in the matter of Cyber Family. Com Limited': 'https://www.sebi.gov.in/enforcement/orders/jul-2009/adjudication-order-in-respect-of-bimex-exports-private-limited-in-the-matter-of-cyber-family-com-limited_4448.html',\n",
              " 'Adjudication Order in respect of Deepraj Vinimay Private Limited in the matter of Cyber Family. Com Limited': 'https://www.sebi.gov.in/enforcement/orders/jul-2009/adjudication-order-in-respect-of-deepraj-vinimay-private-limited-in-the-matter-of-cyber-family-com-limited_4445.html',\n",
              " 'Adjudication Order in respect of M/s Ramakant Sales and  Services (P) Ltd. in the matter of Cyber Family. Com Limited': 'https://www.sebi.gov.in/enforcement/orders/jul-2009/adjudication-order-in-respect-of-m-s-ramakant-sales-and-services-p-ltd-in-the-matter-of-cyber-family-com-limited_4444.html',\n",
              " 'Adjudication Order in respect of Sarash Trading Private Limited in the matter of Cyber Family. Com Limited': 'https://www.sebi.gov.in/enforcement/orders/jul-2009/adjudication-order-in-respect-of-sarash-trading-private-limited-in-the-matter-of-cyber-family-com-limited_4446.html',\n",
              " 'Adjudication Order against Galaxy Broking Ltd. in the matter of K Sera Sera Productions Ltd': 'https://www.sebi.gov.in/enforcement/orders/jun-2009/adjudication-order-against-galaxy-broking-ltd-in-the-matter-of-k-sera-sera-productions-ltd_4737.html',\n",
              " 'Adjudication Order against Triumph International Finance India Ltd. in the matter of Adani Exports Ltd': 'https://www.sebi.gov.in/enforcement/orders/jun-2009/adjudication-order-against-triumph-international-finance-india-ltd-in-the-matter-of-adani-exports-ltd_4736.html',\n",
              " 'Adjudication Order against Baij Krishna and  Co. in the matter of Toplight Commercial Limited': 'https://www.sebi.gov.in/enforcement/orders/jun-2009/adjudication-order-against-baij-krishna-and-co-in-the-matter-of-toplight-commercial-limited_4734.html',\n",
              " 'Adjudication Order against Hem Kanak Mercantile Pvt. Ltd. in the matter of Jindal Drilling and Industries Ltd': 'https://www.sebi.gov.in/enforcement/orders/jun-2009/adjudication-order-against-hem-kanak-mercantile-pvt-ltd-in-the-matter-of-jindal-drilling-and-industries-ltd_4731.html',\n",
              " 'Adjudication Order against Ms. Premlata Nathany in the matter of Toplight Commercial Limited': 'https://www.sebi.gov.in/enforcement/orders/jun-2009/adjudication-order-against-ms-premlata-nathany-in-the-matter-of-toplight-commercial-limited_4733.html',\n",
              " 'Adjudication Order against Shri Ramkrishna Dudwawala in the matter of Toplight Commercial Limited': 'https://www.sebi.gov.in/enforcement/orders/jun-2009/adjudication-order-against-shri-ramkrishna-dudwawala-in-the-matter-of-toplight-commercial-limited_4732.html',\n",
              " 'Adjudication Order against M/s Vijay Bhagwandas and  Co. in the matter of M/s Karuna Cable Limited': 'https://www.sebi.gov.in/enforcement/orders/jun-2009/adjudication-order-against-m-s-vijay-bhagwandas-and-co-in-the-matter-of-m-s-karuna-cable-limited_4730.html',\n",
              " 'Adjudication Order against Shri Jitendra Bharambe in the matter of M/s Fast Track Entertainment Limited': 'https://www.sebi.gov.in/enforcement/orders/jun-2009/adjudication-order-against-shri-jitendra-bharambe-in-the-matter-of-m-s-fast-track-entertainment-limited_4729.html',\n",
              " 'Adjudication Order against M/s Rajesh Panchal in the matter of M/s Fast Track Entertainment Limited': 'https://www.sebi.gov.in/enforcement/orders/jun-2009/adjudication-order-against-m-s-rajesh-panchal-in-the-matter-of-m-s-fast-track-entertainment-limited_4728.html',\n",
              " 'Adjudication order against OC Oerlikon Corporation AG, Pfaffikon and W. Reiners Verwaltungs GmbH': 'https://www.sebi.gov.in/enforcement/orders/jun-2009/adjudication-order-against-oc-oerlikon-corporation-ag-pfaffikon-and-w-reiners-verwaltungs-gmbh_4727.html',\n",
              " 'Adjudication order against Satya Securities Ltd. and Basant Marketing pvt. Ltd. in the matter of Granules India Ltd': 'https://www.sebi.gov.in/enforcement/orders/jun-2009/adjudication-order-against-satya-securities-ltd-and-basant-marketing-pvt-ltd-in-the-matter-of-granules-india-ltd_4725.html',\n",
              " 'Adjudication order passed against Jayesh Waghela in the matter of M/s. Mega Corporation Limited': 'https://www.sebi.gov.in/enforcement/orders/jun-2009/adjudication-order-passed-against-jayesh-waghela-in-the-matter-of-m-s-mega-corporation-limited_4726.html',\n",
              " 'Adjudication order passed against Umesh Choukekar in the matter of M/s. Mega Corporation Limited': 'https://www.sebi.gov.in/enforcement/orders/jun-2009/adjudication-order-passed-against-umesh-choukekar-in-the-matter-of-m-s-mega-corporation-limited_4724.html',\n",
              " 'Adjudication Order passed against Dattu Shitole in the matter of M/s. Mega Corporation Limited': 'https://www.sebi.gov.in/enforcement/orders/jun-2009/adjudication-order-passed-against-dattu-shitole-in-the-matter-of-m-s-mega-corporation-limited_4723.html',\n",
              " 'Adjudication Order against M/s Abhinandan Fintex Pvt. Ltd. in the matter of M/s Bacchhat Investment and Finance Limited': 'https://www.sebi.gov.in/enforcement/orders/jun-2009/adjudication-order-against-m-s-abhinandan-fintex-pvt-ltd-in-the-matter-of-m-s-bacchhat-investment-and-finance-limited_4722.html',\n",
              " 'Adjudication order against Mr. Bipin Shah in the matter of Karuna Cables Ltd[SAT Appeal No.:200/2016][SAT Appeal No.:198/2016]': 'https://www.sebi.gov.in/enforcement/orders/jun-2009/adjudication-order-against-mr-bipin-shah-in-the-matter-of-karuna-cables-ltd_4721.html',\n",
              " 'Adjudication order against Ms. Bhavana Bipin Shah in the matter of Karuna Cables Ltd[SAT Appeal No.:199/2016][SAT Appeal No.:197/2016]': 'https://www.sebi.gov.in/enforcement/orders/jun-2009/adjudication-order-against-ms-bhavana-bipin-shah-in-the-matter-of-karuna-cables-ltd_4720.html',\n",
              " 'Adjudication Order in respect of Naman Securities and Finance Pvt. Ltd. in the matter of Adani Exports Ltd': 'https://www.sebi.gov.in/enforcement/orders/jun-2009/adjudication-order-in-respect-of-naman-securities-and-finance-pvt-ltd-in-the-matter-of-adani-exports-ltd_4719.html',\n",
              " 'Adjudication order of Rishabh Stock Broking Services Pvt. Ltd': 'https://www.sebi.gov.in/enforcement/orders/jun-2009/adjudication-order-of-rishabh-stock-broking-services-pvt-ltd_4718.html',\n",
              " 'Adjudication Order  against M/s. Mansukh Securities and Finance Limited': 'https://www.sebi.gov.in/enforcement/orders/jun-2009/adjudication-order-against-m-s-mansukh-securities-and-finance-limited_4717.html',\n",
              " 'Adjudication order in respect of Late Mrs. Putal Kavar': 'https://www.sebi.gov.in/enforcement/orders/jun-2009/adjudication-order-in-respect-of-late-mrs-putal-kavar_4716.html',\n",
              " 'Adjudication Order in respect of P. K. Agarwal and Co in the matter of Cyber Family. Com Limited': 'https://www.sebi.gov.in/enforcement/orders/jun-2009/adjudication-order-in-respect-of-p-k-agarwal-and-co-in-the-matter-of-cyber-family-com-limited_4715.html',\n",
              " 'Order against Celica Developers Private Limited': 'https://www.sebi.gov.in/enforcement/orders/jun-2009/order-against-celica-developers-private-limited_4714.html',\n",
              " 'Adjudication order in respect of Jyotsenaben M Shah': 'https://www.sebi.gov.in/enforcement/orders/jun-2009/adjudication-order-in-respect-of-jyotsenaben-m-shah_4712.html',\n",
              " 'Adjudication Order in respect of M/s. India Infoline Ltd. in the matter of GHCL Ltd': 'https://www.sebi.gov.in/enforcement/orders/jun-2009/adjudication-order-in-respect-of-m-s-india-infoline-ltd-in-the-matter-of-ghcl-ltd_4713.html',\n",
              " 'Adjudication order in respect of M/s Alpha Hi Tech Fuel Limited in the matter of M/s Alpha Hi Tech Fuel Limited': 'https://www.sebi.gov.in/enforcement/orders/jun-2009/adjudication-order-in-respect-of-m-s-alpha-hi-tech-fuel-limited-in-the-matter-of-m-s-alpha-hi-tech-fuel-limited_4711.html',\n",
              " 'Adjudication order of  Murari lal Goenka in the matter of BSR Finance and Construction Ltd': 'https://www.sebi.gov.in/enforcement/orders/jun-2009/adjudication-order-of-murari-lal-goenka-in-the-matter-of-bsr-finance-and-construction-ltd_4708.html',\n",
              " 'Adjudication order of Prakash Nahata in the matter of BSR Finance and Construction Ltd': 'https://www.sebi.gov.in/enforcement/orders/jun-2009/adjudication-order-of-prakash-nahata-in-the-matter-of-bsr-finance-and-construction-ltd_4707.html',\n",
              " 'Adjudication order of Rajrathan Financial Services Ltd': 'https://www.sebi.gov.in/enforcement/orders/jun-2009/adjudication-order-of-rajrathan-financial-services-ltd_4706.html',\n",
              " 'Adjudication order of Sanju Kabra in the matter of BSR Finance and Construction Ltd': 'https://www.sebi.gov.in/enforcement/orders/jun-2009/adjudication-order-of-sanju-kabra-in-the-matter-of-bsr-finance-and-construction-ltd_4709.html',\n",
              " 'Adjudication order of Shadilal Chopra in the matter of Atlanta Ltd': 'https://www.sebi.gov.in/enforcement/orders/jun-2009/adjudication-order-of-shadilal-chopra-in-the-matter-of-atlanta-ltd_4710.html',\n",
              " 'Adjudication Order in respect of Alpa Haren Shah in the matter of Alpha Hi Tech Fuel Limited': 'https://www.sebi.gov.in/enforcement/orders/jun-2009/adjudication-order-in-respect-of-alpa-haren-shah-in-the-matter-of-alpha-hi-tech-fuel-limited_4701.html',\n",
              " 'Adjudication Order in respect of Bhanuben Jaisukhlal Shah in the matter of Alpha Hi Tech Fuel Limited': 'https://www.sebi.gov.in/enforcement/orders/jun-2009/adjudication-order-in-respect-of-bhanuben-jaisukhlal-shah-in-the-matter-of-alpha-hi-tech-fuel-limited_4700.html',\n",
              " 'Adjudication order in the matter of Coromadal Fertilizers Ltd. against Bhagwandas Agarwal': 'https://www.sebi.gov.in/enforcement/orders/jun-2009/adjudication-order-in-the-matter-of-coromadal-fertilizers-ltd-against-bhagwandas-agarwal_4705.html',\n",
              " 'Adjudication order in the matter of Coromadal Fertilizers Ltd. against Gopal Kumar Agarwal': 'https://www.sebi.gov.in/enforcement/orders/jun-2009/adjudication-order-in-the-matter-of-coromadal-fertilizers-ltd-against-gopal-kumar-agarwal_4702.html',\n",
              " 'Adjudication order in the matter of Coromadal Fertilizers Ltd. against K.Venkatraman[SAT Appeal No.:12/2021 & Misc. App. No. 78/2021]': 'https://www.sebi.gov.in/enforcement/orders/jun-2009/adjudication-order-in-the-matter-of-coromadal-fertilizers-ltd-against-k-venkatraman_4703.html',\n",
              " 'Adjudication order in the matter of Coromadal Fertilizers Ltd. against Shankar Aggarwal': 'https://www.sebi.gov.in/enforcement/orders/jun-2009/adjudication-order-in-the-matter-of-coromadal-fertilizers-ltd-against-shankar-aggarwal_4704.html',\n",
              " 'Adjudication order in the matter of Karuna Cables Ltd. against Adolf Pinto': 'https://www.sebi.gov.in/enforcement/orders/jun-2009/adjudication-order-in-the-matter-of-karuna-cables-ltd-against-adolf-pinto_4699.html',\n",
              " 'Adjudication Order against Ms. Gillian Pinto in the matter of K Sera Sera Production Ltd': 'https://www.sebi.gov.in/enforcement/orders/jun-2009/adjudication-order-against-ms-gillian-pinto-in-the-matter-of-k-sera-sera-production-ltd_4696.html',\n",
              " 'Adjudication Order against Shri Adolf Pinto in the matter of K Sera Sera Production Ltd': 'https://www.sebi.gov.in/enforcement/orders/jun-2009/adjudication-order-against-shri-adolf-pinto-in-the-matter-of-k-sera-sera-production-ltd_4698.html',\n",
              " 'Adjudication Order aginst Shri Kenneth Pinto in the matter of K Sera Sera Production Ltd': 'https://www.sebi.gov.in/enforcement/orders/jun-2009/adjudication-order-aginst-shri-kenneth-pinto-in-the-matter-of-k-sera-sera-production-ltd_4697.html',\n",
              " 'Adjudication order in the matter of Karuna Cables against  Harikishan Hiralal': 'https://www.sebi.gov.in/enforcement/orders/jun-2009/adjudication-order-in-the-matter-of-karuna-cables-against-harikishan-hiralal_4692.html',\n",
              " 'Adjudication order in the matter of Karuna Cables against  Sanchay Fincom Ltd': 'https://www.sebi.gov.in/enforcement/orders/jun-2009/adjudication-order-in-the-matter-of-karuna-cables-against-sanchay-fincom-ltd_4694.html',\n",
              " 'Adjudication order in the matter of Karuna Cables against Penninsular Capital Market Ltd': 'https://www.sebi.gov.in/enforcement/orders/jun-2009/adjudication-order-in-the-matter-of-karuna-cables-against-penninsular-capital-market-ltd_4693.html',\n",
              " 'Order against Shri Dhaval Jhaveri in the mater of investigations in the scrip M/s Blue Information Technology Ltd': 'https://www.sebi.gov.in/enforcement/orders/jun-2009/order-against-shri-dhaval-jhaveri-in-the-mater-of-investigations-in-the-scrip-m-s-blue-information-technology-ltd_4695.html',\n",
              " 'Adjudication Order in respect of Cyber Family.Com Limited in the matter of Cyber Family. Com Limited': 'https://www.sebi.gov.in/enforcement/orders/jun-2009/adjudication-order-in-respect-of-cyber-family-com-limited-in-the-matter-of-cyber-family-com-limited_4689.html',\n",
              " 'Adjudication Order in respect of Pramod Kumar Kothari in the matter of Cyber Family. Com Limited': 'https://www.sebi.gov.in/enforcement/orders/jun-2009/adjudication-order-in-respect-of-pramod-kumar-kothari-in-the-matter-of-cyber-family-com-limited_4688.html',\n",
              " 'Adjudication Order in respect of Sanchay Fincom Limited in the matter of Adani Exports Ltd': 'https://www.sebi.gov.in/enforcement/orders/jun-2009/adjudication-order-in-respect-of-sanchay-fincom-limited-in-the-matter-of-adani-exports-ltd_4691.html',\n",
              " 'Adjudication Order in respect of Sanchay Finvest Limited in the matter of Adani Exports Ltd': 'https://www.sebi.gov.in/enforcement/orders/jun-2009/adjudication-order-in-respect-of-sanchay-finvest-limited-in-the-matter-of-adani-exports-ltd_4690.html',\n",
              " 'Adjudication order in the matter of Karuna Cables against Vijaykumar J. Thakkar': 'https://www.sebi.gov.in/enforcement/orders/jun-2009/adjudication-order-in-the-matter-of-karuna-cables-against-vijaykumar-j-thakkar_4687.html',\n",
              " 'Adjudication Order in respect of M/s. E Stocks Inc in the matter of Adani Exports Ltd': 'https://www.sebi.gov.in/enforcement/orders/jun-2009/adjudication-order-in-respect-of-m-s-e-stocks-inc-in-the-matter-of-adani-exports-ltd_4686.html',\n",
              " 'Adjudication Orders in the matter of Karuna Cables against  S.P. Jain Securities Pvt. Ltd.': 'https://www.sebi.gov.in/enforcement/orders/jun-2009/adjudication-orders-in-the-matter-of-karuna-cables-against-s-p-jain-securities-pvt-ltd-_4684.html',\n",
              " 'Adjudication Orders in the matter of Karuna Cables against Galaxy Broking Ltd': 'https://www.sebi.gov.in/enforcement/orders/jun-2009/adjudication-orders-in-the-matter-of-karuna-cables-against-galaxy-broking-ltd_4685.html',\n",
              " 'Adjudication order in respecst of Mafatlal K. Bhansali in the matter of Nissan Copper Ltd': 'https://www.sebi.gov.in/enforcement/orders/may-2009/adjudication-order-in-respecst-of-mafatlal-k-bhansali-in-the-matter-of-nissan-copper-ltd_4994.html',\n",
              " 'Adjudication order in respect of Babiben Bhansali in the matter of Nissan Copper Ltd': 'https://www.sebi.gov.in/enforcement/orders/may-2009/adjudication-order-in-respect-of-babiben-bhansali-in-the-matter-of-nissan-copper-ltd_4997.html',\n",
              " 'Adjudication order in respect of Beenaben Bhansali in the matter of Nissan Copper Ltd': 'https://www.sebi.gov.in/enforcement/orders/may-2009/adjudication-order-in-respect-of-beenaben-bhansali-in-the-matter-of-nissan-copper-ltd_4996.html',\n",
              " 'Adjudication order in respect of Fairy Vishal Bhansali in the matter of Nissan Copper Ltd': 'https://www.sebi.gov.in/enforcement/orders/may-2009/adjudication-order-in-respect-of-fairy-vishal-bhansali-in-the-matter-of-nissan-copper-ltd_4995.html',\n",
              " 'Adjudication order in respect of Jyotshna Bhansali in the matter of Nissan Copper Ltd': 'https://www.sebi.gov.in/enforcement/orders/may-2009/adjudication-order-in-respect-of-jyotshna-bhansali-in-the-matter-of-nissan-copper-ltd_4992.html',\n",
              " 'Adjudication order in respect of Navya Bhansali in the matter of Nissan Copper Ltd': 'https://www.sebi.gov.in/enforcement/orders/may-2009/adjudication-order-in-respect-of-navya-bhansali-in-the-matter-of-nissan-copper-ltd_4993.html',\n",
              " 'Adjudication order in respect of Piyush M. Bhansali in the matter of Nissan Copper Ltd': 'https://www.sebi.gov.in/enforcement/orders/may-2009/adjudication-order-in-respect-of-piyush-m-bhansali-in-the-matter-of-nissan-copper-ltd_4989.html',\n",
              " 'Adjudication order in respect of Puja Piyushkumar Bhansali in the matter of Nissan Copper Ltd': 'https://www.sebi.gov.in/enforcement/orders/may-2009/adjudication-order-in-respect-of-puja-piyushkumar-bhansali-in-the-matter-of-nissan-copper-ltd_4987.html',\n",
              " 'Adjudication order in respect of Purviben Bhansali in the matter of Nissan Copper Ltd': 'https://www.sebi.gov.in/enforcement/orders/may-2009/adjudication-order-in-respect-of-purviben-bhansali-in-the-matter-of-nissan-copper-ltd_4986.html',\n",
              " 'Adjudication order in respect of Raj P. Bhansali in the matter of Nissan Copper Ltd': 'https://www.sebi.gov.in/enforcement/orders/may-2009/adjudication-order-in-respect-of-raj-p-bhansali-in-the-matter-of-nissan-copper-ltd_4985.html',\n",
              " 'Adjudication order in respect of Rajnikant Bhansali in the matter of Nissan Copper Ltd - HUF': 'https://www.sebi.gov.in/enforcement/orders/may-2009/adjudication-order-in-respect-of-rajnikant-bhansali-in-the-matter-of-nissan-copper-ltd-huf_4983.html',\n",
              " 'Adjudication order in respect of Rajnikant M. Bhansali in the matter of Nissan Copper Ltd': 'https://www.sebi.gov.in/enforcement/orders/may-2009/adjudication-order-in-respect-of-rajnikant-m-bhansali-in-the-matter-of-nissan-copper-ltd_4982.html',\n",
              " 'Adjudication order in respect of Riki R.Bhansali in the matter of Nissan Copper Ltd': 'https://www.sebi.gov.in/enforcement/orders/may-2009/adjudication-order-in-respect-of-riki-r-bhansali-in-the-matter-of-nissan-copper-ltd_4981.html',\n",
              " 'Adjudication order in respect of Vishal R. Bhansali in the matter of Nissan Copper Ltd': 'https://www.sebi.gov.in/enforcement/orders/may-2009/adjudication-order-in-respect-of-vishal-r-bhansali-in-the-matter-of-nissan-copper-ltd_4984.html',\n",
              " 'Adjudication order in respect of Yesha P. Bhansali in the matter of Nissan Copper Ltd': 'https://www.sebi.gov.in/enforcement/orders/may-2009/adjudication-order-in-respect-of-yesha-p-bhansali-in-the-matter-of-nissan-copper-ltd_4988.html',\n",
              " 'Adjudication order in respect of Yogesh M. Bhansali in the matter of Nissan Copper Ltd': 'https://www.sebi.gov.in/enforcement/orders/may-2009/adjudication-order-in-respect-of-yogesh-m-bhansali-in-the-matter-of-nissan-copper-ltd_4990.html',\n",
              " 'Adjudication order in respect of Yogesh Mafatlal Bhansali in the matter of Nissan Copper Limited': 'https://www.sebi.gov.in/enforcement/orders/may-2009/adjudication-order-in-respect-of-yogesh-mafatlal-bhansali-in-the-matter-of-nissan-copper-limited_4979.html',\n",
              " 'Adjudication order of Varun Y. Bhansali in the matter of Nissan Copper Ltd': 'https://www.sebi.gov.in/enforcement/orders/may-2009/adjudication-order-of-varun-y-bhansali-in-the-matter-of-nissan-copper-ltd_4980.html',\n",
              " 'Adjudication orderin respect  of Piyush Bhansali in the matter of Nissan Copper Ltd': 'https://www.sebi.gov.in/enforcement/orders/may-2009/adjudication-orderin-respect-of-piyush-bhansali-in-the-matter-of-nissan-copper-ltd_4991.html',\n",
              " 'Adjudication order against Vision Technology India Ltd': 'https://www.sebi.gov.in/enforcement/orders/may-2009/adjudication-order-against-vision-technology-india-ltd_4978.html',\n",
              " 'Adjudication Order in respect of Shri Sushil Kumar Patodia in the matter of Lumax Ind. Ltd and Crew BOS Ind. Ltd': 'https://www.sebi.gov.in/enforcement/orders/may-2009/adjudication-order-in-respect-of-shri-sushil-kumar-patodia-in-the-matter-of-lumax-ind-ltd-and-crew-bos-ind-ltd_4976.html',\n",
              " 'Adjudication Order in the matter of Shri Suresh Bharrat': 'https://www.sebi.gov.in/enforcement/orders/may-2009/adjudication-order-in-the-matter-of-shri-suresh-bharrat_4977.html',\n",
              " 'Adjudication Order against Jitendra Harjivandas Securities Pvt. Ltd. in the matter of Shukun Construction Ltd': 'https://www.sebi.gov.in/enforcement/orders/may-2009/adjudication-order-against-jitendra-harjivandas-securities-pvt-ltd-in-the-matter-of-shukun-construction-ltd_4973.html',\n",
              " 'Adjudication Order against Kankeshwari Securities in the matter of Shukun Construction Ltd': 'https://www.sebi.gov.in/enforcement/orders/may-2009/adjudication-order-against-kankeshwari-securities-in-the-matter-of-shukun-construction-ltd_4972.html',\n",
              " 'Adjudication order in respect of P J Chaudhary': 'https://www.sebi.gov.in/enforcement/orders/may-2009/adjudication-order-in-respect-of-p-j-chaudhary_4975.html',\n",
              " 'Adjudication Order in respect of Shri Suresh K Shukla in the matter of M/s Ojas Technochem Products Limited': 'https://www.sebi.gov.in/enforcement/orders/may-2009/adjudication-order-in-respect-of-shri-suresh-k-shukla-in-the-matter-of-m-s-ojas-technochem-products-limited_4974.html',\n",
              " 'Adjudication Order against M/s Ramaben Samani Finance Pvt. Ltd in the matter of M/s Veronica Laboratories Ltd': 'https://www.sebi.gov.in/enforcement/orders/may-2009/adjudication-order-against-m-s-ramaben-samani-finance-pvt-ltd-in-the-matter-of-m-s-veronica-laboratories-ltd_4969.html',\n",
              " 'Adjudication order in respect of Shri Laxman Bhai Patel in the mater of M/s Kwality Dairy (India) Ltd': 'https://www.sebi.gov.in/enforcement/orders/may-2009/adjudication-order-in-respect-of-shri-laxman-bhai-patel-in-the-mater-of-m-s-kwality-dairy-india-ltd_4970.html',\n",
              " 'Adjudication Order in the matter of Angel Capital and  Debt Market Limited': 'https://www.sebi.gov.in/enforcement/orders/may-2009/adjudication-order-in-the-matter-of-angel-capital-and-debt-market-limited_4968.html',\n",
              " 'Adjudication Order in the matter of Steel City Securities Limited': 'https://www.sebi.gov.in/enforcement/orders/may-2009/adjudication-order-in-the-matter-of-steel-city-securities-limited_4967.html',\n",
              " 'Adjudication Order in Uttam Financial Service Ltd.  - Now known as Manshukh Stock Brokers Ltd': 'https://www.sebi.gov.in/enforcement/orders/may-2009/adjudication-order-in-uttam-financial-service-ltd-now-known-as-manshukh-stock-brokers-ltd_4971.html',\n",
              " 'Adjudication Order in respect of Manhattan Fingrowth Limited in the matter of Motorol Speciality Oils Limited': 'https://www.sebi.gov.in/enforcement/orders/may-2009/adjudication-order-in-respect-of-manhattan-fingrowth-limited-in-the-matter-of-motorol-speciality-oils-limited_4964.html',\n",
              " 'Adjudication order in the matter of JYSKE Invest Fund Managemnt A/S': 'https://www.sebi.gov.in/enforcement/orders/may-2009/adjudication-order-in-the-matter-of-jyske-invest-fund-managemnt-a-s_4965.html',\n",
              " 'Order against Shri Abhishek Khare in the mater of investigations in the scrip M/s Kwality Dairy (India) Ltd': 'https://www.sebi.gov.in/enforcement/orders/may-2009/order-against-shri-abhishek-khare-in-the-mater-of-investigations-in-the-scrip-m-s-kwality-dairy-india-ltd_4966.html',\n",
              " 'Adjudication Order in respect of Shri Parshwa Finance (Proprietor: Piyush Jhaveri) in the matter of Havells India Ltd': 'https://www.sebi.gov.in/enforcement/orders/may-2009/adjudication-order-in-respect-of-shri-parshwa-finance-proprietor-piyush-jhaveri-in-the-matter-of-havells-india-ltd_4961.html',\n",
              " 'Adjudication Order in respect of Steel City Capital Services (P) Ltd. in the matter of Recron Synthetics Limited': 'https://www.sebi.gov.in/enforcement/orders/may-2009/adjudication-order-in-respect-of-steel-city-capital-services-p-ltd-in-the-matter-of-recron-synthetics-limited_4963.html',\n",
              " 'Adjudication order passed against Haresh R Posnak in the matter of M/s. Mega Corporation Limited': 'https://www.sebi.gov.in/enforcement/orders/may-2009/adjudication-order-passed-against-haresh-r-posnak-in-the-matter-of-m-s-mega-corporation-limited_4962.html',\n",
              " 'Order against M/s Anushree Tradelink Pvt. Ltd. in the matter of M/s Bacchhat Investment  and Finance Limited': 'https://www.sebi.gov.in/enforcement/orders/may-2009/order-against-m-s-anushree-tradelink-pvt-ltd-in-the-matter-of-m-s-bacchhat-investment-and-finance-limited_4960.html',\n",
              " 'Adjudication Order in respect of Hindustan Tea & Trading Co. Ltd. in the matter of Orion Paper and Industries Ltd': 'https://www.sebi.gov.in/enforcement/orders/may-2009/adjudication-order-in-respect-of-hindustan-tea-and-trading-co-ltd-in-the-matter-of-orion-paper-and-industries-ltd_4958.html',\n",
              " 'Adjudication order in respect of Mr. Anil Nibber': 'https://www.sebi.gov.in/enforcement/orders/may-2009/adjudication-order-in-respect-of-mr-anil-nibber_4957.html',\n",
              " 'Adjudication order in respect of Mr. Atul Nibber': 'https://www.sebi.gov.in/enforcement/orders/may-2009/adjudication-order-in-respect-of-mr-atul-nibber_4956.html',\n",
              " 'Adjudication order in respect of Mr. Kashmir Chand': 'https://www.sebi.gov.in/enforcement/orders/may-2009/adjudication-order-in-respect-of-mr-kashmir-chand_4955.html',\n",
              " 'Adjudication order of Shri V. K. Padmanabhan in the matter of Rishab Financial Services Limited (Formerly Madan Financial Services Ltd': 'https://www.sebi.gov.in/enforcement/orders/may-2009/adjudication-order-of-shri-v-k-padmanabhan-in-the-matter-of-rishab-financial-services-limited-formerly-madan-financial-services-ltd_4959.html',\n",
              " 'Adjudication Order in respect of FMS Securities Limited in the matter of Havells India Ltd': 'https://www.sebi.gov.in/enforcement/orders/may-2009/adjudication-order-in-respect-of-fms-securities-limited-in-the-matter-of-havells-india-ltd_4953.html',\n",
              " 'Adjudication Order in respect of Roopa S Shah in the matter of Motorol Speciality Oils Limited': 'https://www.sebi.gov.in/enforcement/orders/may-2009/adjudication-order-in-respect-of-roopa-s-shah-in-the-matter-of-motorol-speciality-oils-limited_4954.html',\n",
              " 'Adjudication order in respect of Shri Murarilal Goenka in the matter of Richfield Financial Services Ltd': 'https://www.sebi.gov.in/enforcement/orders/may-2009/adjudication-order-in-respect-of-shri-murarilal-goenka-in-the-matter-of-richfield-financial-services-ltd_4951.html',\n",
              " 'Adjudication order in respect of Shri N.M. Lohia in the matter of Richfield Financial Services Ltd': 'https://www.sebi.gov.in/enforcement/orders/may-2009/adjudication-order-in-respect-of-shri-n-m-lohia-in-the-matter-of-richfield-financial-services-ltd_4952.html',\n",
              " 'Adjudication Order in respect of Roopshri Finvest Private Limited in the matter of Motorol Speciality Oils Limited': 'https://www.sebi.gov.in/enforcement/orders/may-2009/adjudication-order-in-respect-of-roopshri-finvest-private-limited-in-the-matter-of-motorol-speciality-oils-limited_4950.html',\n",
              " 'Adjudication order in respect of M/s Poona Industrial and Finance (P) Ltd. in the matter of M/s Bilcare Ltd': 'https://www.sebi.gov.in/enforcement/orders/may-2009/adjudication-order-in-respect-of-m-s-poona-industrial-and-finance-p-ltd-in-the-matter-of-m-s-bilcare-ltd_4949.html',\n",
              " 'Adjudication Order in respect of Mr. Sunil Giridharilal Raheja in the matter of Self/Synchronized Trades in 12 Scrips': 'https://www.sebi.gov.in/enforcement/orders/may-2009/adjudication-order-in-respect-of-mr-sunil-giridharilal-raheja-in-the-matter-of-self-synchronized-trades-in-12-scrips_4948.html',\n",
              " 'Adjudication Order in respect of Mrs. Simran Sunil Raheja in the matter of Self/Synchronized Trades in 12 Scrips': 'https://www.sebi.gov.in/enforcement/orders/may-2009/adjudication-order-in-respect-of-mrs-simran-sunil-raheja-in-the-matter-of-self-synchronized-trades-in-12-scrips_4947.html',\n",
              " 'Adjudication Order against M/s Poorva Trexim Pvt. Ltd. in the matter of M/s Bacchhat Investment and Finance Limited': 'https://www.sebi.gov.in/enforcement/orders/may-2009/adjudication-order-against-m-s-poorva-trexim-pvt-ltd-in-the-matter-of-m-s-bacchhat-investment-and-finance-limited_4946.html',\n",
              " 'Adjudication order in respect of Pani Kawar in the matter of Rishab Financial Services Ltd. - Formerly Madan Financial Services Ltd': 'https://www.sebi.gov.in/enforcement/orders/may-2009/adjudication-order-in-respect-of-pani-kawar-in-the-matter-of-rishab-financial-services-ltd-formerly-madan-financial-services-ltd_4945.html',\n",
              " 'Adjudication Order passed against Vijay Suryavanshi in the matter of M/s. Mega Corporation Limited[SAT Appeal No.:73/2020 & Misc. App. No. 90/2020]': 'https://www.sebi.gov.in/enforcement/orders/may-2009/adjudication-order-passed-against-vijay-suryavanshi-in-the-matter-of-m-s-mega-corporation-limited_4944.html',\n",
              " 'Adjudication Order in respect of M/s Marino Fresh Foods Industries Limited in the matter of Sarang Viniyog Limited': 'https://www.sebi.gov.in/enforcement/orders/may-2009/adjudication-order-in-respect-of-m-s-marino-fresh-foods-industries-limited-in-the-matter-of-sarang-viniyog-limited_4939.html',\n",
              " 'Adjudication order in respect of Naba Kumar Pal, Director, M/s Tricon Business Pvt Ltd  in the matter of Nageshwar Investment Ltd.': 'https://www.sebi.gov.in/enforcement/orders/may-2009/adjudication-order-in-respect-of-naba-kumar-pal-director-m-s-tricon-business-pvt-ltd-in-the-matter-of-nageshwar-investment-ltd-_4940.html',\n",
              " 'Adjudication order in respect of Ram Chandra Singh, Director, M/s Delton Exim Private  Limited in the matter of Nageshwar Investment Ltd.': 'https://www.sebi.gov.in/enforcement/orders/may-2009/adjudication-order-in-respect-of-ram-chandra-singh-director-m-s-delton-exim-private-limited-in-the-matter-of-nageshwar-investment-ltd-_4941.html',\n",
              " 'Adjudication order in respect of Ram Chandra Singh, Director, M/s Gateway Computers  Private Limited in the matter of Nageshwar Investment Ltd': 'https://www.sebi.gov.in/enforcement/orders/may-2009/adjudication-order-in-respect-of-ram-chandra-singh-director-m-s-gateway-computers-private-limited-in-the-matter-of-nageshwar-investment-ltd_4942.html',\n",
              " 'Adjudication Order in respect of Sarang Viniyog Limited in the matter of Sarang Viniyog Limited': 'https://www.sebi.gov.in/enforcement/orders/may-2009/adjudication-order-in-respect-of-sarang-viniyog-limited-in-the-matter-of-sarang-viniyog-limited_4938.html',\n",
              " 'Adjudication order of Rupesh H. Shah in the matter of Oasis Media Matrix Ltd': 'https://www.sebi.gov.in/enforcement/orders/may-2009/adjudication-order-of-rupesh-h-shah-in-the-matter-of-oasis-media-matrix-ltd_4943.html',\n",
              " 'Adjudication Order in respect of B.N.Das in the matter of Sarang Viniyog Limited': 'https://www.sebi.gov.in/enforcement/orders/may-2009/adjudication-order-in-respect-of-b-n-das-in-the-matter-of-sarang-viniyog-limited_4936.html',\n",
              " 'Adjudication Order in respect of M/S. Anand Rathi Share and Stock Brokers Limited - formerly known as M/S. Navratan Capital and Securities Pvt. Ltd': 'https://www.sebi.gov.in/enforcement/orders/may-2009/adjudication-order-in-respect-of-m-s-anand-rathi-share-and-stock-brokers-limited-formerly-known-as-m-s-navratan-capital-and-securities-pvt-ltd_4937.html',\n",
              " 'In the Adjudication Proceedings against V.G. Capital Markets Limited in the matter of Hitech Gears and Munjal Showa Limited': 'https://www.sebi.gov.in/enforcement/orders/apr-2009/in-the-adjudication-proceedings-against-v-g-capital-markets-limited-in-the-matter-of-hitech-gears-and-munjal-showa-limited_5190.html',\n",
              " 'Adjudication order in the matter of Prudential ICICI Mutual Fund': 'https://www.sebi.gov.in/enforcement/orders/apr-2009/adjudication-order-in-the-matter-of-prudential-icici-mutual-fund_5189.html',\n",
              " 'Adjudication order in the matter of Vatsa Music Ltd': 'https://www.sebi.gov.in/enforcement/orders/apr-2009/adjudication-order-in-the-matter-of-vatsa-music-ltd_5188.html',\n",
              " 'Adjudication proceedings against Sun TV  Network Limited': 'https://www.sebi.gov.in/enforcement/orders/apr-2009/adjudication-proceedings-against-sun-tv-network-limited_5187.html',\n",
              " 'Adjudication order in respect of Mr. Brij Khanna in the matter of Blue Information Technology': 'https://www.sebi.gov.in/enforcement/orders/apr-2009/adjudication-order-in-respect-of-mr-brij-khanna-in-the-matter-of-blue-information-technology_5183.html',\n",
              " 'Adjudication order in the matter of Usha India Ltd': 'https://www.sebi.gov.in/enforcement/orders/apr-2009/adjudication-order-in-the-matter-of-usha-india-ltd_5185.html',\n",
              " 'Adjudication order in the matter of Usha Iron and Ferro Metals Corporation Ltd': 'https://www.sebi.gov.in/enforcement/orders/apr-2009/adjudication-order-in-the-matter-of-usha-iron-and-ferro-metals-corporation-ltd_5184.html',\n",
              " 'Adjudication order of Kingfisher Overseas Pvt. Ltd. in the matter of Blue Information Technology': 'https://www.sebi.gov.in/enforcement/orders/apr-2009/adjudication-order-of-kingfisher-overseas-pvt-ltd-in-the-matter-of-blue-information-technology_5182.html',\n",
              " 'Adjudication order of Navinbhai Shah in the matter of Oasis Media Matrix Ltd': 'https://www.sebi.gov.in/enforcement/orders/apr-2009/adjudication-order-of-navinbhai-shah-in-the-matter-of-oasis-media-matrix-ltd_5181.html',\n",
              " 'Adjudication proceedings against DCM Financial Services Limited': 'https://www.sebi.gov.in/enforcement/orders/apr-2009/adjudication-proceedings-against-dcm-financial-services-limited_5186.html',\n",
              " 'Adjudication Order against Action Financial Services (India) Ltd. in the matter of Shukun Construction Limited': 'https://www.sebi.gov.in/enforcement/orders/apr-2009/adjudication-order-against-action-financial-services-india-ltd-in-the-matter-of-shukun-construction-limited_5180.html',\n",
              " 'Adjudication Order against Troup International Ltd., C.V. Kamani, R..C. Kamani and D.C.Kamani in the matter of Rajath Finance Limited': 'https://www.sebi.gov.in/enforcement/orders/apr-2009/adjudication-order-against-troup-international-ltd-c-v-kamani-r-c-kamani-and-d-c-kamani-in-the-matter-of-rajath-finance-limited_5179.html',\n",
              " 'Adjudication order of Nirav Pandya in the matter of Oasis Media Matrix Ltd': 'https://www.sebi.gov.in/enforcement/orders/apr-2009/adjudication-order-of-nirav-pandya-in-the-matter-of-oasis-media-matrix-ltd_5178.html',\n",
              " 'Adjudication Order in respect of Amrut Securities Ltd. in the matter of Axel Polymers Ltd': 'https://www.sebi.gov.in/enforcement/orders/apr-2009/adjudication-order-in-respect-of-amrut-securities-ltd-in-the-matter-of-axel-polymers-ltd_5175.html',\n",
              " 'Adjudication order in respect of M/s Tricon Business Pvt. Ltd': 'https://www.sebi.gov.in/enforcement/orders/apr-2009/adjudication-order-in-respect-of-m-s-tricon-business-pvt-ltd_5174.html',\n",
              " 'Adjudication order in respect of Mrs. Premlata Ramesh Saraogi': 'https://www.sebi.gov.in/enforcement/orders/apr-2009/adjudication-order-in-respect-of-mrs-premlata-ramesh-saraogi_5173.html',\n",
              " 'Adjudication order in the matter of DSP Merill Lynch Ltd': 'https://www.sebi.gov.in/enforcement/orders/apr-2009/adjudication-order-in-the-matter-of-dsp-merill-lynch-ltd_5177.html',\n",
              " 'Adjudication Order of Anil Kantilal Shah in the matter of Oasis Media Matrix Ltd': 'https://www.sebi.gov.in/enforcement/orders/apr-2009/adjudication-order-of-anil-kantilal-shah-in-the-matter-of-oasis-media-matrix-ltd_5176.html',\n",
              " 'Adjudication order in respect of Canfin Homes Ltd.': 'https://www.sebi.gov.in/enforcement/orders/apr-2009/adjudication-order-in-respect-of-canfin-homes-ltd-_5172.html',\n",
              " 'Adjudication order in respect of M/s Delton Exim Private Limited in the matter of Nageshwar Investment Ltd': 'https://www.sebi.gov.in/enforcement/orders/apr-2009/adjudication-order-in-respect-of-m-s-delton-exim-private-limited-in-the-matter-of-nageshwar-investment-ltd_5171.html',\n",
              " 'Adjudication order in respect of M/s Gateway Computers Private Limited in the matter of Nageshwar Investment Ltd': 'https://www.sebi.gov.in/enforcement/orders/apr-2009/adjudication-order-in-respect-of-m-s-gateway-computers-private-limited-in-the-matter-of-nageshwar-investment-ltd_5170.html',\n",
              " 'Adjudication order passed against M/s Platinum Finvest Pvt Ltd in the matter of Mittal Securities Finance Ltd': 'https://www.sebi.gov.in/enforcement/orders/apr-2009/adjudication-order-passed-against-m-s-platinum-finvest-pvt-ltd-in-the-matter-of-mittal-securities-finance-ltd_27322.html',\n",
              " 'Adjudication order against  M/s Mittal Securities Finance Ltd': 'https://www.sebi.gov.in/enforcement/orders/apr-2009/adjudication-order-against-m-s-mittal-securities-finance-ltd_5169.html',\n",
              " 'Adjudication Order against Ajit Suryavanshi in the matter of M/s. Mega Corporation Limited': 'https://www.sebi.gov.in/enforcement/orders/apr-2009/adjudication-order-against-ajit-suryavanshi-in-the-matter-of-m-s-mega-corporation-limited_5164.html',\n",
              " 'Adjudication order against Santosh Narvekar in the matter of M/s Mega Corporation Limited': 'https://www.sebi.gov.in/enforcement/orders/apr-2009/adjudication-order-against-santosh-narvekar-in-the-matter-of-m-s-mega-corporation-limited_5162.html',\n",
              " 'Adjudication order in respect of Brilliant Industries Ltd. in the matter of Brilliant Securities Ltd': 'https://www.sebi.gov.in/enforcement/orders/apr-2009/adjudication-order-in-respect-of-brilliant-industries-ltd-in-the-matter-of-brilliant-securities-ltd_5157.html',\n",
              " 'Adjudication order in respect of Gowri Gopal Hospital Pvt. Ltd. in the matter of Brilliant Securities Ltd': 'https://www.sebi.gov.in/enforcement/orders/apr-2009/adjudication-order-in-respect-of-gowri-gopal-hospital-pvt-ltd-in-the-matter-of-brilliant-securities-ltd_5158.html',\n",
              " 'Adjudication Order in respect of M/s. R A Gupta & Co. Proprietor- Mr. Ramawatar Gupta': 'https://www.sebi.gov.in/enforcement/orders/apr-2009/adjudication-order-in-respect-of-m-s-r-a-gupta-and-co-proprietor-mr-ramawatar-gupta_5163.html',\n",
              " 'Adjudication order in respect of T.G. Bharath in the matter of Brilliant Securities Ltd': 'https://www.sebi.gov.in/enforcement/orders/apr-2009/adjudication-order-in-respect-of-t-g-bharath-in-the-matter-of-brilliant-securities-ltd_5156.html',\n",
              " 'Adjudication order in respect of T.G. Venkatesh in the matter of Brilliant Securities Ltd': 'https://www.sebi.gov.in/enforcement/orders/apr-2009/adjudication-order-in-respect-of-t-g-venkatesh-in-the-matter-of-brilliant-securities-ltd_5155.html',\n",
              " 'Adjudication order in respect of TGV Projects and Investments Ltd. in the matter of Brilliant Securities Ltd': 'https://www.sebi.gov.in/enforcement/orders/apr-2009/adjudication-order-in-respect-of-tgv-projects-and-investments-ltd-in-the-matter-of-brilliant-securities-ltd_5154.html',\n",
              " 'Adjudication order in the matter of Arihant Capital Markets Ltd': 'https://www.sebi.gov.in/enforcement/orders/apr-2009/adjudication-order-in-the-matter-of-arihant-capital-markets-ltd_5166.html',\n",
              " 'Adjudication order in the matter of Bonanza Stock Brokers Ltd': 'https://www.sebi.gov.in/enforcement/orders/apr-2009/adjudication-order-in-the-matter-of-bonanza-stock-brokers-ltd_5168.html',\n",
              " 'Adjudication Order in the matter of Dani Shares & Stocks Pvt. Ltd': 'https://www.sebi.gov.in/enforcement/orders/apr-2009/adjudication-order-in-the-matter-of-dani-shares-and-stocks-pvt-ltd_5165.html',\n",
              " 'Adjudication order in the matter of Wellworth Share & Stock Broking Ltd': 'https://www.sebi.gov.in/enforcement/orders/apr-2009/adjudication-order-in-the-matter-of-wellworth-share-and-stock-broking-ltd_5167.html',\n",
              " 'Adjudication order passed against M/s Mittal Securities Ltd. in the matter of Mittal Securities Ltd': 'https://www.sebi.gov.in/enforcement/orders/apr-2009/adjudication-order-passed-against-m-s-mittal-securities-ltd-in-the-matter-of-mittal-securities-ltd_5160.html',\n",
              " 'Adjudication Order passed against M/s Plantinum Finvest Pvt. Ltd. in the matter of Mittal Securities Ltd': 'https://www.sebi.gov.in/enforcement/orders/apr-2009/adjudication-order-passed-against-m-s-plantinum-finvest-pvt-ltd-in-the-matter-of-mittal-securities-ltd_5161.html',\n",
              " 'Adjudication order passed against M/s. Pragari Finvest (I) Pvt. Ltd. in the matter of Mittal Securities Finance Ltd': 'https://www.sebi.gov.in/enforcement/orders/apr-2009/adjudication-order-passed-against-m-s-pragari-finvest-i-pvt-ltd-in-the-matter-of-mittal-securities-finance-ltd_5159.html',\n",
              " 'Adjudication Order  in the Matter of M/s Hanil Era Textiles Ltd.': 'https://www.sebi.gov.in/enforcement/orders/apr-2009/adjudication-order-in-the-matter-of-m-s-hanil-era-textiles-ltd-_5152.html',\n",
              " 'Adjudication order against Deepak Narvekar in the matter of M/s Mega Corporation Limited': 'https://www.sebi.gov.in/enforcement/orders/apr-2009/adjudication-order-against-deepak-narvekar-in-the-matter-of-m-s-mega-corporation-limited_5146.html',\n",
              " 'Adjudication order against M/s Ask holdings Pvt. Ltd. in the matter of Cranes Software International Limited': 'https://www.sebi.gov.in/enforcement/orders/apr-2009/adjudication-order-against-m-s-ask-holdings-pvt-ltd-in-the-matter-of-cranes-software-international-limited_5145.html',\n",
              " 'Adjudication Order Against M/s Kajol Impex Limited': 'https://www.sebi.gov.in/enforcement/orders/apr-2009/adjudication-order-against-m-s-kajol-impex-limited_5153.html',\n",
              " 'Adjudication order of Jay Rapid Roller Ltd': 'https://www.sebi.gov.in/enforcement/orders/apr-2009/adjudication-order-of-jay-rapid-roller-ltd_5147.html',\n",
              " 'Adjudication proceeding against Enam Financial Consultants in the matter of Syndicate Bank': 'https://www.sebi.gov.in/enforcement/orders/apr-2009/adjudication-proceeding-against-enam-financial-consultants-in-the-matter-of-syndicate-bank_5151.html',\n",
              " 'Adjudication proceeding against JM Morgan Stanley Pvt. Ltd. in the matter of Syndicate Bank': 'https://www.sebi.gov.in/enforcement/orders/apr-2009/adjudication-proceeding-against-jm-morgan-stanley-pvt-ltd-in-the-matter-of-syndicate-bank_5149.html',\n",
              " 'Adjudication proceeding against SBI Capital Markets Ltd.in the matter of Syndicate Bank': 'https://www.sebi.gov.in/enforcement/orders/apr-2009/adjudication-proceeding-against-sbi-capital-markets-ltd-in-the-matter-of-syndicate-bank_5150.html',\n",
              " 'Adjudication proceeding against SSKI Corporate Finance Pvt. Ltd. in the matter of Syndicate Bank': 'https://www.sebi.gov.in/enforcement/orders/apr-2009/adjudication-proceeding-against-sski-corporate-finance-pvt-ltd-in-the-matter-of-syndicate-bank_5148.html',\n",
              " 'Adjudication order of VSE Stock Services Ltd': 'https://www.sebi.gov.in/enforcement/orders/apr-2009/adjudication-order-of-vse-stock-services-ltd_5144.html',\n",
              " 'Adjudication order against M/s Ramaben Samani Finance Pvt. Ltd. in the matter of Cranes Software International Limited': 'https://www.sebi.gov.in/enforcement/orders/apr-2009/adjudication-order-against-m-s-ramaben-samani-finance-pvt-ltd-in-the-matter-of-cranes-software-international-limited_5142.html',\n",
              " 'Adjudication order in respect of M/s Southern Herbals Limited': 'https://www.sebi.gov.in/enforcement/orders/apr-2009/adjudication-order-in-respect-of-m-s-southern-herbals-limited_5141.html',\n",
              " 'Adjudication Order in the matter of Adjudicating Proceedings against Shri Dilip Pendse and Others': 'https://www.sebi.gov.in/enforcement/orders/apr-2009/adjudication-order-in-the-matter-of-adjudicating-proceedings-against-shri-dilip-pendse-and-others_5143.html',\n",
              " 'Adjudication order against M/s. R Ramrakh R Bohra': 'https://www.sebi.gov.in/enforcement/orders/apr-2009/adjudication-order-against-m-s-r-ramrakh-r-bohra_5139.html',\n",
              " 'Adjudication Order in the matter of Uniglobal Securities Pvt. Ltd': 'https://www.sebi.gov.in/enforcement/orders/apr-2009/adjudication-order-in-the-matter-of-uniglobal-securities-pvt-ltd_5140.html',\n",
              " 'Adjudication Order In respect of Shri  Tushar Javeri in the matter of Enrich Industries Ltd': 'https://www.sebi.gov.in/enforcement/orders/apr-2009/adjudication-order-in-respect-of-shri-tushar-javeri-in-the-matter-of-enrich-industries-ltd_5136.html',\n",
              " 'Adjudication order of Apnapan Vyapaar Pvt. Ltd in the matter of Patriot Trading Co. Ltd': 'https://www.sebi.gov.in/enforcement/orders/apr-2009/adjudication-order-of-apnapan-vyapaar-pvt-ltd-in-the-matter-of-patriot-trading-co-ltd_5137.html',\n",
              " 'Adjudication order of M/s.Sushovin Vinimay Pvt. Ltd in the matter of Patriot Trading Co. Ltd': 'https://www.sebi.gov.in/enforcement/orders/apr-2009/adjudication-order-of-m-s-sushovin-vinimay-pvt-ltd-in-the-matter-of-patriot-trading-co-ltd_5138.html',\n",
              " 'Adjudication Order in respect of Alka India Limited in the matter of Alka India Limited': 'https://www.sebi.gov.in/enforcement/orders/apr-2009/adjudication-order-in-respect-of-alka-india-limited-in-the-matter-of-alka-india-limited_5135.html',\n",
              " 'Adjudication Order in respect of Ahilya Commercial Private Limited in the matter of Sarang Viniyog Limited': 'https://www.sebi.gov.in/enforcement/orders/apr-2009/adjudication-order-in-respect-of-ahilya-commercial-private-limited-in-the-matter-of-sarang-viniyog-limited_5134.html',\n",
              " 'Adjudication Order in respect of S Jhunjhunwala and  Co in the matter of Sarang Viniyog Limited': 'https://www.sebi.gov.in/enforcement/orders/apr-2009/adjudication-order-in-respect-of-s-jhunjhunwala-and-co-in-the-matter-of-sarang-viniyog-limited_5133.html',\n",
              " 'Adjudication Order in respect of Subh Stock Broking Private Limited in the matter of Sarang Viniyog Limited': 'https://www.sebi.gov.in/enforcement/orders/apr-2009/adjudication-order-in-respect-of-subh-stock-broking-private-limited-in-the-matter-of-sarang-viniyog-limited_5132.html',\n",
              " 'Order against Opal Industries Limited': 'https://www.sebi.gov.in/enforcement/orders/apr-2009/order-against-opal-industries-limited_5131.html',\n",
              " 'Adjudication Order against M/s Janus Stock Brokers Pvt. Ltd. in the matter of M/s Veronica Laboratories Limited': 'https://www.sebi.gov.in/enforcement/orders/apr-2009/adjudication-order-against-m-s-janus-stock-brokers-pvt-ltd-in-the-matter-of-m-s-veronica-laboratories-limited_5129.html',\n",
              " 'Adjudication Order in respect of Mansukh Securities & Finance Ltd. in the matter of Aarti Drugs Ltd. and Havells India Ltd': 'https://www.sebi.gov.in/enforcement/orders/apr-2009/adjudication-order-in-respect-of-mansukh-securities-and-finance-ltd-in-the-matter-of-aarti-drugs-ltd-and-havells-india-ltd_5128.html',\n",
              " 'Adjudication Order in respect of TCW Galileo Funds, Inc': 'https://www.sebi.gov.in/enforcement/orders/mar-2009/adjudication-order-in-respect-of-tcw-galileo-funds-inc_5347.html',\n",
              " 'Adjudication order in the matter of Mithani Securities Private Limited': 'https://www.sebi.gov.in/enforcement/orders/mar-2009/adjudication-order-in-the-matter-of-mithani-securities-private-limited_5348.html',\n",
              " 'Adjudication order of M/s. Bharat Rasayan Finance Ltd': 'https://www.sebi.gov.in/enforcement/orders/mar-2009/adjudication-order-of-m-s-bharat-rasayan-finance-ltd_5349.html',\n",
              " 'Adjudication Order in respect of M/s Banka India Limited': 'https://www.sebi.gov.in/enforcement/orders/mar-2009/adjudication-order-in-respect-of-m-s-banka-india-limited_5346.html',\n",
              " 'Adjudication Order in respect of M/s Precision Fastners Limited': 'https://www.sebi.gov.in/enforcement/orders/mar-2009/adjudication-order-in-respect-of-m-s-precision-fastners-limited_5345.html',\n",
              " 'Adjudication Order against Rakhi Trading Pvt. Ltd[SAT Appeal No.:01/2020 & Misc. App. No. 01/2020]': 'https://www.sebi.gov.in/enforcement/orders/mar-2009/adjudication-order-against-rakhi-trading-pvt-ltd_5343.html',\n",
              " 'Adjudication order against Shri Sunil Kumar Bhageria in the matter of SBEC Sugar Limited': 'https://www.sebi.gov.in/enforcement/orders/mar-2009/adjudication-order-against-shri-sunil-kumar-bhageria-in-the-matter-of-sbec-sugar-limited_5340.html',\n",
              " 'Adjudication Order in respect of Matra Realty Limited (formerly known as Yashraj Securities Limited) in the matter of Matra Realty Limited': 'https://www.sebi.gov.in/enforcement/orders/mar-2009/adjudication-order-in-respect-of-matra-realty-limited-formerly-known-as-yashraj-securities-limited-in-the-matter-of-matra-realty-limited_5341.html',\n",
              " 'Adjudication order of Amit Bhavsar in the matter of Oasis Media Matrix Ltd': 'https://www.sebi.gov.in/enforcement/orders/mar-2009/adjudication-order-of-amit-bhavsar-in-the-matter-of-oasis-media-matrix-ltd_5342.html',\n",
              " 'Adjudication Order passed against Sanjiv Kathuria in the matter of M/s. Mega Corporation Limited': 'https://www.sebi.gov.in/enforcement/orders/mar-2009/adjudication-order-passed-against-sanjiv-kathuria-in-the-matter-of-m-s-mega-corporation-limited_5344.html',\n",
              " 'Adjudication order against  M/s. PKC Commodities Ltd': 'https://www.sebi.gov.in/enforcement/orders/mar-2009/adjudication-order-against-m-s-pkc-commodities-ltd_5337.html',\n",
              " 'Adjudication Order against Shri S. Uttamchand in the matter of Radiant Financial Services Ltd': 'https://www.sebi.gov.in/enforcement/orders/mar-2009/adjudication-order-against-shri-s-uttamchand-in-the-matter-of-radiant-financial-services-ltd_5336.html',\n",
              " 'Adjudication Order in respect of Emmanuel Anthraper in the matter of Matra Realty Limited': 'https://www.sebi.gov.in/enforcement/orders/mar-2009/adjudication-order-in-respect-of-emmanuel-anthraper-in-the-matter-of-matra-realty-limited_5338.html',\n",
              " 'Adjudication Order passed against Ganesh Raut in the matter of M/s. Mega Corporation Limited': 'https://www.sebi.gov.in/enforcement/orders/mar-2009/adjudication-order-passed-against-ganesh-raut-in-the-matter-of-m-s-mega-corporation-limited_5339.html',\n",
              " 'Adjudication order against M/s Stocknet International Limited in the matter of Stocknet International Limited': 'https://www.sebi.gov.in/enforcement/orders/mar-2009/adjudication-order-against-m-s-stocknet-international-limited-in-the-matter-of-stocknet-international-limited_5334.html',\n",
              " 'Adjudication order in respect of Shri C.K. Chaturvedi': 'https://www.sebi.gov.in/enforcement/orders/mar-2009/adjudication-order-in-respect-of-shri-c-k-chaturvedi_5332.html',\n",
              " 'Adjudication Order passed against Vivekanand Patankar in the matter of M/s. Mega Corporation Limited': 'https://www.sebi.gov.in/enforcement/orders/mar-2009/adjudication-order-passed-against-vivekanand-patankar-in-the-matter-of-m-s-mega-corporation-limited_5318.html',\n",
              " 'Order against M/s Action Financial services (India) Limited in the matter of M/s Fast Track Entertainment Limited': 'https://www.sebi.gov.in/enforcement/orders/mar-2009/order-against-m-s-action-financial-services-india-limited-in-the-matter-of-m-s-fast-track-entertainment-limited_5333.html',\n",
              " 'Adjudication order  against Bhankesh Bhavsar': 'https://www.sebi.gov.in/enforcement/orders/mar-2009/adjudication-order-against-bhankesh-bhavsar_5331.html',\n",
              " 'Adjudication order against Shri Prasad Tandel in the matter of Shree Yaxx Pharma and Cosmetics Limited': 'https://www.sebi.gov.in/enforcement/orders/mar-2009/adjudication-order-against-shri-prasad-tandel-in-the-matter-of-shree-yaxx-pharma-and-cosmetics-limited_5330.html',\n",
              " 'Adjudication Order in respect of Bharat Nagindas Lakhani in the matter of Matra Realty Limited': 'https://www.sebi.gov.in/enforcement/orders/mar-2009/adjudication-order-in-respect-of-bharat-nagindas-lakhani-in-the-matter-of-matra-realty-limited_5329.html',\n",
              " 'Adjudication order in respect of Rajesh M. Ranka in the matter of M/s Softrack Technology Exports Limited': 'https://www.sebi.gov.in/enforcement/orders/mar-2009/adjudication-order-in-respect-of-rajesh-m-ranka-in-the-matter-of-m-s-softrack-technology-exports-limited_5326.html',\n",
              " 'Adjudication Order in respect of S.K.Khemka in the matter of Brels Infotech Limited': 'https://www.sebi.gov.in/enforcement/orders/mar-2009/adjudication-order-in-respect-of-s-k-khemka-in-the-matter-of-brels-infotech-limited_5327.html',\n",
              " 'Adjudication Order in respect of Steel City Securities Ltd.': 'https://www.sebi.gov.in/enforcement/orders/mar-2009/adjudication-order-in-respect-of-steel-city-securities-ltd-_5324.html',\n",
              " 'Adjudication order  In respect of Shri. Vasant .C. Shah': 'https://www.sebi.gov.in/enforcement/orders/mar-2009/adjudication-order-in-respect-of-shri-vasant-c-shah_5322.html',\n",
              " 'Adjudication order against Anushree Tradelink  Private Limited': 'https://www.sebi.gov.in/enforcement/orders/mar-2009/adjudication-order-against-anushree-tradelink-private-limited_5323.html',\n",
              " 'Adjudication order Against Shri Ashish P Shah[SAT Appeal No.252/2017]': 'https://www.sebi.gov.in/enforcement/orders/mar-2009/adjudication-order-against-shri-ashish-p-shah_5316.html',\n",
              " 'Adjudication Order passed against Ganesh Raut in the matter of M/s. Mega  Corporation Limited': 'https://www.sebi.gov.in/enforcement/orders/mar-2009/adjudication-order-passed-against-ganesh-raut-in-the-matter-of-m-s-mega-corporation-limited_5319.html',\n",
              " 'Adjudicationi order in the matter of Swarnganga Trading Private Limited': 'https://www.sebi.gov.in/enforcement/orders/mar-2009/adjudicationi-order-in-the-matter-of-swarnganga-trading-private-limited_5321.html',\n",
              " 'Adjudication order Against Srijan Vyapar Private Limited': 'https://www.sebi.gov.in/enforcement/orders/mar-2009/adjudication-order-against-srijan-vyapar-private-limited_5315.html',\n",
              " 'Adjudication Order passed against Naidu Mohanbhai Narayanbhai in the matter of Karuna Cables Ltd144/2018]': 'https://www.sebi.gov.in/enforcement/orders/mar-2009/adjudication-order-passed-against-naidu-mohanbhai-narayanbhai-in-the-matter-of-karuna-cables-ltd_5314.html',\n",
              " 'Adjudication order in the matter of Anil D Modi': 'https://www.sebi.gov.in/enforcement/orders/mar-2009/adjudication-order-in-the-matter-of-anil-d-modi_5312.html',\n",
              " 'Adjudication Order in the matter of TLB Securities Pvt  Ltd': 'https://www.sebi.gov.in/enforcement/orders/mar-2009/adjudication-order-in-the-matter-of-tlb-securities-pvt-ltd_5311.html',\n",
              " 'Adjudication Order passed against Arwind Makwana in the matter of Karuna Cables Ltd142/2018][SAT Appeal No.:210/2018,[SAT Appeal No.:211/2018,[SAT Appeal No.:212/2018]': 'https://www.sebi.gov.in/enforcement/orders/mar-2009/adjudication-order-passed-against-arwind-makwana-in-the-matter-of-karuna-cables-ltd_5309.html',\n",
              " 'Adjudication Order passed against Prajapati Ganeshbhai Punamchand in the matter of Karuna Cables Ltd143/2018]': 'https://www.sebi.gov.in/enforcement/orders/mar-2009/adjudication-order-passed-against-prajapati-ganeshbhai-punamchand-in-the-matter-of-karuna-cables-ltd_5308.html',\n",
              " 'Adjudication Order in respect of Alok Jain in the matter of Matra Realty Limited': 'https://www.sebi.gov.in/enforcement/orders/mar-2009/adjudication-order-in-respect-of-alok-jain-in-the-matter-of-matra-realty-limited_5306.html',\n",
              " 'Adjudication Order in respect of Nimish Kantilal Unadkhat in the matter of Matra Realty Limited': 'https://www.sebi.gov.in/enforcement/orders/mar-2009/adjudication-order-in-respect-of-nimish-kantilal-unadkhat-in-the-matter-of-matra-realty-limited_5304.html',\n",
              " 'Order in respect of Dimensional Securities Pvt. Ltd': 'https://www.sebi.gov.in/enforcement/orders/mar-2009/order-in-respect-of-dimensional-securities-pvt-ltd_5302.html',\n",
              " 'Adjudication order in respect of Right Finstock Limited in the matter of Innovision E-Commerce Limited': 'https://www.sebi.gov.in/enforcement/orders/mar-2009/adjudication-order-in-respect-of-right-finstock-limited-in-the-matter-of-innovision-e-commerce-limited_5298.html',\n",
              " 'Order iIn respect of  Shri Jagadish Savaji in the Matter of Shalibhadra Infosec Ltd': 'https://www.sebi.gov.in/enforcement/orders/mar-2009/order-iin-respect-of-shri-jagadish-savaji-in-the-matter-of-shalibhadra-infosec-ltd_5300.html',\n",
              " 'Adjudication order in respect of Mr. Ashwani Kumar Mehra in the matter of  M/s Nageshwar Investment Limited': 'https://www.sebi.gov.in/enforcement/orders/mar-2009/adjudication-order-in-respect-of-mr-ashwani-kumar-mehra-in-the-matter-of-m-s-nageshwar-investment-limited_5296.html',\n",
              " 'Adjudication Order in the matter of MCS Ltd': 'https://www.sebi.gov.in/enforcement/orders/mar-2009/adjudication-order-in-the-matter-of-mcs-ltd_5295.html',\n",
              " 'Adjudication order In Respect Of Canara Bank': 'https://www.sebi.gov.in/enforcement/orders/feb-2009/adjudication-order-in-respect-of-canara-bank_5494.html',\n",
              " 'Adjudication order in the matter of Anushree Tradelink Private Limited': 'https://www.sebi.gov.in/enforcement/orders/feb-2009/adjudication-order-in-the-matter-of-anushree-tradelink-private-limited_5495.html',\n",
              " 'Adjudication order in the matter of Scope Vyapar Private Limited': 'https://www.sebi.gov.in/enforcement/orders/feb-2009/adjudication-order-in-the-matter-of-scope-vyapar-private-limited_5497.html',\n",
              " 'Adjudication order in the matter of Srijan Vyapar Private Limited': 'https://www.sebi.gov.in/enforcement/orders/feb-2009/adjudication-order-in-the-matter-of-srijan-vyapar-private-limited_5498.html',\n",
              " 'Adjudication order in the matter of Success Vyapar Private Limited': 'https://www.sebi.gov.in/enforcement/orders/feb-2009/adjudication-order-in-the-matter-of-success-vyapar-private-limited_5499.html',\n",
              " 'Adjudication order in the matter of Swarnganga Trading Private Limited': 'https://www.sebi.gov.in/enforcement/orders/feb-2009/adjudication-order-in-the-matter-of-swarnganga-trading-private-limited_5496.html',\n",
              " 'Adjudication Order against Jagatdal Jute and Industries Ltd. in the matter of Radiant Financial Services Ltd': 'https://www.sebi.gov.in/enforcement/orders/feb-2009/adjudication-order-against-jagatdal-jute-and-industries-ltd-in-the-matter-of-radiant-financial-services-ltd_5491.html',\n",
              " 'Adjudication Order against Mangalam Viniyog Pvt. Ltd. in the matter of Radiant Financial Services Ltd': 'https://www.sebi.gov.in/enforcement/orders/feb-2009/adjudication-order-against-mangalam-viniyog-pvt-ltd-in-the-matter-of-radiant-financial-services-ltd_5493.html',\n",
              " 'Adjudication Order against Shri Anurag Nopany in the matter of Radiant Financial Services Ltd': 'https://www.sebi.gov.in/enforcement/orders/feb-2009/adjudication-order-against-shri-anurag-nopany-in-the-matter-of-radiant-financial-services-ltd_5492.html',\n",
              " 'Adjudication order in the matter of Shelter Vyapar Private Limited': 'https://www.sebi.gov.in/enforcement/orders/feb-2009/adjudication-order-in-the-matter-of-shelter-vyapar-private-limited_5490.html',\n",
              " 'Adjudication order against Shri Surendra Kumar Kasera in the matter of SBEC Sugar Limited': 'https://www.sebi.gov.in/enforcement/orders/feb-2009/adjudication-order-against-shri-surendra-kumar-kasera-in-the-matter-of-sbec-sugar-limited_5488.html',\n",
              " 'Adjudication order against Shri Vinod Khetan in the matter of Adani Exports Limited': 'https://www.sebi.gov.in/enforcement/orders/feb-2009/adjudication-order-against-shri-vinod-khetan-in-the-matter-of-adani-exports-limited_5489.html',\n",
              " 'Adjudication Order in the matter of Indiabulls Securities Limited': 'https://www.sebi.gov.in/enforcement/orders/feb-2009/adjudication-order-in-the-matter-of-indiabulls-securities-limited_5487.html',\n",
              " 'Adjudication Orders against  Jagruti Parikh  in the matter of JIK Industries Limited': 'https://www.sebi.gov.in/enforcement/orders/feb-2009/adjudication-orders-against-jagruti-parikh-in-the-matter-of-jik-industries-limited_5485.html',\n",
              " 'Adjudication Orders against  Jagruti Securities Limited in the matter of JIK Industries Limited': 'https://www.sebi.gov.in/enforcement/orders/feb-2009/adjudication-orders-against-jagruti-securities-limited-in-the-matter-of-jik-industries-limited_5486.html',\n",
              " 'Adjudication Orders against Rajendra parikh,  in the matter of JIK Industries Limited': 'https://www.sebi.gov.in/enforcement/orders/feb-2009/adjudication-orders-against-rajendra-parikh-in-the-matter-of-jik-industries-limited_5484.html',\n",
              " 'Adjudication Order in respect of SNR Share and Stock Services': 'https://www.sebi.gov.in/enforcement/orders/feb-2009/adjudication-order-in-respect-of-snr-share-and-stock-services_5483.html',\n",
              " 'Adjudication Order against Ms. Arti Jain in the matter of M/s Fast Track Entertainment Limi': 'https://www.sebi.gov.in/enforcement/orders/feb-2009/adjudication-order-against-ms-arti-jain-in-the-matter-of-m-s-fast-track-entertainment-limi_5480.html',\n",
              " 'Adjudication Order against Shri Sailesh Jain in the matter of M/s Fast Track Entertainment Limited': 'https://www.sebi.gov.in/enforcement/orders/feb-2009/adjudication-order-against-shri-sailesh-jain-in-the-matter-of-m-s-fast-track-entertainment-limited_5481.html',\n",
              " 'Adjudication Order in respect of Angel Broking Ltd. in the matter of Channel Guide India Limited': 'https://www.sebi.gov.in/enforcement/orders/feb-2009/adjudication-order-in-respect-of-angel-broking-ltd-in-the-matter-of-channel-guide-india-limited_5482.html',\n",
              " 'Adjudication order in the matter of HB stockholdings Ltd and others': 'https://www.sebi.gov.in/enforcement/orders/feb-2009/adjudication-order-in-the-matter-of-hb-stockholdings-ltd-and-others_5466.html'}"
            ]
          },
          "metadata": {},
          "execution_count": 9
        }
      ]
    },
    {
      "cell_type": "code",
      "source": [
        "df = pd.DataFrame(list(dictionary.items()), columns=[\"Filename\", \"Link\"])\n",
        "\n",
        "# Save to CSV\n",
        "df.to_csv(\"Order-and-htmllink.csv\", index=False)"
      ],
      "metadata": {
        "id": "lAyqamlmlh3T"
      },
      "execution_count": 10,
      "outputs": []
    },
    {
      "cell_type": "code",
      "source": [
        "#removing key value pairs with \"Home\", \"Enforcement\", \"PAY NOW\"\n",
        "keys_to_remove = [\"Home\", \"Enforcement\", \"PAY NOW\"]\n",
        "\n",
        "for key in keys_to_remove:\n",
        "    if key in dictionary:\n",
        "        del dictionary[key]\n"
      ],
      "metadata": {
        "id": "Qdq8BKayOyjp"
      },
      "execution_count": 11,
      "outputs": []
    },
    {
      "cell_type": "code",
      "source": [
        "#links to extarct html and iframe to extract pdf ids\n",
        "dictionary_pdf_links={}\n",
        "def extract_pdf_url(sebi_html_url):\n",
        "    response = requests.get(sebi_html_url)\n",
        "\n",
        "    if response.status_code == 200:\n",
        "        soup = BeautifulSoup(response.text, \"html.parser\")\n",
        "        iframe_tag = soup.find(\"iframe\")\n",
        "        if iframe_tag:\n",
        "            raw_src = iframe_tag.get(\"src\")\n",
        "            full_src_url = urljoin(sebi_html_url, raw_src)\n",
        "            if re.search(r'attachdocs/\\d+\\.pdf', full_src_url):\n",
        "                return full_src_url\n",
        "    return None"
      ],
      "metadata": {
        "id": "1vhSCC1QO0-R"
      },
      "execution_count": 12,
      "outputs": []
    },
    {
      "cell_type": "code",
      "source": [
        "#Extracting pdf links\n",
        "for i in dictionary.keys():\n",
        "  dictionary_pdf_links[i]=extract_pdf_url(dictionary[i])"
      ],
      "metadata": {
        "id": "S7g4Z03HO-D7"
      },
      "execution_count": 13,
      "outputs": []
    },
    {
      "cell_type": "code",
      "source": [
        "dictionary_pdf_links"
      ],
      "metadata": {
        "colab": {
          "base_uri": "https://localhost:8080/"
        },
        "collapsed": true,
        "id": "kcEmGnnlP6bd",
        "outputId": "df5f1665-b049-4400-999b-e5d973054e5a"
      },
      "execution_count": 14,
      "outputs": [
        {
          "output_type": "execute_result",
          "data": {
            "text/plain": [
              "{'Adjudication order in respect of Ahilya Commercial Pvt. Ltd. in the matter of Brahmanand Himghar Ltd': 'https://www.sebi.gov.in/web/?file=/sebi_data/attachdocs/1289815415212.pdf',\n",
              " 'Adjudication order in respect of Mintage Electro Equipments Ltd': 'https://www.sebi.gov.in/web/?file=/sebi_data/attachdocs/1289815360615.pdf',\n",
              " 'Adjudication Order against Shri Prasad Tandel in the matter of M/s Fast Track Entertainment Limited': 'https://www.sebi.gov.in/web/?file=/sebi_data/attachdocs/1289815248742.pdf',\n",
              " 'Adjudication order in respect of Clock Sign Trading Co. Pvt. Ltd. in the matter of Global Capital Markets Ltd': 'https://www.sebi.gov.in/web/?file=/sebi_data/attachdocs/1289815094559.pdf',\n",
              " 'Adjudication order In respect of Eupharma Laboratories Limited': 'https://www.sebi.gov.in/web/?file=/sebi_data/attachdocs/1289815202611.pdf',\n",
              " 'Adjudication Order in respect of Deepak B Desai in the matter of Gujarat Ambuja Export Limited': 'https://www.sebi.gov.in/web/?file=/sebi_data/attachdocs/1289815047056.pdf',\n",
              " 'Adjudication Order in respect of Inventure Growth and Securities Limited in the matter of Gujarat Ambuja Export Limited': 'https://www.sebi.gov.in/web/?file=/sebi_data/attachdocs/1289814984549.pdf',\n",
              " 'Adjudication Order passed against Santosh Narvekar in the matter of M/s. Mega Corporation Limited': 'https://www.sebi.gov.in/web/?file=/sebi_data/attachdocs/1289814868542.pdf',\n",
              " 'Adjudication Order passed against Vijay Suryavanshi in the matter of M/s. Mega Corporation Limited[SAT Appeal No.:74/2020 & Misc. App. No. 91/2020]': 'https://www.sebi.gov.in/web/?file=https://www.sebi.gov.in/sebi_data/attachdocs/1289814922566.pdf',\n",
              " 'Adjudication Order passed against Ajit Suryavanshi in the matter of Mega Corporation Limited': 'https://www.sebi.gov.in/web/?file=/sebi_data/attachdocs/1289814751579.pdf',\n",
              " 'Adjudication Order passed against M/s. Ramaben Samani Finance Ltd in the matter of M/s. Zigma Software Ltd': 'https://www.sebi.gov.in/web/?file=/sebi_data/attachdocs/1289814821760.pdf',\n",
              " 'Adjudication Order passed against Mr. Gaurav Raimalani in the matter of Karuna Cables Ltd': 'https://www.sebi.gov.in/web/?file=/sebi_data/attachdocs/1289814688904.pdf',\n",
              " 'Adjudication Order passed against Mr. Murlidhar Raimalani in the matter of Karuna Cables Ltd': 'https://www.sebi.gov.in/web/?file=/sebi_data/attachdocs/1289814628915.pdf',\n",
              " 'Adjudication Order passed against Ms. Kanchan Raimalani in the matter of Karuna Cables Ltd': 'https://www.sebi.gov.in/web/?file=/sebi_data/attachdocs/1289814584140.pdf',\n",
              " 'Adjudication Order passed against Ms. Neelam Raimalani in the matter of Karuna Cables Ltd': 'https://www.sebi.gov.in/web/?file=/sebi_data/attachdocs/1289814546038.pdf',\n",
              " 'Adjudication Order passed against Ms. Susheeladevi Raimalani in the matter of Karuna Cables Ltd': 'https://www.sebi.gov.in/web/?file=/sebi_data/attachdocs/1289814491952.pdf',\n",
              " 'Adjudication order in respect of Mukesh Dokania & Co. in the matter of Minolta Finance Ltd': 'https://www.sebi.gov.in/web/?file=/sebi_data/attachdocs/1293527025933.pdf',\n",
              " 'Adjudication Order against Gama Commerce Pvt. Ltd. in the matter of Amluckie Investment Company Limited.': 'https://www.sebi.gov.in/web/?file=/sebi_data/attachdocs/1289814217433.pdf',\n",
              " 'Adjudication order in respect of Ahilya Commercial Pvt. Ltd. in the matter of Minolta Finance Ltd': 'https://www.sebi.gov.in/web/?file=/sebi_data/attachdocs/1289814411160.pdf',\n",
              " 'Adjudication order in respect of Basant Periwal & Co. in the matter of Minolta Finance Ltd': 'https://www.sebi.gov.in/web/?file=/sebi_data/attachdocs/1289814278574.pdf',\n",
              " 'Adjudication order in respect of Rajendra Prasad Shah in the matter of Minolta Finance Ltd': 'https://www.sebi.gov.in/web/?file=/sebi_data/attachdocs/1289814338125.pdf',\n",
              " 'Adjudication order in respect of Shri Ballabh Dass Daga in the matter of Minolta Finance Ltd': 'https://www.sebi.gov.in/web/?file=/sebi_data/attachdocs/1289814178717.pdf',\n",
              " 'Adjudicating Order against Mr. Ranjan Verghese and other promoters/PACs in the matter of Vertex Securities Pvt. Ltd': 'https://www.sebi.gov.in/web/?file=/sebi_data/attachdocs/1289890492353.pdf',\n",
              " 'Adjudication order in respect of M/s Anushree Tradelink (P) Ltd. in the matter of Nageshwar Investment Ltd': 'https://www.sebi.gov.in/web/?file=/sebi_data/attachdocs/1289813962040.pdf',\n",
              " 'Adjudication order in respect of M/s Millennium Insurance Agent (P) Ltd. in the matter of Nageshwar Investment Ltd': 'https://www.sebi.gov.in/web/?file=/sebi_data/attachdocs/1289813930809.pdf',\n",
              " 'Adjudication order in respect of M/s Shriram Insight Share Brokers Ltd. in the matter of M/s Shriram Insight Share Brokers Ltd': 'https://www.sebi.gov.in/web/?file=/sebi_data/attachdocs/1289814006394.pdf',\n",
              " 'Adjudication order in respect of M/s Swarn Ganga Trading (P) Ltd. in the matter of Nageshwar Investment Ltd.': 'https://www.sebi.gov.in/web/?file=/sebi_data/attachdocs/1289814077189.pdf',\n",
              " 'Adjudication Order in respect of Prakash Nahata and  Co. in the matter of Cyber Family. Com Limited': 'https://www.sebi.gov.in/web/?file=/sebi_data/attachdocs/1289813887062.pdf',\n",
              " 'Adjudication Order in respect of Bimex Exports Private Limited in the matter of Cyber Family. Com Limited': 'https://www.sebi.gov.in/web/?file=/sebi_data/attachdocs/1289813848134.pdf',\n",
              " 'Adjudication Order in respect of Deepraj Vinimay Private Limited in the matter of Cyber Family. Com Limited': 'https://www.sebi.gov.in/web/?file=/sebi_data/attachdocs/1289813771998.pdf',\n",
              " 'Adjudication Order in respect of M/s Ramakant Sales and  Services (P) Ltd. in the matter of Cyber Family. Com Limited': 'https://www.sebi.gov.in/web/?file=/sebi_data/attachdocs/1289813739368.pdf',\n",
              " 'Adjudication Order in respect of Sarash Trading Private Limited in the matter of Cyber Family. Com Limited': 'https://www.sebi.gov.in/web/?file=/sebi_data/attachdocs/1289813808613.pdf',\n",
              " 'Adjudication Order against Galaxy Broking Ltd. in the matter of K Sera Sera Productions Ltd': 'https://www.sebi.gov.in/web/?file=/sebi_data/attachdocs/1289890554023.pdf',\n",
              " 'Adjudication Order against Triumph International Finance India Ltd. in the matter of Adani Exports Ltd': 'https://www.sebi.gov.in/web/?file=/sebi_data/attachdocs/1289890527186.pdf',\n",
              " 'Adjudication Order against Baij Krishna and  Co. in the matter of Toplight Commercial Limited': 'https://www.sebi.gov.in/web/?file=/sebi_data/attachdocs/1289890458400.pdf',\n",
              " 'Adjudication Order against Hem Kanak Mercantile Pvt. Ltd. in the matter of Jindal Drilling and Industries Ltd': 'https://www.sebi.gov.in/web/?file=/sebi_data/attachdocs/1289890359162.pdf',\n",
              " 'Adjudication Order against Ms. Premlata Nathany in the matter of Toplight Commercial Limited': 'https://www.sebi.gov.in/web/?file=/sebi_data/attachdocs/1289890423805.pdf',\n",
              " 'Adjudication Order against Shri Ramkrishna Dudwawala in the matter of Toplight Commercial Limited': 'https://www.sebi.gov.in/web/?file=/sebi_data/attachdocs/1289890392488.pdf',\n",
              " 'Adjudication Order against M/s Vijay Bhagwandas and  Co. in the matter of M/s Karuna Cable Limited': 'https://www.sebi.gov.in/web/?file=/sebi_data/attachdocs/1289890327524.pdf',\n",
              " 'Adjudication Order against Shri Jitendra Bharambe in the matter of M/s Fast Track Entertainment Limited': 'https://www.sebi.gov.in/web/?file=/sebi_data/attachdocs/1289890293121.pdf',\n",
              " 'Adjudication Order against M/s Rajesh Panchal in the matter of M/s Fast Track Entertainment Limited': 'https://www.sebi.gov.in/web/?file=/sebi_data/attachdocs/1289890258122.pdf',\n",
              " 'Adjudication order against OC Oerlikon Corporation AG, Pfaffikon and W. Reiners Verwaltungs GmbH': 'https://www.sebi.gov.in/web/?file=/sebi_data/attachdocs/1289890218307.pdf',\n",
              " 'Adjudication order against Satya Securities Ltd. and Basant Marketing pvt. Ltd. in the matter of Granules India Ltd': 'https://www.sebi.gov.in/web/?file=/sebi_data/attachdocs/1289890154420.pdf',\n",
              " 'Adjudication order passed against Jayesh Waghela in the matter of M/s. Mega Corporation Limited': 'https://www.sebi.gov.in/web/?file=/sebi_data/attachdocs/1289890187128.pdf',\n",
              " 'Adjudication order passed against Umesh Choukekar in the matter of M/s. Mega Corporation Limited': 'https://www.sebi.gov.in/web/?file=/sebi_data/attachdocs/1289890123357.pdf',\n",
              " 'Adjudication Order passed against Dattu Shitole in the matter of M/s. Mega Corporation Limited': 'https://www.sebi.gov.in/web/?file=/sebi_data/attachdocs/1289890083361.pdf',\n",
              " 'Adjudication Order against M/s Abhinandan Fintex Pvt. Ltd. in the matter of M/s Bacchhat Investment and Finance Limited': 'https://www.sebi.gov.in/web/?file=/sebi_data/attachdocs/1289890039979.pdf',\n",
              " 'Adjudication order against Mr. Bipin Shah in the matter of Karuna Cables Ltd[SAT Appeal No.:200/2016][SAT Appeal No.:198/2016]': 'https://www.sebi.gov.in/web/?file=/sebi_data/attachdocs/1289890012013.pdf',\n",
              " 'Adjudication order against Ms. Bhavana Bipin Shah in the matter of Karuna Cables Ltd[SAT Appeal No.:199/2016][SAT Appeal No.:197/2016]': 'https://www.sebi.gov.in/web/?file=/sebi_data/attachdocs/1289889980177.pdf',\n",
              " 'Adjudication Order in respect of Naman Securities and Finance Pvt. Ltd. in the matter of Adani Exports Ltd': 'https://www.sebi.gov.in/web/?file=/sebi_data/attachdocs/1289889952463.pdf',\n",
              " 'Adjudication order of Rishabh Stock Broking Services Pvt. Ltd': 'https://www.sebi.gov.in/web/?file=/sebi_data/attachdocs/1289889922928.pdf',\n",
              " 'Adjudication Order  against M/s. Mansukh Securities and Finance Limited': 'https://www.sebi.gov.in/web/?file=/sebi_data/attachdocs/1289889892159.pdf',\n",
              " 'Adjudication order in respect of Late Mrs. Putal Kavar': 'https://www.sebi.gov.in/web/?file=/sebi_data/attachdocs/1289889859839.pdf',\n",
              " 'Adjudication Order in respect of P. K. Agarwal and Co in the matter of Cyber Family. Com Limited': 'https://www.sebi.gov.in/web/?file=/sebi_data/attachdocs/1289889824562.pdf',\n",
              " 'Order against Celica Developers Private Limited': 'https://www.sebi.gov.in/web/?file=/sebi_data/attachdocs/1289889787724.pdf',\n",
              " 'Adjudication order in respect of Jyotsenaben M Shah': 'https://www.sebi.gov.in/web/?file=/sebi_data/attachdocs/1289889709795.pdf',\n",
              " 'Adjudication Order in respect of M/s. India Infoline Ltd. in the matter of GHCL Ltd': 'https://www.sebi.gov.in/web/?file=/sebi_data/attachdocs/1289889748983.pdf',\n",
              " 'Adjudication order in respect of M/s Alpha Hi Tech Fuel Limited in the matter of M/s Alpha Hi Tech Fuel Limited': 'https://www.sebi.gov.in/web/?file=/sebi_data/attachdocs/1289889674428.pdf',\n",
              " 'Adjudication order of  Murari lal Goenka in the matter of BSR Finance and Construction Ltd': 'https://www.sebi.gov.in/web/?file=/sebi_data/attachdocs/1289889566240.pdf',\n",
              " 'Adjudication order of Prakash Nahata in the matter of BSR Finance and Construction Ltd': 'https://www.sebi.gov.in/web/?file=/sebi_data/attachdocs/1289889535619.pdf',\n",
              " 'Adjudication order of Rajrathan Financial Services Ltd': 'https://www.sebi.gov.in/web/?file=/sebi_data/attachdocs/1289889499838.pdf',\n",
              " 'Adjudication order of Sanju Kabra in the matter of BSR Finance and Construction Ltd': 'https://www.sebi.gov.in/web/?file=/sebi_data/attachdocs/1289889605658.pdf',\n",
              " 'Adjudication order of Shadilal Chopra in the matter of Atlanta Ltd': 'https://www.sebi.gov.in/web/?file=/sebi_data/attachdocs/1289889643574.pdf',\n",
              " 'Adjudication Order in respect of Alpa Haren Shah in the matter of Alpha Hi Tech Fuel Limited': 'https://www.sebi.gov.in/web/?file=/sebi_data/attachdocs/1289889309818.pdf',\n",
              " 'Adjudication Order in respect of Bhanuben Jaisukhlal Shah in the matter of Alpha Hi Tech Fuel Limited': 'https://www.sebi.gov.in/web/?file=/sebi_data/attachdocs/1289889269859.pdf',\n",
              " 'Adjudication order in the matter of Coromadal Fertilizers Ltd. against Bhagwandas Agarwal': 'https://www.sebi.gov.in/web/?file=/sebi_data/attachdocs/1289889465637.pdf',\n",
              " 'Adjudication order in the matter of Coromadal Fertilizers Ltd. against Gopal Kumar Agarwal': 'https://www.sebi.gov.in/web/?file=/sebi_data/attachdocs/1289889351509.pdf',\n",
              " 'Adjudication order in the matter of Coromadal Fertilizers Ltd. against K.Venkatraman[SAT Appeal No.:12/2021 & Misc. App. No. 78/2021]': 'https://www.sebi.gov.in/web/?file=https://www.sebi.gov.in/sebi_data/attachdocs/1289889393896.pdf',\n",
              " 'Adjudication order in the matter of Coromadal Fertilizers Ltd. against Shankar Aggarwal': 'https://www.sebi.gov.in/web/?file=/sebi_data/attachdocs/1289889433788.pdf',\n",
              " 'Adjudication order in the matter of Karuna Cables Ltd. against Adolf Pinto': 'https://www.sebi.gov.in/web/?file=/sebi_data/attachdocs/1289889235388.pdf',\n",
              " 'Adjudication Order against Ms. Gillian Pinto in the matter of K Sera Sera Production Ltd': 'https://www.sebi.gov.in/web/?file=/sebi_data/attachdocs/1289889117497.pdf',\n",
              " 'Adjudication Order against Shri Adolf Pinto in the matter of K Sera Sera Production Ltd': 'https://www.sebi.gov.in/web/?file=/sebi_data/attachdocs/1289889193155.pdf',\n",
              " 'Adjudication Order aginst Shri Kenneth Pinto in the matter of K Sera Sera Production Ltd': 'https://www.sebi.gov.in/web/?file=/sebi_data/attachdocs/1289889160009.pdf',\n",
              " 'Adjudication order in the matter of Karuna Cables against  Harikishan Hiralal': 'https://www.sebi.gov.in/web/?file=/sebi_data/attachdocs/1289888969869.pdf',\n",
              " 'Adjudication order in the matter of Karuna Cables against  Sanchay Fincom Ltd': 'https://www.sebi.gov.in/web/?file=/sebi_data/attachdocs/1289889035580.pdf',\n",
              " 'Adjudication order in the matter of Karuna Cables against Penninsular Capital Market Ltd': 'https://www.sebi.gov.in/web/?file=/sebi_data/attachdocs/1289889004344.pdf',\n",
              " 'Order against Shri Dhaval Jhaveri in the mater of investigations in the scrip M/s Blue Information Technology Ltd': 'https://www.sebi.gov.in/web/?file=/sebi_data/attachdocs/1289889072804.pdf',\n",
              " 'Adjudication Order in respect of Cyber Family.Com Limited in the matter of Cyber Family. Com Limited': 'https://www.sebi.gov.in/web/?file=/sebi_data/attachdocs/1289888777772.pdf',\n",
              " 'Adjudication Order in respect of Pramod Kumar Kothari in the matter of Cyber Family. Com Limited': 'https://www.sebi.gov.in/web/?file=/sebi_data/attachdocs/1289888737853.pdf',\n",
              " 'Adjudication Order in respect of Sanchay Fincom Limited in the matter of Adani Exports Ltd': 'https://www.sebi.gov.in/web/?file=/sebi_data/attachdocs/1289888931949.pdf',\n",
              " 'Adjudication Order in respect of Sanchay Finvest Limited in the matter of Adani Exports Ltd': 'https://www.sebi.gov.in/web/?file=/sebi_data/attachdocs/1289888812937.pdf',\n",
              " 'Adjudication order in the matter of Karuna Cables against Vijaykumar J. Thakkar': 'https://www.sebi.gov.in/web/?file=/sebi_data/attachdocs/1289888694936.pdf',\n",
              " 'Adjudication Order in respect of M/s. E Stocks Inc in the matter of Adani Exports Ltd': 'https://www.sebi.gov.in/web/?file=/sebi_data/attachdocs/1289888649979.pdf',\n",
              " 'Adjudication Orders in the matter of Karuna Cables against  S.P. Jain Securities Pvt. Ltd.': 'https://www.sebi.gov.in/web/?file=/sebi_data/attachdocs/1289888582718.pdf',\n",
              " 'Adjudication Orders in the matter of Karuna Cables against Galaxy Broking Ltd': 'https://www.sebi.gov.in/web/?file=/sebi_data/attachdocs/1289888614224.pdf',\n",
              " 'Adjudication order in respecst of Mafatlal K. Bhansali in the matter of Nissan Copper Ltd': 'https://www.sebi.gov.in/web/?file=/sebi_data/attachdocs/1289904834169.pdf',\n",
              " 'Adjudication order in respect of Babiben Bhansali in the matter of Nissan Copper Ltd': 'https://www.sebi.gov.in/web/?file=/sebi_data/attachdocs/1289904933628.pdf',\n",
              " 'Adjudication order in respect of Beenaben Bhansali in the matter of Nissan Copper Ltd': 'https://www.sebi.gov.in/web/?file=/sebi_data/attachdocs/1289904904842.pdf',\n",
              " 'Adjudication order in respect of Fairy Vishal Bhansali in the matter of Nissan Copper Ltd': 'https://www.sebi.gov.in/web/?file=/sebi_data/attachdocs/1289904868598.pdf',\n",
              " 'Adjudication order in respect of Jyotshna Bhansali in the matter of Nissan Copper Ltd': 'https://www.sebi.gov.in/web/?file=/sebi_data/attachdocs/1289904778957.pdf',\n",
              " 'Adjudication order in respect of Navya Bhansali in the matter of Nissan Copper Ltd': 'https://www.sebi.gov.in/web/?file=/sebi_data/attachdocs/1289904806818.pdf',\n",
              " 'Adjudication order in respect of Piyush M. Bhansali in the matter of Nissan Copper Ltd': 'https://www.sebi.gov.in/web/?file=/sebi_data/attachdocs/1289904697916.pdf',\n",
              " 'Adjudication order in respect of Puja Piyushkumar Bhansali in the matter of Nissan Copper Ltd': 'https://www.sebi.gov.in/web/?file=/sebi_data/attachdocs/1289904628590.pdf',\n",
              " 'Adjudication order in respect of Purviben Bhansali in the matter of Nissan Copper Ltd': 'https://www.sebi.gov.in/web/?file=/sebi_data/attachdocs/1289904593003.pdf',\n",
              " 'Adjudication order in respect of Raj P. Bhansali in the matter of Nissan Copper Ltd': 'https://www.sebi.gov.in/web/?file=/sebi_data/attachdocs/1289904562263.pdf',\n",
              " 'Adjudication order in respect of Rajnikant Bhansali in the matter of Nissan Copper Ltd - HUF': 'https://www.sebi.gov.in/web/?file=/sebi_data/attachdocs/1289904460224.pdf',\n",
              " 'Adjudication order in respect of Rajnikant M. Bhansali in the matter of Nissan Copper Ltd': 'https://www.sebi.gov.in/web/?file=/sebi_data/attachdocs/1289904421581.pdf',\n",
              " 'Adjudication order in respect of Riki R.Bhansali in the matter of Nissan Copper Ltd': 'https://www.sebi.gov.in/web/?file=/sebi_data/attachdocs/1289904380949.pdf',\n",
              " 'Adjudication order in respect of Vishal R. Bhansali in the matter of Nissan Copper Ltd': 'https://www.sebi.gov.in/web/?file=/sebi_data/attachdocs/1289904491895.pdf',\n",
              " 'Adjudication order in respect of Yesha P. Bhansali in the matter of Nissan Copper Ltd': 'https://www.sebi.gov.in/web/?file=/sebi_data/attachdocs/1289904669324.pdf',\n",
              " 'Adjudication order in respect of Yogesh M. Bhansali in the matter of Nissan Copper Ltd': 'https://www.sebi.gov.in/web/?file=/sebi_data/attachdocs/1289904726330.pdf',\n",
              " 'Adjudication order in respect of Yogesh Mafatlal Bhansali in the matter of Nissan Copper Limited': 'https://www.sebi.gov.in/web/?file=/sebi_data/attachdocs/1289904287472.pdf',\n",
              " 'Adjudication order of Varun Y. Bhansali in the matter of Nissan Copper Ltd': 'https://www.sebi.gov.in/web/?file=/sebi_data/attachdocs/1289904317872.pdf',\n",
              " 'Adjudication orderin respect  of Piyush Bhansali in the matter of Nissan Copper Ltd': 'https://www.sebi.gov.in/web/?file=/sebi_data/attachdocs/1289904753564.pdf',\n",
              " 'Adjudication order against Vision Technology India Ltd': 'https://www.sebi.gov.in/web/?file=/sebi_data/attachdocs/1289904250639.pdf',\n",
              " 'Adjudication Order in respect of Shri Sushil Kumar Patodia in the matter of Lumax Ind. Ltd and Crew BOS Ind. Ltd': 'https://www.sebi.gov.in/web/?file=/sebi_data/attachdocs/1289904149621.pdf',\n",
              " 'Adjudication Order in the matter of Shri Suresh Bharrat': 'https://www.sebi.gov.in/web/?file=/sebi_data/attachdocs/1289904185005.pdf',\n",
              " 'Adjudication Order against Jitendra Harjivandas Securities Pvt. Ltd. in the matter of Shukun Construction Ltd': 'https://www.sebi.gov.in/web/?file=/sebi_data/attachdocs/1289904035820.pdf',\n",
              " 'Adjudication Order against Kankeshwari Securities in the matter of Shukun Construction Ltd': 'https://www.sebi.gov.in/web/?file=/sebi_data/attachdocs/1289904004849.pdf',\n",
              " 'Adjudication order in respect of P J Chaudhary': 'https://www.sebi.gov.in/web/?file=/sebi_data/attachdocs/1289904104296.pdf',\n",
              " 'Adjudication Order in respect of Shri Suresh K Shukla in the matter of M/s Ojas Technochem Products Limited': 'https://www.sebi.gov.in/web/?file=/sebi_data/attachdocs/1289904068593.pdf',\n",
              " 'Adjudication Order against M/s Ramaben Samani Finance Pvt. Ltd in the matter of M/s Veronica Laboratories Ltd': 'https://www.sebi.gov.in/web/?file=/sebi_data/attachdocs/1289903853319.pdf',\n",
              " 'Adjudication order in respect of Shri Laxman Bhai Patel in the mater of M/s Kwality Dairy (India) Ltd': 'https://www.sebi.gov.in/web/?file=/sebi_data/attachdocs/1289903907537.pdf',\n",
              " 'Adjudication Order in the matter of Angel Capital and  Debt Market Limited': 'https://www.sebi.gov.in/web/?file=/sebi_data/attachdocs/1289903808599.pdf',\n",
              " 'Adjudication Order in the matter of Steel City Securities Limited': 'https://www.sebi.gov.in/web/?file=/sebi_data/attachdocs/1289903774949.pdf',\n",
              " 'Adjudication Order in Uttam Financial Service Ltd.  - Now known as Manshukh Stock Brokers Ltd': 'https://www.sebi.gov.in/web/?file=/sebi_data/attachdocs/1289903966490.pdf',\n",
              " 'Adjudication Order in respect of Manhattan Fingrowth Limited in the matter of Motorol Speciality Oils Limited': 'https://www.sebi.gov.in/web/?file=/sebi_data/attachdocs/1289903641088.pdf',\n",
              " 'Adjudication order in the matter of JYSKE Invest Fund Managemnt A/S': 'https://www.sebi.gov.in/web/?file=/sebi_data/attachdocs/1289903687754.pdf',\n",
              " 'Order against Shri Abhishek Khare in the mater of investigations in the scrip M/s Kwality Dairy (India) Ltd': 'https://www.sebi.gov.in/web/?file=/sebi_data/attachdocs/1289903737767.pdf',\n",
              " 'Adjudication Order in respect of Shri Parshwa Finance (Proprietor: Piyush Jhaveri) in the matter of Havells India Ltd': 'https://www.sebi.gov.in/web/?file=/sebi_data/attachdocs/1289903512315.pdf',\n",
              " 'Adjudication Order in respect of Steel City Capital Services (P) Ltd. in the matter of Recron Synthetics Limited': 'https://www.sebi.gov.in/web/?file=/sebi_data/attachdocs/1289903591683.pdf',\n",
              " 'Adjudication order passed against Haresh R Posnak in the matter of M/s. Mega Corporation Limited': 'https://www.sebi.gov.in/web/?file=/sebi_data/attachdocs/1289903558001.pdf',\n",
              " 'Order against M/s Anushree Tradelink Pvt. Ltd. in the matter of M/s Bacchhat Investment  and Finance Limited': 'https://www.sebi.gov.in/web/?file=/sebi_data/attachdocs/1289903469909.pdf',\n",
              " 'Adjudication Order in respect of Hindustan Tea & Trading Co. Ltd. in the matter of Orion Paper and Industries Ltd': 'https://www.sebi.gov.in/web/?file=/sebi_data/attachdocs/1289903396820.pdf',\n",
              " 'Adjudication order in respect of Mr. Anil Nibber': 'https://www.sebi.gov.in/web/?file=/sebi_data/attachdocs/1289903305552.pdf',\n",
              " 'Adjudication order in respect of Mr. Atul Nibber': 'https://www.sebi.gov.in/web/?file=/sebi_data/attachdocs/1289903262389.pdf',\n",
              " 'Adjudication order in respect of Mr. Kashmir Chand': 'https://www.sebi.gov.in/web/?file=/sebi_data/attachdocs/1289903222602.pdf',\n",
              " 'Adjudication order of Shri V. K. Padmanabhan in the matter of Rishab Financial Services Limited (Formerly Madan Financial Services Ltd': 'https://www.sebi.gov.in/web/?file=/sebi_data/attachdocs/1289903433808.pdf',\n",
              " 'Adjudication Order in respect of FMS Securities Limited in the matter of Havells India Ltd': 'https://www.sebi.gov.in/web/?file=/sebi_data/attachdocs/1289903156429.pdf',\n",
              " 'Adjudication Order in respect of Roopa S Shah in the matter of Motorol Speciality Oils Limited': 'https://www.sebi.gov.in/web/?file=/sebi_data/attachdocs/1289903189877.pdf',\n",
              " 'Adjudication order in respect of Shri Murarilal Goenka in the matter of Richfield Financial Services Ltd': 'https://www.sebi.gov.in/web/?file=/sebi_data/attachdocs/1289903071941.pdf',\n",
              " 'Adjudication order in respect of Shri N.M. Lohia in the matter of Richfield Financial Services Ltd': 'https://www.sebi.gov.in/web/?file=/sebi_data/attachdocs/1289903113985.pdf',\n",
              " 'Adjudication Order in respect of Roopshri Finvest Private Limited in the matter of Motorol Speciality Oils Limited': 'https://www.sebi.gov.in/web/?file=/sebi_data/attachdocs/1289903035104.pdf',\n",
              " 'Adjudication order in respect of M/s Poona Industrial and Finance (P) Ltd. in the matter of M/s Bilcare Ltd': 'https://www.sebi.gov.in/web/?file=/sebi_data/attachdocs/1289902985909.pdf',\n",
              " 'Adjudication Order in respect of Mr. Sunil Giridharilal Raheja in the matter of Self/Synchronized Trades in 12 Scrips': 'https://www.sebi.gov.in/web/?file=/sebi_data/attachdocs/1289902952426.pdf',\n",
              " 'Adjudication Order in respect of Mrs. Simran Sunil Raheja in the matter of Self/Synchronized Trades in 12 Scrips': 'https://www.sebi.gov.in/web/?file=/sebi_data/attachdocs/1289902916296.pdf',\n",
              " 'Adjudication Order against M/s Poorva Trexim Pvt. Ltd. in the matter of M/s Bacchhat Investment and Finance Limited': 'https://www.sebi.gov.in/web/?file=/sebi_data/attachdocs/1289902882144.pdf',\n",
              " 'Adjudication order in respect of Pani Kawar in the matter of Rishab Financial Services Ltd. - Formerly Madan Financial Services Ltd': 'https://www.sebi.gov.in/web/?file=/sebi_data/attachdocs/1289902851004.pdf',\n",
              " 'Adjudication Order passed against Vijay Suryavanshi in the matter of M/s. Mega Corporation Limited[SAT Appeal No.:73/2020 & Misc. App. No. 90/2020]': 'https://www.sebi.gov.in/web/?file=https://www.sebi.gov.in/sebi_data/attachdocs/1289902819839.pdf',\n",
              " 'Adjudication Order in respect of M/s Marino Fresh Foods Industries Limited in the matter of Sarang Viniyog Limited': 'https://www.sebi.gov.in/web/?file=/sebi_data/attachdocs/1289902649857.pdf',\n",
              " 'Adjudication order in respect of Naba Kumar Pal, Director, M/s Tricon Business Pvt Ltd  in the matter of Nageshwar Investment Ltd.': 'https://www.sebi.gov.in/web/?file=/sebi_data/attachdocs/1289902686241.pdf',\n",
              " 'Adjudication order in respect of Ram Chandra Singh, Director, M/s Delton Exim Private  Limited in the matter of Nageshwar Investment Ltd.': 'https://www.sebi.gov.in/web/?file=/sebi_data/attachdocs/1289902724433.pdf',\n",
              " 'Adjudication order in respect of Ram Chandra Singh, Director, M/s Gateway Computers  Private Limited in the matter of Nageshwar Investment Ltd': 'https://www.sebi.gov.in/web/?file=/sebi_data/attachdocs/1289902756532.pdf',\n",
              " 'Adjudication Order in respect of Sarang Viniyog Limited in the matter of Sarang Viniyog Limited': 'https://www.sebi.gov.in/web/?file=/sebi_data/attachdocs/1289902605355.pdf',\n",
              " 'Adjudication order of Rupesh H. Shah in the matter of Oasis Media Matrix Ltd': 'https://www.sebi.gov.in/web/?file=/sebi_data/attachdocs/1289902786198.pdf',\n",
              " 'Adjudication Order in respect of B.N.Das in the matter of Sarang Viniyog Limited': 'https://www.sebi.gov.in/web/?file=/sebi_data/attachdocs/1289902484006.pdf',\n",
              " 'Adjudication Order in respect of M/S. Anand Rathi Share and Stock Brokers Limited - formerly known as M/S. Navratan Capital and Securities Pvt. Ltd': 'https://www.sebi.gov.in/web/?file=/sebi_data/attachdocs/1289902549931.pdf',\n",
              " 'In the Adjudication Proceedings against V.G. Capital Markets Limited in the matter of Hitech Gears and Munjal Showa Limited': 'https://www.sebi.gov.in/web/?file=/sebi_data/attachdocs/1290064125422.pdf',\n",
              " 'Adjudication order in the matter of Prudential ICICI Mutual Fund': 'https://www.sebi.gov.in/web/?file=/sebi_data/attachdocs/1290064090231.pdf',\n",
              " 'Adjudication order in the matter of Vatsa Music Ltd': 'https://www.sebi.gov.in/web/?file=/sebi_data/attachdocs/1290064060723.pdf',\n",
              " 'Adjudication proceedings against Sun TV  Network Limited': 'https://www.sebi.gov.in/web/?file=/sebi_data/attachdocs/1290064023453.pdf',\n",
              " 'Adjudication order in respect of Mr. Brij Khanna in the matter of Blue Information Technology': 'https://www.sebi.gov.in/web/?file=/sebi_data/attachdocs/1290063874866.pdf',\n",
              " 'Adjudication order in the matter of Usha India Ltd': 'https://www.sebi.gov.in/web/?file=/sebi_data/attachdocs/1290063951245.pdf',\n",
              " 'Adjudication order in the matter of Usha Iron and Ferro Metals Corporation Ltd': 'https://www.sebi.gov.in/web/?file=/sebi_data/attachdocs/1290063913051.pdf',\n",
              " 'Adjudication order of Kingfisher Overseas Pvt. Ltd. in the matter of Blue Information Technology': 'https://www.sebi.gov.in/web/?file=/sebi_data/attachdocs/1290063837930.pdf',\n",
              " 'Adjudication order of Navinbhai Shah in the matter of Oasis Media Matrix Ltd': 'https://www.sebi.gov.in/web/?file=/sebi_data/attachdocs/1290063802680.pdf',\n",
              " 'Adjudication proceedings against DCM Financial Services Limited': 'https://www.sebi.gov.in/web/?file=/sebi_data/attachdocs/1290063988211.pdf',\n",
              " 'Adjudication Order against Action Financial Services (India) Ltd. in the matter of Shukun Construction Limited': 'https://www.sebi.gov.in/web/?file=/sebi_data/attachdocs/1290063758372.pdf',\n",
              " 'Adjudication Order against Troup International Ltd., C.V. Kamani, R..C. Kamani and D.C.Kamani in the matter of Rajath Finance Limited': 'https://www.sebi.gov.in/web/?file=/sebi_data/attachdocs/1290063702645.pdf',\n",
              " 'Adjudication order of Nirav Pandya in the matter of Oasis Media Matrix Ltd': 'https://www.sebi.gov.in/web/?file=/sebi_data/attachdocs/1290063631916.pdf',\n",
              " 'Adjudication Order in respect of Amrut Securities Ltd. in the matter of Axel Polymers Ltd': 'https://www.sebi.gov.in/web/?file=/sebi_data/attachdocs/1290063518699.pdf',\n",
              " 'Adjudication order in respect of M/s Tricon Business Pvt. Ltd': 'https://www.sebi.gov.in/web/?file=/sebi_data/attachdocs/1290063484693.pdf',\n",
              " 'Adjudication order in respect of Mrs. Premlata Ramesh Saraogi': 'https://www.sebi.gov.in/web/?file=/sebi_data/attachdocs/1290063439828.pdf',\n",
              " 'Adjudication order in the matter of DSP Merill Lynch Ltd': 'https://www.sebi.gov.in/web/?file=/sebi_data/attachdocs/1290063587629.pdf',\n",
              " 'Adjudication Order of Anil Kantilal Shah in the matter of Oasis Media Matrix Ltd': 'https://www.sebi.gov.in/web/?file=/sebi_data/attachdocs/1290063551311.pdf',\n",
              " 'Adjudication order in respect of Canfin Homes Ltd.': 'https://www.sebi.gov.in/web/?file=/sebi_data/attachdocs/1290063406630.pdf',\n",
              " 'Adjudication order in respect of M/s Delton Exim Private Limited in the matter of Nageshwar Investment Ltd': 'https://www.sebi.gov.in/web/?file=/sebi_data/attachdocs/1290063344009.pdf',\n",
              " 'Adjudication order in respect of M/s Gateway Computers Private Limited in the matter of Nageshwar Investment Ltd': 'https://www.sebi.gov.in/web/?file=/sebi_data/attachdocs/1290063311127.pdf',\n",
              " 'Adjudication order passed against M/s Platinum Finvest Pvt Ltd in the matter of Mittal Securities Finance Ltd': 'https://www.sebi.gov.in/web/?file=/sebi_data/attachdocs/1404800940434.pdf',\n",
              " 'Adjudication order against  M/s Mittal Securities Finance Ltd': 'https://www.sebi.gov.in/web/?file=/sebi_data/attachdocs/1290063271960.pdf',\n",
              " 'Adjudication Order against Ajit Suryavanshi in the matter of M/s. Mega Corporation Limited': 'https://www.sebi.gov.in/web/?file=/sebi_data/attachdocs/1290063102241.pdf',\n",
              " 'Adjudication order against Santosh Narvekar in the matter of M/s Mega Corporation Limited': 'https://www.sebi.gov.in/web/?file=/sebi_data/attachdocs/1290063037635.pdf',\n",
              " 'Adjudication order in respect of Brilliant Industries Ltd. in the matter of Brilliant Securities Ltd': 'https://www.sebi.gov.in/web/?file=/sebi_data/attachdocs/1290062877918.pdf',\n",
              " 'Adjudication order in respect of Gowri Gopal Hospital Pvt. Ltd. in the matter of Brilliant Securities Ltd': 'https://www.sebi.gov.in/web/?file=/sebi_data/attachdocs/1290062916567.pdf',\n",
              " 'Adjudication Order in respect of M/s. R A Gupta & Co. Proprietor- Mr. Ramawatar Gupta': 'https://www.sebi.gov.in/web/?file=/sebi_data/attachdocs/1290063072721.pdf',\n",
              " 'Adjudication order in respect of T.G. Bharath in the matter of Brilliant Securities Ltd': 'https://www.sebi.gov.in/web/?file=/sebi_data/attachdocs/1290062833295.pdf',\n",
              " 'Adjudication order in respect of T.G. Venkatesh in the matter of Brilliant Securities Ltd': 'https://www.sebi.gov.in/web/?file=/sebi_data/attachdocs/1290062803626.pdf',\n",
              " 'Adjudication order in respect of TGV Projects and Investments Ltd. in the matter of Brilliant Securities Ltd': 'https://www.sebi.gov.in/web/?file=/sebi_data/attachdocs/1290062724585.pdf',\n",
              " 'Adjudication order in the matter of Arihant Capital Markets Ltd': 'https://www.sebi.gov.in/web/?file=/sebi_data/attachdocs/1290063173404.pdf',\n",
              " 'Adjudication order in the matter of Bonanza Stock Brokers Ltd': 'https://www.sebi.gov.in/web/?file=/sebi_data/attachdocs/1290063237381.pdf',\n",
              " 'Adjudication Order in the matter of Dani Shares & Stocks Pvt. Ltd': 'https://www.sebi.gov.in/web/?file=/sebi_data/attachdocs/1290063139149.pdf',\n",
              " 'Adjudication order in the matter of Wellworth Share & Stock Broking Ltd': 'https://www.sebi.gov.in/web/?file=/sebi_data/attachdocs/1290063208193.pdf',\n",
              " 'Adjudication order passed against M/s Mittal Securities Ltd. in the matter of Mittal Securities Ltd': 'https://www.sebi.gov.in/web/?file=/sebi_data/attachdocs/1290062975640.pdf',\n",
              " 'Adjudication Order passed against M/s Plantinum Finvest Pvt. Ltd. in the matter of Mittal Securities Ltd': 'https://www.sebi.gov.in/web/?file=/sebi_data/attachdocs/1290063008041.pdf',\n",
              " 'Adjudication order passed against M/s. Pragari Finvest (I) Pvt. Ltd. in the matter of Mittal Securities Finance Ltd': 'https://www.sebi.gov.in/web/?file=/sebi_data/attachdocs/1290062946166.pdf',\n",
              " 'Adjudication Order  in the Matter of M/s Hanil Era Textiles Ltd.': 'https://www.sebi.gov.in/web/?file=/sebi_data/attachdocs/1290062657132.pdf',\n",
              " 'Adjudication order against Deepak Narvekar in the matter of M/s Mega Corporation Limited': 'https://www.sebi.gov.in/web/?file=/sebi_data/attachdocs/1290062413803.pdf',\n",
              " 'Adjudication order against M/s Ask holdings Pvt. Ltd. in the matter of Cranes Software International Limited': 'https://www.sebi.gov.in/web/?file=/sebi_data/attachdocs/1290062376549.pdf',\n",
              " 'Adjudication Order Against M/s Kajol Impex Limited': 'https://www.sebi.gov.in/web/?file=/sebi_data/attachdocs/1290062692807.pdf',\n",
              " 'Adjudication order of Jay Rapid Roller Ltd': 'https://www.sebi.gov.in/web/?file=/sebi_data/attachdocs/1290062451388.pdf',\n",
              " 'Adjudication proceeding against Enam Financial Consultants in the matter of Syndicate Bank': 'https://www.sebi.gov.in/web/?file=/sebi_data/attachdocs/1290062606653.pdf',\n",
              " 'Adjudication proceeding against JM Morgan Stanley Pvt. Ltd. in the matter of Syndicate Bank': 'https://www.sebi.gov.in/web/?file=/sebi_data/attachdocs/1290062536989.pdf',\n",
              " 'Adjudication proceeding against SBI Capital Markets Ltd.in the matter of Syndicate Bank': 'https://www.sebi.gov.in/web/?file=/sebi_data/attachdocs/1290062567620.pdf',\n",
              " 'Adjudication proceeding against SSKI Corporate Finance Pvt. Ltd. in the matter of Syndicate Bank': 'https://www.sebi.gov.in/web/?file=/sebi_data/attachdocs/1290062509451.pdf',\n",
              " 'Adjudication order of VSE Stock Services Ltd': 'https://www.sebi.gov.in/web/?file=/sebi_data/attachdocs/1290062342498.pdf',\n",
              " 'Adjudication order against M/s Ramaben Samani Finance Pvt. Ltd. in the matter of Cranes Software International Limited': 'https://www.sebi.gov.in/web/?file=/sebi_data/attachdocs/1290062264849.pdf',\n",
              " 'Adjudication order in respect of M/s Southern Herbals Limited': 'https://www.sebi.gov.in/web/?file=/sebi_data/attachdocs/1290062220750.pdf',\n",
              " 'Adjudication Order in the matter of Adjudicating Proceedings against Shri Dilip Pendse and Others': 'https://www.sebi.gov.in/web/?file=/sebi_data/attachdocs/1290062304990.pdf',\n",
              " 'Adjudication order against M/s. R Ramrakh R Bohra': 'https://www.sebi.gov.in/web/?file=/sebi_data/attachdocs/1290062145376.pdf',\n",
              " 'Adjudication Order in the matter of Uniglobal Securities Pvt. Ltd': 'https://www.sebi.gov.in/web/?file=/sebi_data/attachdocs/1290062178642.pdf',\n",
              " 'Adjudication Order In respect of Shri  Tushar Javeri in the matter of Enrich Industries Ltd': 'https://www.sebi.gov.in/web/?file=/sebi_data/attachdocs/1290062046282.pdf',\n",
              " 'Adjudication order of Apnapan Vyapaar Pvt. Ltd in the matter of Patriot Trading Co. Ltd': 'https://www.sebi.gov.in/web/?file=/sebi_data/attachdocs/1290062081386.pdf',\n",
              " 'Adjudication order of M/s.Sushovin Vinimay Pvt. Ltd in the matter of Patriot Trading Co. Ltd': 'https://www.sebi.gov.in/web/?file=/sebi_data/attachdocs/1290062115386.pdf',\n",
              " 'Adjudication Order in respect of Alka India Limited in the matter of Alka India Limited': 'https://www.sebi.gov.in/web/?file=/sebi_data/attachdocs/1290062010278.pdf',\n",
              " 'Adjudication Order in respect of Ahilya Commercial Private Limited in the matter of Sarang Viniyog Limited': 'https://www.sebi.gov.in/web/?file=/sebi_data/attachdocs/1290061976969.pdf',\n",
              " 'Adjudication Order in respect of S Jhunjhunwala and  Co in the matter of Sarang Viniyog Limited': 'https://www.sebi.gov.in/web/?file=/sebi_data/attachdocs/1290061945093.pdf',\n",
              " 'Adjudication Order in respect of Subh Stock Broking Private Limited in the matter of Sarang Viniyog Limited': 'https://www.sebi.gov.in/web/?file=/sebi_data/attachdocs/1290061905513.pdf',\n",
              " 'Order against Opal Industries Limited': 'https://www.sebi.gov.in/web/?file=/sebi_data/attachdocs/1290061862840.pdf',\n",
              " 'Adjudication Order against M/s Janus Stock Brokers Pvt. Ltd. in the matter of M/s Veronica Laboratories Limited': 'https://www.sebi.gov.in/web/?file=/sebi_data/attachdocs/1290061828362.pdf',\n",
              " 'Adjudication Order in respect of Mansukh Securities & Finance Ltd. in the matter of Aarti Drugs Ltd. and Havells India Ltd': 'https://www.sebi.gov.in/web/?file=/sebi_data/attachdocs/1290061792871.pdf',\n",
              " 'Adjudication Order in respect of TCW Galileo Funds, Inc': 'https://www.sebi.gov.in/web/?file=/sebi_data/attachdocs/1290075569127.pdf',\n",
              " 'Adjudication order in the matter of Mithani Securities Private Limited': 'https://www.sebi.gov.in/web/?file=/sebi_data/attachdocs/1290075604694.pdf',\n",
              " 'Adjudication order of M/s. Bharat Rasayan Finance Ltd': 'https://www.sebi.gov.in/web/?file=/sebi_data/attachdocs/1290075639917.pdf',\n",
              " 'Adjudication Order in respect of M/s Banka India Limited': 'https://www.sebi.gov.in/web/?file=/sebi_data/attachdocs/1290075530887.pdf',\n",
              " 'Adjudication Order in respect of M/s Precision Fastners Limited': 'https://www.sebi.gov.in/web/?file=/sebi_data/attachdocs/1290075491779.pdf',\n",
              " 'Adjudication Order against Rakhi Trading Pvt. Ltd[SAT Appeal No.:01/2020 & Misc. App. No. 01/2020]': 'https://www.sebi.gov.in/web/?file=/sebi_data/attachdocs/1290075353454.pdf',\n",
              " 'Adjudication order against Shri Sunil Kumar Bhageria in the matter of SBEC Sugar Limited': 'https://www.sebi.gov.in/web/?file=/sebi_data/attachdocs/1290075216641.pdf',\n",
              " 'Adjudication Order in respect of Matra Realty Limited (formerly known as Yashraj Securities Limited) in the matter of Matra Realty Limited': 'https://www.sebi.gov.in/web/?file=/sebi_data/attachdocs/1290075259993.pdf',\n",
              " 'Adjudication order of Amit Bhavsar in the matter of Oasis Media Matrix Ltd': 'https://www.sebi.gov.in/web/?file=/sebi_data/attachdocs/1290075301282.pdf',\n",
              " 'Adjudication Order passed against Sanjiv Kathuria in the matter of M/s. Mega Corporation Limited': 'https://www.sebi.gov.in/web/?file=/sebi_data/attachdocs/1290075450179.pdf',\n",
              " 'Adjudication order against  M/s. PKC Commodities Ltd': 'https://www.sebi.gov.in/web/?file=/sebi_data/attachdocs/1290075087161.pdf',\n",
              " 'Adjudication Order against Shri S. Uttamchand in the matter of Radiant Financial Services Ltd': 'https://www.sebi.gov.in/web/?file=/sebi_data/attachdocs/1290075019772.pdf',\n",
              " 'Adjudication Order in respect of Emmanuel Anthraper in the matter of Matra Realty Limited': 'https://www.sebi.gov.in/web/?file=/sebi_data/attachdocs/1290075127486.pdf',\n",
              " 'Adjudication Order passed against Ganesh Raut in the matter of M/s. Mega Corporation Limited': 'https://www.sebi.gov.in/web/?file=/sebi_data/attachdocs/1290075179392.pdf',\n",
              " 'Adjudication order against M/s Stocknet International Limited in the matter of Stocknet International Limited': 'https://www.sebi.gov.in/web/?file=/sebi_data/attachdocs/1290074929480.pdf',\n",
              " 'Adjudication order in respect of Shri C.K. Chaturvedi': 'https://www.sebi.gov.in/web/?file=/sebi_data/attachdocs/1290074831976.pdf',\n",
              " 'Adjudication Order passed against Vivekanand Patankar in the matter of M/s. Mega Corporation Limited': 'https://www.sebi.gov.in/web/?file=/sebi_data/attachdocs/1290074362455.pdf',\n",
              " 'Order against M/s Action Financial services (India) Limited in the matter of M/s Fast Track Entertainment Limited': 'https://www.sebi.gov.in/web/?file=/sebi_data/attachdocs/1290074876885.pdf',\n",
              " 'Adjudication order  against Bhankesh Bhavsar': 'https://www.sebi.gov.in/web/?file=/sebi_data/attachdocs/1290074791829.pdf',\n",
              " 'Adjudication order against Shri Prasad Tandel in the matter of Shree Yaxx Pharma and Cosmetics Limited': 'https://www.sebi.gov.in/web/?file=/sebi_data/attachdocs/1290074721107.pdf',\n",
              " 'Adjudication Order in respect of Bharat Nagindas Lakhani in the matter of Matra Realty Limited': 'https://www.sebi.gov.in/web/?file=/sebi_data/attachdocs/1290074666968.pdf',\n",
              " 'Adjudication order in respect of Rajesh M. Ranka in the matter of M/s Softrack Technology Exports Limited': 'https://www.sebi.gov.in/web/?file=/sebi_data/attachdocs/1290074599318.pdf',\n",
              " 'Adjudication Order in respect of S.K.Khemka in the matter of Brels Infotech Limited': 'https://www.sebi.gov.in/web/?file=/sebi_data/attachdocs/1290074635007.pdf',\n",
              " 'Adjudication Order in respect of Steel City Securities Ltd.': 'https://www.sebi.gov.in/web/?file=/sebi_data/attachdocs/1290074566126.pdf',\n",
              " 'Adjudication order  In respect of Shri. Vasant .C. Shah': 'https://www.sebi.gov.in/web/?file=/sebi_data/attachdocs/1290074487497.pdf',\n",
              " 'Adjudication order against Anushree Tradelink  Private Limited': 'https://www.sebi.gov.in/web/?file=/sebi_data/attachdocs/1290074522055.pdf',\n",
              " 'Adjudication order Against Shri Ashish P Shah[SAT Appeal No.252/2017]': 'https://www.sebi.gov.in/web/?file=/sebi_data/attachdocs/1290074316787.pdf',\n",
              " 'Adjudication Order passed against Ganesh Raut in the matter of M/s. Mega  Corporation Limited': 'https://www.sebi.gov.in/web/?file=/sebi_data/attachdocs/1290074404166.pdf',\n",
              " 'Adjudicationi order in the matter of Swarnganga Trading Private Limited': 'https://www.sebi.gov.in/web/?file=/sebi_data/attachdocs/1290074438345.pdf',\n",
              " 'Adjudication order Against Srijan Vyapar Private Limited': 'https://www.sebi.gov.in/web/?file=/sebi_data/attachdocs/1290074279906.pdf',\n",
              " 'Adjudication Order passed against Naidu Mohanbhai Narayanbhai in the matter of Karuna Cables Ltd144/2018]': 'https://www.sebi.gov.in/web/?file=/sebi_data/attachdocs/1290074241614.pdf',\n",
              " 'Adjudication order in the matter of Anil D Modi': 'https://www.sebi.gov.in/web/?file=/sebi_data/attachdocs/1290074081954.pdf',\n",
              " 'Adjudication Order in the matter of TLB Securities Pvt  Ltd': 'https://www.sebi.gov.in/web/?file=/sebi_data/attachdocs/1290074029964.pdf',\n",
              " 'Adjudication Order passed against Arwind Makwana in the matter of Karuna Cables Ltd142/2018][SAT Appeal No.:210/2018,[SAT Appeal No.:211/2018,[SAT Appeal No.:212/2018]': 'https://www.sebi.gov.in/web/?file=/sebi_data/attachdocs/1290073974537.pdf',\n",
              " 'Adjudication Order passed against Prajapati Ganeshbhai Punamchand in the matter of Karuna Cables Ltd143/2018]': 'https://www.sebi.gov.in/web/?file=/sebi_data/attachdocs/1290073928917.pdf',\n",
              " 'Adjudication Order in respect of Alok Jain in the matter of Matra Realty Limited': 'https://www.sebi.gov.in/web/?file=/sebi_data/attachdocs/1290073867822.pdf',\n",
              " 'Adjudication Order in respect of Nimish Kantilal Unadkhat in the matter of Matra Realty Limited': 'https://www.sebi.gov.in/web/?file=/sebi_data/attachdocs/1290073746323.pdf',\n",
              " 'Order in respect of Dimensional Securities Pvt. Ltd': 'https://www.sebi.gov.in/web/?file=/sebi_data/attachdocs/1290073698684.pdf',\n",
              " 'Adjudication order in respect of Right Finstock Limited in the matter of Innovision E-Commerce Limited': 'https://www.sebi.gov.in/web/?file=/sebi_data/attachdocs/1290073573750.pdf',\n",
              " 'Order iIn respect of  Shri Jagadish Savaji in the Matter of Shalibhadra Infosec Ltd': 'https://www.sebi.gov.in/web/?file=/sebi_data/attachdocs/1290073648890.pdf',\n",
              " 'Adjudication order in respect of Mr. Ashwani Kumar Mehra in the matter of  M/s Nageshwar Investment Limited': 'https://www.sebi.gov.in/web/?file=/sebi_data/attachdocs/1290073507851.pdf',\n",
              " 'Adjudication Order in the matter of MCS Ltd': 'https://www.sebi.gov.in/web/?file=/sebi_data/attachdocs/1290073447396.pdf',\n",
              " 'Adjudication order In Respect Of Canara Bank': 'https://www.sebi.gov.in/web/?file=/sebi_data/attachdocs/1290155261754.pdf',\n",
              " 'Adjudication order in the matter of Anushree Tradelink Private Limited': 'https://www.sebi.gov.in/web/?file=/sebi_data/attachdocs/1290155293956.pdf',\n",
              " 'Adjudication order in the matter of Scope Vyapar Private Limited': 'https://www.sebi.gov.in/web/?file=/sebi_data/attachdocs/1290155360220.pdf',\n",
              " 'Adjudication order in the matter of Srijan Vyapar Private Limited': 'https://www.sebi.gov.in/web/?file=/sebi_data/attachdocs/1290155389722.pdf',\n",
              " 'Adjudication order in the matter of Success Vyapar Private Limited': 'https://www.sebi.gov.in/web/?file=/sebi_data/attachdocs/1290155420336.pdf',\n",
              " 'Adjudication order in the matter of Swarnganga Trading Private Limited': 'https://www.sebi.gov.in/web/?file=/sebi_data/attachdocs/1290155330197.pdf',\n",
              " 'Adjudication Order against Jagatdal Jute and Industries Ltd. in the matter of Radiant Financial Services Ltd': 'https://www.sebi.gov.in/web/?file=/sebi_data/attachdocs/1290155152823.pdf',\n",
              " 'Adjudication Order against Mangalam Viniyog Pvt. Ltd. in the matter of Radiant Financial Services Ltd': 'https://www.sebi.gov.in/web/?file=/sebi_data/attachdocs/1290155225310.pdf',\n",
              " 'Adjudication Order against Shri Anurag Nopany in the matter of Radiant Financial Services Ltd': 'https://www.sebi.gov.in/web/?file=/sebi_data/attachdocs/1290155185503.pdf',\n",
              " 'Adjudication order in the matter of Shelter Vyapar Private Limited': 'https://www.sebi.gov.in/web/?file=/sebi_data/attachdocs/1290155120601.pdf',\n",
              " 'Adjudication order against Shri Surendra Kumar Kasera in the matter of SBEC Sugar Limited': 'https://www.sebi.gov.in/web/?file=/sebi_data/attachdocs/1290155006626.pdf',\n",
              " 'Adjudication order against Shri Vinod Khetan in the matter of Adani Exports Limited': 'https://www.sebi.gov.in/web/?file=/sebi_data/attachdocs/1290155090799.pdf',\n",
              " 'Adjudication Order in the matter of Indiabulls Securities Limited': 'https://www.sebi.gov.in/web/?file=/sebi_data/attachdocs/1290154969579.pdf',\n",
              " 'Adjudication Orders against  Jagruti Parikh  in the matter of JIK Industries Limited': 'https://www.sebi.gov.in/web/?file=/sebi_data/attachdocs/1290154894121.pdf',\n",
              " 'Adjudication Orders against  Jagruti Securities Limited in the matter of JIK Industries Limited': 'https://www.sebi.gov.in/web/?file=/sebi_data/attachdocs/1290154932704.pdf',\n",
              " 'Adjudication Orders against Rajendra parikh,  in the matter of JIK Industries Limited': 'https://www.sebi.gov.in/web/?file=/sebi_data/attachdocs/1290154857627.pdf',\n",
              " 'Adjudication Order in respect of SNR Share and Stock Services': 'https://www.sebi.gov.in/web/?file=/sebi_data/attachdocs/1290154818251.pdf',\n",
              " 'Adjudication Order against Ms. Arti Jain in the matter of M/s Fast Track Entertainment Limi': 'https://www.sebi.gov.in/web/?file=/sebi_data/attachdocs/1290154655367.pdf',\n",
              " 'Adjudication Order against Shri Sailesh Jain in the matter of M/s Fast Track Entertainment Limited': 'https://www.sebi.gov.in/web/?file=/sebi_data/attachdocs/1290154691315.pdf',\n",
              " 'Adjudication Order in respect of Angel Broking Ltd. in the matter of Channel Guide India Limited': 'https://www.sebi.gov.in/web/?file=/sebi_data/attachdocs/1290154724736.pdf',\n",
              " 'Adjudication order in the matter of HB stockholdings Ltd and others': 'https://www.sebi.gov.in/web/?file=/sebi_data/attachdocs/1290153996861.pdf'}"
            ]
          },
          "metadata": {},
          "execution_count": 14
        }
      ]
    },
    {
      "cell_type": "code",
      "source": [
        "df = pd.DataFrame(list(dictionary_pdf_links.items()), columns=[\"Filename\", \"iframe-pdf-links\"])\n",
        "\n",
        "# Save to CSV\n",
        "df.to_csv(\"Order-and-pdf-iframe.csv\", index=False)"
      ],
      "metadata": {
        "id": "rY5zFaQWly3-"
      },
      "execution_count": 15,
      "outputs": []
    },
    {
      "cell_type": "code",
      "source": [
        "#Extracting only pdf_ids\n",
        "def extract_pdf_id_from_url(url):\n",
        "    \"\"\"\n",
        "    Extracts the numeric PDF ID from a SEBI-style PDF URL.\n",
        "    Example: 'https://.../attachdocs/1289815415212.pdf' → '1289815415212'\n",
        "    \"\"\"\n",
        "    match = re.search(r'attachdocs/(\\d+)\\.pdf', url)\n",
        "    return match.group(1) if match else None"
      ],
      "metadata": {
        "id": "wWHJx3mzQGD3"
      },
      "execution_count": 16,
      "outputs": []
    },
    {
      "cell_type": "code",
      "source": [
        "dict_pdf_ids = {}\n",
        "\n",
        "for i in tqdm(dictionary_pdf_links.keys()):\n",
        "    dict_pdf_ids[i] = extract_pdf_id_from_url(dictionary_pdf_links[i])\n"
      ],
      "metadata": {
        "colab": {
          "base_uri": "https://localhost:8080/"
        },
        "id": "pahkdkZsQJK_",
        "outputId": "33016483-514d-44d1-e7b1-277cdebb4f5a"
      },
      "execution_count": 17,
      "outputs": [
        {
          "output_type": "stream",
          "name": "stderr",
          "text": [
            "100%|██████████| 273/273 [00:00<00:00, 206537.70it/s]\n"
          ]
        }
      ]
    },
    {
      "cell_type": "code",
      "source": [
        "dict_pdf_ids"
      ],
      "metadata": {
        "collapsed": true,
        "colab": {
          "base_uri": "https://localhost:8080/"
        },
        "id": "PM2woAzEQowN",
        "outputId": "c8470610-1dda-43a8-d3b9-405167a8ff78"
      },
      "execution_count": 18,
      "outputs": [
        {
          "output_type": "execute_result",
          "data": {
            "text/plain": [
              "{'Adjudication order in respect of Ahilya Commercial Pvt. Ltd. in the matter of Brahmanand Himghar Ltd': '1289815415212',\n",
              " 'Adjudication order in respect of Mintage Electro Equipments Ltd': '1289815360615',\n",
              " 'Adjudication Order against Shri Prasad Tandel in the matter of M/s Fast Track Entertainment Limited': '1289815248742',\n",
              " 'Adjudication order in respect of Clock Sign Trading Co. Pvt. Ltd. in the matter of Global Capital Markets Ltd': '1289815094559',\n",
              " 'Adjudication order In respect of Eupharma Laboratories Limited': '1289815202611',\n",
              " 'Adjudication Order in respect of Deepak B Desai in the matter of Gujarat Ambuja Export Limited': '1289815047056',\n",
              " 'Adjudication Order in respect of Inventure Growth and Securities Limited in the matter of Gujarat Ambuja Export Limited': '1289814984549',\n",
              " 'Adjudication Order passed against Santosh Narvekar in the matter of M/s. Mega Corporation Limited': '1289814868542',\n",
              " 'Adjudication Order passed against Vijay Suryavanshi in the matter of M/s. Mega Corporation Limited[SAT Appeal No.:74/2020 & Misc. App. No. 91/2020]': '1289814922566',\n",
              " 'Adjudication Order passed against Ajit Suryavanshi in the matter of Mega Corporation Limited': '1289814751579',\n",
              " 'Adjudication Order passed against M/s. Ramaben Samani Finance Ltd in the matter of M/s. Zigma Software Ltd': '1289814821760',\n",
              " 'Adjudication Order passed against Mr. Gaurav Raimalani in the matter of Karuna Cables Ltd': '1289814688904',\n",
              " 'Adjudication Order passed against Mr. Murlidhar Raimalani in the matter of Karuna Cables Ltd': '1289814628915',\n",
              " 'Adjudication Order passed against Ms. Kanchan Raimalani in the matter of Karuna Cables Ltd': '1289814584140',\n",
              " 'Adjudication Order passed against Ms. Neelam Raimalani in the matter of Karuna Cables Ltd': '1289814546038',\n",
              " 'Adjudication Order passed against Ms. Susheeladevi Raimalani in the matter of Karuna Cables Ltd': '1289814491952',\n",
              " 'Adjudication order in respect of Mukesh Dokania & Co. in the matter of Minolta Finance Ltd': '1293527025933',\n",
              " 'Adjudication Order against Gama Commerce Pvt. Ltd. in the matter of Amluckie Investment Company Limited.': '1289814217433',\n",
              " 'Adjudication order in respect of Ahilya Commercial Pvt. Ltd. in the matter of Minolta Finance Ltd': '1289814411160',\n",
              " 'Adjudication order in respect of Basant Periwal & Co. in the matter of Minolta Finance Ltd': '1289814278574',\n",
              " 'Adjudication order in respect of Rajendra Prasad Shah in the matter of Minolta Finance Ltd': '1289814338125',\n",
              " 'Adjudication order in respect of Shri Ballabh Dass Daga in the matter of Minolta Finance Ltd': '1289814178717',\n",
              " 'Adjudicating Order against Mr. Ranjan Verghese and other promoters/PACs in the matter of Vertex Securities Pvt. Ltd': '1289890492353',\n",
              " 'Adjudication order in respect of M/s Anushree Tradelink (P) Ltd. in the matter of Nageshwar Investment Ltd': '1289813962040',\n",
              " 'Adjudication order in respect of M/s Millennium Insurance Agent (P) Ltd. in the matter of Nageshwar Investment Ltd': '1289813930809',\n",
              " 'Adjudication order in respect of M/s Shriram Insight Share Brokers Ltd. in the matter of M/s Shriram Insight Share Brokers Ltd': '1289814006394',\n",
              " 'Adjudication order in respect of M/s Swarn Ganga Trading (P) Ltd. in the matter of Nageshwar Investment Ltd.': '1289814077189',\n",
              " 'Adjudication Order in respect of Prakash Nahata and  Co. in the matter of Cyber Family. Com Limited': '1289813887062',\n",
              " 'Adjudication Order in respect of Bimex Exports Private Limited in the matter of Cyber Family. Com Limited': '1289813848134',\n",
              " 'Adjudication Order in respect of Deepraj Vinimay Private Limited in the matter of Cyber Family. Com Limited': '1289813771998',\n",
              " 'Adjudication Order in respect of M/s Ramakant Sales and  Services (P) Ltd. in the matter of Cyber Family. Com Limited': '1289813739368',\n",
              " 'Adjudication Order in respect of Sarash Trading Private Limited in the matter of Cyber Family. Com Limited': '1289813808613',\n",
              " 'Adjudication Order against Galaxy Broking Ltd. in the matter of K Sera Sera Productions Ltd': '1289890554023',\n",
              " 'Adjudication Order against Triumph International Finance India Ltd. in the matter of Adani Exports Ltd': '1289890527186',\n",
              " 'Adjudication Order against Baij Krishna and  Co. in the matter of Toplight Commercial Limited': '1289890458400',\n",
              " 'Adjudication Order against Hem Kanak Mercantile Pvt. Ltd. in the matter of Jindal Drilling and Industries Ltd': '1289890359162',\n",
              " 'Adjudication Order against Ms. Premlata Nathany in the matter of Toplight Commercial Limited': '1289890423805',\n",
              " 'Adjudication Order against Shri Ramkrishna Dudwawala in the matter of Toplight Commercial Limited': '1289890392488',\n",
              " 'Adjudication Order against M/s Vijay Bhagwandas and  Co. in the matter of M/s Karuna Cable Limited': '1289890327524',\n",
              " 'Adjudication Order against Shri Jitendra Bharambe in the matter of M/s Fast Track Entertainment Limited': '1289890293121',\n",
              " 'Adjudication Order against M/s Rajesh Panchal in the matter of M/s Fast Track Entertainment Limited': '1289890258122',\n",
              " 'Adjudication order against OC Oerlikon Corporation AG, Pfaffikon and W. Reiners Verwaltungs GmbH': '1289890218307',\n",
              " 'Adjudication order against Satya Securities Ltd. and Basant Marketing pvt. Ltd. in the matter of Granules India Ltd': '1289890154420',\n",
              " 'Adjudication order passed against Jayesh Waghela in the matter of M/s. Mega Corporation Limited': '1289890187128',\n",
              " 'Adjudication order passed against Umesh Choukekar in the matter of M/s. Mega Corporation Limited': '1289890123357',\n",
              " 'Adjudication Order passed against Dattu Shitole in the matter of M/s. Mega Corporation Limited': '1289890083361',\n",
              " 'Adjudication Order against M/s Abhinandan Fintex Pvt. Ltd. in the matter of M/s Bacchhat Investment and Finance Limited': '1289890039979',\n",
              " 'Adjudication order against Mr. Bipin Shah in the matter of Karuna Cables Ltd[SAT Appeal No.:200/2016][SAT Appeal No.:198/2016]': '1289890012013',\n",
              " 'Adjudication order against Ms. Bhavana Bipin Shah in the matter of Karuna Cables Ltd[SAT Appeal No.:199/2016][SAT Appeal No.:197/2016]': '1289889980177',\n",
              " 'Adjudication Order in respect of Naman Securities and Finance Pvt. Ltd. in the matter of Adani Exports Ltd': '1289889952463',\n",
              " 'Adjudication order of Rishabh Stock Broking Services Pvt. Ltd': '1289889922928',\n",
              " 'Adjudication Order  against M/s. Mansukh Securities and Finance Limited': '1289889892159',\n",
              " 'Adjudication order in respect of Late Mrs. Putal Kavar': '1289889859839',\n",
              " 'Adjudication Order in respect of P. K. Agarwal and Co in the matter of Cyber Family. Com Limited': '1289889824562',\n",
              " 'Order against Celica Developers Private Limited': '1289889787724',\n",
              " 'Adjudication order in respect of Jyotsenaben M Shah': '1289889709795',\n",
              " 'Adjudication Order in respect of M/s. India Infoline Ltd. in the matter of GHCL Ltd': '1289889748983',\n",
              " 'Adjudication order in respect of M/s Alpha Hi Tech Fuel Limited in the matter of M/s Alpha Hi Tech Fuel Limited': '1289889674428',\n",
              " 'Adjudication order of  Murari lal Goenka in the matter of BSR Finance and Construction Ltd': '1289889566240',\n",
              " 'Adjudication order of Prakash Nahata in the matter of BSR Finance and Construction Ltd': '1289889535619',\n",
              " 'Adjudication order of Rajrathan Financial Services Ltd': '1289889499838',\n",
              " 'Adjudication order of Sanju Kabra in the matter of BSR Finance and Construction Ltd': '1289889605658',\n",
              " 'Adjudication order of Shadilal Chopra in the matter of Atlanta Ltd': '1289889643574',\n",
              " 'Adjudication Order in respect of Alpa Haren Shah in the matter of Alpha Hi Tech Fuel Limited': '1289889309818',\n",
              " 'Adjudication Order in respect of Bhanuben Jaisukhlal Shah in the matter of Alpha Hi Tech Fuel Limited': '1289889269859',\n",
              " 'Adjudication order in the matter of Coromadal Fertilizers Ltd. against Bhagwandas Agarwal': '1289889465637',\n",
              " 'Adjudication order in the matter of Coromadal Fertilizers Ltd. against Gopal Kumar Agarwal': '1289889351509',\n",
              " 'Adjudication order in the matter of Coromadal Fertilizers Ltd. against K.Venkatraman[SAT Appeal No.:12/2021 & Misc. App. No. 78/2021]': '1289889393896',\n",
              " 'Adjudication order in the matter of Coromadal Fertilizers Ltd. against Shankar Aggarwal': '1289889433788',\n",
              " 'Adjudication order in the matter of Karuna Cables Ltd. against Adolf Pinto': '1289889235388',\n",
              " 'Adjudication Order against Ms. Gillian Pinto in the matter of K Sera Sera Production Ltd': '1289889117497',\n",
              " 'Adjudication Order against Shri Adolf Pinto in the matter of K Sera Sera Production Ltd': '1289889193155',\n",
              " 'Adjudication Order aginst Shri Kenneth Pinto in the matter of K Sera Sera Production Ltd': '1289889160009',\n",
              " 'Adjudication order in the matter of Karuna Cables against  Harikishan Hiralal': '1289888969869',\n",
              " 'Adjudication order in the matter of Karuna Cables against  Sanchay Fincom Ltd': '1289889035580',\n",
              " 'Adjudication order in the matter of Karuna Cables against Penninsular Capital Market Ltd': '1289889004344',\n",
              " 'Order against Shri Dhaval Jhaveri in the mater of investigations in the scrip M/s Blue Information Technology Ltd': '1289889072804',\n",
              " 'Adjudication Order in respect of Cyber Family.Com Limited in the matter of Cyber Family. Com Limited': '1289888777772',\n",
              " 'Adjudication Order in respect of Pramod Kumar Kothari in the matter of Cyber Family. Com Limited': '1289888737853',\n",
              " 'Adjudication Order in respect of Sanchay Fincom Limited in the matter of Adani Exports Ltd': '1289888931949',\n",
              " 'Adjudication Order in respect of Sanchay Finvest Limited in the matter of Adani Exports Ltd': '1289888812937',\n",
              " 'Adjudication order in the matter of Karuna Cables against Vijaykumar J. Thakkar': '1289888694936',\n",
              " 'Adjudication Order in respect of M/s. E Stocks Inc in the matter of Adani Exports Ltd': '1289888649979',\n",
              " 'Adjudication Orders in the matter of Karuna Cables against  S.P. Jain Securities Pvt. Ltd.': '1289888582718',\n",
              " 'Adjudication Orders in the matter of Karuna Cables against Galaxy Broking Ltd': '1289888614224',\n",
              " 'Adjudication order in respecst of Mafatlal K. Bhansali in the matter of Nissan Copper Ltd': '1289904834169',\n",
              " 'Adjudication order in respect of Babiben Bhansali in the matter of Nissan Copper Ltd': '1289904933628',\n",
              " 'Adjudication order in respect of Beenaben Bhansali in the matter of Nissan Copper Ltd': '1289904904842',\n",
              " 'Adjudication order in respect of Fairy Vishal Bhansali in the matter of Nissan Copper Ltd': '1289904868598',\n",
              " 'Adjudication order in respect of Jyotshna Bhansali in the matter of Nissan Copper Ltd': '1289904778957',\n",
              " 'Adjudication order in respect of Navya Bhansali in the matter of Nissan Copper Ltd': '1289904806818',\n",
              " 'Adjudication order in respect of Piyush M. Bhansali in the matter of Nissan Copper Ltd': '1289904697916',\n",
              " 'Adjudication order in respect of Puja Piyushkumar Bhansali in the matter of Nissan Copper Ltd': '1289904628590',\n",
              " 'Adjudication order in respect of Purviben Bhansali in the matter of Nissan Copper Ltd': '1289904593003',\n",
              " 'Adjudication order in respect of Raj P. Bhansali in the matter of Nissan Copper Ltd': '1289904562263',\n",
              " 'Adjudication order in respect of Rajnikant Bhansali in the matter of Nissan Copper Ltd - HUF': '1289904460224',\n",
              " 'Adjudication order in respect of Rajnikant M. Bhansali in the matter of Nissan Copper Ltd': '1289904421581',\n",
              " 'Adjudication order in respect of Riki R.Bhansali in the matter of Nissan Copper Ltd': '1289904380949',\n",
              " 'Adjudication order in respect of Vishal R. Bhansali in the matter of Nissan Copper Ltd': '1289904491895',\n",
              " 'Adjudication order in respect of Yesha P. Bhansali in the matter of Nissan Copper Ltd': '1289904669324',\n",
              " 'Adjudication order in respect of Yogesh M. Bhansali in the matter of Nissan Copper Ltd': '1289904726330',\n",
              " 'Adjudication order in respect of Yogesh Mafatlal Bhansali in the matter of Nissan Copper Limited': '1289904287472',\n",
              " 'Adjudication order of Varun Y. Bhansali in the matter of Nissan Copper Ltd': '1289904317872',\n",
              " 'Adjudication orderin respect  of Piyush Bhansali in the matter of Nissan Copper Ltd': '1289904753564',\n",
              " 'Adjudication order against Vision Technology India Ltd': '1289904250639',\n",
              " 'Adjudication Order in respect of Shri Sushil Kumar Patodia in the matter of Lumax Ind. Ltd and Crew BOS Ind. Ltd': '1289904149621',\n",
              " 'Adjudication Order in the matter of Shri Suresh Bharrat': '1289904185005',\n",
              " 'Adjudication Order against Jitendra Harjivandas Securities Pvt. Ltd. in the matter of Shukun Construction Ltd': '1289904035820',\n",
              " 'Adjudication Order against Kankeshwari Securities in the matter of Shukun Construction Ltd': '1289904004849',\n",
              " 'Adjudication order in respect of P J Chaudhary': '1289904104296',\n",
              " 'Adjudication Order in respect of Shri Suresh K Shukla in the matter of M/s Ojas Technochem Products Limited': '1289904068593',\n",
              " 'Adjudication Order against M/s Ramaben Samani Finance Pvt. Ltd in the matter of M/s Veronica Laboratories Ltd': '1289903853319',\n",
              " 'Adjudication order in respect of Shri Laxman Bhai Patel in the mater of M/s Kwality Dairy (India) Ltd': '1289903907537',\n",
              " 'Adjudication Order in the matter of Angel Capital and  Debt Market Limited': '1289903808599',\n",
              " 'Adjudication Order in the matter of Steel City Securities Limited': '1289903774949',\n",
              " 'Adjudication Order in Uttam Financial Service Ltd.  - Now known as Manshukh Stock Brokers Ltd': '1289903966490',\n",
              " 'Adjudication Order in respect of Manhattan Fingrowth Limited in the matter of Motorol Speciality Oils Limited': '1289903641088',\n",
              " 'Adjudication order in the matter of JYSKE Invest Fund Managemnt A/S': '1289903687754',\n",
              " 'Order against Shri Abhishek Khare in the mater of investigations in the scrip M/s Kwality Dairy (India) Ltd': '1289903737767',\n",
              " 'Adjudication Order in respect of Shri Parshwa Finance (Proprietor: Piyush Jhaveri) in the matter of Havells India Ltd': '1289903512315',\n",
              " 'Adjudication Order in respect of Steel City Capital Services (P) Ltd. in the matter of Recron Synthetics Limited': '1289903591683',\n",
              " 'Adjudication order passed against Haresh R Posnak in the matter of M/s. Mega Corporation Limited': '1289903558001',\n",
              " 'Order against M/s Anushree Tradelink Pvt. Ltd. in the matter of M/s Bacchhat Investment  and Finance Limited': '1289903469909',\n",
              " 'Adjudication Order in respect of Hindustan Tea & Trading Co. Ltd. in the matter of Orion Paper and Industries Ltd': '1289903396820',\n",
              " 'Adjudication order in respect of Mr. Anil Nibber': '1289903305552',\n",
              " 'Adjudication order in respect of Mr. Atul Nibber': '1289903262389',\n",
              " 'Adjudication order in respect of Mr. Kashmir Chand': '1289903222602',\n",
              " 'Adjudication order of Shri V. K. Padmanabhan in the matter of Rishab Financial Services Limited (Formerly Madan Financial Services Ltd': '1289903433808',\n",
              " 'Adjudication Order in respect of FMS Securities Limited in the matter of Havells India Ltd': '1289903156429',\n",
              " 'Adjudication Order in respect of Roopa S Shah in the matter of Motorol Speciality Oils Limited': '1289903189877',\n",
              " 'Adjudication order in respect of Shri Murarilal Goenka in the matter of Richfield Financial Services Ltd': '1289903071941',\n",
              " 'Adjudication order in respect of Shri N.M. Lohia in the matter of Richfield Financial Services Ltd': '1289903113985',\n",
              " 'Adjudication Order in respect of Roopshri Finvest Private Limited in the matter of Motorol Speciality Oils Limited': '1289903035104',\n",
              " 'Adjudication order in respect of M/s Poona Industrial and Finance (P) Ltd. in the matter of M/s Bilcare Ltd': '1289902985909',\n",
              " 'Adjudication Order in respect of Mr. Sunil Giridharilal Raheja in the matter of Self/Synchronized Trades in 12 Scrips': '1289902952426',\n",
              " 'Adjudication Order in respect of Mrs. Simran Sunil Raheja in the matter of Self/Synchronized Trades in 12 Scrips': '1289902916296',\n",
              " 'Adjudication Order against M/s Poorva Trexim Pvt. Ltd. in the matter of M/s Bacchhat Investment and Finance Limited': '1289902882144',\n",
              " 'Adjudication order in respect of Pani Kawar in the matter of Rishab Financial Services Ltd. - Formerly Madan Financial Services Ltd': '1289902851004',\n",
              " 'Adjudication Order passed against Vijay Suryavanshi in the matter of M/s. Mega Corporation Limited[SAT Appeal No.:73/2020 & Misc. App. No. 90/2020]': '1289902819839',\n",
              " 'Adjudication Order in respect of M/s Marino Fresh Foods Industries Limited in the matter of Sarang Viniyog Limited': '1289902649857',\n",
              " 'Adjudication order in respect of Naba Kumar Pal, Director, M/s Tricon Business Pvt Ltd  in the matter of Nageshwar Investment Ltd.': '1289902686241',\n",
              " 'Adjudication order in respect of Ram Chandra Singh, Director, M/s Delton Exim Private  Limited in the matter of Nageshwar Investment Ltd.': '1289902724433',\n",
              " 'Adjudication order in respect of Ram Chandra Singh, Director, M/s Gateway Computers  Private Limited in the matter of Nageshwar Investment Ltd': '1289902756532',\n",
              " 'Adjudication Order in respect of Sarang Viniyog Limited in the matter of Sarang Viniyog Limited': '1289902605355',\n",
              " 'Adjudication order of Rupesh H. Shah in the matter of Oasis Media Matrix Ltd': '1289902786198',\n",
              " 'Adjudication Order in respect of B.N.Das in the matter of Sarang Viniyog Limited': '1289902484006',\n",
              " 'Adjudication Order in respect of M/S. Anand Rathi Share and Stock Brokers Limited - formerly known as M/S. Navratan Capital and Securities Pvt. Ltd': '1289902549931',\n",
              " 'In the Adjudication Proceedings against V.G. Capital Markets Limited in the matter of Hitech Gears and Munjal Showa Limited': '1290064125422',\n",
              " 'Adjudication order in the matter of Prudential ICICI Mutual Fund': '1290064090231',\n",
              " 'Adjudication order in the matter of Vatsa Music Ltd': '1290064060723',\n",
              " 'Adjudication proceedings against Sun TV  Network Limited': '1290064023453',\n",
              " 'Adjudication order in respect of Mr. Brij Khanna in the matter of Blue Information Technology': '1290063874866',\n",
              " 'Adjudication order in the matter of Usha India Ltd': '1290063951245',\n",
              " 'Adjudication order in the matter of Usha Iron and Ferro Metals Corporation Ltd': '1290063913051',\n",
              " 'Adjudication order of Kingfisher Overseas Pvt. Ltd. in the matter of Blue Information Technology': '1290063837930',\n",
              " 'Adjudication order of Navinbhai Shah in the matter of Oasis Media Matrix Ltd': '1290063802680',\n",
              " 'Adjudication proceedings against DCM Financial Services Limited': '1290063988211',\n",
              " 'Adjudication Order against Action Financial Services (India) Ltd. in the matter of Shukun Construction Limited': '1290063758372',\n",
              " 'Adjudication Order against Troup International Ltd., C.V. Kamani, R..C. Kamani and D.C.Kamani in the matter of Rajath Finance Limited': '1290063702645',\n",
              " 'Adjudication order of Nirav Pandya in the matter of Oasis Media Matrix Ltd': '1290063631916',\n",
              " 'Adjudication Order in respect of Amrut Securities Ltd. in the matter of Axel Polymers Ltd': '1290063518699',\n",
              " 'Adjudication order in respect of M/s Tricon Business Pvt. Ltd': '1290063484693',\n",
              " 'Adjudication order in respect of Mrs. Premlata Ramesh Saraogi': '1290063439828',\n",
              " 'Adjudication order in the matter of DSP Merill Lynch Ltd': '1290063587629',\n",
              " 'Adjudication Order of Anil Kantilal Shah in the matter of Oasis Media Matrix Ltd': '1290063551311',\n",
              " 'Adjudication order in respect of Canfin Homes Ltd.': '1290063406630',\n",
              " 'Adjudication order in respect of M/s Delton Exim Private Limited in the matter of Nageshwar Investment Ltd': '1290063344009',\n",
              " 'Adjudication order in respect of M/s Gateway Computers Private Limited in the matter of Nageshwar Investment Ltd': '1290063311127',\n",
              " 'Adjudication order passed against M/s Platinum Finvest Pvt Ltd in the matter of Mittal Securities Finance Ltd': '1404800940434',\n",
              " 'Adjudication order against  M/s Mittal Securities Finance Ltd': '1290063271960',\n",
              " 'Adjudication Order against Ajit Suryavanshi in the matter of M/s. Mega Corporation Limited': '1290063102241',\n",
              " 'Adjudication order against Santosh Narvekar in the matter of M/s Mega Corporation Limited': '1290063037635',\n",
              " 'Adjudication order in respect of Brilliant Industries Ltd. in the matter of Brilliant Securities Ltd': '1290062877918',\n",
              " 'Adjudication order in respect of Gowri Gopal Hospital Pvt. Ltd. in the matter of Brilliant Securities Ltd': '1290062916567',\n",
              " 'Adjudication Order in respect of M/s. R A Gupta & Co. Proprietor- Mr. Ramawatar Gupta': '1290063072721',\n",
              " 'Adjudication order in respect of T.G. Bharath in the matter of Brilliant Securities Ltd': '1290062833295',\n",
              " 'Adjudication order in respect of T.G. Venkatesh in the matter of Brilliant Securities Ltd': '1290062803626',\n",
              " 'Adjudication order in respect of TGV Projects and Investments Ltd. in the matter of Brilliant Securities Ltd': '1290062724585',\n",
              " 'Adjudication order in the matter of Arihant Capital Markets Ltd': '1290063173404',\n",
              " 'Adjudication order in the matter of Bonanza Stock Brokers Ltd': '1290063237381',\n",
              " 'Adjudication Order in the matter of Dani Shares & Stocks Pvt. Ltd': '1290063139149',\n",
              " 'Adjudication order in the matter of Wellworth Share & Stock Broking Ltd': '1290063208193',\n",
              " 'Adjudication order passed against M/s Mittal Securities Ltd. in the matter of Mittal Securities Ltd': '1290062975640',\n",
              " 'Adjudication Order passed against M/s Plantinum Finvest Pvt. Ltd. in the matter of Mittal Securities Ltd': '1290063008041',\n",
              " 'Adjudication order passed against M/s. Pragari Finvest (I) Pvt. Ltd. in the matter of Mittal Securities Finance Ltd': '1290062946166',\n",
              " 'Adjudication Order  in the Matter of M/s Hanil Era Textiles Ltd.': '1290062657132',\n",
              " 'Adjudication order against Deepak Narvekar in the matter of M/s Mega Corporation Limited': '1290062413803',\n",
              " 'Adjudication order against M/s Ask holdings Pvt. Ltd. in the matter of Cranes Software International Limited': '1290062376549',\n",
              " 'Adjudication Order Against M/s Kajol Impex Limited': '1290062692807',\n",
              " 'Adjudication order of Jay Rapid Roller Ltd': '1290062451388',\n",
              " 'Adjudication proceeding against Enam Financial Consultants in the matter of Syndicate Bank': '1290062606653',\n",
              " 'Adjudication proceeding against JM Morgan Stanley Pvt. Ltd. in the matter of Syndicate Bank': '1290062536989',\n",
              " 'Adjudication proceeding against SBI Capital Markets Ltd.in the matter of Syndicate Bank': '1290062567620',\n",
              " 'Adjudication proceeding against SSKI Corporate Finance Pvt. Ltd. in the matter of Syndicate Bank': '1290062509451',\n",
              " 'Adjudication order of VSE Stock Services Ltd': '1290062342498',\n",
              " 'Adjudication order against M/s Ramaben Samani Finance Pvt. Ltd. in the matter of Cranes Software International Limited': '1290062264849',\n",
              " 'Adjudication order in respect of M/s Southern Herbals Limited': '1290062220750',\n",
              " 'Adjudication Order in the matter of Adjudicating Proceedings against Shri Dilip Pendse and Others': '1290062304990',\n",
              " 'Adjudication order against M/s. R Ramrakh R Bohra': '1290062145376',\n",
              " 'Adjudication Order in the matter of Uniglobal Securities Pvt. Ltd': '1290062178642',\n",
              " 'Adjudication Order In respect of Shri  Tushar Javeri in the matter of Enrich Industries Ltd': '1290062046282',\n",
              " 'Adjudication order of Apnapan Vyapaar Pvt. Ltd in the matter of Patriot Trading Co. Ltd': '1290062081386',\n",
              " 'Adjudication order of M/s.Sushovin Vinimay Pvt. Ltd in the matter of Patriot Trading Co. Ltd': '1290062115386',\n",
              " 'Adjudication Order in respect of Alka India Limited in the matter of Alka India Limited': '1290062010278',\n",
              " 'Adjudication Order in respect of Ahilya Commercial Private Limited in the matter of Sarang Viniyog Limited': '1290061976969',\n",
              " 'Adjudication Order in respect of S Jhunjhunwala and  Co in the matter of Sarang Viniyog Limited': '1290061945093',\n",
              " 'Adjudication Order in respect of Subh Stock Broking Private Limited in the matter of Sarang Viniyog Limited': '1290061905513',\n",
              " 'Order against Opal Industries Limited': '1290061862840',\n",
              " 'Adjudication Order against M/s Janus Stock Brokers Pvt. Ltd. in the matter of M/s Veronica Laboratories Limited': '1290061828362',\n",
              " 'Adjudication Order in respect of Mansukh Securities & Finance Ltd. in the matter of Aarti Drugs Ltd. and Havells India Ltd': '1290061792871',\n",
              " 'Adjudication Order in respect of TCW Galileo Funds, Inc': '1290075569127',\n",
              " 'Adjudication order in the matter of Mithani Securities Private Limited': '1290075604694',\n",
              " 'Adjudication order of M/s. Bharat Rasayan Finance Ltd': '1290075639917',\n",
              " 'Adjudication Order in respect of M/s Banka India Limited': '1290075530887',\n",
              " 'Adjudication Order in respect of M/s Precision Fastners Limited': '1290075491779',\n",
              " 'Adjudication Order against Rakhi Trading Pvt. Ltd[SAT Appeal No.:01/2020 & Misc. App. No. 01/2020]': '1290075353454',\n",
              " 'Adjudication order against Shri Sunil Kumar Bhageria in the matter of SBEC Sugar Limited': '1290075216641',\n",
              " 'Adjudication Order in respect of Matra Realty Limited (formerly known as Yashraj Securities Limited) in the matter of Matra Realty Limited': '1290075259993',\n",
              " 'Adjudication order of Amit Bhavsar in the matter of Oasis Media Matrix Ltd': '1290075301282',\n",
              " 'Adjudication Order passed against Sanjiv Kathuria in the matter of M/s. Mega Corporation Limited': '1290075450179',\n",
              " 'Adjudication order against  M/s. PKC Commodities Ltd': '1290075087161',\n",
              " 'Adjudication Order against Shri S. Uttamchand in the matter of Radiant Financial Services Ltd': '1290075019772',\n",
              " 'Adjudication Order in respect of Emmanuel Anthraper in the matter of Matra Realty Limited': '1290075127486',\n",
              " 'Adjudication Order passed against Ganesh Raut in the matter of M/s. Mega Corporation Limited': '1290075179392',\n",
              " 'Adjudication order against M/s Stocknet International Limited in the matter of Stocknet International Limited': '1290074929480',\n",
              " 'Adjudication order in respect of Shri C.K. Chaturvedi': '1290074831976',\n",
              " 'Adjudication Order passed against Vivekanand Patankar in the matter of M/s. Mega Corporation Limited': '1290074362455',\n",
              " 'Order against M/s Action Financial services (India) Limited in the matter of M/s Fast Track Entertainment Limited': '1290074876885',\n",
              " 'Adjudication order  against Bhankesh Bhavsar': '1290074791829',\n",
              " 'Adjudication order against Shri Prasad Tandel in the matter of Shree Yaxx Pharma and Cosmetics Limited': '1290074721107',\n",
              " 'Adjudication Order in respect of Bharat Nagindas Lakhani in the matter of Matra Realty Limited': '1290074666968',\n",
              " 'Adjudication order in respect of Rajesh M. Ranka in the matter of M/s Softrack Technology Exports Limited': '1290074599318',\n",
              " 'Adjudication Order in respect of S.K.Khemka in the matter of Brels Infotech Limited': '1290074635007',\n",
              " 'Adjudication Order in respect of Steel City Securities Ltd.': '1290074566126',\n",
              " 'Adjudication order  In respect of Shri. Vasant .C. Shah': '1290074487497',\n",
              " 'Adjudication order against Anushree Tradelink  Private Limited': '1290074522055',\n",
              " 'Adjudication order Against Shri Ashish P Shah[SAT Appeal No.252/2017]': '1290074316787',\n",
              " 'Adjudication Order passed against Ganesh Raut in the matter of M/s. Mega  Corporation Limited': '1290074404166',\n",
              " 'Adjudicationi order in the matter of Swarnganga Trading Private Limited': '1290074438345',\n",
              " 'Adjudication order Against Srijan Vyapar Private Limited': '1290074279906',\n",
              " 'Adjudication Order passed against Naidu Mohanbhai Narayanbhai in the matter of Karuna Cables Ltd144/2018]': '1290074241614',\n",
              " 'Adjudication order in the matter of Anil D Modi': '1290074081954',\n",
              " 'Adjudication Order in the matter of TLB Securities Pvt  Ltd': '1290074029964',\n",
              " 'Adjudication Order passed against Arwind Makwana in the matter of Karuna Cables Ltd142/2018][SAT Appeal No.:210/2018,[SAT Appeal No.:211/2018,[SAT Appeal No.:212/2018]': '1290073974537',\n",
              " 'Adjudication Order passed against Prajapati Ganeshbhai Punamchand in the matter of Karuna Cables Ltd143/2018]': '1290073928917',\n",
              " 'Adjudication Order in respect of Alok Jain in the matter of Matra Realty Limited': '1290073867822',\n",
              " 'Adjudication Order in respect of Nimish Kantilal Unadkhat in the matter of Matra Realty Limited': '1290073746323',\n",
              " 'Order in respect of Dimensional Securities Pvt. Ltd': '1290073698684',\n",
              " 'Adjudication order in respect of Right Finstock Limited in the matter of Innovision E-Commerce Limited': '1290073573750',\n",
              " 'Order iIn respect of  Shri Jagadish Savaji in the Matter of Shalibhadra Infosec Ltd': '1290073648890',\n",
              " 'Adjudication order in respect of Mr. Ashwani Kumar Mehra in the matter of  M/s Nageshwar Investment Limited': '1290073507851',\n",
              " 'Adjudication Order in the matter of MCS Ltd': '1290073447396',\n",
              " 'Adjudication order In Respect Of Canara Bank': '1290155261754',\n",
              " 'Adjudication order in the matter of Anushree Tradelink Private Limited': '1290155293956',\n",
              " 'Adjudication order in the matter of Scope Vyapar Private Limited': '1290155360220',\n",
              " 'Adjudication order in the matter of Srijan Vyapar Private Limited': '1290155389722',\n",
              " 'Adjudication order in the matter of Success Vyapar Private Limited': '1290155420336',\n",
              " 'Adjudication order in the matter of Swarnganga Trading Private Limited': '1290155330197',\n",
              " 'Adjudication Order against Jagatdal Jute and Industries Ltd. in the matter of Radiant Financial Services Ltd': '1290155152823',\n",
              " 'Adjudication Order against Mangalam Viniyog Pvt. Ltd. in the matter of Radiant Financial Services Ltd': '1290155225310',\n",
              " 'Adjudication Order against Shri Anurag Nopany in the matter of Radiant Financial Services Ltd': '1290155185503',\n",
              " 'Adjudication order in the matter of Shelter Vyapar Private Limited': '1290155120601',\n",
              " 'Adjudication order against Shri Surendra Kumar Kasera in the matter of SBEC Sugar Limited': '1290155006626',\n",
              " 'Adjudication order against Shri Vinod Khetan in the matter of Adani Exports Limited': '1290155090799',\n",
              " 'Adjudication Order in the matter of Indiabulls Securities Limited': '1290154969579',\n",
              " 'Adjudication Orders against  Jagruti Parikh  in the matter of JIK Industries Limited': '1290154894121',\n",
              " 'Adjudication Orders against  Jagruti Securities Limited in the matter of JIK Industries Limited': '1290154932704',\n",
              " 'Adjudication Orders against Rajendra parikh,  in the matter of JIK Industries Limited': '1290154857627',\n",
              " 'Adjudication Order in respect of SNR Share and Stock Services': '1290154818251',\n",
              " 'Adjudication Order against Ms. Arti Jain in the matter of M/s Fast Track Entertainment Limi': '1290154655367',\n",
              " 'Adjudication Order against Shri Sailesh Jain in the matter of M/s Fast Track Entertainment Limited': '1290154691315',\n",
              " 'Adjudication Order in respect of Angel Broking Ltd. in the matter of Channel Guide India Limited': '1290154724736',\n",
              " 'Adjudication order in the matter of HB stockholdings Ltd and others': '1290153996861'}"
            ]
          },
          "metadata": {},
          "execution_count": 18
        }
      ]
    },
    {
      "cell_type": "code",
      "source": [
        "df = pd.DataFrame(list(dict_pdf_ids.items()), columns=[\"Filename\", \"PDF-Ids\"])\n",
        "\n",
        "# Save to CSV\n",
        "df.to_csv(\"Order-and-pdfids.csv\", index=False)"
      ],
      "metadata": {
        "id": "EUaE4PAWl8NH"
      },
      "execution_count": 19,
      "outputs": []
    },
    {
      "cell_type": "code",
      "source": [
        "#Downloading all the pdfs\n",
        "import os\n",
        "import requests\n",
        "\n",
        "# Safe default headers (acts like a real browser)\n",
        "HEADERS = {\n",
        "    'User-Agent': (\n",
        "        'Mozilla/5.0 (Windows NT 10.0; Win64; x64) AppleWebKit/537.36 '\n",
        "        '(KHTML, like Gecko) Chrome/115.0.0.0 Safari/537.36'\n",
        "    ),\n",
        "    'Accept': 'application/pdf',\n",
        "    'Accept-Encoding': 'identity',\n",
        "    'Referer': 'https://www.sebi.gov.in/',\n",
        "    'Connection': 'keep-alive',\n",
        "}\n",
        "\n",
        "def download_and_rename_pdf(url, new_filename, save_dir=\".\"):\n",
        "    os.makedirs(save_dir, exist_ok=True)  # Create folder if needed\n",
        "\n",
        "    try:\n",
        "        response = requests.get(url, headers=HEADERS, timeout=15)\n",
        "\n",
        "        content_type = response.headers.get(\"Content-Type\", \"\")\n",
        "\n",
        "        if response.status_code == 200 and \"pdf\" in content_type:\n",
        "            file_path = os.path.join(save_dir, new_filename)\n",
        "            with open(file_path, \"wb\") as f:\n",
        "                f.write(response.content)\n",
        "            print(f\"✅ Downloaded: {file_path}\")\n",
        "            return file_path\n",
        "        else:\n",
        "            print(f\"❌ Failed — {url} | Status: {response.status_code} | Content-Type: {content_type}\")\n",
        "            return None\n",
        "\n",
        "    except Exception as e:\n",
        "        print(f\"❌ Exception while downloading {url}: {e}\")\n",
        "        return None\n"
      ],
      "metadata": {
        "id": "HgzRyuiHQrm9"
      },
      "execution_count": 20,
      "outputs": []
    },
    {
      "cell_type": "code",
      "source": [
        "downloaded1=[]\n",
        "failed1=[]"
      ],
      "metadata": {
        "id": "v0avmsFzQyOO"
      },
      "execution_count": 21,
      "outputs": []
    },
    {
      "cell_type": "code",
      "source": [
        "for name, id in tqdm(dict_pdf_ids.items()):\n",
        "    try:\n",
        "      url=f\"https://www.sebi.gov.in/sebi_data/attachdocs/{id}.pdf\"\n",
        "      download_and_rename_pdf(url, f\"{name}.pdf\", save_dir=\"pdfs1\")\n",
        "\n",
        "      downloaded1.append(name)\n",
        "      time.sleep(1)\n",
        "\n",
        "    except:\n",
        "      failed1.append(name)\n",
        "      print(f\"Failed to download- {name}:{url}\")"
      ],
      "metadata": {
        "colab": {
          "base_uri": "https://localhost:8080/"
        },
        "id": "_tgmXr6NQ00m",
        "outputId": "f42998a1-ef68-4cdd-f4a1-f3c812595e49"
      },
      "execution_count": 22,
      "outputs": [
        {
          "output_type": "stream",
          "name": "stderr",
          "text": [
            "\r  0%|          | 0/273 [00:00<?, ?it/s]"
          ]
        },
        {
          "output_type": "stream",
          "name": "stdout",
          "text": [
            "✅ Downloaded: pdfs1/Adjudication order in respect of Ahilya Commercial Pvt. Ltd. in the matter of Brahmanand Himghar Ltd.pdf\n"
          ]
        },
        {
          "output_type": "stream",
          "name": "stderr",
          "text": [
            "\r  0%|          | 1/273 [00:02<12:31,  2.76s/it]"
          ]
        },
        {
          "output_type": "stream",
          "name": "stdout",
          "text": [
            "✅ Downloaded: pdfs1/Adjudication order in respect of Mintage Electro Equipments Ltd.pdf\n"
          ]
        },
        {
          "output_type": "stream",
          "name": "stderr",
          "text": [
            "\r  1%|          | 2/273 [00:04<09:23,  2.08s/it]"
          ]
        },
        {
          "output_type": "stream",
          "name": "stdout",
          "text": [
            "❌ Exception while downloading https://www.sebi.gov.in/sebi_data/attachdocs/1289815248742.pdf: [Errno 2] No such file or directory: 'pdfs1/Adjudication Order against Shri Prasad Tandel in the matter of M/s Fast Track Entertainment Limited.pdf'\n"
          ]
        },
        {
          "output_type": "stream",
          "name": "stderr",
          "text": [
            "\r  1%|          | 3/273 [00:06<08:35,  1.91s/it]"
          ]
        },
        {
          "output_type": "stream",
          "name": "stdout",
          "text": [
            "✅ Downloaded: pdfs1/Adjudication order in respect of Clock Sign Trading Co. Pvt. Ltd. in the matter of Global Capital Markets Ltd.pdf\n"
          ]
        },
        {
          "output_type": "stream",
          "name": "stderr",
          "text": [
            "\r  1%|▏         | 4/273 [00:08<09:03,  2.02s/it]"
          ]
        },
        {
          "output_type": "stream",
          "name": "stdout",
          "text": [
            "✅ Downloaded: pdfs1/Adjudication order In respect of Eupharma Laboratories Limited.pdf\n"
          ]
        },
        {
          "output_type": "stream",
          "name": "stderr",
          "text": [
            "\r  2%|▏         | 5/273 [00:09<08:30,  1.91s/it]"
          ]
        },
        {
          "output_type": "stream",
          "name": "stdout",
          "text": [
            "✅ Downloaded: pdfs1/Adjudication Order in respect of Deepak B Desai in the matter of Gujarat Ambuja Export Limited.pdf\n"
          ]
        },
        {
          "output_type": "stream",
          "name": "stderr",
          "text": [
            "\r  2%|▏         | 6/273 [00:11<08:28,  1.90s/it]"
          ]
        },
        {
          "output_type": "stream",
          "name": "stdout",
          "text": [
            "✅ Downloaded: pdfs1/Adjudication Order in respect of Inventure Growth and Securities Limited in the matter of Gujarat Ambuja Export Limited.pdf\n"
          ]
        },
        {
          "output_type": "stream",
          "name": "stderr",
          "text": [
            "\r  3%|▎         | 7/273 [00:13<08:23,  1.89s/it]"
          ]
        },
        {
          "output_type": "stream",
          "name": "stdout",
          "text": [
            "❌ Exception while downloading https://www.sebi.gov.in/sebi_data/attachdocs/1289814868542.pdf: [Errno 2] No such file or directory: 'pdfs1/Adjudication Order passed against Santosh Narvekar in the matter of M/s. Mega Corporation Limited.pdf'\n"
          ]
        },
        {
          "output_type": "stream",
          "name": "stderr",
          "text": [
            "\r  3%|▎         | 8/273 [00:15<08:35,  1.95s/it]"
          ]
        },
        {
          "output_type": "stream",
          "name": "stdout",
          "text": [
            "❌ Exception while downloading https://www.sebi.gov.in/sebi_data/attachdocs/1289814922566.pdf: [Errno 2] No such file or directory: 'pdfs1/Adjudication Order passed against Vijay Suryavanshi in the matter of M/s. Mega Corporation Limited[SAT Appeal No.:74/2020 & Misc. App. No. 91/2020].pdf'\n"
          ]
        },
        {
          "output_type": "stream",
          "name": "stderr",
          "text": [
            "\r  3%|▎         | 9/273 [00:17<08:43,  1.98s/it]"
          ]
        },
        {
          "output_type": "stream",
          "name": "stdout",
          "text": [
            "✅ Downloaded: pdfs1/Adjudication Order passed against Ajit Suryavanshi in the matter of Mega Corporation Limited.pdf\n"
          ]
        },
        {
          "output_type": "stream",
          "name": "stderr",
          "text": [
            "\r  4%|▎         | 10/273 [00:19<08:49,  2.01s/it]"
          ]
        },
        {
          "output_type": "stream",
          "name": "stdout",
          "text": [
            "❌ Exception while downloading https://www.sebi.gov.in/sebi_data/attachdocs/1289814821760.pdf: [Errno 2] No such file or directory: 'pdfs1/Adjudication Order passed against M/s. Ramaben Samani Finance Ltd in the matter of M/s. Zigma Software Ltd.pdf'\n"
          ]
        },
        {
          "output_type": "stream",
          "name": "stderr",
          "text": [
            "\r  4%|▍         | 11/273 [00:22<09:04,  2.08s/it]"
          ]
        },
        {
          "output_type": "stream",
          "name": "stdout",
          "text": [
            "✅ Downloaded: pdfs1/Adjudication Order passed against Mr. Gaurav Raimalani in the matter of Karuna Cables Ltd.pdf\n"
          ]
        },
        {
          "output_type": "stream",
          "name": "stderr",
          "text": [
            "\r  4%|▍         | 12/273 [00:24<08:48,  2.02s/it]"
          ]
        },
        {
          "output_type": "stream",
          "name": "stdout",
          "text": [
            "✅ Downloaded: pdfs1/Adjudication Order passed against Mr. Murlidhar Raimalani in the matter of Karuna Cables Ltd.pdf\n"
          ]
        },
        {
          "output_type": "stream",
          "name": "stderr",
          "text": [
            "\r  5%|▍         | 13/273 [00:25<08:36,  1.99s/it]"
          ]
        },
        {
          "output_type": "stream",
          "name": "stdout",
          "text": [
            "✅ Downloaded: pdfs1/Adjudication Order passed against Ms. Kanchan Raimalani in the matter of Karuna Cables Ltd.pdf\n"
          ]
        },
        {
          "output_type": "stream",
          "name": "stderr",
          "text": [
            "\r  5%|▌         | 14/273 [00:27<08:27,  1.96s/it]"
          ]
        },
        {
          "output_type": "stream",
          "name": "stdout",
          "text": [
            "✅ Downloaded: pdfs1/Adjudication Order passed against Ms. Neelam Raimalani in the matter of Karuna Cables Ltd.pdf\n"
          ]
        },
        {
          "output_type": "stream",
          "name": "stderr",
          "text": [
            "\r  5%|▌         | 15/273 [00:29<08:25,  1.96s/it]"
          ]
        },
        {
          "output_type": "stream",
          "name": "stdout",
          "text": [
            "✅ Downloaded: pdfs1/Adjudication Order passed against Ms. Susheeladevi Raimalani in the matter of Karuna Cables Ltd.pdf\n"
          ]
        },
        {
          "output_type": "stream",
          "name": "stderr",
          "text": [
            "\r  6%|▌         | 16/273 [00:31<08:18,  1.94s/it]"
          ]
        },
        {
          "output_type": "stream",
          "name": "stdout",
          "text": [
            "✅ Downloaded: pdfs1/Adjudication order in respect of Mukesh Dokania & Co. in the matter of Minolta Finance Ltd.pdf\n"
          ]
        },
        {
          "output_type": "stream",
          "name": "stderr",
          "text": [
            "\r  6%|▌         | 17/273 [00:34<08:57,  2.10s/it]"
          ]
        },
        {
          "output_type": "stream",
          "name": "stdout",
          "text": [
            "✅ Downloaded: pdfs1/Adjudication Order against Gama Commerce Pvt. Ltd. in the matter of Amluckie Investment Company Limited..pdf\n"
          ]
        },
        {
          "output_type": "stream",
          "name": "stderr",
          "text": [
            "\r  7%|▋         | 18/273 [00:35<08:24,  1.98s/it]"
          ]
        },
        {
          "output_type": "stream",
          "name": "stdout",
          "text": [
            "✅ Downloaded: pdfs1/Adjudication order in respect of Ahilya Commercial Pvt. Ltd. in the matter of Minolta Finance Ltd.pdf\n"
          ]
        },
        {
          "output_type": "stream",
          "name": "stderr",
          "text": [
            "\r  7%|▋         | 19/273 [00:37<08:31,  2.01s/it]"
          ]
        },
        {
          "output_type": "stream",
          "name": "stdout",
          "text": [
            "✅ Downloaded: pdfs1/Adjudication order in respect of Basant Periwal & Co. in the matter of Minolta Finance Ltd.pdf\n"
          ]
        },
        {
          "output_type": "stream",
          "name": "stderr",
          "text": [
            "\r  7%|▋         | 20/273 [00:40<08:36,  2.04s/it]"
          ]
        },
        {
          "output_type": "stream",
          "name": "stdout",
          "text": [
            "✅ Downloaded: pdfs1/Adjudication order in respect of Rajendra Prasad Shah in the matter of Minolta Finance Ltd.pdf\n"
          ]
        },
        {
          "output_type": "stream",
          "name": "stderr",
          "text": [
            "\r  8%|▊         | 21/273 [00:42<08:40,  2.07s/it]"
          ]
        },
        {
          "output_type": "stream",
          "name": "stdout",
          "text": [
            "✅ Downloaded: pdfs1/Adjudication order in respect of Shri Ballabh Dass Daga in the matter of Minolta Finance Ltd.pdf\n"
          ]
        },
        {
          "output_type": "stream",
          "name": "stderr",
          "text": [
            "\r  8%|▊         | 22/273 [00:44<08:45,  2.09s/it]"
          ]
        },
        {
          "output_type": "stream",
          "name": "stdout",
          "text": [
            "❌ Exception while downloading https://www.sebi.gov.in/sebi_data/attachdocs/1289890492353.pdf: [Errno 2] No such file or directory: 'pdfs1/Adjudicating Order against Mr. Ranjan Verghese and other promoters/PACs in the matter of Vertex Securities Pvt. Ltd.pdf'\n"
          ]
        },
        {
          "output_type": "stream",
          "name": "stderr",
          "text": [
            "\r  8%|▊         | 23/273 [00:46<08:15,  1.98s/it]"
          ]
        },
        {
          "output_type": "stream",
          "name": "stdout",
          "text": [
            "❌ Exception while downloading https://www.sebi.gov.in/sebi_data/attachdocs/1289813962040.pdf: [Errno 2] No such file or directory: 'pdfs1/Adjudication order in respect of M/s Anushree Tradelink (P) Ltd. in the matter of Nageshwar Investment Ltd.pdf'\n"
          ]
        },
        {
          "output_type": "stream",
          "name": "stderr",
          "text": [
            "\r  9%|▉         | 24/273 [00:47<07:58,  1.92s/it]"
          ]
        },
        {
          "output_type": "stream",
          "name": "stdout",
          "text": [
            "❌ Exception while downloading https://www.sebi.gov.in/sebi_data/attachdocs/1289813930809.pdf: [Errno 2] No such file or directory: 'pdfs1/Adjudication order in respect of M/s Millennium Insurance Agent (P) Ltd. in the matter of Nageshwar Investment Ltd.pdf'\n"
          ]
        },
        {
          "output_type": "stream",
          "name": "stderr",
          "text": [
            "\r  9%|▉         | 25/273 [00:49<07:47,  1.88s/it]"
          ]
        },
        {
          "output_type": "stream",
          "name": "stdout",
          "text": [
            "❌ Exception while downloading https://www.sebi.gov.in/sebi_data/attachdocs/1289814006394.pdf: [Errno 2] No such file or directory: 'pdfs1/Adjudication order in respect of M/s Shriram Insight Share Brokers Ltd. in the matter of M/s Shriram Insight Share Brokers Ltd.pdf'\n"
          ]
        },
        {
          "output_type": "stream",
          "name": "stderr",
          "text": [
            "\r 10%|▉         | 26/273 [00:51<07:50,  1.90s/it]"
          ]
        },
        {
          "output_type": "stream",
          "name": "stdout",
          "text": [
            "❌ Exception while downloading https://www.sebi.gov.in/sebi_data/attachdocs/1289814077189.pdf: [Errno 2] No such file or directory: 'pdfs1/Adjudication order in respect of M/s Swarn Ganga Trading (P) Ltd. in the matter of Nageshwar Investment Ltd..pdf'\n"
          ]
        },
        {
          "output_type": "stream",
          "name": "stderr",
          "text": [
            "\r 10%|▉         | 27/273 [00:53<07:36,  1.86s/it]"
          ]
        },
        {
          "output_type": "stream",
          "name": "stdout",
          "text": [
            "✅ Downloaded: pdfs1/Adjudication Order in respect of Prakash Nahata and  Co. in the matter of Cyber Family. Com Limited.pdf\n"
          ]
        },
        {
          "output_type": "stream",
          "name": "stderr",
          "text": [
            "\r 10%|█         | 28/273 [00:55<07:35,  1.86s/it]"
          ]
        },
        {
          "output_type": "stream",
          "name": "stdout",
          "text": [
            "✅ Downloaded: pdfs1/Adjudication Order in respect of Bimex Exports Private Limited in the matter of Cyber Family. Com Limited.pdf\n"
          ]
        },
        {
          "output_type": "stream",
          "name": "stderr",
          "text": [
            "\r 11%|█         | 29/273 [00:56<07:23,  1.82s/it]"
          ]
        },
        {
          "output_type": "stream",
          "name": "stdout",
          "text": [
            "✅ Downloaded: pdfs1/Adjudication Order in respect of Deepraj Vinimay Private Limited in the matter of Cyber Family. Com Limited.pdf\n"
          ]
        },
        {
          "output_type": "stream",
          "name": "stderr",
          "text": [
            "\r 11%|█         | 30/273 [00:58<07:15,  1.79s/it]"
          ]
        },
        {
          "output_type": "stream",
          "name": "stdout",
          "text": [
            "❌ Exception while downloading https://www.sebi.gov.in/sebi_data/attachdocs/1289813739368.pdf: [Errno 2] No such file or directory: 'pdfs1/Adjudication Order in respect of M/s Ramakant Sales and  Services (P) Ltd. in the matter of Cyber Family. Com Limited.pdf'\n"
          ]
        },
        {
          "output_type": "stream",
          "name": "stderr",
          "text": [
            "\r 11%|█▏        | 31/273 [01:00<07:09,  1.78s/it]"
          ]
        },
        {
          "output_type": "stream",
          "name": "stdout",
          "text": [
            "✅ Downloaded: pdfs1/Adjudication Order in respect of Sarash Trading Private Limited in the matter of Cyber Family. Com Limited.pdf\n"
          ]
        },
        {
          "output_type": "stream",
          "name": "stderr",
          "text": [
            "\r 12%|█▏        | 32/273 [01:02<07:05,  1.77s/it]"
          ]
        },
        {
          "output_type": "stream",
          "name": "stdout",
          "text": [
            "✅ Downloaded: pdfs1/Adjudication Order against Galaxy Broking Ltd. in the matter of K Sera Sera Productions Ltd.pdf\n"
          ]
        },
        {
          "output_type": "stream",
          "name": "stderr",
          "text": [
            "\r 12%|█▏        | 33/273 [01:04<07:17,  1.82s/it]"
          ]
        },
        {
          "output_type": "stream",
          "name": "stdout",
          "text": [
            "✅ Downloaded: pdfs1/Adjudication Order against Triumph International Finance India Ltd. in the matter of Adani Exports Ltd.pdf\n"
          ]
        },
        {
          "output_type": "stream",
          "name": "stderr",
          "text": [
            "\r 12%|█▏        | 34/273 [01:05<07:14,  1.82s/it]"
          ]
        },
        {
          "output_type": "stream",
          "name": "stdout",
          "text": [
            "✅ Downloaded: pdfs1/Adjudication Order against Baij Krishna and  Co. in the matter of Toplight Commercial Limited.pdf\n"
          ]
        },
        {
          "output_type": "stream",
          "name": "stderr",
          "text": [
            "\r 13%|█▎        | 35/273 [01:07<07:08,  1.80s/it]"
          ]
        },
        {
          "output_type": "stream",
          "name": "stdout",
          "text": [
            "✅ Downloaded: pdfs1/Adjudication Order against Hem Kanak Mercantile Pvt. Ltd. in the matter of Jindal Drilling and Industries Ltd.pdf\n"
          ]
        },
        {
          "output_type": "stream",
          "name": "stderr",
          "text": [
            "\r 13%|█▎        | 36/273 [01:09<07:02,  1.78s/it]"
          ]
        },
        {
          "output_type": "stream",
          "name": "stdout",
          "text": [
            "✅ Downloaded: pdfs1/Adjudication Order against Ms. Premlata Nathany in the matter of Toplight Commercial Limited.pdf\n"
          ]
        },
        {
          "output_type": "stream",
          "name": "stderr",
          "text": [
            "\r 14%|█▎        | 37/273 [01:11<06:57,  1.77s/it]"
          ]
        },
        {
          "output_type": "stream",
          "name": "stdout",
          "text": [
            "✅ Downloaded: pdfs1/Adjudication Order against Shri Ramkrishna Dudwawala in the matter of Toplight Commercial Limited.pdf\n"
          ]
        },
        {
          "output_type": "stream",
          "name": "stderr",
          "text": [
            "\r 14%|█▍        | 38/273 [01:12<06:56,  1.77s/it]"
          ]
        },
        {
          "output_type": "stream",
          "name": "stdout",
          "text": [
            "❌ Exception while downloading https://www.sebi.gov.in/sebi_data/attachdocs/1289890327524.pdf: [Errno 2] No such file or directory: 'pdfs1/Adjudication Order against M/s Vijay Bhagwandas and  Co. in the matter of M/s Karuna Cable Limited.pdf'\n"
          ]
        },
        {
          "output_type": "stream",
          "name": "stderr",
          "text": [
            "\r 14%|█▍        | 39/273 [01:14<06:54,  1.77s/it]"
          ]
        },
        {
          "output_type": "stream",
          "name": "stdout",
          "text": [
            "❌ Exception while downloading https://www.sebi.gov.in/sebi_data/attachdocs/1289890293121.pdf: [Errno 2] No such file or directory: 'pdfs1/Adjudication Order against Shri Jitendra Bharambe in the matter of M/s Fast Track Entertainment Limited.pdf'\n"
          ]
        },
        {
          "output_type": "stream",
          "name": "stderr",
          "text": [
            "\r 15%|█▍        | 40/273 [01:16<06:40,  1.72s/it]"
          ]
        },
        {
          "output_type": "stream",
          "name": "stdout",
          "text": [
            "❌ Exception while downloading https://www.sebi.gov.in/sebi_data/attachdocs/1289890258122.pdf: [Errno 2] No such file or directory: 'pdfs1/Adjudication Order against M/s Rajesh Panchal in the matter of M/s Fast Track Entertainment Limited.pdf'\n"
          ]
        },
        {
          "output_type": "stream",
          "name": "stderr",
          "text": [
            "\r 15%|█▌        | 41/273 [01:18<06:44,  1.74s/it]"
          ]
        },
        {
          "output_type": "stream",
          "name": "stdout",
          "text": [
            "✅ Downloaded: pdfs1/Adjudication order against OC Oerlikon Corporation AG, Pfaffikon and W. Reiners Verwaltungs GmbH.pdf\n"
          ]
        },
        {
          "output_type": "stream",
          "name": "stderr",
          "text": [
            "\r 15%|█▌        | 42/273 [01:19<06:43,  1.75s/it]"
          ]
        },
        {
          "output_type": "stream",
          "name": "stdout",
          "text": [
            "✅ Downloaded: pdfs1/Adjudication order against Satya Securities Ltd. and Basant Marketing pvt. Ltd. in the matter of Granules India Ltd.pdf\n"
          ]
        },
        {
          "output_type": "stream",
          "name": "stderr",
          "text": [
            "\r 16%|█▌        | 43/273 [01:21<07:06,  1.85s/it]"
          ]
        },
        {
          "output_type": "stream",
          "name": "stdout",
          "text": [
            "❌ Exception while downloading https://www.sebi.gov.in/sebi_data/attachdocs/1289890187128.pdf: [Errno 2] No such file or directory: 'pdfs1/Adjudication order passed against Jayesh Waghela in the matter of M/s. Mega Corporation Limited.pdf'\n"
          ]
        },
        {
          "output_type": "stream",
          "name": "stderr",
          "text": [
            "\r 16%|█▌        | 44/273 [01:24<07:22,  1.93s/it]"
          ]
        },
        {
          "output_type": "stream",
          "name": "stdout",
          "text": [
            "❌ Exception while downloading https://www.sebi.gov.in/sebi_data/attachdocs/1289890123357.pdf: [Errno 2] No such file or directory: 'pdfs1/Adjudication order passed against Umesh Choukekar in the matter of M/s. Mega Corporation Limited.pdf'\n"
          ]
        },
        {
          "output_type": "stream",
          "name": "stderr",
          "text": [
            "\r 16%|█▋        | 45/273 [01:26<07:35,  2.00s/it]"
          ]
        },
        {
          "output_type": "stream",
          "name": "stdout",
          "text": [
            "❌ Exception while downloading https://www.sebi.gov.in/sebi_data/attachdocs/1289890083361.pdf: [Errno 2] No such file or directory: 'pdfs1/Adjudication Order passed against Dattu Shitole in the matter of M/s. Mega Corporation Limited.pdf'\n"
          ]
        },
        {
          "output_type": "stream",
          "name": "stderr",
          "text": [
            "\r 17%|█▋        | 46/273 [01:28<07:42,  2.04s/it]"
          ]
        },
        {
          "output_type": "stream",
          "name": "stdout",
          "text": [
            "❌ Exception while downloading https://www.sebi.gov.in/sebi_data/attachdocs/1289890039979.pdf: [Errno 2] No such file or directory: 'pdfs1/Adjudication Order against M/s Abhinandan Fintex Pvt. Ltd. in the matter of M/s Bacchhat Investment and Finance Limited.pdf'\n"
          ]
        },
        {
          "output_type": "stream",
          "name": "stderr",
          "text": [
            "\r 17%|█▋        | 47/273 [01:30<07:14,  1.92s/it]"
          ]
        },
        {
          "output_type": "stream",
          "name": "stdout",
          "text": [
            "❌ Exception while downloading https://www.sebi.gov.in/sebi_data/attachdocs/1289890012013.pdf: [Errno 2] No such file or directory: 'pdfs1/Adjudication order against Mr. Bipin Shah in the matter of Karuna Cables Ltd[SAT Appeal No.:200/2016][SAT Appeal No.:198/2016].pdf'\n"
          ]
        },
        {
          "output_type": "stream",
          "name": "stderr",
          "text": [
            "\r 18%|█▊        | 48/273 [01:31<07:14,  1.93s/it]"
          ]
        },
        {
          "output_type": "stream",
          "name": "stdout",
          "text": [
            "❌ Exception while downloading https://www.sebi.gov.in/sebi_data/attachdocs/1289889980177.pdf: [Errno 2] No such file or directory: 'pdfs1/Adjudication order against Ms. Bhavana Bipin Shah in the matter of Karuna Cables Ltd[SAT Appeal No.:199/2016][SAT Appeal No.:197/2016].pdf'\n"
          ]
        },
        {
          "output_type": "stream",
          "name": "stderr",
          "text": [
            "\r 18%|█▊        | 49/273 [01:33<07:13,  1.94s/it]"
          ]
        },
        {
          "output_type": "stream",
          "name": "stdout",
          "text": [
            "✅ Downloaded: pdfs1/Adjudication Order in respect of Naman Securities and Finance Pvt. Ltd. in the matter of Adani Exports Ltd.pdf\n"
          ]
        },
        {
          "output_type": "stream",
          "name": "stderr",
          "text": [
            "\r 18%|█▊        | 50/273 [01:36<07:32,  2.03s/it]"
          ]
        },
        {
          "output_type": "stream",
          "name": "stdout",
          "text": [
            "✅ Downloaded: pdfs1/Adjudication order of Rishabh Stock Broking Services Pvt. Ltd.pdf\n"
          ]
        },
        {
          "output_type": "stream",
          "name": "stderr",
          "text": [
            "\r 19%|█▊        | 51/273 [01:38<07:31,  2.04s/it]"
          ]
        },
        {
          "output_type": "stream",
          "name": "stdout",
          "text": [
            "❌ Exception while downloading https://www.sebi.gov.in/sebi_data/attachdocs/1289889892159.pdf: [Errno 2] No such file or directory: 'pdfs1/Adjudication Order  against M/s. Mansukh Securities and Finance Limited.pdf'\n"
          ]
        },
        {
          "output_type": "stream",
          "name": "stderr",
          "text": [
            "\r 19%|█▉        | 52/273 [01:40<07:39,  2.08s/it]"
          ]
        },
        {
          "output_type": "stream",
          "name": "stdout",
          "text": [
            "✅ Downloaded: pdfs1/Adjudication order in respect of Late Mrs. Putal Kavar.pdf\n"
          ]
        },
        {
          "output_type": "stream",
          "name": "stderr",
          "text": [
            "\r 19%|█▉        | 53/273 [01:42<07:13,  1.97s/it]"
          ]
        },
        {
          "output_type": "stream",
          "name": "stdout",
          "text": [
            "✅ Downloaded: pdfs1/Adjudication Order in respect of P. K. Agarwal and Co in the matter of Cyber Family. Com Limited.pdf\n"
          ]
        },
        {
          "output_type": "stream",
          "name": "stderr",
          "text": [
            "\r 20%|█▉        | 54/273 [01:44<07:06,  1.95s/it]"
          ]
        },
        {
          "output_type": "stream",
          "name": "stdout",
          "text": [
            "✅ Downloaded: pdfs1/Order against Celica Developers Private Limited.pdf\n"
          ]
        },
        {
          "output_type": "stream",
          "name": "stderr",
          "text": [
            "\r 20%|██        | 55/273 [01:45<07:04,  1.95s/it]"
          ]
        },
        {
          "output_type": "stream",
          "name": "stdout",
          "text": [
            "✅ Downloaded: pdfs1/Adjudication order in respect of Jyotsenaben M Shah.pdf\n"
          ]
        },
        {
          "output_type": "stream",
          "name": "stderr",
          "text": [
            "\r 21%|██        | 56/273 [01:47<06:59,  1.93s/it]"
          ]
        },
        {
          "output_type": "stream",
          "name": "stdout",
          "text": [
            "❌ Exception while downloading https://www.sebi.gov.in/sebi_data/attachdocs/1289889748983.pdf: [Errno 2] No such file or directory: 'pdfs1/Adjudication Order in respect of M/s. India Infoline Ltd. in the matter of GHCL Ltd.pdf'\n"
          ]
        },
        {
          "output_type": "stream",
          "name": "stderr",
          "text": [
            "\r 21%|██        | 57/273 [01:49<06:42,  1.86s/it]"
          ]
        },
        {
          "output_type": "stream",
          "name": "stdout",
          "text": [
            "❌ Exception while downloading https://www.sebi.gov.in/sebi_data/attachdocs/1289889674428.pdf: [Errno 2] No such file or directory: 'pdfs1/Adjudication order in respect of M/s Alpha Hi Tech Fuel Limited in the matter of M/s Alpha Hi Tech Fuel Limited.pdf'\n"
          ]
        },
        {
          "output_type": "stream",
          "name": "stderr",
          "text": [
            "\r 21%|██        | 58/273 [01:51<06:39,  1.86s/it]"
          ]
        },
        {
          "output_type": "stream",
          "name": "stdout",
          "text": [
            "✅ Downloaded: pdfs1/Adjudication order of  Murari lal Goenka in the matter of BSR Finance and Construction Ltd.pdf\n"
          ]
        },
        {
          "output_type": "stream",
          "name": "stderr",
          "text": [
            "\r 22%|██▏       | 59/273 [01:53<06:55,  1.94s/it]"
          ]
        },
        {
          "output_type": "stream",
          "name": "stdout",
          "text": [
            "✅ Downloaded: pdfs1/Adjudication order of Prakash Nahata in the matter of BSR Finance and Construction Ltd.pdf\n"
          ]
        },
        {
          "output_type": "stream",
          "name": "stderr",
          "text": [
            "\r 22%|██▏       | 60/273 [01:55<07:19,  2.07s/it]"
          ]
        },
        {
          "output_type": "stream",
          "name": "stdout",
          "text": [
            "✅ Downloaded: pdfs1/Adjudication order of Rajrathan Financial Services Ltd.pdf\n"
          ]
        },
        {
          "output_type": "stream",
          "name": "stderr",
          "text": [
            "\r 22%|██▏       | 61/273 [01:57<07:18,  2.07s/it]"
          ]
        },
        {
          "output_type": "stream",
          "name": "stdout",
          "text": [
            "✅ Downloaded: pdfs1/Adjudication order of Sanju Kabra in the matter of BSR Finance and Construction Ltd.pdf\n"
          ]
        },
        {
          "output_type": "stream",
          "name": "stderr",
          "text": [
            "\r 23%|██▎       | 62/273 [02:00<07:22,  2.10s/it]"
          ]
        },
        {
          "output_type": "stream",
          "name": "stdout",
          "text": [
            "✅ Downloaded: pdfs1/Adjudication order of Shadilal Chopra in the matter of Atlanta Ltd.pdf\n"
          ]
        },
        {
          "output_type": "stream",
          "name": "stderr",
          "text": [
            "\r 23%|██▎       | 63/273 [02:03<08:09,  2.33s/it]"
          ]
        },
        {
          "output_type": "stream",
          "name": "stdout",
          "text": [
            "✅ Downloaded: pdfs1/Adjudication Order in respect of Alpa Haren Shah in the matter of Alpha Hi Tech Fuel Limited.pdf\n"
          ]
        },
        {
          "output_type": "stream",
          "name": "stderr",
          "text": [
            "\r 23%|██▎       | 64/273 [02:04<07:21,  2.11s/it]"
          ]
        },
        {
          "output_type": "stream",
          "name": "stdout",
          "text": [
            "✅ Downloaded: pdfs1/Adjudication Order in respect of Bhanuben Jaisukhlal Shah in the matter of Alpha Hi Tech Fuel Limited.pdf\n"
          ]
        },
        {
          "output_type": "stream",
          "name": "stderr",
          "text": [
            "\r 24%|██▍       | 65/273 [02:06<06:43,  1.94s/it]"
          ]
        },
        {
          "output_type": "stream",
          "name": "stdout",
          "text": [
            "✅ Downloaded: pdfs1/Adjudication order in the matter of Coromadal Fertilizers Ltd. against Bhagwandas Agarwal.pdf\n"
          ]
        },
        {
          "output_type": "stream",
          "name": "stderr",
          "text": [
            "\r 24%|██▍       | 66/273 [02:07<06:31,  1.89s/it]"
          ]
        },
        {
          "output_type": "stream",
          "name": "stdout",
          "text": [
            "✅ Downloaded: pdfs1/Adjudication order in the matter of Coromadal Fertilizers Ltd. against Gopal Kumar Agarwal.pdf\n"
          ]
        },
        {
          "output_type": "stream",
          "name": "stderr",
          "text": [
            "\r 25%|██▍       | 67/273 [02:09<06:23,  1.86s/it]"
          ]
        },
        {
          "output_type": "stream",
          "name": "stdout",
          "text": [
            "❌ Exception while downloading https://www.sebi.gov.in/sebi_data/attachdocs/1289889393896.pdf: [Errno 2] No such file or directory: 'pdfs1/Adjudication order in the matter of Coromadal Fertilizers Ltd. against K.Venkatraman[SAT Appeal No.:12/2021 & Misc. App. No. 78/2021].pdf'\n"
          ]
        },
        {
          "output_type": "stream",
          "name": "stderr",
          "text": [
            "\r 25%|██▍       | 68/273 [02:11<06:11,  1.81s/it]"
          ]
        },
        {
          "output_type": "stream",
          "name": "stdout",
          "text": [
            "✅ Downloaded: pdfs1/Adjudication order in the matter of Coromadal Fertilizers Ltd. against Shankar Aggarwal.pdf\n"
          ]
        },
        {
          "output_type": "stream",
          "name": "stderr",
          "text": [
            "\r 25%|██▌       | 69/273 [02:13<06:09,  1.81s/it]"
          ]
        },
        {
          "output_type": "stream",
          "name": "stdout",
          "text": [
            "✅ Downloaded: pdfs1/Adjudication order in the matter of Karuna Cables Ltd. against Adolf Pinto.pdf\n"
          ]
        },
        {
          "output_type": "stream",
          "name": "stderr",
          "text": [
            "\r 26%|██▌       | 70/273 [02:15<06:11,  1.83s/it]"
          ]
        },
        {
          "output_type": "stream",
          "name": "stdout",
          "text": [
            "✅ Downloaded: pdfs1/Adjudication Order against Ms. Gillian Pinto in the matter of K Sera Sera Production Ltd.pdf\n"
          ]
        },
        {
          "output_type": "stream",
          "name": "stderr",
          "text": [
            "\r 26%|██▌       | 71/273 [02:17<06:18,  1.87s/it]"
          ]
        },
        {
          "output_type": "stream",
          "name": "stdout",
          "text": [
            "✅ Downloaded: pdfs1/Adjudication Order against Shri Adolf Pinto in the matter of K Sera Sera Production Ltd.pdf\n"
          ]
        },
        {
          "output_type": "stream",
          "name": "stderr",
          "text": [
            "\r 26%|██▋       | 72/273 [02:19<06:21,  1.90s/it]"
          ]
        },
        {
          "output_type": "stream",
          "name": "stdout",
          "text": [
            "✅ Downloaded: pdfs1/Adjudication Order aginst Shri Kenneth Pinto in the matter of K Sera Sera Production Ltd.pdf\n"
          ]
        },
        {
          "output_type": "stream",
          "name": "stderr",
          "text": [
            "\r 27%|██▋       | 73/273 [02:20<06:19,  1.90s/it]"
          ]
        },
        {
          "output_type": "stream",
          "name": "stdout",
          "text": [
            "✅ Downloaded: pdfs1/Adjudication order in the matter of Karuna Cables against  Harikishan Hiralal.pdf\n"
          ]
        },
        {
          "output_type": "stream",
          "name": "stderr",
          "text": [
            "\r 27%|██▋       | 74/273 [02:22<06:17,  1.90s/it]"
          ]
        },
        {
          "output_type": "stream",
          "name": "stdout",
          "text": [
            "✅ Downloaded: pdfs1/Adjudication order in the matter of Karuna Cables against  Sanchay Fincom Ltd.pdf\n"
          ]
        },
        {
          "output_type": "stream",
          "name": "stderr",
          "text": [
            "\r 27%|██▋       | 75/273 [02:24<05:58,  1.81s/it]"
          ]
        },
        {
          "output_type": "stream",
          "name": "stdout",
          "text": [
            "✅ Downloaded: pdfs1/Adjudication order in the matter of Karuna Cables against Penninsular Capital Market Ltd.pdf\n"
          ]
        },
        {
          "output_type": "stream",
          "name": "stderr",
          "text": [
            "\r 28%|██▊       | 76/273 [02:26<05:50,  1.78s/it]"
          ]
        },
        {
          "output_type": "stream",
          "name": "stdout",
          "text": [
            "❌ Exception while downloading https://www.sebi.gov.in/sebi_data/attachdocs/1289889072804.pdf: [Errno 2] No such file or directory: 'pdfs1/Order against Shri Dhaval Jhaveri in the mater of investigations in the scrip M/s Blue Information Technology Ltd.pdf'\n"
          ]
        },
        {
          "output_type": "stream",
          "name": "stderr",
          "text": [
            "\r 28%|██▊       | 77/273 [02:28<06:04,  1.86s/it]"
          ]
        },
        {
          "output_type": "stream",
          "name": "stdout",
          "text": [
            "✅ Downloaded: pdfs1/Adjudication Order in respect of Cyber Family.Com Limited in the matter of Cyber Family. Com Limited.pdf\n"
          ]
        },
        {
          "output_type": "stream",
          "name": "stderr",
          "text": [
            "\r 29%|██▊       | 78/273 [02:30<06:15,  1.93s/it]"
          ]
        },
        {
          "output_type": "stream",
          "name": "stdout",
          "text": [
            "✅ Downloaded: pdfs1/Adjudication Order in respect of Pramod Kumar Kothari in the matter of Cyber Family. Com Limited.pdf\n"
          ]
        },
        {
          "output_type": "stream",
          "name": "stderr",
          "text": [
            "\r 29%|██▉       | 79/273 [02:32<06:12,  1.92s/it]"
          ]
        },
        {
          "output_type": "stream",
          "name": "stdout",
          "text": [
            "✅ Downloaded: pdfs1/Adjudication Order in respect of Sanchay Fincom Limited in the matter of Adani Exports Ltd.pdf\n"
          ]
        },
        {
          "output_type": "stream",
          "name": "stderr",
          "text": [
            "\r 29%|██▉       | 80/273 [02:34<06:12,  1.93s/it]"
          ]
        },
        {
          "output_type": "stream",
          "name": "stdout",
          "text": [
            "✅ Downloaded: pdfs1/Adjudication Order in respect of Sanchay Finvest Limited in the matter of Adani Exports Ltd.pdf\n"
          ]
        },
        {
          "output_type": "stream",
          "name": "stderr",
          "text": [
            "\r 30%|██▉       | 81/273 [02:36<06:12,  1.94s/it]"
          ]
        },
        {
          "output_type": "stream",
          "name": "stdout",
          "text": [
            "✅ Downloaded: pdfs1/Adjudication order in the matter of Karuna Cables against Vijaykumar J. Thakkar.pdf\n"
          ]
        },
        {
          "output_type": "stream",
          "name": "stderr",
          "text": [
            "\r 30%|███       | 82/273 [02:37<05:53,  1.85s/it]"
          ]
        },
        {
          "output_type": "stream",
          "name": "stdout",
          "text": [
            "❌ Exception while downloading https://www.sebi.gov.in/sebi_data/attachdocs/1289888649979.pdf: [Errno 2] No such file or directory: 'pdfs1/Adjudication Order in respect of M/s. E Stocks Inc in the matter of Adani Exports Ltd.pdf'\n"
          ]
        },
        {
          "output_type": "stream",
          "name": "stderr",
          "text": [
            "\r 30%|███       | 83/273 [02:39<05:57,  1.88s/it]"
          ]
        },
        {
          "output_type": "stream",
          "name": "stdout",
          "text": [
            "✅ Downloaded: pdfs1/Adjudication Orders in the matter of Karuna Cables against  S.P. Jain Securities Pvt. Ltd..pdf\n"
          ]
        },
        {
          "output_type": "stream",
          "name": "stderr",
          "text": [
            "\r 31%|███       | 84/273 [02:41<05:42,  1.81s/it]"
          ]
        },
        {
          "output_type": "stream",
          "name": "stdout",
          "text": [
            "✅ Downloaded: pdfs1/Adjudication Orders in the matter of Karuna Cables against Galaxy Broking Ltd.pdf\n"
          ]
        },
        {
          "output_type": "stream",
          "name": "stderr",
          "text": [
            "\r 31%|███       | 85/273 [02:42<05:31,  1.76s/it]"
          ]
        },
        {
          "output_type": "stream",
          "name": "stdout",
          "text": [
            "✅ Downloaded: pdfs1/Adjudication order in respecst of Mafatlal K. Bhansali in the matter of Nissan Copper Ltd.pdf\n"
          ]
        },
        {
          "output_type": "stream",
          "name": "stderr",
          "text": [
            "\r 32%|███▏      | 86/273 [02:44<05:23,  1.73s/it]"
          ]
        },
        {
          "output_type": "stream",
          "name": "stdout",
          "text": [
            "✅ Downloaded: pdfs1/Adjudication order in respect of Babiben Bhansali in the matter of Nissan Copper Ltd.pdf\n"
          ]
        },
        {
          "output_type": "stream",
          "name": "stderr",
          "text": [
            "\r 32%|███▏      | 87/273 [02:46<05:55,  1.91s/it]"
          ]
        },
        {
          "output_type": "stream",
          "name": "stdout",
          "text": [
            "✅ Downloaded: pdfs1/Adjudication order in respect of Beenaben Bhansali in the matter of Nissan Copper Ltd.pdf\n"
          ]
        },
        {
          "output_type": "stream",
          "name": "stderr",
          "text": [
            "\r 32%|███▏      | 88/273 [02:48<05:44,  1.86s/it]"
          ]
        },
        {
          "output_type": "stream",
          "name": "stdout",
          "text": [
            "✅ Downloaded: pdfs1/Adjudication order in respect of Fairy Vishal Bhansali in the matter of Nissan Copper Ltd.pdf\n"
          ]
        },
        {
          "output_type": "stream",
          "name": "stderr",
          "text": [
            "\r 33%|███▎      | 89/273 [02:50<05:54,  1.92s/it]"
          ]
        },
        {
          "output_type": "stream",
          "name": "stdout",
          "text": [
            "✅ Downloaded: pdfs1/Adjudication order in respect of Jyotshna Bhansali in the matter of Nissan Copper Ltd.pdf\n"
          ]
        },
        {
          "output_type": "stream",
          "name": "stderr",
          "text": [
            "\r 33%|███▎      | 90/273 [02:52<05:47,  1.90s/it]"
          ]
        },
        {
          "output_type": "stream",
          "name": "stdout",
          "text": [
            "✅ Downloaded: pdfs1/Adjudication order in respect of Navya Bhansali in the matter of Nissan Copper Ltd.pdf\n"
          ]
        },
        {
          "output_type": "stream",
          "name": "stderr",
          "text": [
            "\r 33%|███▎      | 91/273 [02:54<05:55,  1.95s/it]"
          ]
        },
        {
          "output_type": "stream",
          "name": "stdout",
          "text": [
            "✅ Downloaded: pdfs1/Adjudication order in respect of Piyush M. Bhansali in the matter of Nissan Copper Ltd.pdf\n"
          ]
        },
        {
          "output_type": "stream",
          "name": "stderr",
          "text": [
            "\r 34%|███▎      | 92/273 [02:56<06:00,  1.99s/it]"
          ]
        },
        {
          "output_type": "stream",
          "name": "stdout",
          "text": [
            "✅ Downloaded: pdfs1/Adjudication order in respect of Puja Piyushkumar Bhansali in the matter of Nissan Copper Ltd.pdf\n"
          ]
        },
        {
          "output_type": "stream",
          "name": "stderr",
          "text": [
            "\r 34%|███▍      | 93/273 [02:58<06:03,  2.02s/it]"
          ]
        },
        {
          "output_type": "stream",
          "name": "stdout",
          "text": [
            "✅ Downloaded: pdfs1/Adjudication order in respect of Purviben Bhansali in the matter of Nissan Copper Ltd.pdf\n"
          ]
        },
        {
          "output_type": "stream",
          "name": "stderr",
          "text": [
            "\r 34%|███▍      | 94/273 [03:00<05:47,  1.94s/it]"
          ]
        },
        {
          "output_type": "stream",
          "name": "stdout",
          "text": [
            "✅ Downloaded: pdfs1/Adjudication order in respect of Raj P. Bhansali in the matter of Nissan Copper Ltd.pdf\n"
          ]
        },
        {
          "output_type": "stream",
          "name": "stderr",
          "text": [
            "\r 35%|███▍      | 95/273 [03:02<05:56,  2.00s/it]"
          ]
        },
        {
          "output_type": "stream",
          "name": "stdout",
          "text": [
            "✅ Downloaded: pdfs1/Adjudication order in respect of Rajnikant Bhansali in the matter of Nissan Copper Ltd - HUF.pdf\n"
          ]
        },
        {
          "output_type": "stream",
          "name": "stderr",
          "text": [
            "\r 35%|███▌      | 96/273 [03:04<05:58,  2.03s/it]"
          ]
        },
        {
          "output_type": "stream",
          "name": "stdout",
          "text": [
            "✅ Downloaded: pdfs1/Adjudication order in respect of Rajnikant M. Bhansali in the matter of Nissan Copper Ltd.pdf\n"
          ]
        },
        {
          "output_type": "stream",
          "name": "stderr",
          "text": [
            "\r 36%|███▌      | 97/273 [03:06<05:43,  1.95s/it]"
          ]
        },
        {
          "output_type": "stream",
          "name": "stdout",
          "text": [
            "✅ Downloaded: pdfs1/Adjudication order in respect of Riki R.Bhansali in the matter of Nissan Copper Ltd.pdf\n"
          ]
        },
        {
          "output_type": "stream",
          "name": "stderr",
          "text": [
            "\r 36%|███▌      | 98/273 [03:08<05:47,  1.98s/it]"
          ]
        },
        {
          "output_type": "stream",
          "name": "stdout",
          "text": [
            "✅ Downloaded: pdfs1/Adjudication order in respect of Vishal R. Bhansali in the matter of Nissan Copper Ltd.pdf\n"
          ]
        },
        {
          "output_type": "stream",
          "name": "stderr",
          "text": [
            "\r 36%|███▋      | 99/273 [03:10<05:50,  2.01s/it]"
          ]
        },
        {
          "output_type": "stream",
          "name": "stdout",
          "text": [
            "✅ Downloaded: pdfs1/Adjudication order in respect of Yesha P. Bhansali in the matter of Nissan Copper Ltd.pdf\n"
          ]
        },
        {
          "output_type": "stream",
          "name": "stderr",
          "text": [
            "\r 37%|███▋      | 100/273 [03:12<05:50,  2.02s/it]"
          ]
        },
        {
          "output_type": "stream",
          "name": "stdout",
          "text": [
            "✅ Downloaded: pdfs1/Adjudication order in respect of Yogesh M. Bhansali in the matter of Nissan Copper Ltd.pdf\n"
          ]
        },
        {
          "output_type": "stream",
          "name": "stderr",
          "text": [
            "\r 37%|███▋      | 101/273 [03:14<05:34,  1.94s/it]"
          ]
        },
        {
          "output_type": "stream",
          "name": "stdout",
          "text": [
            "✅ Downloaded: pdfs1/Adjudication order in respect of Yogesh Mafatlal Bhansali in the matter of Nissan Copper Limited.pdf\n"
          ]
        },
        {
          "output_type": "stream",
          "name": "stderr",
          "text": [
            "\r 37%|███▋      | 102/273 [03:16<05:22,  1.88s/it]"
          ]
        },
        {
          "output_type": "stream",
          "name": "stdout",
          "text": [
            "✅ Downloaded: pdfs1/Adjudication order of Varun Y. Bhansali in the matter of Nissan Copper Ltd.pdf\n"
          ]
        },
        {
          "output_type": "stream",
          "name": "stderr",
          "text": [
            "\r 38%|███▊      | 103/273 [03:18<05:31,  1.95s/it]"
          ]
        },
        {
          "output_type": "stream",
          "name": "stdout",
          "text": [
            "✅ Downloaded: pdfs1/Adjudication orderin respect  of Piyush Bhansali in the matter of Nissan Copper Ltd.pdf\n"
          ]
        },
        {
          "output_type": "stream",
          "name": "stderr",
          "text": [
            "\r 38%|███▊      | 104/273 [03:20<05:19,  1.89s/it]"
          ]
        },
        {
          "output_type": "stream",
          "name": "stdout",
          "text": [
            "✅ Downloaded: pdfs1/Adjudication order against Vision Technology India Ltd.pdf\n"
          ]
        },
        {
          "output_type": "stream",
          "name": "stderr",
          "text": [
            "\r 38%|███▊      | 105/273 [03:21<05:10,  1.85s/it]"
          ]
        },
        {
          "output_type": "stream",
          "name": "stdout",
          "text": [
            "✅ Downloaded: pdfs1/Adjudication Order in respect of Shri Sushil Kumar Patodia in the matter of Lumax Ind. Ltd and Crew BOS Ind. Ltd.pdf\n"
          ]
        },
        {
          "output_type": "stream",
          "name": "stderr",
          "text": [
            "\r 39%|███▉      | 106/273 [03:23<05:06,  1.83s/it]"
          ]
        },
        {
          "output_type": "stream",
          "name": "stdout",
          "text": [
            "✅ Downloaded: pdfs1/Adjudication Order in the matter of Shri Suresh Bharrat.pdf\n"
          ]
        },
        {
          "output_type": "stream",
          "name": "stderr",
          "text": [
            "\r 39%|███▉      | 107/273 [03:25<04:58,  1.80s/it]"
          ]
        },
        {
          "output_type": "stream",
          "name": "stdout",
          "text": [
            "✅ Downloaded: pdfs1/Adjudication Order against Jitendra Harjivandas Securities Pvt. Ltd. in the matter of Shukun Construction Ltd.pdf\n"
          ]
        },
        {
          "output_type": "stream",
          "name": "stderr",
          "text": [
            "\r 40%|███▉      | 108/273 [03:27<04:59,  1.82s/it]"
          ]
        },
        {
          "output_type": "stream",
          "name": "stdout",
          "text": [
            "✅ Downloaded: pdfs1/Adjudication Order against Kankeshwari Securities in the matter of Shukun Construction Ltd.pdf\n"
          ]
        },
        {
          "output_type": "stream",
          "name": "stderr",
          "text": [
            "\r 40%|███▉      | 109/273 [03:29<05:03,  1.85s/it]"
          ]
        },
        {
          "output_type": "stream",
          "name": "stdout",
          "text": [
            "✅ Downloaded: pdfs1/Adjudication order in respect of P J Chaudhary.pdf\n"
          ]
        },
        {
          "output_type": "stream",
          "name": "stderr",
          "text": [
            "\r 40%|████      | 110/273 [03:31<05:03,  1.86s/it]"
          ]
        },
        {
          "output_type": "stream",
          "name": "stdout",
          "text": [
            "❌ Exception while downloading https://www.sebi.gov.in/sebi_data/attachdocs/1289904068593.pdf: [Errno 2] No such file or directory: 'pdfs1/Adjudication Order in respect of Shri Suresh K Shukla in the matter of M/s Ojas Technochem Products Limited.pdf'\n"
          ]
        },
        {
          "output_type": "stream",
          "name": "stderr",
          "text": [
            "\r 41%|████      | 111/273 [03:33<05:03,  1.87s/it]"
          ]
        },
        {
          "output_type": "stream",
          "name": "stdout",
          "text": [
            "❌ Exception while downloading https://www.sebi.gov.in/sebi_data/attachdocs/1289903853319.pdf: [Errno 2] No such file or directory: 'pdfs1/Adjudication Order against M/s Ramaben Samani Finance Pvt. Ltd in the matter of M/s Veronica Laboratories Ltd.pdf'\n"
          ]
        },
        {
          "output_type": "stream",
          "name": "stderr",
          "text": [
            "\r 41%|████      | 112/273 [03:35<05:08,  1.91s/it]"
          ]
        },
        {
          "output_type": "stream",
          "name": "stdout",
          "text": [
            "❌ Exception while downloading https://www.sebi.gov.in/sebi_data/attachdocs/1289903907537.pdf: [Errno 2] No such file or directory: 'pdfs1/Adjudication order in respect of Shri Laxman Bhai Patel in the mater of M/s Kwality Dairy (India) Ltd.pdf'\n"
          ]
        },
        {
          "output_type": "stream",
          "name": "stderr",
          "text": [
            "\r 41%|████▏     | 113/273 [03:36<05:07,  1.92s/it]"
          ]
        },
        {
          "output_type": "stream",
          "name": "stdout",
          "text": [
            "✅ Downloaded: pdfs1/Adjudication Order in the matter of Angel Capital and  Debt Market Limited.pdf\n"
          ]
        },
        {
          "output_type": "stream",
          "name": "stderr",
          "text": [
            "\r 42%|████▏     | 114/273 [03:38<05:04,  1.92s/it]"
          ]
        },
        {
          "output_type": "stream",
          "name": "stdout",
          "text": [
            "✅ Downloaded: pdfs1/Adjudication Order in the matter of Steel City Securities Limited.pdf\n"
          ]
        },
        {
          "output_type": "stream",
          "name": "stderr",
          "text": [
            "\r 42%|████▏     | 115/273 [03:40<04:55,  1.87s/it]"
          ]
        },
        {
          "output_type": "stream",
          "name": "stdout",
          "text": [
            "✅ Downloaded: pdfs1/Adjudication Order in Uttam Financial Service Ltd.  - Now known as Manshukh Stock Brokers Ltd.pdf\n"
          ]
        },
        {
          "output_type": "stream",
          "name": "stderr",
          "text": [
            "\r 42%|████▏     | 116/273 [03:42<04:54,  1.87s/it]"
          ]
        },
        {
          "output_type": "stream",
          "name": "stdout",
          "text": [
            "✅ Downloaded: pdfs1/Adjudication Order in respect of Manhattan Fingrowth Limited in the matter of Motorol Speciality Oils Limited.pdf\n"
          ]
        },
        {
          "output_type": "stream",
          "name": "stderr",
          "text": [
            "\r 43%|████▎     | 117/273 [03:44<04:43,  1.82s/it]"
          ]
        },
        {
          "output_type": "stream",
          "name": "stdout",
          "text": [
            "❌ Exception while downloading https://www.sebi.gov.in/sebi_data/attachdocs/1289903687754.pdf: [Errno 2] No such file or directory: 'pdfs1/Adjudication order in the matter of JYSKE Invest Fund Managemnt A/S.pdf'\n"
          ]
        },
        {
          "output_type": "stream",
          "name": "stderr",
          "text": [
            "\r 43%|████▎     | 118/273 [03:45<04:38,  1.80s/it]"
          ]
        },
        {
          "output_type": "stream",
          "name": "stdout",
          "text": [
            "❌ Exception while downloading https://www.sebi.gov.in/sebi_data/attachdocs/1289903737767.pdf: [Errno 2] No such file or directory: 'pdfs1/Order against Shri Abhishek Khare in the mater of investigations in the scrip M/s Kwality Dairy (India) Ltd.pdf'\n"
          ]
        },
        {
          "output_type": "stream",
          "name": "stderr",
          "text": [
            "\r 44%|████▎     | 119/273 [03:47<04:42,  1.84s/it]"
          ]
        },
        {
          "output_type": "stream",
          "name": "stdout",
          "text": [
            "✅ Downloaded: pdfs1/Adjudication Order in respect of Shri Parshwa Finance (Proprietor: Piyush Jhaveri) in the matter of Havells India Ltd.pdf\n"
          ]
        },
        {
          "output_type": "stream",
          "name": "stderr",
          "text": [
            "\r 44%|████▍     | 120/273 [03:49<04:48,  1.89s/it]"
          ]
        },
        {
          "output_type": "stream",
          "name": "stdout",
          "text": [
            "✅ Downloaded: pdfs1/Adjudication Order in respect of Steel City Capital Services (P) Ltd. in the matter of Recron Synthetics Limited.pdf\n"
          ]
        },
        {
          "output_type": "stream",
          "name": "stderr",
          "text": [
            "\r 44%|████▍     | 121/273 [03:51<04:35,  1.81s/it]"
          ]
        },
        {
          "output_type": "stream",
          "name": "stdout",
          "text": [
            "❌ Exception while downloading https://www.sebi.gov.in/sebi_data/attachdocs/1289903558001.pdf: [Errno 2] No such file or directory: 'pdfs1/Adjudication order passed against Haresh R Posnak in the matter of M/s. Mega Corporation Limited.pdf'\n"
          ]
        },
        {
          "output_type": "stream",
          "name": "stderr",
          "text": [
            "\r 45%|████▍     | 122/273 [03:53<04:44,  1.88s/it]"
          ]
        },
        {
          "output_type": "stream",
          "name": "stdout",
          "text": [
            "❌ Exception while downloading https://www.sebi.gov.in/sebi_data/attachdocs/1289903469909.pdf: [Errno 2] No such file or directory: 'pdfs1/Order against M/s Anushree Tradelink Pvt. Ltd. in the matter of M/s Bacchhat Investment  and Finance Limited.pdf'\n"
          ]
        },
        {
          "output_type": "stream",
          "name": "stderr",
          "text": [
            "\r 45%|████▌     | 123/273 [03:55<04:50,  1.93s/it]"
          ]
        },
        {
          "output_type": "stream",
          "name": "stdout",
          "text": [
            "✅ Downloaded: pdfs1/Adjudication Order in respect of Hindustan Tea & Trading Co. Ltd. in the matter of Orion Paper and Industries Ltd.pdf\n"
          ]
        },
        {
          "output_type": "stream",
          "name": "stderr",
          "text": [
            "\r 45%|████▌     | 124/273 [03:57<04:33,  1.84s/it]"
          ]
        },
        {
          "output_type": "stream",
          "name": "stdout",
          "text": [
            "✅ Downloaded: pdfs1/Adjudication order in respect of Mr. Anil Nibber.pdf\n"
          ]
        },
        {
          "output_type": "stream",
          "name": "stderr",
          "text": [
            "\r 46%|████▌     | 125/273 [03:59<04:32,  1.84s/it]"
          ]
        },
        {
          "output_type": "stream",
          "name": "stdout",
          "text": [
            "✅ Downloaded: pdfs1/Adjudication order in respect of Mr. Atul Nibber.pdf\n"
          ]
        },
        {
          "output_type": "stream",
          "name": "stderr",
          "text": [
            "\r 46%|████▌     | 126/273 [04:00<04:31,  1.85s/it]"
          ]
        },
        {
          "output_type": "stream",
          "name": "stdout",
          "text": [
            "✅ Downloaded: pdfs1/Adjudication order in respect of Mr. Kashmir Chand.pdf\n"
          ]
        },
        {
          "output_type": "stream",
          "name": "stderr",
          "text": [
            "\r 47%|████▋     | 127/273 [04:02<04:30,  1.85s/it]"
          ]
        },
        {
          "output_type": "stream",
          "name": "stdout",
          "text": [
            "✅ Downloaded: pdfs1/Adjudication order of Shri V. K. Padmanabhan in the matter of Rishab Financial Services Limited (Formerly Madan Financial Services Ltd.pdf\n"
          ]
        },
        {
          "output_type": "stream",
          "name": "stderr",
          "text": [
            "\r 47%|████▋     | 128/273 [04:04<04:26,  1.84s/it]"
          ]
        },
        {
          "output_type": "stream",
          "name": "stdout",
          "text": [
            "✅ Downloaded: pdfs1/Adjudication Order in respect of FMS Securities Limited in the matter of Havells India Ltd.pdf\n"
          ]
        },
        {
          "output_type": "stream",
          "name": "stderr",
          "text": [
            "\r 47%|████▋     | 129/273 [04:06<04:36,  1.92s/it]"
          ]
        },
        {
          "output_type": "stream",
          "name": "stdout",
          "text": [
            "✅ Downloaded: pdfs1/Adjudication Order in respect of Roopa S Shah in the matter of Motorol Speciality Oils Limited.pdf\n"
          ]
        },
        {
          "output_type": "stream",
          "name": "stderr",
          "text": [
            "\r 48%|████▊     | 130/273 [04:08<04:27,  1.87s/it]"
          ]
        },
        {
          "output_type": "stream",
          "name": "stdout",
          "text": [
            "✅ Downloaded: pdfs1/Adjudication order in respect of Shri Murarilal Goenka in the matter of Richfield Financial Services Ltd.pdf\n"
          ]
        },
        {
          "output_type": "stream",
          "name": "stderr",
          "text": [
            "\r 48%|████▊     | 131/273 [04:10<04:35,  1.94s/it]"
          ]
        },
        {
          "output_type": "stream",
          "name": "stdout",
          "text": [
            "✅ Downloaded: pdfs1/Adjudication order in respect of Shri N.M. Lohia in the matter of Richfield Financial Services Ltd.pdf\n"
          ]
        },
        {
          "output_type": "stream",
          "name": "stderr",
          "text": [
            "\r 48%|████▊     | 132/273 [04:12<04:41,  1.99s/it]"
          ]
        },
        {
          "output_type": "stream",
          "name": "stdout",
          "text": [
            "✅ Downloaded: pdfs1/Adjudication Order in respect of Roopshri Finvest Private Limited in the matter of Motorol Speciality Oils Limited.pdf\n"
          ]
        },
        {
          "output_type": "stream",
          "name": "stderr",
          "text": [
            "\r 49%|████▊     | 133/273 [04:14<04:34,  1.96s/it]"
          ]
        },
        {
          "output_type": "stream",
          "name": "stdout",
          "text": [
            "❌ Exception while downloading https://www.sebi.gov.in/sebi_data/attachdocs/1289902985909.pdf: [Errno 2] No such file or directory: 'pdfs1/Adjudication order in respect of M/s Poona Industrial and Finance (P) Ltd. in the matter of M/s Bilcare Ltd.pdf'\n"
          ]
        },
        {
          "output_type": "stream",
          "name": "stderr",
          "text": [
            "\r 49%|████▉     | 134/273 [04:16<04:29,  1.94s/it]"
          ]
        },
        {
          "output_type": "stream",
          "name": "stdout",
          "text": [
            "❌ Exception while downloading https://www.sebi.gov.in/sebi_data/attachdocs/1289902952426.pdf: [Errno 2] No such file or directory: 'pdfs1/Adjudication Order in respect of Mr. Sunil Giridharilal Raheja in the matter of Self/Synchronized Trades in 12 Scrips.pdf'\n"
          ]
        },
        {
          "output_type": "stream",
          "name": "stderr",
          "text": [
            "\r 49%|████▉     | 135/273 [04:18<04:34,  1.99s/it]"
          ]
        },
        {
          "output_type": "stream",
          "name": "stdout",
          "text": [
            "❌ Exception while downloading https://www.sebi.gov.in/sebi_data/attachdocs/1289902916296.pdf: [Errno 2] No such file or directory: 'pdfs1/Adjudication Order in respect of Mrs. Simran Sunil Raheja in the matter of Self/Synchronized Trades in 12 Scrips.pdf'\n"
          ]
        },
        {
          "output_type": "stream",
          "name": "stderr",
          "text": [
            "\r 50%|████▉     | 136/273 [04:20<04:30,  1.97s/it]"
          ]
        },
        {
          "output_type": "stream",
          "name": "stdout",
          "text": [
            "❌ Exception while downloading https://www.sebi.gov.in/sebi_data/attachdocs/1289902882144.pdf: [Errno 2] No such file or directory: 'pdfs1/Adjudication Order against M/s Poorva Trexim Pvt. Ltd. in the matter of M/s Bacchhat Investment and Finance Limited.pdf'\n"
          ]
        },
        {
          "output_type": "stream",
          "name": "stderr",
          "text": [
            "\r 50%|█████     | 137/273 [04:22<04:31,  2.00s/it]"
          ]
        },
        {
          "output_type": "stream",
          "name": "stdout",
          "text": [
            "✅ Downloaded: pdfs1/Adjudication order in respect of Pani Kawar in the matter of Rishab Financial Services Ltd. - Formerly Madan Financial Services Ltd.pdf\n"
          ]
        },
        {
          "output_type": "stream",
          "name": "stderr",
          "text": [
            "\r 51%|█████     | 138/273 [04:24<04:21,  1.94s/it]"
          ]
        },
        {
          "output_type": "stream",
          "name": "stdout",
          "text": [
            "❌ Exception while downloading https://www.sebi.gov.in/sebi_data/attachdocs/1289902819839.pdf: [Errno 2] No such file or directory: 'pdfs1/Adjudication Order passed against Vijay Suryavanshi in the matter of M/s. Mega Corporation Limited[SAT Appeal No.:73/2020 & Misc. App. No. 90/2020].pdf'\n"
          ]
        },
        {
          "output_type": "stream",
          "name": "stderr",
          "text": [
            "\r 51%|█████     | 139/273 [04:26<04:28,  2.00s/it]"
          ]
        },
        {
          "output_type": "stream",
          "name": "stdout",
          "text": [
            "❌ Exception while downloading https://www.sebi.gov.in/sebi_data/attachdocs/1289902649857.pdf: [Errno 2] No such file or directory: 'pdfs1/Adjudication Order in respect of M/s Marino Fresh Foods Industries Limited in the matter of Sarang Viniyog Limited.pdf'\n"
          ]
        },
        {
          "output_type": "stream",
          "name": "stderr",
          "text": [
            "\r 51%|█████▏    | 140/273 [04:28<04:14,  1.91s/it]"
          ]
        },
        {
          "output_type": "stream",
          "name": "stdout",
          "text": [
            "❌ Exception while downloading https://www.sebi.gov.in/sebi_data/attachdocs/1289902686241.pdf: [Errno 2] No such file or directory: 'pdfs1/Adjudication order in respect of Naba Kumar Pal, Director, M/s Tricon Business Pvt Ltd  in the matter of Nageshwar Investment Ltd..pdf'\n"
          ]
        },
        {
          "output_type": "stream",
          "name": "stderr",
          "text": [
            "\r 52%|█████▏    | 141/273 [04:30<04:15,  1.94s/it]"
          ]
        },
        {
          "output_type": "stream",
          "name": "stdout",
          "text": [
            "❌ Exception while downloading https://www.sebi.gov.in/sebi_data/attachdocs/1289902724433.pdf: [Errno 2] No such file or directory: 'pdfs1/Adjudication order in respect of Ram Chandra Singh, Director, M/s Delton Exim Private  Limited in the matter of Nageshwar Investment Ltd..pdf'\n"
          ]
        },
        {
          "output_type": "stream",
          "name": "stderr",
          "text": [
            "\r 52%|█████▏    | 142/273 [04:32<04:14,  1.94s/it]"
          ]
        },
        {
          "output_type": "stream",
          "name": "stdout",
          "text": [
            "❌ Exception while downloading https://www.sebi.gov.in/sebi_data/attachdocs/1289902756532.pdf: [Errno 2] No such file or directory: 'pdfs1/Adjudication order in respect of Ram Chandra Singh, Director, M/s Gateway Computers  Private Limited in the matter of Nageshwar Investment Ltd.pdf'\n"
          ]
        },
        {
          "output_type": "stream",
          "name": "stderr",
          "text": [
            "\r 52%|█████▏    | 143/273 [04:34<04:14,  1.96s/it]"
          ]
        },
        {
          "output_type": "stream",
          "name": "stdout",
          "text": [
            "✅ Downloaded: pdfs1/Adjudication Order in respect of Sarang Viniyog Limited in the matter of Sarang Viniyog Limited.pdf\n"
          ]
        },
        {
          "output_type": "stream",
          "name": "stderr",
          "text": [
            "\r 53%|█████▎    | 144/273 [04:36<04:18,  2.00s/it]"
          ]
        },
        {
          "output_type": "stream",
          "name": "stdout",
          "text": [
            "✅ Downloaded: pdfs1/Adjudication order of Rupesh H. Shah in the matter of Oasis Media Matrix Ltd.pdf\n"
          ]
        },
        {
          "output_type": "stream",
          "name": "stderr",
          "text": [
            "\r 53%|█████▎    | 145/273 [04:38<04:12,  1.97s/it]"
          ]
        },
        {
          "output_type": "stream",
          "name": "stdout",
          "text": [
            "✅ Downloaded: pdfs1/Adjudication Order in respect of B.N.Das in the matter of Sarang Viniyog Limited.pdf\n"
          ]
        },
        {
          "output_type": "stream",
          "name": "stderr",
          "text": [
            "\r 53%|█████▎    | 146/273 [04:39<04:01,  1.90s/it]"
          ]
        },
        {
          "output_type": "stream",
          "name": "stdout",
          "text": [
            "❌ Exception while downloading https://www.sebi.gov.in/sebi_data/attachdocs/1289902549931.pdf: [Errno 2] No such file or directory: 'pdfs1/Adjudication Order in respect of M/S. Anand Rathi Share and Stock Brokers Limited - formerly known as M/S. Navratan Capital and Securities Pvt. Ltd.pdf'\n"
          ]
        },
        {
          "output_type": "stream",
          "name": "stderr",
          "text": [
            "\r 54%|█████▍    | 147/273 [04:41<03:59,  1.90s/it]"
          ]
        },
        {
          "output_type": "stream",
          "name": "stdout",
          "text": [
            "✅ Downloaded: pdfs1/In the Adjudication Proceedings against V.G. Capital Markets Limited in the matter of Hitech Gears and Munjal Showa Limited.pdf\n"
          ]
        },
        {
          "output_type": "stream",
          "name": "stderr",
          "text": [
            "\r 54%|█████▍    | 148/273 [04:43<03:50,  1.84s/it]"
          ]
        },
        {
          "output_type": "stream",
          "name": "stdout",
          "text": [
            "✅ Downloaded: pdfs1/Adjudication order in the matter of Prudential ICICI Mutual Fund.pdf\n"
          ]
        },
        {
          "output_type": "stream",
          "name": "stderr",
          "text": [
            "\r 55%|█████▍    | 149/273 [04:45<03:43,  1.80s/it]"
          ]
        },
        {
          "output_type": "stream",
          "name": "stdout",
          "text": [
            "✅ Downloaded: pdfs1/Adjudication order in the matter of Vatsa Music Ltd.pdf\n"
          ]
        },
        {
          "output_type": "stream",
          "name": "stderr",
          "text": [
            "\r 55%|█████▍    | 150/273 [04:46<03:36,  1.76s/it]"
          ]
        },
        {
          "output_type": "stream",
          "name": "stdout",
          "text": [
            "✅ Downloaded: pdfs1/Adjudication proceedings against Sun TV  Network Limited.pdf\n"
          ]
        },
        {
          "output_type": "stream",
          "name": "stderr",
          "text": [
            "\r 55%|█████▌    | 151/273 [04:48<03:30,  1.72s/it]"
          ]
        },
        {
          "output_type": "stream",
          "name": "stdout",
          "text": [
            "✅ Downloaded: pdfs1/Adjudication order in respect of Mr. Brij Khanna in the matter of Blue Information Technology.pdf\n"
          ]
        },
        {
          "output_type": "stream",
          "name": "stderr",
          "text": [
            "\r 56%|█████▌    | 152/273 [04:50<03:40,  1.82s/it]"
          ]
        },
        {
          "output_type": "stream",
          "name": "stdout",
          "text": [
            "✅ Downloaded: pdfs1/Adjudication order in the matter of Usha India Ltd.pdf\n"
          ]
        },
        {
          "output_type": "stream",
          "name": "stderr",
          "text": [
            "\r 56%|█████▌    | 153/273 [04:52<03:35,  1.79s/it]"
          ]
        },
        {
          "output_type": "stream",
          "name": "stdout",
          "text": [
            "✅ Downloaded: pdfs1/Adjudication order in the matter of Usha Iron and Ferro Metals Corporation Ltd.pdf\n"
          ]
        },
        {
          "output_type": "stream",
          "name": "stderr",
          "text": [
            "\r 56%|█████▋    | 154/273 [04:54<03:30,  1.77s/it]"
          ]
        },
        {
          "output_type": "stream",
          "name": "stdout",
          "text": [
            "✅ Downloaded: pdfs1/Adjudication order of Kingfisher Overseas Pvt. Ltd. in the matter of Blue Information Technology.pdf\n"
          ]
        },
        {
          "output_type": "stream",
          "name": "stderr",
          "text": [
            "\r 57%|█████▋    | 155/273 [04:56<03:37,  1.84s/it]"
          ]
        },
        {
          "output_type": "stream",
          "name": "stdout",
          "text": [
            "✅ Downloaded: pdfs1/Adjudication order of Navinbhai Shah in the matter of Oasis Media Matrix Ltd.pdf\n"
          ]
        },
        {
          "output_type": "stream",
          "name": "stderr",
          "text": [
            "\r 57%|█████▋    | 156/273 [04:57<03:37,  1.86s/it]"
          ]
        },
        {
          "output_type": "stream",
          "name": "stdout",
          "text": [
            "✅ Downloaded: pdfs1/Adjudication proceedings against DCM Financial Services Limited.pdf\n"
          ]
        },
        {
          "output_type": "stream",
          "name": "stderr",
          "text": [
            "\r 58%|█████▊    | 157/273 [04:59<03:31,  1.82s/it]"
          ]
        },
        {
          "output_type": "stream",
          "name": "stdout",
          "text": [
            "✅ Downloaded: pdfs1/Adjudication Order against Action Financial Services (India) Ltd. in the matter of Shukun Construction Limited.pdf\n"
          ]
        },
        {
          "output_type": "stream",
          "name": "stderr",
          "text": [
            "\r 58%|█████▊    | 158/273 [05:01<03:29,  1.82s/it]"
          ]
        },
        {
          "output_type": "stream",
          "name": "stdout",
          "text": [
            "✅ Downloaded: pdfs1/Adjudication Order against Troup International Ltd., C.V. Kamani, R..C. Kamani and D.C.Kamani in the matter of Rajath Finance Limited.pdf\n"
          ]
        },
        {
          "output_type": "stream",
          "name": "stderr",
          "text": [
            "\r 58%|█████▊    | 159/273 [05:03<03:19,  1.75s/it]"
          ]
        },
        {
          "output_type": "stream",
          "name": "stdout",
          "text": [
            "✅ Downloaded: pdfs1/Adjudication order of Nirav Pandya in the matter of Oasis Media Matrix Ltd.pdf\n"
          ]
        },
        {
          "output_type": "stream",
          "name": "stderr",
          "text": [
            "\r 59%|█████▊    | 160/273 [05:05<03:28,  1.85s/it]"
          ]
        },
        {
          "output_type": "stream",
          "name": "stdout",
          "text": [
            "✅ Downloaded: pdfs1/Adjudication Order in respect of Amrut Securities Ltd. in the matter of Axel Polymers Ltd.pdf\n"
          ]
        },
        {
          "output_type": "stream",
          "name": "stderr",
          "text": [
            "\r 59%|█████▉    | 161/273 [05:07<03:34,  1.91s/it]"
          ]
        },
        {
          "output_type": "stream",
          "name": "stdout",
          "text": [
            "❌ Exception while downloading https://www.sebi.gov.in/sebi_data/attachdocs/1290063484693.pdf: [Errno 2] No such file or directory: 'pdfs1/Adjudication order in respect of M/s Tricon Business Pvt. Ltd.pdf'\n"
          ]
        },
        {
          "output_type": "stream",
          "name": "stderr",
          "text": [
            "\r 59%|█████▉    | 162/273 [05:09<03:34,  1.93s/it]"
          ]
        },
        {
          "output_type": "stream",
          "name": "stdout",
          "text": [
            "✅ Downloaded: pdfs1/Adjudication order in respect of Mrs. Premlata Ramesh Saraogi.pdf\n"
          ]
        },
        {
          "output_type": "stream",
          "name": "stderr",
          "text": [
            "\r 60%|█████▉    | 163/273 [05:11<03:31,  1.92s/it]"
          ]
        },
        {
          "output_type": "stream",
          "name": "stdout",
          "text": [
            "✅ Downloaded: pdfs1/Adjudication order in the matter of DSP Merill Lynch Ltd.pdf\n"
          ]
        },
        {
          "output_type": "stream",
          "name": "stderr",
          "text": [
            "\r 60%|██████    | 164/273 [05:12<03:23,  1.87s/it]"
          ]
        },
        {
          "output_type": "stream",
          "name": "stdout",
          "text": [
            "✅ Downloaded: pdfs1/Adjudication Order of Anil Kantilal Shah in the matter of Oasis Media Matrix Ltd.pdf\n"
          ]
        },
        {
          "output_type": "stream",
          "name": "stderr",
          "text": [
            "\r 60%|██████    | 165/273 [05:14<03:27,  1.92s/it]"
          ]
        },
        {
          "output_type": "stream",
          "name": "stdout",
          "text": [
            "✅ Downloaded: pdfs1/Adjudication order in respect of Canfin Homes Ltd..pdf\n"
          ]
        },
        {
          "output_type": "stream",
          "name": "stderr",
          "text": [
            "\r 61%|██████    | 166/273 [05:16<03:32,  1.98s/it]"
          ]
        },
        {
          "output_type": "stream",
          "name": "stdout",
          "text": [
            "❌ Exception while downloading https://www.sebi.gov.in/sebi_data/attachdocs/1290063344009.pdf: [Errno 2] No such file or directory: 'pdfs1/Adjudication order in respect of M/s Delton Exim Private Limited in the matter of Nageshwar Investment Ltd.pdf'\n"
          ]
        },
        {
          "output_type": "stream",
          "name": "stderr",
          "text": [
            "\r 61%|██████    | 167/273 [05:18<03:29,  1.98s/it]"
          ]
        },
        {
          "output_type": "stream",
          "name": "stdout",
          "text": [
            "❌ Exception while downloading https://www.sebi.gov.in/sebi_data/attachdocs/1290063311127.pdf: [Errno 2] No such file or directory: 'pdfs1/Adjudication order in respect of M/s Gateway Computers Private Limited in the matter of Nageshwar Investment Ltd.pdf'\n"
          ]
        },
        {
          "output_type": "stream",
          "name": "stderr",
          "text": [
            "\r 62%|██████▏   | 168/273 [05:21<03:30,  2.00s/it]"
          ]
        },
        {
          "output_type": "stream",
          "name": "stdout",
          "text": [
            "❌ Exception while downloading https://www.sebi.gov.in/sebi_data/attachdocs/1404800940434.pdf: [Errno 2] No such file or directory: 'pdfs1/Adjudication order passed against M/s Platinum Finvest Pvt Ltd in the matter of Mittal Securities Finance Ltd.pdf'\n"
          ]
        },
        {
          "output_type": "stream",
          "name": "stderr",
          "text": [
            "\r 62%|██████▏   | 169/273 [05:23<03:29,  2.02s/it]"
          ]
        },
        {
          "output_type": "stream",
          "name": "stdout",
          "text": [
            "❌ Exception while downloading https://www.sebi.gov.in/sebi_data/attachdocs/1290063271960.pdf: [Errno 2] No such file or directory: 'pdfs1/Adjudication order against  M/s Mittal Securities Finance Ltd.pdf'\n"
          ]
        },
        {
          "output_type": "stream",
          "name": "stderr",
          "text": [
            "\r 62%|██████▏   | 170/273 [05:25<03:31,  2.06s/it]"
          ]
        },
        {
          "output_type": "stream",
          "name": "stdout",
          "text": [
            "❌ Exception while downloading https://www.sebi.gov.in/sebi_data/attachdocs/1290063102241.pdf: [Errno 2] No such file or directory: 'pdfs1/Adjudication Order against Ajit Suryavanshi in the matter of M/s. Mega Corporation Limited.pdf'\n"
          ]
        },
        {
          "output_type": "stream",
          "name": "stderr",
          "text": [
            "\r 63%|██████▎   | 171/273 [05:27<03:32,  2.08s/it]"
          ]
        },
        {
          "output_type": "stream",
          "name": "stdout",
          "text": [
            "❌ Exception while downloading https://www.sebi.gov.in/sebi_data/attachdocs/1290063037635.pdf: [Errno 2] No such file or directory: 'pdfs1/Adjudication order against Santosh Narvekar in the matter of M/s Mega Corporation Limited.pdf'\n"
          ]
        },
        {
          "output_type": "stream",
          "name": "stderr",
          "text": [
            "\r 63%|██████▎   | 172/273 [05:29<03:32,  2.10s/it]"
          ]
        },
        {
          "output_type": "stream",
          "name": "stdout",
          "text": [
            "✅ Downloaded: pdfs1/Adjudication order in respect of Brilliant Industries Ltd. in the matter of Brilliant Securities Ltd.pdf\n"
          ]
        },
        {
          "output_type": "stream",
          "name": "stderr",
          "text": [
            "\r 63%|██████▎   | 173/273 [05:31<03:19,  1.99s/it]"
          ]
        },
        {
          "output_type": "stream",
          "name": "stdout",
          "text": [
            "✅ Downloaded: pdfs1/Adjudication order in respect of Gowri Gopal Hospital Pvt. Ltd. in the matter of Brilliant Securities Ltd.pdf\n"
          ]
        },
        {
          "output_type": "stream",
          "name": "stderr",
          "text": [
            "\r 64%|██████▎   | 174/273 [05:32<03:09,  1.91s/it]"
          ]
        },
        {
          "output_type": "stream",
          "name": "stdout",
          "text": [
            "❌ Exception while downloading https://www.sebi.gov.in/sebi_data/attachdocs/1290063072721.pdf: [Errno 2] No such file or directory: 'pdfs1/Adjudication Order in respect of M/s. R A Gupta & Co. Proprietor- Mr. Ramawatar Gupta.pdf'\n"
          ]
        },
        {
          "output_type": "stream",
          "name": "stderr",
          "text": [
            "\r 64%|██████▍   | 175/273 [05:34<02:59,  1.83s/it]"
          ]
        },
        {
          "output_type": "stream",
          "name": "stdout",
          "text": [
            "✅ Downloaded: pdfs1/Adjudication order in respect of T.G. Bharath in the matter of Brilliant Securities Ltd.pdf\n"
          ]
        },
        {
          "output_type": "stream",
          "name": "stderr",
          "text": [
            "\r 64%|██████▍   | 176/273 [05:36<03:05,  1.91s/it]"
          ]
        },
        {
          "output_type": "stream",
          "name": "stdout",
          "text": [
            "✅ Downloaded: pdfs1/Adjudication order in respect of T.G. Venkatesh in the matter of Brilliant Securities Ltd.pdf\n"
          ]
        },
        {
          "output_type": "stream",
          "name": "stderr",
          "text": [
            "\r 65%|██████▍   | 177/273 [05:38<02:57,  1.85s/it]"
          ]
        },
        {
          "output_type": "stream",
          "name": "stdout",
          "text": [
            "✅ Downloaded: pdfs1/Adjudication order in respect of TGV Projects and Investments Ltd. in the matter of Brilliant Securities Ltd.pdf\n"
          ]
        },
        {
          "output_type": "stream",
          "name": "stderr",
          "text": [
            "\r 65%|██████▌   | 178/273 [05:40<02:51,  1.81s/it]"
          ]
        },
        {
          "output_type": "stream",
          "name": "stdout",
          "text": [
            "✅ Downloaded: pdfs1/Adjudication order in the matter of Arihant Capital Markets Ltd.pdf\n"
          ]
        },
        {
          "output_type": "stream",
          "name": "stderr",
          "text": [
            "\r 66%|██████▌   | 179/273 [05:41<02:47,  1.78s/it]"
          ]
        },
        {
          "output_type": "stream",
          "name": "stdout",
          "text": [
            "✅ Downloaded: pdfs1/Adjudication order in the matter of Bonanza Stock Brokers Ltd.pdf\n"
          ]
        },
        {
          "output_type": "stream",
          "name": "stderr",
          "text": [
            "\r 66%|██████▌   | 180/273 [05:43<02:38,  1.71s/it]"
          ]
        },
        {
          "output_type": "stream",
          "name": "stdout",
          "text": [
            "✅ Downloaded: pdfs1/Adjudication Order in the matter of Dani Shares & Stocks Pvt. Ltd.pdf\n"
          ]
        },
        {
          "output_type": "stream",
          "name": "stderr",
          "text": [
            "\r 66%|██████▋   | 181/273 [05:45<02:37,  1.71s/it]"
          ]
        },
        {
          "output_type": "stream",
          "name": "stdout",
          "text": [
            "✅ Downloaded: pdfs1/Adjudication order in the matter of Wellworth Share & Stock Broking Ltd.pdf\n"
          ]
        },
        {
          "output_type": "stream",
          "name": "stderr",
          "text": [
            "\r 67%|██████▋   | 182/273 [05:46<02:37,  1.73s/it]"
          ]
        },
        {
          "output_type": "stream",
          "name": "stdout",
          "text": [
            "❌ Exception while downloading https://www.sebi.gov.in/sebi_data/attachdocs/1290062975640.pdf: [Errno 2] No such file or directory: 'pdfs1/Adjudication order passed against M/s Mittal Securities Ltd. in the matter of Mittal Securities Ltd.pdf'\n"
          ]
        },
        {
          "output_type": "stream",
          "name": "stderr",
          "text": [
            "\r 67%|██████▋   | 183/273 [05:48<02:43,  1.82s/it]"
          ]
        },
        {
          "output_type": "stream",
          "name": "stdout",
          "text": [
            "❌ Exception while downloading https://www.sebi.gov.in/sebi_data/attachdocs/1290063008041.pdf: [Errno 2] No such file or directory: 'pdfs1/Adjudication Order passed against M/s Plantinum Finvest Pvt. Ltd. in the matter of Mittal Securities Ltd.pdf'\n"
          ]
        },
        {
          "output_type": "stream",
          "name": "stderr",
          "text": [
            "\r 67%|██████▋   | 184/273 [05:51<02:49,  1.91s/it]"
          ]
        },
        {
          "output_type": "stream",
          "name": "stdout",
          "text": [
            "❌ Exception while downloading https://www.sebi.gov.in/sebi_data/attachdocs/1290062946166.pdf: [Errno 2] No such file or directory: 'pdfs1/Adjudication order passed against M/s. Pragari Finvest (I) Pvt. Ltd. in the matter of Mittal Securities Finance Ltd.pdf'\n"
          ]
        },
        {
          "output_type": "stream",
          "name": "stderr",
          "text": [
            "\r 68%|██████▊   | 185/273 [05:53<02:51,  1.95s/it]"
          ]
        },
        {
          "output_type": "stream",
          "name": "stdout",
          "text": [
            "❌ Exception while downloading https://www.sebi.gov.in/sebi_data/attachdocs/1290062657132.pdf: [Errno 2] No such file or directory: 'pdfs1/Adjudication Order  in the Matter of M/s Hanil Era Textiles Ltd..pdf'\n"
          ]
        },
        {
          "output_type": "stream",
          "name": "stderr",
          "text": [
            "\r 68%|██████▊   | 186/273 [05:54<02:38,  1.82s/it]"
          ]
        },
        {
          "output_type": "stream",
          "name": "stdout",
          "text": [
            "❌ Exception while downloading https://www.sebi.gov.in/sebi_data/attachdocs/1290062413803.pdf: [Errno 2] No such file or directory: 'pdfs1/Adjudication order against Deepak Narvekar in the matter of M/s Mega Corporation Limited.pdf'\n"
          ]
        },
        {
          "output_type": "stream",
          "name": "stderr",
          "text": [
            "\r 68%|██████▊   | 187/273 [05:56<02:43,  1.90s/it]"
          ]
        },
        {
          "output_type": "stream",
          "name": "stdout",
          "text": [
            "❌ Exception while downloading https://www.sebi.gov.in/sebi_data/attachdocs/1290062376549.pdf: [Errno 2] No such file or directory: 'pdfs1/Adjudication order against M/s Ask holdings Pvt. Ltd. in the matter of Cranes Software International Limited.pdf'\n"
          ]
        },
        {
          "output_type": "stream",
          "name": "stderr",
          "text": [
            "\r 69%|██████▉   | 188/273 [05:58<02:36,  1.84s/it]"
          ]
        },
        {
          "output_type": "stream",
          "name": "stdout",
          "text": [
            "❌ Exception while downloading https://www.sebi.gov.in/sebi_data/attachdocs/1290062692807.pdf: [Errno 2] No such file or directory: 'pdfs1/Adjudication Order Against M/s Kajol Impex Limited.pdf'\n"
          ]
        },
        {
          "output_type": "stream",
          "name": "stderr",
          "text": [
            "\r 69%|██████▉   | 189/273 [06:00<02:34,  1.84s/it]"
          ]
        },
        {
          "output_type": "stream",
          "name": "stdout",
          "text": [
            "✅ Downloaded: pdfs1/Adjudication order of Jay Rapid Roller Ltd.pdf\n"
          ]
        },
        {
          "output_type": "stream",
          "name": "stderr",
          "text": [
            "\r 70%|██████▉   | 190/273 [06:01<02:26,  1.77s/it]"
          ]
        },
        {
          "output_type": "stream",
          "name": "stdout",
          "text": [
            "✅ Downloaded: pdfs1/Adjudication proceeding against Enam Financial Consultants in the matter of Syndicate Bank.pdf\n"
          ]
        },
        {
          "output_type": "stream",
          "name": "stderr",
          "text": [
            "\r 70%|██████▉   | 191/273 [06:03<02:23,  1.75s/it]"
          ]
        },
        {
          "output_type": "stream",
          "name": "stdout",
          "text": [
            "✅ Downloaded: pdfs1/Adjudication proceeding against JM Morgan Stanley Pvt. Ltd. in the matter of Syndicate Bank.pdf\n"
          ]
        },
        {
          "output_type": "stream",
          "name": "stderr",
          "text": [
            "\r 70%|███████   | 192/273 [06:05<02:21,  1.75s/it]"
          ]
        },
        {
          "output_type": "stream",
          "name": "stdout",
          "text": [
            "✅ Downloaded: pdfs1/Adjudication proceeding against SBI Capital Markets Ltd.in the matter of Syndicate Bank.pdf\n"
          ]
        },
        {
          "output_type": "stream",
          "name": "stderr",
          "text": [
            "\r 71%|███████   | 193/273 [06:07<02:19,  1.75s/it]"
          ]
        },
        {
          "output_type": "stream",
          "name": "stdout",
          "text": [
            "✅ Downloaded: pdfs1/Adjudication proceeding against SSKI Corporate Finance Pvt. Ltd. in the matter of Syndicate Bank.pdf\n"
          ]
        },
        {
          "output_type": "stream",
          "name": "stderr",
          "text": [
            "\r 71%|███████   | 194/273 [06:08<02:17,  1.74s/it]"
          ]
        },
        {
          "output_type": "stream",
          "name": "stdout",
          "text": [
            "✅ Downloaded: pdfs1/Adjudication order of VSE Stock Services Ltd.pdf\n"
          ]
        },
        {
          "output_type": "stream",
          "name": "stderr",
          "text": [
            "\r 71%|███████▏  | 195/273 [06:10<02:15,  1.74s/it]"
          ]
        },
        {
          "output_type": "stream",
          "name": "stdout",
          "text": [
            "❌ Exception while downloading https://www.sebi.gov.in/sebi_data/attachdocs/1290062264849.pdf: [Errno 2] No such file or directory: 'pdfs1/Adjudication order against M/s Ramaben Samani Finance Pvt. Ltd. in the matter of Cranes Software International Limited.pdf'\n"
          ]
        },
        {
          "output_type": "stream",
          "name": "stderr",
          "text": [
            "\r 72%|███████▏  | 196/273 [06:12<02:13,  1.74s/it]"
          ]
        },
        {
          "output_type": "stream",
          "name": "stdout",
          "text": [
            "❌ Exception while downloading https://www.sebi.gov.in/sebi_data/attachdocs/1290062220750.pdf: [Errno 2] No such file or directory: 'pdfs1/Adjudication order in respect of M/s Southern Herbals Limited.pdf'\n"
          ]
        },
        {
          "output_type": "stream",
          "name": "stderr",
          "text": [
            "\r 72%|███████▏  | 197/273 [06:13<02:08,  1.70s/it]"
          ]
        },
        {
          "output_type": "stream",
          "name": "stdout",
          "text": [
            "✅ Downloaded: pdfs1/Adjudication Order in the matter of Adjudicating Proceedings against Shri Dilip Pendse and Others.pdf\n"
          ]
        },
        {
          "output_type": "stream",
          "name": "stderr",
          "text": [
            "\r 73%|███████▎  | 198/273 [06:15<02:09,  1.73s/it]"
          ]
        },
        {
          "output_type": "stream",
          "name": "stdout",
          "text": [
            "❌ Exception while downloading https://www.sebi.gov.in/sebi_data/attachdocs/1290062145376.pdf: [Errno 2] No such file or directory: 'pdfs1/Adjudication order against M/s. R Ramrakh R Bohra.pdf'\n"
          ]
        },
        {
          "output_type": "stream",
          "name": "stderr",
          "text": [
            "\r 73%|███████▎  | 199/273 [06:17<02:08,  1.74s/it]"
          ]
        },
        {
          "output_type": "stream",
          "name": "stdout",
          "text": [
            "✅ Downloaded: pdfs1/Adjudication Order in the matter of Uniglobal Securities Pvt. Ltd.pdf\n"
          ]
        },
        {
          "output_type": "stream",
          "name": "stderr",
          "text": [
            "\r 73%|███████▎  | 200/273 [06:19<02:04,  1.71s/it]"
          ]
        },
        {
          "output_type": "stream",
          "name": "stdout",
          "text": [
            "✅ Downloaded: pdfs1/Adjudication Order In respect of Shri  Tushar Javeri in the matter of Enrich Industries Ltd.pdf\n"
          ]
        },
        {
          "output_type": "stream",
          "name": "stderr",
          "text": [
            "\r 74%|███████▎  | 201/273 [06:21<02:11,  1.83s/it]"
          ]
        },
        {
          "output_type": "stream",
          "name": "stdout",
          "text": [
            "✅ Downloaded: pdfs1/Adjudication order of Apnapan Vyapaar Pvt. Ltd in the matter of Patriot Trading Co. Ltd.pdf\n"
          ]
        },
        {
          "output_type": "stream",
          "name": "stderr",
          "text": [
            "\r 74%|███████▍  | 202/273 [06:23<02:13,  1.88s/it]"
          ]
        },
        {
          "output_type": "stream",
          "name": "stdout",
          "text": [
            "❌ Exception while downloading https://www.sebi.gov.in/sebi_data/attachdocs/1290062115386.pdf: [Errno 2] No such file or directory: 'pdfs1/Adjudication order of M/s.Sushovin Vinimay Pvt. Ltd in the matter of Patriot Trading Co. Ltd.pdf'\n"
          ]
        },
        {
          "output_type": "stream",
          "name": "stderr",
          "text": [
            "\r 74%|███████▍  | 203/273 [06:25<02:11,  1.88s/it]"
          ]
        },
        {
          "output_type": "stream",
          "name": "stdout",
          "text": [
            "✅ Downloaded: pdfs1/Adjudication Order in respect of Alka India Limited in the matter of Alka India Limited.pdf\n"
          ]
        },
        {
          "output_type": "stream",
          "name": "stderr",
          "text": [
            "\r 75%|███████▍  | 204/273 [06:26<02:07,  1.84s/it]"
          ]
        },
        {
          "output_type": "stream",
          "name": "stdout",
          "text": [
            "✅ Downloaded: pdfs1/Adjudication Order in respect of Ahilya Commercial Private Limited in the matter of Sarang Viniyog Limited.pdf\n"
          ]
        },
        {
          "output_type": "stream",
          "name": "stderr",
          "text": [
            "\r 75%|███████▌  | 205/273 [06:28<02:06,  1.86s/it]"
          ]
        },
        {
          "output_type": "stream",
          "name": "stdout",
          "text": [
            "✅ Downloaded: pdfs1/Adjudication Order in respect of S Jhunjhunwala and  Co in the matter of Sarang Viniyog Limited.pdf\n"
          ]
        },
        {
          "output_type": "stream",
          "name": "stderr",
          "text": [
            "\r 75%|███████▌  | 206/273 [06:30<02:07,  1.90s/it]"
          ]
        },
        {
          "output_type": "stream",
          "name": "stdout",
          "text": [
            "✅ Downloaded: pdfs1/Adjudication Order in respect of Subh Stock Broking Private Limited in the matter of Sarang Viniyog Limited.pdf\n"
          ]
        },
        {
          "output_type": "stream",
          "name": "stderr",
          "text": [
            "\r 76%|███████▌  | 207/273 [06:32<02:06,  1.92s/it]"
          ]
        },
        {
          "output_type": "stream",
          "name": "stdout",
          "text": [
            "✅ Downloaded: pdfs1/Order against Opal Industries Limited.pdf\n"
          ]
        },
        {
          "output_type": "stream",
          "name": "stderr",
          "text": [
            "\r 76%|███████▌  | 208/273 [06:34<01:58,  1.82s/it]"
          ]
        },
        {
          "output_type": "stream",
          "name": "stdout",
          "text": [
            "❌ Exception while downloading https://www.sebi.gov.in/sebi_data/attachdocs/1290061828362.pdf: [Errno 2] No such file or directory: 'pdfs1/Adjudication Order against M/s Janus Stock Brokers Pvt. Ltd. in the matter of M/s Veronica Laboratories Limited.pdf'\n"
          ]
        },
        {
          "output_type": "stream",
          "name": "stderr",
          "text": [
            "\r 77%|███████▋  | 209/273 [06:35<01:54,  1.79s/it]"
          ]
        },
        {
          "output_type": "stream",
          "name": "stdout",
          "text": [
            "✅ Downloaded: pdfs1/Adjudication Order in respect of Mansukh Securities & Finance Ltd. in the matter of Aarti Drugs Ltd. and Havells India Ltd.pdf\n"
          ]
        },
        {
          "output_type": "stream",
          "name": "stderr",
          "text": [
            "\r 77%|███████▋  | 210/273 [06:38<01:58,  1.88s/it]"
          ]
        },
        {
          "output_type": "stream",
          "name": "stdout",
          "text": [
            "✅ Downloaded: pdfs1/Adjudication Order in respect of TCW Galileo Funds, Inc.pdf\n"
          ]
        },
        {
          "output_type": "stream",
          "name": "stderr",
          "text": [
            "\r 77%|███████▋  | 211/273 [06:39<01:51,  1.79s/it]"
          ]
        },
        {
          "output_type": "stream",
          "name": "stdout",
          "text": [
            "✅ Downloaded: pdfs1/Adjudication order in the matter of Mithani Securities Private Limited.pdf\n"
          ]
        },
        {
          "output_type": "stream",
          "name": "stderr",
          "text": [
            "\r 78%|███████▊  | 212/273 [06:41<01:54,  1.88s/it]"
          ]
        },
        {
          "output_type": "stream",
          "name": "stdout",
          "text": [
            "❌ Exception while downloading https://www.sebi.gov.in/sebi_data/attachdocs/1290075639917.pdf: [Errno 2] No such file or directory: 'pdfs1/Adjudication order of M/s. Bharat Rasayan Finance Ltd.pdf'\n"
          ]
        },
        {
          "output_type": "stream",
          "name": "stderr",
          "text": [
            "\r 78%|███████▊  | 213/273 [06:43<01:49,  1.83s/it]"
          ]
        },
        {
          "output_type": "stream",
          "name": "stdout",
          "text": [
            "❌ Exception while downloading https://www.sebi.gov.in/sebi_data/attachdocs/1290075530887.pdf: [Errno 2] No such file or directory: 'pdfs1/Adjudication Order in respect of M/s Banka India Limited.pdf'\n"
          ]
        },
        {
          "output_type": "stream",
          "name": "stderr",
          "text": [
            "\r 78%|███████▊  | 214/273 [06:45<01:45,  1.79s/it]"
          ]
        },
        {
          "output_type": "stream",
          "name": "stdout",
          "text": [
            "❌ Exception while downloading https://www.sebi.gov.in/sebi_data/attachdocs/1290075491779.pdf: [Errno 2] No such file or directory: 'pdfs1/Adjudication Order in respect of M/s Precision Fastners Limited.pdf'\n"
          ]
        },
        {
          "output_type": "stream",
          "name": "stderr",
          "text": [
            "\r 79%|███████▉  | 215/273 [06:46<01:42,  1.77s/it]"
          ]
        },
        {
          "output_type": "stream",
          "name": "stdout",
          "text": [
            "❌ Exception while downloading https://www.sebi.gov.in/sebi_data/attachdocs/1290075353454.pdf: [Errno 2] No such file or directory: 'pdfs1/Adjudication Order against Rakhi Trading Pvt. Ltd[SAT Appeal No.:01/2020 & Misc. App. No. 01/2020].pdf'\n"
          ]
        },
        {
          "output_type": "stream",
          "name": "stderr",
          "text": [
            "\r 79%|███████▉  | 216/273 [06:48<01:42,  1.80s/it]"
          ]
        },
        {
          "output_type": "stream",
          "name": "stdout",
          "text": [
            "✅ Downloaded: pdfs1/Adjudication order against Shri Sunil Kumar Bhageria in the matter of SBEC Sugar Limited.pdf\n"
          ]
        },
        {
          "output_type": "stream",
          "name": "stderr",
          "text": [
            "\r 79%|███████▉  | 217/273 [06:50<01:42,  1.84s/it]"
          ]
        },
        {
          "output_type": "stream",
          "name": "stdout",
          "text": [
            "✅ Downloaded: pdfs1/Adjudication Order in respect of Matra Realty Limited (formerly known as Yashraj Securities Limited) in the matter of Matra Realty Limited.pdf\n"
          ]
        },
        {
          "output_type": "stream",
          "name": "stderr",
          "text": [
            "\r 80%|███████▉  | 218/273 [06:52<01:41,  1.85s/it]"
          ]
        },
        {
          "output_type": "stream",
          "name": "stdout",
          "text": [
            "✅ Downloaded: pdfs1/Adjudication order of Amit Bhavsar in the matter of Oasis Media Matrix Ltd.pdf\n"
          ]
        },
        {
          "output_type": "stream",
          "name": "stderr",
          "text": [
            "\r 80%|████████  | 219/273 [06:54<01:43,  1.92s/it]"
          ]
        },
        {
          "output_type": "stream",
          "name": "stdout",
          "text": [
            "❌ Exception while downloading https://www.sebi.gov.in/sebi_data/attachdocs/1290075450179.pdf: [Errno 2] No such file or directory: 'pdfs1/Adjudication Order passed against Sanjiv Kathuria in the matter of M/s. Mega Corporation Limited.pdf'\n"
          ]
        },
        {
          "output_type": "stream",
          "name": "stderr",
          "text": [
            "\r 81%|████████  | 220/273 [06:56<01:44,  1.96s/it]"
          ]
        },
        {
          "output_type": "stream",
          "name": "stdout",
          "text": [
            "❌ Exception while downloading https://www.sebi.gov.in/sebi_data/attachdocs/1290075087161.pdf: [Errno 2] No such file or directory: 'pdfs1/Adjudication order against  M/s. PKC Commodities Ltd.pdf'\n"
          ]
        },
        {
          "output_type": "stream",
          "name": "stderr",
          "text": [
            "\r 81%|████████  | 221/273 [06:58<01:38,  1.89s/it]"
          ]
        },
        {
          "output_type": "stream",
          "name": "stdout",
          "text": [
            "✅ Downloaded: pdfs1/Adjudication Order against Shri S. Uttamchand in the matter of Radiant Financial Services Ltd.pdf\n"
          ]
        },
        {
          "output_type": "stream",
          "name": "stderr",
          "text": [
            "\r 81%|████████▏ | 222/273 [07:00<01:34,  1.85s/it]"
          ]
        },
        {
          "output_type": "stream",
          "name": "stdout",
          "text": [
            "✅ Downloaded: pdfs1/Adjudication Order in respect of Emmanuel Anthraper in the matter of Matra Realty Limited.pdf\n"
          ]
        },
        {
          "output_type": "stream",
          "name": "stderr",
          "text": [
            "\r 82%|████████▏ | 223/273 [07:02<01:32,  1.86s/it]"
          ]
        },
        {
          "output_type": "stream",
          "name": "stdout",
          "text": [
            "❌ Exception while downloading https://www.sebi.gov.in/sebi_data/attachdocs/1290075179392.pdf: [Errno 2] No such file or directory: 'pdfs1/Adjudication Order passed against Ganesh Raut in the matter of M/s. Mega Corporation Limited.pdf'\n"
          ]
        },
        {
          "output_type": "stream",
          "name": "stderr",
          "text": [
            "\r 82%|████████▏ | 224/273 [07:04<01:35,  1.94s/it]"
          ]
        },
        {
          "output_type": "stream",
          "name": "stdout",
          "text": [
            "❌ Exception while downloading https://www.sebi.gov.in/sebi_data/attachdocs/1290074929480.pdf: [Errno 2] No such file or directory: 'pdfs1/Adjudication order against M/s Stocknet International Limited in the matter of Stocknet International Limited.pdf'\n"
          ]
        },
        {
          "output_type": "stream",
          "name": "stderr",
          "text": [
            "\r 82%|████████▏ | 225/273 [07:06<01:32,  1.92s/it]"
          ]
        },
        {
          "output_type": "stream",
          "name": "stdout",
          "text": [
            "✅ Downloaded: pdfs1/Adjudication order in respect of Shri C.K. Chaturvedi.pdf\n"
          ]
        },
        {
          "output_type": "stream",
          "name": "stderr",
          "text": [
            "\r 83%|████████▎ | 226/273 [07:08<01:32,  1.98s/it]"
          ]
        },
        {
          "output_type": "stream",
          "name": "stdout",
          "text": [
            "❌ Exception while downloading https://www.sebi.gov.in/sebi_data/attachdocs/1290074362455.pdf: [Errno 2] No such file or directory: 'pdfs1/Adjudication Order passed against Vivekanand Patankar in the matter of M/s. Mega Corporation Limited.pdf'\n"
          ]
        },
        {
          "output_type": "stream",
          "name": "stderr",
          "text": [
            "\r 83%|████████▎ | 227/273 [07:10<01:33,  2.03s/it]"
          ]
        },
        {
          "output_type": "stream",
          "name": "stdout",
          "text": [
            "❌ Exception while downloading https://www.sebi.gov.in/sebi_data/attachdocs/1290074876885.pdf: [Errno 2] No such file or directory: 'pdfs1/Order against M/s Action Financial services (India) Limited in the matter of M/s Fast Track Entertainment Limited.pdf'\n"
          ]
        },
        {
          "output_type": "stream",
          "name": "stderr",
          "text": [
            "\r 84%|████████▎ | 228/273 [07:11<01:26,  1.93s/it]"
          ]
        },
        {
          "output_type": "stream",
          "name": "stdout",
          "text": [
            "✅ Downloaded: pdfs1/Adjudication order  against Bhankesh Bhavsar.pdf\n"
          ]
        },
        {
          "output_type": "stream",
          "name": "stderr",
          "text": [
            "\r 84%|████████▍ | 229/273 [07:14<01:29,  2.03s/it]"
          ]
        },
        {
          "output_type": "stream",
          "name": "stdout",
          "text": [
            "✅ Downloaded: pdfs1/Adjudication order against Shri Prasad Tandel in the matter of Shree Yaxx Pharma and Cosmetics Limited.pdf\n"
          ]
        },
        {
          "output_type": "stream",
          "name": "stderr",
          "text": [
            "\r 84%|████████▍ | 230/273 [07:15<01:23,  1.94s/it]"
          ]
        },
        {
          "output_type": "stream",
          "name": "stdout",
          "text": [
            "✅ Downloaded: pdfs1/Adjudication Order in respect of Bharat Nagindas Lakhani in the matter of Matra Realty Limited.pdf\n"
          ]
        },
        {
          "output_type": "stream",
          "name": "stderr",
          "text": [
            "\r 85%|████████▍ | 231/273 [07:17<01:21,  1.94s/it]"
          ]
        },
        {
          "output_type": "stream",
          "name": "stdout",
          "text": [
            "❌ Exception while downloading https://www.sebi.gov.in/sebi_data/attachdocs/1290074599318.pdf: [Errno 2] No such file or directory: 'pdfs1/Adjudication order in respect of Rajesh M. Ranka in the matter of M/s Softrack Technology Exports Limited.pdf'\n"
          ]
        },
        {
          "output_type": "stream",
          "name": "stderr",
          "text": [
            "\r 85%|████████▍ | 232/273 [07:19<01:17,  1.89s/it]"
          ]
        },
        {
          "output_type": "stream",
          "name": "stdout",
          "text": [
            "✅ Downloaded: pdfs1/Adjudication Order in respect of S.K.Khemka in the matter of Brels Infotech Limited.pdf\n"
          ]
        },
        {
          "output_type": "stream",
          "name": "stderr",
          "text": [
            "\r 85%|████████▌ | 233/273 [07:21<01:16,  1.92s/it]"
          ]
        },
        {
          "output_type": "stream",
          "name": "stdout",
          "text": [
            "✅ Downloaded: pdfs1/Adjudication Order in respect of Steel City Securities Ltd..pdf\n"
          ]
        },
        {
          "output_type": "stream",
          "name": "stderr",
          "text": [
            "\r 86%|████████▌ | 234/273 [07:23<01:12,  1.87s/it]"
          ]
        },
        {
          "output_type": "stream",
          "name": "stdout",
          "text": [
            "✅ Downloaded: pdfs1/Adjudication order  In respect of Shri. Vasant .C. Shah.pdf\n"
          ]
        },
        {
          "output_type": "stream",
          "name": "stderr",
          "text": [
            "\r 86%|████████▌ | 235/273 [07:25<01:13,  1.92s/it]"
          ]
        },
        {
          "output_type": "stream",
          "name": "stdout",
          "text": [
            "✅ Downloaded: pdfs1/Adjudication order against Anushree Tradelink  Private Limited.pdf\n"
          ]
        },
        {
          "output_type": "stream",
          "name": "stderr",
          "text": [
            "\r 86%|████████▋ | 236/273 [07:27<01:08,  1.86s/it]"
          ]
        },
        {
          "output_type": "stream",
          "name": "stdout",
          "text": [
            "❌ Exception while downloading https://www.sebi.gov.in/sebi_data/attachdocs/1290074316787.pdf: [Errno 2] No such file or directory: 'pdfs1/Adjudication order Against Shri Ashish P Shah[SAT Appeal No.252/2017].pdf'\n"
          ]
        },
        {
          "output_type": "stream",
          "name": "stderr",
          "text": [
            "\r 87%|████████▋ | 237/273 [07:28<01:05,  1.82s/it]"
          ]
        },
        {
          "output_type": "stream",
          "name": "stdout",
          "text": [
            "❌ Exception while downloading https://www.sebi.gov.in/sebi_data/attachdocs/1290074404166.pdf: [Errno 2] No such file or directory: 'pdfs1/Adjudication Order passed against Ganesh Raut in the matter of M/s. Mega  Corporation Limited.pdf'\n"
          ]
        },
        {
          "output_type": "stream",
          "name": "stderr",
          "text": [
            "\r 87%|████████▋ | 238/273 [07:31<01:06,  1.91s/it]"
          ]
        },
        {
          "output_type": "stream",
          "name": "stdout",
          "text": [
            "✅ Downloaded: pdfs1/Adjudicationi order in the matter of Swarnganga Trading Private Limited.pdf\n"
          ]
        },
        {
          "output_type": "stream",
          "name": "stderr",
          "text": [
            "\r 88%|████████▊ | 239/273 [07:32<01:03,  1.86s/it]"
          ]
        },
        {
          "output_type": "stream",
          "name": "stdout",
          "text": [
            "✅ Downloaded: pdfs1/Adjudication order Against Srijan Vyapar Private Limited.pdf\n"
          ]
        },
        {
          "output_type": "stream",
          "name": "stderr",
          "text": [
            "\r 88%|████████▊ | 240/273 [07:34<01:03,  1.92s/it]"
          ]
        },
        {
          "output_type": "stream",
          "name": "stdout",
          "text": [
            "❌ Exception while downloading https://www.sebi.gov.in/sebi_data/attachdocs/1290074241614.pdf: [Errno 2] No such file or directory: 'pdfs1/Adjudication Order passed against Naidu Mohanbhai Narayanbhai in the matter of Karuna Cables Ltd144/2018].pdf'\n"
          ]
        },
        {
          "output_type": "stream",
          "name": "stderr",
          "text": [
            "\r 88%|████████▊ | 241/273 [07:36<01:03,  1.97s/it]"
          ]
        },
        {
          "output_type": "stream",
          "name": "stdout",
          "text": [
            "✅ Downloaded: pdfs1/Adjudication order in the matter of Anil D Modi.pdf\n"
          ]
        },
        {
          "output_type": "stream",
          "name": "stderr",
          "text": [
            "\r 89%|████████▊ | 242/273 [07:38<01:01,  1.99s/it]"
          ]
        },
        {
          "output_type": "stream",
          "name": "stdout",
          "text": [
            "✅ Downloaded: pdfs1/Adjudication Order in the matter of TLB Securities Pvt  Ltd.pdf\n"
          ]
        },
        {
          "output_type": "stream",
          "name": "stderr",
          "text": [
            "\r 89%|████████▉ | 243/273 [07:40<00:57,  1.93s/it]"
          ]
        },
        {
          "output_type": "stream",
          "name": "stdout",
          "text": [
            "❌ Exception while downloading https://www.sebi.gov.in/sebi_data/attachdocs/1290073974537.pdf: [Errno 2] No such file or directory: 'pdfs1/Adjudication Order passed against Arwind Makwana in the matter of Karuna Cables Ltd142/2018][SAT Appeal No.:210/2018,[SAT Appeal No.:211/2018,[SAT Appeal No.:212/2018].pdf'\n"
          ]
        },
        {
          "output_type": "stream",
          "name": "stderr",
          "text": [
            "\r 89%|████████▉ | 244/273 [07:42<00:57,  1.97s/it]"
          ]
        },
        {
          "output_type": "stream",
          "name": "stdout",
          "text": [
            "❌ Exception while downloading https://www.sebi.gov.in/sebi_data/attachdocs/1290073928917.pdf: [Errno 2] No such file or directory: 'pdfs1/Adjudication Order passed against Prajapati Ganeshbhai Punamchand in the matter of Karuna Cables Ltd143/2018].pdf'\n"
          ]
        },
        {
          "output_type": "stream",
          "name": "stderr",
          "text": [
            "\r 90%|████████▉ | 245/273 [07:44<00:56,  2.02s/it]"
          ]
        },
        {
          "output_type": "stream",
          "name": "stdout",
          "text": [
            "✅ Downloaded: pdfs1/Adjudication Order in respect of Alok Jain in the matter of Matra Realty Limited.pdf\n"
          ]
        },
        {
          "output_type": "stream",
          "name": "stderr",
          "text": [
            "\r 90%|█████████ | 246/273 [07:46<00:53,  1.98s/it]"
          ]
        },
        {
          "output_type": "stream",
          "name": "stdout",
          "text": [
            "✅ Downloaded: pdfs1/Adjudication Order in respect of Nimish Kantilal Unadkhat in the matter of Matra Realty Limited.pdf\n"
          ]
        },
        {
          "output_type": "stream",
          "name": "stderr",
          "text": [
            "\r 90%|█████████ | 247/273 [07:48<00:50,  1.95s/it]"
          ]
        },
        {
          "output_type": "stream",
          "name": "stdout",
          "text": [
            "✅ Downloaded: pdfs1/Order in respect of Dimensional Securities Pvt. Ltd.pdf\n"
          ]
        },
        {
          "output_type": "stream",
          "name": "stderr",
          "text": [
            "\r 91%|█████████ | 248/273 [07:50<00:46,  1.85s/it]"
          ]
        },
        {
          "output_type": "stream",
          "name": "stdout",
          "text": [
            "✅ Downloaded: pdfs1/Adjudication order in respect of Right Finstock Limited in the matter of Innovision E-Commerce Limited.pdf\n"
          ]
        },
        {
          "output_type": "stream",
          "name": "stderr",
          "text": [
            "\r 91%|█████████ | 249/273 [07:51<00:43,  1.80s/it]"
          ]
        },
        {
          "output_type": "stream",
          "name": "stdout",
          "text": [
            "✅ Downloaded: pdfs1/Order iIn respect of  Shri Jagadish Savaji in the Matter of Shalibhadra Infosec Ltd.pdf\n"
          ]
        },
        {
          "output_type": "stream",
          "name": "stderr",
          "text": [
            "\r 92%|█████████▏| 250/273 [07:54<00:43,  1.88s/it]"
          ]
        },
        {
          "output_type": "stream",
          "name": "stdout",
          "text": [
            "❌ Exception while downloading https://www.sebi.gov.in/sebi_data/attachdocs/1290073507851.pdf: [Errno 2] No such file or directory: 'pdfs1/Adjudication order in respect of Mr. Ashwani Kumar Mehra in the matter of  M/s Nageshwar Investment Limited.pdf'\n"
          ]
        },
        {
          "output_type": "stream",
          "name": "stderr",
          "text": [
            "\r 92%|█████████▏| 251/273 [07:55<00:40,  1.86s/it]"
          ]
        },
        {
          "output_type": "stream",
          "name": "stdout",
          "text": [
            "✅ Downloaded: pdfs1/Adjudication Order in the matter of MCS Ltd.pdf\n"
          ]
        },
        {
          "output_type": "stream",
          "name": "stderr",
          "text": [
            "\r 92%|█████████▏| 252/273 [07:57<00:38,  1.83s/it]"
          ]
        },
        {
          "output_type": "stream",
          "name": "stdout",
          "text": [
            "✅ Downloaded: pdfs1/Adjudication order In Respect Of Canara Bank.pdf\n"
          ]
        },
        {
          "output_type": "stream",
          "name": "stderr",
          "text": [
            "\r 93%|█████████▎| 253/273 [07:59<00:37,  1.86s/it]"
          ]
        },
        {
          "output_type": "stream",
          "name": "stdout",
          "text": [
            "✅ Downloaded: pdfs1/Adjudication order in the matter of Anushree Tradelink Private Limited.pdf\n"
          ]
        },
        {
          "output_type": "stream",
          "name": "stderr",
          "text": [
            "\r 93%|█████████▎| 254/273 [08:01<00:34,  1.83s/it]"
          ]
        },
        {
          "output_type": "stream",
          "name": "stdout",
          "text": [
            "✅ Downloaded: pdfs1/Adjudication order in the matter of Scope Vyapar Private Limited.pdf\n"
          ]
        },
        {
          "output_type": "stream",
          "name": "stderr",
          "text": [
            "\r 93%|█████████▎| 255/273 [08:03<00:32,  1.80s/it]"
          ]
        },
        {
          "output_type": "stream",
          "name": "stdout",
          "text": [
            "✅ Downloaded: pdfs1/Adjudication order in the matter of Srijan Vyapar Private Limited.pdf\n"
          ]
        },
        {
          "output_type": "stream",
          "name": "stderr",
          "text": [
            "\r 94%|█████████▍| 256/273 [08:04<00:30,  1.79s/it]"
          ]
        },
        {
          "output_type": "stream",
          "name": "stdout",
          "text": [
            "✅ Downloaded: pdfs1/Adjudication order in the matter of Success Vyapar Private Limited.pdf\n"
          ]
        },
        {
          "output_type": "stream",
          "name": "stderr",
          "text": [
            "\r 94%|█████████▍| 257/273 [08:06<00:28,  1.77s/it]"
          ]
        },
        {
          "output_type": "stream",
          "name": "stdout",
          "text": [
            "✅ Downloaded: pdfs1/Adjudication order in the matter of Swarnganga Trading Private Limited.pdf\n"
          ]
        },
        {
          "output_type": "stream",
          "name": "stderr",
          "text": [
            "\r 95%|█████████▍| 258/273 [08:08<00:27,  1.86s/it]"
          ]
        },
        {
          "output_type": "stream",
          "name": "stdout",
          "text": [
            "✅ Downloaded: pdfs1/Adjudication Order against Jagatdal Jute and Industries Ltd. in the matter of Radiant Financial Services Ltd.pdf\n"
          ]
        },
        {
          "output_type": "stream",
          "name": "stderr",
          "text": [
            "\r 95%|█████████▍| 259/273 [08:10<00:25,  1.82s/it]"
          ]
        },
        {
          "output_type": "stream",
          "name": "stdout",
          "text": [
            "✅ Downloaded: pdfs1/Adjudication Order against Mangalam Viniyog Pvt. Ltd. in the matter of Radiant Financial Services Ltd.pdf\n"
          ]
        },
        {
          "output_type": "stream",
          "name": "stderr",
          "text": [
            "\r 95%|█████████▌| 260/273 [08:12<00:23,  1.79s/it]"
          ]
        },
        {
          "output_type": "stream",
          "name": "stdout",
          "text": [
            "✅ Downloaded: pdfs1/Adjudication Order against Shri Anurag Nopany in the matter of Radiant Financial Services Ltd.pdf\n"
          ]
        },
        {
          "output_type": "stream",
          "name": "stderr",
          "text": [
            "\r 96%|█████████▌| 261/273 [08:13<00:21,  1.77s/it]"
          ]
        },
        {
          "output_type": "stream",
          "name": "stdout",
          "text": [
            "✅ Downloaded: pdfs1/Adjudication order in the matter of Shelter Vyapar Private Limited.pdf\n"
          ]
        },
        {
          "output_type": "stream",
          "name": "stderr",
          "text": [
            "\r 96%|█████████▌| 262/273 [08:15<00:19,  1.77s/it]"
          ]
        },
        {
          "output_type": "stream",
          "name": "stdout",
          "text": [
            "✅ Downloaded: pdfs1/Adjudication order against Shri Surendra Kumar Kasera in the matter of SBEC Sugar Limited.pdf\n"
          ]
        },
        {
          "output_type": "stream",
          "name": "stderr",
          "text": [
            "\r 96%|█████████▋| 263/273 [08:17<00:18,  1.81s/it]"
          ]
        },
        {
          "output_type": "stream",
          "name": "stdout",
          "text": [
            "✅ Downloaded: pdfs1/Adjudication order against Shri Vinod Khetan in the matter of Adani Exports Limited.pdf\n"
          ]
        },
        {
          "output_type": "stream",
          "name": "stderr",
          "text": [
            "\r 97%|█████████▋| 264/273 [08:19<00:16,  1.81s/it]"
          ]
        },
        {
          "output_type": "stream",
          "name": "stdout",
          "text": [
            "✅ Downloaded: pdfs1/Adjudication Order in the matter of Indiabulls Securities Limited.pdf\n"
          ]
        },
        {
          "output_type": "stream",
          "name": "stderr",
          "text": [
            "\r 97%|█████████▋| 265/273 [08:21<00:14,  1.83s/it]"
          ]
        },
        {
          "output_type": "stream",
          "name": "stdout",
          "text": [
            "✅ Downloaded: pdfs1/Adjudication Orders against  Jagruti Parikh  in the matter of JIK Industries Limited.pdf\n"
          ]
        },
        {
          "output_type": "stream",
          "name": "stderr",
          "text": [
            "\r 97%|█████████▋| 266/273 [08:23<00:13,  1.94s/it]"
          ]
        },
        {
          "output_type": "stream",
          "name": "stdout",
          "text": [
            "✅ Downloaded: pdfs1/Adjudication Orders against  Jagruti Securities Limited in the matter of JIK Industries Limited.pdf\n"
          ]
        },
        {
          "output_type": "stream",
          "name": "stderr",
          "text": [
            "\r 98%|█████████▊| 267/273 [08:25<00:12,  2.02s/it]"
          ]
        },
        {
          "output_type": "stream",
          "name": "stdout",
          "text": [
            "✅ Downloaded: pdfs1/Adjudication Orders against Rajendra parikh,  in the matter of JIK Industries Limited.pdf\n"
          ]
        },
        {
          "output_type": "stream",
          "name": "stderr",
          "text": [
            "\r 98%|█████████▊| 268/273 [08:27<00:10,  2.08s/it]"
          ]
        },
        {
          "output_type": "stream",
          "name": "stdout",
          "text": [
            "✅ Downloaded: pdfs1/Adjudication Order in respect of SNR Share and Stock Services.pdf\n"
          ]
        },
        {
          "output_type": "stream",
          "name": "stderr",
          "text": [
            "\r 99%|█████████▊| 269/273 [08:29<00:07,  1.98s/it]"
          ]
        },
        {
          "output_type": "stream",
          "name": "stdout",
          "text": [
            "❌ Exception while downloading https://www.sebi.gov.in/sebi_data/attachdocs/1290154655367.pdf: [Errno 2] No such file or directory: 'pdfs1/Adjudication Order against Ms. Arti Jain in the matter of M/s Fast Track Entertainment Limi.pdf'\n"
          ]
        },
        {
          "output_type": "stream",
          "name": "stderr",
          "text": [
            "\r 99%|█████████▉| 270/273 [08:31<00:05,  1.99s/it]"
          ]
        },
        {
          "output_type": "stream",
          "name": "stdout",
          "text": [
            "❌ Exception while downloading https://www.sebi.gov.in/sebi_data/attachdocs/1290154691315.pdf: [Errno 2] No such file or directory: 'pdfs1/Adjudication Order against Shri Sailesh Jain in the matter of M/s Fast Track Entertainment Limited.pdf'\n"
          ]
        },
        {
          "output_type": "stream",
          "name": "stderr",
          "text": [
            "\r 99%|█████████▉| 271/273 [08:33<00:04,  2.01s/it]"
          ]
        },
        {
          "output_type": "stream",
          "name": "stdout",
          "text": [
            "✅ Downloaded: pdfs1/Adjudication Order in respect of Angel Broking Ltd. in the matter of Channel Guide India Limited.pdf\n"
          ]
        },
        {
          "output_type": "stream",
          "name": "stderr",
          "text": [
            "\r100%|█████████▉| 272/273 [08:35<00:01,  1.91s/it]"
          ]
        },
        {
          "output_type": "stream",
          "name": "stdout",
          "text": [
            "✅ Downloaded: pdfs1/Adjudication order in the matter of HB stockholdings Ltd and others.pdf\n"
          ]
        },
        {
          "output_type": "stream",
          "name": "stderr",
          "text": [
            "100%|██████████| 273/273 [08:37<00:00,  1.89s/it]\n"
          ]
        }
      ]
    },
    {
      "cell_type": "code",
      "source": [
        "nlp = spacy.load(\"en_core_web_sm\")\n",
        "\n",
        "# === Extract text from PDF === #\n",
        "def extract_text_from_pdf(pdf_path):\n",
        "    try:\n",
        "        doc = fitz.open(pdf_path)\n",
        "        return \"\\n\".join([page.get_text() for page in doc])\n",
        "    except Exception as e:\n",
        "        print(f\"❌ Error reading {pdf_path}: {e}\")\n",
        "        return \"\"\n",
        "\n",
        "# === NER: Extract Company Name === #\n",
        "def extract_company_name(text):\n",
        "    doc = nlp(text)\n",
        "    orgs = [ent.text.strip() for ent in doc.ents if ent.label_ == \"ORG\"]\n",
        "    return orgs[0] if orgs else None\n",
        "\n",
        "# === Extract PAN, CIN, Address === #\n",
        "def extract_pan(text):\n",
        "    return re.findall(r\"\\b[A-Z]{5}[0-9]{4}[A-Z]\\b\", text)\n",
        "\n",
        "def extract_cin(text):\n",
        "    return re.findall(r\"\\b[LU]\\d{5}[A-Z]{2}\\d{4}[A-Z]{3}\\d{6}\\b\", text)\n",
        "\n",
        "def extract_addresses(text):\n",
        "    lines = text.splitlines()\n",
        "    return [line.strip() for line in lines if any(word in line.lower() for word in [\n",
        "        \"address\", \"registered office\", \"located at\", \"situated at\"\n",
        "    ])]\n",
        "\n",
        "# === Get context (3–4 lines around keyword) === #\n",
        "def get_context_lines(text, keyword, window=3):\n",
        "    lines = text.splitlines()\n",
        "    contexts = []\n",
        "    for i, line in enumerate(lines):\n",
        "        if keyword and keyword.lower() in line.lower():\n",
        "            start = max(0, i - window)\n",
        "            end = min(len(lines), i + window + 1)\n",
        "            contexts.append(\"\\n\".join(lines[start:end]))\n",
        "    return contexts\n",
        "\n",
        "# === Sentiment classifier === #\n",
        "NEGATIVE_KEYWORDS = [\n",
        "    'penalty', 'fraud', 'manipulation', 'violated', 'liable',\n",
        "    'guilty', 'contravention', 'unfair trade', 'deceit', 'wrongful gain'\n",
        "]\n",
        "\n",
        "def classify_sentiment(context_lines):\n",
        "    for line in context_lines:\n",
        "        if any(word in line.lower() for word in NEGATIVE_KEYWORDS):\n",
        "            return \"Negative\"\n",
        "    return \"Neutral\"\n",
        "\n",
        "# === Main processor from PDF === #\n",
        "def analyze_pdf(pdf_path):\n",
        "    text = extract_text_from_pdf(pdf_path)\n",
        "\n",
        "    pan_list = extract_pan(text)\n",
        "    cin_list = extract_cin(text)\n",
        "    address_list = extract_addresses(text)\n",
        "    company = extract_company_name(text)\n",
        "    context = get_context_lines(text, company)\n",
        "    sentiment = classify_sentiment(context)\n",
        "\n",
        "    return {\n",
        "        \"pdf_filename\": os.path.basename(pdf_path),\n",
        "        \"company_name\": company,\n",
        "        \"pan\": \", \".join(pan_list) if pan_list else None,\n",
        "        \"cin\": \", \".join(cin_list) if cin_list else None,\n",
        "        \"address\": address_list[0] if address_list else None,\n",
        "        \"sentiment\": sentiment,\n",
        "        \"context\": \"\\n---\\n\".join(context) if context else None\n",
        "    }\n",
        "\n",
        "# === Analyze all PDFs from folder === #\n",
        "pdf_dir = \"/content/pdfs1\"\n",
        "all_records = []\n",
        "\n",
        "\n",
        "for filename in os.listdir(pdf_dir):\n",
        "    if filename.lower().endswith(\".pdf\"):\n",
        "        pdf_path = os.path.join(pdf_dir, filename)\n",
        "        print(f\"🔍 Processing: {filename}\")\n",
        "        record = analyze_pdf(pdf_path)\n",
        "        record[\"pdf_filename\"] = filename  # Make sure PDF name is saved\n",
        "        all_records.append(record)\n",
        "\n",
        "\n",
        "df = pd.DataFrame(all_records)\n",
        "print(df.head())\n"
      ],
      "metadata": {
        "id": "kceaTJ0dR3Ya"
      },
      "execution_count": null,
      "outputs": []
    },
    {
      "cell_type": "code",
      "source": [
        "nlp = spacy.load(\"en_core_web_sm\")\n",
        "\n",
        "# === Extract text from PDF === #\n",
        "def extract_text_from_pdf(pdf_path):\n",
        "    try:\n",
        "        doc = fitz.open(pdf_path)\n",
        "        return \"\\n\".join([page.get_text() for page in doc])\n",
        "    except Exception as e:\n",
        "        print(f\"❌ Error reading {pdf_path}: {e}\")\n",
        "        return \"\"\n",
        "\n",
        "# === NER: Extract Company Name === #\n",
        "def extract_company_name(text):\n",
        "    doc = nlp(text)\n",
        "    orgs = [ent.text.strip() for ent in doc.ents if ent.label_ == \"ORG\"]\n",
        "    return orgs[0] if orgs else None\n",
        "\n",
        "# === Extract PAN, CIN, Address === #\n",
        "def extract_pan(text):\n",
        "    return re.findall(r\"\\b[A-Z]{5}[0-9]{4}[A-Z]\\b\", text)\n",
        "\n",
        "def extract_cin(text):\n",
        "    return re.findall(r\"\\b[LU]\\d{5}[A-Z]{2}\\d{4}[A-Z]{3}\\d{6}\\b\", text)\n",
        "\n",
        "def extract_addresses(text):\n",
        "    lines = text.splitlines()\n",
        "    return [line.strip() for line in lines if any(word in line.lower() for word in [\n",
        "        \"address\", \"registered office\", \"located at\", \"situated at\"\n",
        "    ])]\n",
        "\n",
        "# === Context lines === #\n",
        "def get_context_lines(text, keyword, window=3):\n",
        "    lines = text.splitlines()\n",
        "    contexts = []\n",
        "    for i, line in enumerate(lines):\n",
        "        if keyword and keyword.lower() in line.lower():\n",
        "            start = max(0, i - window)\n",
        "            end = min(len(lines), i + window + 1)\n",
        "            contexts.append(\"\\n\".join(lines[start:end]))\n",
        "    return contexts\n",
        "\n",
        "# === Rule-based sentiment === #\n",
        "NEGATIVE_KEYWORDS = [\n",
        "    'penalty', 'fraud', 'manipulation', 'violated', 'liable',\n",
        "    'guilty', 'contravention', 'unfair trade', 'deceit', 'wrongful gain'\n",
        "]\n",
        "\n",
        "def classify_sentiment_heuristic(context_lines):\n",
        "    for line in context_lines:\n",
        "        if any(word in line.lower() for word in NEGATIVE_KEYWORDS):\n",
        "            return \"Negative\"\n",
        "    return \"Neutral\"\n",
        "\n",
        "# === TextBlob Sentiment === #\n",
        "def classify_sentiment_textblob(context_lines):\n",
        "    text = \" \".join(context_lines)\n",
        "    polarity = TextBlob(text).sentiment.polarity\n",
        "    if polarity < -0.05:\n",
        "        return \"Negative\"\n",
        "    elif polarity > 0.05:\n",
        "        return \"Positive\"\n",
        "    else:\n",
        "        return \"Neutral\"\n",
        "\n",
        "# === Main processor === #\n",
        "def analyze_pdf(pdf_path):\n",
        "    text = extract_text_from_pdf(pdf_path)\n",
        "\n",
        "    pan_list = extract_pan(text)\n",
        "    cin_list = extract_cin(text)\n",
        "    address_list = extract_addresses(text)\n",
        "    company = extract_company_name(text)\n",
        "    context = get_context_lines(text, company)\n",
        "\n",
        "    sentiment_heuristic = classify_sentiment_heuristic(context)\n",
        "    sentiment_spacy = classify_sentiment_textblob(context)\n",
        "\n",
        "    return {\n",
        "        \"pdf_filename\": os.path.basename(pdf_path),\n",
        "        \"company_name\": company,\n",
        "        \"pan\": \", \".join(pan_list) if pan_list else None,\n",
        "        \"cin\": \", \".join(cin_list) if cin_list else None,\n",
        "        \"address\": address_list[0] if address_list else None,\n",
        "        \"sentiment_heuristic\": sentiment_heuristic,\n",
        "        \"sentiment_spacy\": sentiment_spacy,\n",
        "        \"context\": \"\\n---\\n\".join(context) if context else None\n",
        "    }\n",
        "\n",
        "# === Analyze all PDFs in folder === #\n",
        "pdf_dir = \"/content/pdfs1\"\n",
        "all_records = []\n",
        "\n",
        "for filename in os.listdir(pdf_dir):\n",
        "    if filename.lower().endswith(\".pdf\"):\n",
        "        pdf_path = os.path.join(pdf_dir, filename)\n",
        "        print(f\"🔍 Processing: {filename}\")\n",
        "        record = analyze_pdf(pdf_path)\n",
        "        all_records.append(record)\n",
        "\n",
        "df = pd.DataFrame(all_records)\n",
        "print(df.head())"
      ],
      "metadata": {
        "colab": {
          "base_uri": "https://localhost:8080/"
        },
        "id": "HeC8Xj5vT3b-",
        "outputId": "72673442-11fd-4fa8-87dd-fd4e03fef1c1"
      },
      "execution_count": 7,
      "outputs": [
        {
          "output_type": "stream",
          "name": "stdout",
          "text": [
            "🔍 Processing: Adjudication Order in the matter of MCS Ltd.pdf\n",
            "🔍 Processing: Adjudication Order passed against Ms. Neelam Raimalani in the matter of Karuna Cables Ltd.pdf\n",
            "🔍 Processing: Adjudication order in respect of Canfin Homes Ltd..pdf\n",
            "🔍 Processing: Adjudication order in respect of Gowri Gopal Hospital Pvt. Ltd. in the matter of Brilliant Securities Ltd.pdf\n",
            "🔍 Processing: Adjudication order in the matter of DSP Merill Lynch Ltd.pdf\n",
            "🔍 Processing: Adjudication Order in respect of Bimex Exports Private Limited in the matter of Cyber Family. Com Limited.pdf\n",
            "🔍 Processing: Adjudication order in the matter of Karuna Cables Ltd. against Adolf Pinto.pdf\n",
            "🔍 Processing: Adjudication proceeding against SSKI Corporate Finance Pvt. Ltd. in the matter of Syndicate Bank.pdf\n",
            "🔍 Processing: Adjudication order of Shadilal Chopra in the matter of Atlanta Ltd.pdf\n",
            "🔍 Processing: Adjudication Order in respect of Steel City Securities Ltd..pdf\n",
            "🔍 Processing: Adjudication order in the matter of Anushree Tradelink Private Limited.pdf\n",
            "🔍 Processing: In the Adjudication Proceedings against V.G. Capital Markets Limited in the matter of Hitech Gears and Munjal Showa Limited.pdf\n",
            "🔍 Processing: Adjudication Order passed against Ms. Kanchan Raimalani in the matter of Karuna Cables Ltd.pdf\n",
            "🔍 Processing: Adjudication order in respect of Beenaben Bhansali in the matter of Nissan Copper Ltd.pdf\n",
            "🔍 Processing: Adjudication order in respect of Jyotsenaben M Shah.pdf\n",
            "🔍 Processing: Adjudication order in respect of Mr. Atul Nibber.pdf\n",
            "🔍 Processing: Adjudication order in respect of Rajnikant M. Bhansali in the matter of Nissan Copper Ltd.pdf\n",
            "🔍 Processing: Adjudication proceeding against SBI Capital Markets Ltd.in the matter of Syndicate Bank.pdf\n",
            "🔍 Processing: Adjudication Order passed against Mr. Murlidhar Raimalani in the matter of Karuna Cables Ltd.pdf\n",
            "🔍 Processing: Adjudication order against Shri Surendra Kumar Kasera in the matter of SBEC Sugar Limited.pdf\n",
            "🔍 Processing: Adjudication order in the matter of Success Vyapar Private Limited.pdf\n",
            "🔍 Processing: Adjudication Order in the matter of Shri Suresh Bharrat.pdf\n",
            "🔍 Processing: Adjudication order in the matter of Srijan Vyapar Private Limited.pdf\n",
            "🔍 Processing: Adjudication Order in the matter of Dani Shares & Stocks Pvt. Ltd.pdf\n",
            "🔍 Processing: Adjudication Order in respect of Roopa S Shah in the matter of Motorol Speciality Oils Limited.pdf\n",
            "🔍 Processing: Adjudication order against Shri Sunil Kumar Bhageria in the matter of SBEC Sugar Limited.pdf\n",
            "🔍 Processing: Adjudication order in the matter of Usha Iron and Ferro Metals Corporation Ltd.pdf\n",
            "🔍 Processing: Adjudication order in the matter of Wellworth Share & Stock Broking Ltd.pdf\n",
            "🔍 Processing: Adjudication order against Shri Vinod Khetan in the matter of Adani Exports Limited.pdf\n",
            "🔍 Processing: Adjudication Order against Baij Krishna and  Co. in the matter of Toplight Commercial Limited.pdf\n",
            "🔍 Processing: Adjudication Order in respect of Naman Securities and Finance Pvt. Ltd. in the matter of Adani Exports Ltd.pdf\n",
            "🔍 Processing: Adjudication order against Vision Technology India Ltd.pdf\n",
            "🔍 Processing: Adjudication Order against Ms. Gillian Pinto in the matter of K Sera Sera Production Ltd.pdf\n",
            "🔍 Processing: Adjudication Orders in the matter of Karuna Cables against Galaxy Broking Ltd.pdf\n",
            "🔍 Processing: Adjudication order in respect of Vishal R. Bhansali in the matter of Nissan Copper Ltd.pdf\n",
            "🔍 Processing: Adjudication order in respect of Shri C.K. Chaturvedi.pdf\n",
            "🔍 Processing: Adjudication order in respect of TGV Projects and Investments Ltd. in the matter of Brilliant Securities Ltd.pdf\n",
            "🔍 Processing: Adjudication order of Shri V. K. Padmanabhan in the matter of Rishab Financial Services Limited (Formerly Madan Financial Services Ltd.pdf\n",
            "🔍 Processing: Adjudication order in respect of Ahilya Commercial Pvt. Ltd. in the matter of Minolta Finance Ltd.pdf\n",
            "🔍 Processing: Adjudication order in respect of Shri Murarilal Goenka in the matter of Richfield Financial Services Ltd.pdf\n",
            "🔍 Processing: Adjudication Order against Shri Adolf Pinto in the matter of K Sera Sera Production Ltd.pdf\n",
            "🔍 Processing: Adjudication Order against Jagatdal Jute and Industries Ltd. in the matter of Radiant Financial Services Ltd.pdf\n",
            "🔍 Processing: Adjudication Order against Mangalam Viniyog Pvt. Ltd. in the matter of Radiant Financial Services Ltd.pdf\n",
            "🔍 Processing: Adjudication Order in respect of FMS Securities Limited in the matter of Havells India Ltd.pdf\n",
            "🔍 Processing: Adjudication order in the matter of Usha India Ltd.pdf\n",
            "🔍 Processing: Adjudication order in respect of Jyotshna Bhansali in the matter of Nissan Copper Ltd.pdf\n",
            "🔍 Processing: Adjudication Order against Troup International Ltd., C.V. Kamani, R..C. Kamani and D.C.Kamani in the matter of Rajath Finance Limited.pdf\n",
            "🔍 Processing: Adjudication order in respect of Yogesh M. Bhansali in the matter of Nissan Copper Ltd.pdf\n",
            "🔍 Processing: Adjudication order of Kingfisher Overseas Pvt. Ltd. in the matter of Blue Information Technology.pdf\n",
            "🔍 Processing: Adjudication Order in respect of Roopshri Finvest Private Limited in the matter of Motorol Speciality Oils Limited.pdf\n",
            "🔍 Processing: Adjudication order in respect of Babiben Bhansali in the matter of Nissan Copper Ltd.pdf\n",
            "🔍 Processing: Adjudication order of Prakash Nahata in the matter of BSR Finance and Construction Ltd.pdf\n",
            "🔍 Processing: Adjudication order in respect of Mr. Anil Nibber.pdf\n",
            "🔍 Processing: Adjudication order of Sanju Kabra in the matter of BSR Finance and Construction Ltd.pdf\n",
            "🔍 Processing: Adjudication Orders against  Jagruti Parikh  in the matter of JIK Industries Limited.pdf\n",
            "🔍 Processing: Adjudication order of Apnapan Vyapaar Pvt. Ltd in the matter of Patriot Trading Co. Ltd.pdf\n",
            "🔍 Processing: Adjudication Order in respect of Cyber Family.Com Limited in the matter of Cyber Family. Com Limited.pdf\n",
            "🔍 Processing: Adjudication Order against Action Financial Services (India) Ltd. in the matter of Shukun Construction Limited.pdf\n",
            "🔍 Processing: Adjudication order in respect of Mrs. Premlata Ramesh Saraogi.pdf\n",
            "🔍 Processing: Adjudication Order in respect of P. K. Agarwal and Co in the matter of Cyber Family. Com Limited.pdf\n",
            "🔍 Processing: Adjudication Order against Galaxy Broking Ltd. in the matter of K Sera Sera Productions Ltd.pdf\n",
            "🔍 Processing: Adjudication order  against Bhankesh Bhavsar.pdf\n",
            "🔍 Processing: Adjudication order in respect of Rajendra Prasad Shah in the matter of Minolta Finance Ltd.pdf\n",
            "🔍 Processing: Adjudication orderin respect  of Piyush Bhansali in the matter of Nissan Copper Ltd.pdf\n",
            "🔍 Processing: Adjudication order in the matter of Coromadal Fertilizers Ltd. against Bhagwandas Agarwal.pdf\n",
            "🔍 Processing: Adjudication Order in respect of B.N.Das in the matter of Sarang Viniyog Limited.pdf\n",
            "🔍 Processing: Adjudication order in the matter of HB stockholdings Ltd and others.pdf\n",
            "🔍 Processing: Adjudication Order passed against Ms. Susheeladevi Raimalani in the matter of Karuna Cables Ltd.pdf\n",
            "🔍 Processing: Adjudication Order in respect of S Jhunjhunwala and  Co in the matter of Sarang Viniyog Limited.pdf\n",
            "🔍 Processing: Adjudication Order in respect of Alok Jain in the matter of Matra Realty Limited.pdf\n",
            "🔍 Processing: Adjudication Order of Anil Kantilal Shah in the matter of Oasis Media Matrix Ltd.pdf\n",
            "🔍 Processing: Adjudication order of Jay Rapid Roller Ltd.pdf\n",
            "🔍 Processing: Adjudication order in respect of P J Chaudhary.pdf\n",
            "🔍 Processing: Adjudication Order aginst Shri Kenneth Pinto in the matter of K Sera Sera Production Ltd.pdf\n",
            "🔍 Processing: Adjudication order in respect of Puja Piyushkumar Bhansali in the matter of Nissan Copper Ltd.pdf\n",
            "🔍 Processing: Adjudication order in respect of Mr. Kashmir Chand.pdf\n",
            "🔍 Processing: Order iIn respect of  Shri Jagadish Savaji in the Matter of Shalibhadra Infosec Ltd.pdf\n",
            "🔍 Processing: Adjudication order in the matter of Karuna Cables against  Harikishan Hiralal.pdf\n",
            "🔍 Processing: Adjudication Order in respect of Alka India Limited in the matter of Alka India Limited.pdf\n",
            "🔍 Processing: Adjudication Order in the matter of Adjudicating Proceedings against Shri Dilip Pendse and Others.pdf\n",
            "🔍 Processing: Adjudication order in respect of Riki R.Bhansali in the matter of Nissan Copper Ltd.pdf\n",
            "🔍 Processing: Adjudication Order in respect of Manhattan Fingrowth Limited in the matter of Motorol Speciality Oils Limited.pdf\n",
            "🔍 Processing: Adjudication Order in respect of Shri Parshwa Finance (Proprietor: Piyush Jhaveri) in the matter of Havells India Ltd.pdf\n",
            "🔍 Processing: Adjudication Orders against Rajendra parikh,  in the matter of JIK Industries Limited.pdf\n",
            "🔍 Processing: Adjudication order in respect of Mintage Electro Equipments Ltd.pdf\n",
            "🔍 Processing: Adjudication order in the matter of Karuna Cables against Penninsular Capital Market Ltd.pdf\n",
            "🔍 Processing: Adjudication proceeding against Enam Financial Consultants in the matter of Syndicate Bank.pdf\n",
            "🔍 Processing: Adjudication Order in respect of Matra Realty Limited (formerly known as Yashraj Securities Limited) in the matter of Matra Realty Limited.pdf\n",
            "🔍 Processing: Adjudication order in respect of Piyush M. Bhansali in the matter of Nissan Copper Ltd.pdf\n",
            "🔍 Processing: Adjudication order in respect of Brilliant Industries Ltd. in the matter of Brilliant Securities Ltd.pdf\n",
            "🔍 Processing: Adjudication order in respect of Shri N.M. Lohia in the matter of Richfield Financial Services Ltd.pdf\n",
            "🔍 Processing: Adjudication Order in the matter of Steel City Securities Limited.pdf\n",
            "🔍 Processing: Adjudication order in respect of Right Finstock Limited in the matter of Innovision E-Commerce Limited.pdf\n",
            "🔍 Processing: Adjudication Order in respect of Subh Stock Broking Private Limited in the matter of Sarang Viniyog Limited.pdf\n",
            "🔍 Processing: Adjudication order in respect of Basant Periwal & Co. in the matter of Minolta Finance Ltd.pdf\n",
            "🔍 Processing: Adjudication Order in respect of Sanchay Fincom Limited in the matter of Adani Exports Ltd.pdf\n",
            "🔍 Processing: Adjudication Order in respect of Mansukh Securities & Finance Ltd. in the matter of Aarti Drugs Ltd. and Havells India Ltd.pdf\n",
            "🔍 Processing: Adjudication order in respect of Late Mrs. Putal Kavar.pdf\n",
            "🔍 Processing: Adjudication order of  Murari lal Goenka in the matter of BSR Finance and Construction Ltd.pdf\n",
            "🔍 Processing: Adjudication order of Rajrathan Financial Services Ltd.pdf\n",
            "🔍 Processing: Adjudication Order in respect of Steel City Capital Services (P) Ltd. in the matter of Recron Synthetics Limited.pdf\n",
            "🔍 Processing: Adjudication order in respect of Mukesh Dokania & Co. in the matter of Minolta Finance Ltd.pdf\n",
            "🔍 Processing: Adjudication Order in respect of Deepak B Desai in the matter of Gujarat Ambuja Export Limited.pdf\n",
            "🔍 Processing: Adjudication Order in respect of Sarang Viniyog Limited in the matter of Sarang Viniyog Limited.pdf\n",
            "🔍 Processing: Adjudication Order in respect of Sanchay Finvest Limited in the matter of Adani Exports Ltd.pdf\n",
            "🔍 Processing: Adjudication Order in the matter of Angel Capital and  Debt Market Limited.pdf\n",
            "🔍 Processing: Adjudication Order passed against Ajit Suryavanshi in the matter of Mega Corporation Limited.pdf\n",
            "🔍 Processing: Adjudication order in the matter of Anil D Modi.pdf\n",
            "🔍 Processing: Adjudication Order in respect of Angel Broking Ltd. in the matter of Channel Guide India Limited.pdf\n",
            "🔍 Processing: Adjudication Order passed against Mr. Gaurav Raimalani in the matter of Karuna Cables Ltd.pdf\n",
            "🔍 Processing: Adjudication Order in the matter of Uniglobal Securities Pvt. Ltd.pdf\n",
            "🔍 Processing: Adjudication Order in Uttam Financial Service Ltd.  - Now known as Manshukh Stock Brokers Ltd.pdf\n",
            "🔍 Processing: Adjudication order of Navinbhai Shah in the matter of Oasis Media Matrix Ltd.pdf\n",
            "🔍 Processing: Adjudication order in respect of Yesha P. Bhansali in the matter of Nissan Copper Ltd.pdf\n",
            "🔍 Processing: Adjudication Order against Hem Kanak Mercantile Pvt. Ltd. in the matter of Jindal Drilling and Industries Ltd.pdf\n",
            "🔍 Processing: Adjudication Order in respect of Alpa Haren Shah in the matter of Alpha Hi Tech Fuel Limited.pdf\n",
            "🔍 Processing: Adjudication order in respect of Navya Bhansali in the matter of Nissan Copper Ltd.pdf\n",
            "🔍 Processing: Adjudication order in the matter of Karuna Cables against Vijaykumar J. Thakkar.pdf\n",
            "🔍 Processing: Adjudication order in respect of Pani Kawar in the matter of Rishab Financial Services Ltd. - Formerly Madan Financial Services Ltd.pdf\n",
            "🔍 Processing: Adjudication Order in respect of TCW Galileo Funds, Inc.pdf\n",
            "🔍 Processing: Adjudication Order in respect of Inventure Growth and Securities Limited in the matter of Gujarat Ambuja Export Limited.pdf\n",
            "🔍 Processing: Adjudication order in the matter of Shelter Vyapar Private Limited.pdf\n",
            "🔍 Processing: Adjudication proceeding against JM Morgan Stanley Pvt. Ltd. in the matter of Syndicate Bank.pdf\n",
            "🔍 Processing: Adjudication order in the matter of Scope Vyapar Private Limited.pdf\n",
            "🔍 Processing: Adjudication Order against Ms. Premlata Nathany in the matter of Toplight Commercial Limited.pdf\n",
            "🔍 Processing: Adjudication order in respect of Fairy Vishal Bhansali in the matter of Nissan Copper Ltd.pdf\n",
            "🔍 Processing: Adjudication order against Shri Prasad Tandel in the matter of Shree Yaxx Pharma and Cosmetics Limited.pdf\n",
            "🔍 Processing: Adjudication order in the matter of Mithani Securities Private Limited.pdf\n",
            "🔍 Processing: Adjudication order in the matter of Arihant Capital Markets Ltd.pdf\n",
            "🔍 Processing: Adjudication Orders against  Jagruti Securities Limited in the matter of JIK Industries Limited.pdf\n",
            "🔍 Processing: Adjudication order of Amit Bhavsar in the matter of Oasis Media Matrix Ltd.pdf\n",
            "🔍 Processing: Adjudication proceedings against DCM Financial Services Limited.pdf\n",
            "🔍 Processing: Adjudication order Against Srijan Vyapar Private Limited.pdf\n",
            "🔍 Processing: Adjudication Order in respect of Bhanuben Jaisukhlal Shah in the matter of Alpha Hi Tech Fuel Limited.pdf\n",
            "🔍 Processing: Adjudication Order in respect of Ahilya Commercial Private Limited in the matter of Sarang Viniyog Limited.pdf\n",
            "🔍 Processing: Adjudication Order against Shri S. Uttamchand in the matter of Radiant Financial Services Ltd.pdf\n",
            "🔍 Processing: Adjudication order of Varun Y. Bhansali in the matter of Nissan Copper Ltd.pdf\n",
            "🔍 Processing: Adjudication order in respecst of Mafatlal K. Bhansali in the matter of Nissan Copper Ltd.pdf\n",
            "🔍 Processing: Adjudication Order in the matter of TLB Securities Pvt  Ltd.pdf\n",
            "🔍 Processing: Adjudication order of Nirav Pandya in the matter of Oasis Media Matrix Ltd.pdf\n",
            "🔍 Processing: Adjudication Order in respect of Sarash Trading Private Limited in the matter of Cyber Family. Com Limited.pdf\n",
            "🔍 Processing: Adjudication Order in respect of S.K.Khemka in the matter of Brels Infotech Limited.pdf\n",
            "🔍 Processing: Adjudication order in respect of T.G. Venkatesh in the matter of Brilliant Securities Ltd.pdf\n",
            "🔍 Processing: Adjudication order in the matter of Karuna Cables against  Sanchay Fincom Ltd.pdf\n",
            "🔍 Processing: Adjudication order in the matter of Coromadal Fertilizers Ltd. against Gopal Kumar Agarwal.pdf\n",
            "🔍 Processing: Adjudication Order against Shri Anurag Nopany in the matter of Radiant Financial Services Ltd.pdf\n",
            "🔍 Processing: Adjudication Order against Kankeshwari Securities in the matter of Shukun Construction Ltd.pdf\n",
            "🔍 Processing: Adjudication Order in respect of Deepraj Vinimay Private Limited in the matter of Cyber Family. Com Limited.pdf\n",
            "🔍 Processing: Adjudication Orders in the matter of Karuna Cables against  S.P. Jain Securities Pvt. Ltd..pdf\n",
            "🔍 Processing: Adjudication order in the matter of Prudential ICICI Mutual Fund.pdf\n",
            "🔍 Processing: Adjudication order in respect of Clock Sign Trading Co. Pvt. Ltd. in the matter of Global Capital Markets Ltd.pdf\n",
            "🔍 Processing: Adjudication Order in respect of Bharat Nagindas Lakhani in the matter of Matra Realty Limited.pdf\n",
            "🔍 Processing: Adjudication order  In respect of Shri. Vasant .C. Shah.pdf\n",
            "🔍 Processing: Adjudication order of Rishabh Stock Broking Services Pvt. Ltd.pdf\n",
            "🔍 Processing: Adjudication order in respect of Yogesh Mafatlal Bhansali in the matter of Nissan Copper Limited.pdf\n",
            "🔍 Processing: Adjudication order against OC Oerlikon Corporation AG, Pfaffikon and W. Reiners Verwaltungs GmbH.pdf\n",
            "🔍 Processing: Adjudicationi order in the matter of Swarnganga Trading Private Limited.pdf\n",
            "🔍 Processing: Adjudication Order in respect of SNR Share and Stock Services.pdf\n",
            "🔍 Processing: Adjudication order In respect of Eupharma Laboratories Limited.pdf\n",
            "🔍 Processing: Adjudication proceedings against Sun TV  Network Limited.pdf\n",
            "🔍 Processing: Adjudication order in the matter of Bonanza Stock Brokers Ltd.pdf\n",
            "🔍 Processing: Adjudication order in respect of Rajnikant Bhansali in the matter of Nissan Copper Ltd - HUF.pdf\n",
            "🔍 Processing: Adjudication order in respect of Ahilya Commercial Pvt. Ltd. in the matter of Brahmanand Himghar Ltd.pdf\n",
            "🔍 Processing: Order against Celica Developers Private Limited.pdf\n",
            "🔍 Processing: Adjudication Order in respect of Prakash Nahata and  Co. in the matter of Cyber Family. Com Limited.pdf\n",
            "🔍 Processing: Adjudication order in respect of Raj P. Bhansali in the matter of Nissan Copper Ltd.pdf\n",
            "🔍 Processing: Adjudication Order against Triumph International Finance India Ltd. in the matter of Adani Exports Ltd.pdf\n",
            "🔍 Processing: Order against Opal Industries Limited.pdf\n",
            "🔍 Processing: Adjudication Order In respect of Shri  Tushar Javeri in the matter of Enrich Industries Ltd.pdf\n",
            "🔍 Processing: Order in respect of Dimensional Securities Pvt. Ltd.pdf\n",
            "🔍 Processing: Adjudication order in respect of Mr. Brij Khanna in the matter of Blue Information Technology.pdf\n",
            "🔍 Processing: Adjudication Order against Gama Commerce Pvt. Ltd. in the matter of Amluckie Investment Company Limited..pdf\n",
            "🔍 Processing: Adjudication order in respect of Shri Ballabh Dass Daga in the matter of Minolta Finance Ltd.pdf\n",
            "🔍 Processing: Adjudication Order against Shri Ramkrishna Dudwawala in the matter of Toplight Commercial Limited.pdf\n",
            "🔍 Processing: Adjudication order in the matter of Vatsa Music Ltd.pdf\n",
            "🔍 Processing: Adjudication order against Satya Securities Ltd. and Basant Marketing pvt. Ltd. in the matter of Granules India Ltd.pdf\n",
            "🔍 Processing: Adjudication Order in respect of Amrut Securities Ltd. in the matter of Axel Polymers Ltd.pdf\n",
            "🔍 Processing: Adjudication Order in the matter of Indiabulls Securities Limited.pdf\n",
            "🔍 Processing: Adjudication order in respect of Purviben Bhansali in the matter of Nissan Copper Ltd.pdf\n",
            "🔍 Processing: Adjudication order against Anushree Tradelink  Private Limited.pdf\n",
            "🔍 Processing: Adjudication order of Rupesh H. Shah in the matter of Oasis Media Matrix Ltd.pdf\n",
            "🔍 Processing: Adjudication order in the matter of Swarnganga Trading Private Limited.pdf\n",
            "🔍 Processing: Adjudication Order in respect of Shri Sushil Kumar Patodia in the matter of Lumax Ind. Ltd and Crew BOS Ind. Ltd.pdf\n",
            "🔍 Processing: Adjudication order in respect of T.G. Bharath in the matter of Brilliant Securities Ltd.pdf\n",
            "🔍 Processing: Adjudication order in the matter of Coromadal Fertilizers Ltd. against Shankar Aggarwal.pdf\n",
            "🔍 Processing: Adjudication Order against Jitendra Harjivandas Securities Pvt. Ltd. in the matter of Shukun Construction Ltd.pdf\n",
            "🔍 Processing: Adjudication order In Respect Of Canara Bank.pdf\n",
            "🔍 Processing: Adjudication Order in respect of Hindustan Tea & Trading Co. Ltd. in the matter of Orion Paper and Industries Ltd.pdf\n",
            "🔍 Processing: Adjudication Order in respect of Emmanuel Anthraper in the matter of Matra Realty Limited.pdf\n",
            "🔍 Processing: Adjudication Order in respect of Nimish Kantilal Unadkhat in the matter of Matra Realty Limited.pdf\n",
            "🔍 Processing: Adjudication Order in respect of Pramod Kumar Kothari in the matter of Cyber Family. Com Limited.pdf\n",
            "🔍 Processing: Adjudication order of VSE Stock Services Ltd.pdf\n",
            "                                        pdf_filename  \\\n",
            "0    Adjudication Order in the matter of MCS Ltd.pdf   \n",
            "1  Adjudication Order passed against Ms. Neelam R...   \n",
            "2  Adjudication order in respect of Canfin Homes ...   \n",
            "3  Adjudication order in respect of Gowri Gopal H...   \n",
            "4  Adjudication order in the matter of DSP Merill...   \n",
            "\n",
            "                                        company_name                     pan  \\\n",
            "0                                     BOARD OF INDIA  AAACM8027G, AAACM8027G   \n",
            "1                                                PAN                    None   \n",
            "2  THE ADJUDICATING OFFICER \\n \\nSECURITIES AND E...              AAACC7241A   \n",
            "3                                            OFFICER              AACCS9035O   \n",
            "4                                                DSP              AAACD0535G   \n",
            "\n",
            "    cin                                            address  \\\n",
            "0  None  10.1 A copy of a letter dated June 12, 2007 fr...   \n",
            "1  None                                               None   \n",
            "2  None  of the company are listed, the names and addre...   \n",
            "3  None                                               None   \n",
            "4  None  email address is a ‘group email address’ which...   \n",
            "\n",
            "  sentiment_heuristic sentiment_spacy  \\\n",
            "0            Negative        Negative   \n",
            "1             Neutral         Neutral   \n",
            "2             Neutral         Neutral   \n",
            "3            Negative        Negative   \n",
            "4            Negative        Positive   \n",
            "\n",
            "                                             context  \n",
            "0   \\n1\\nBEFORE THE ADJUDICATING OFFICER \\nSECURI...  \n",
            "1  1995 \\nAgainst \\n                             ...  \n",
            "2                                               None  \n",
            "3  Page 1 of 15 \\nBEFORE THE ADJUDICATING OFFICER...  \n",
            "4  Page 1 of 8 \\nBEFORE THE ADJUDICATING OFFICER ...  \n"
          ]
        }
      ]
    },
    {
      "cell_type": "code",
      "source": [
        "df"
      ],
      "metadata": {
        "colab": {
          "base_uri": "https://localhost:8080/",
          "height": 927
        },
        "id": "m_dBjZkwUupQ",
        "outputId": "a160cacd-4cfd-4955-e2a1-bad32e56b44c"
      },
      "execution_count": 8,
      "outputs": [
        {
          "output_type": "execute_result",
          "data": {
            "text/plain": [
              "                                          pdf_filename  \\\n",
              "0      Adjudication Order in the matter of MCS Ltd.pdf   \n",
              "1    Adjudication Order passed against Ms. Neelam R...   \n",
              "2    Adjudication order in respect of Canfin Homes ...   \n",
              "3    Adjudication order in respect of Gowri Gopal H...   \n",
              "4    Adjudication order in the matter of DSP Merill...   \n",
              "..                                                 ...   \n",
              "187  Adjudication Order in respect of Hindustan Tea...   \n",
              "188  Adjudication Order in respect of Emmanuel Anth...   \n",
              "189  Adjudication Order in respect of Nimish Kantil...   \n",
              "190  Adjudication Order in respect of Pramod Kumar ...   \n",
              "191   Adjudication order of VSE Stock Services Ltd.pdf   \n",
              "\n",
              "                                          company_name  \\\n",
              "0                                       BOARD OF INDIA   \n",
              "1                                                  PAN   \n",
              "2    THE ADJUDICATING OFFICER \\n \\nSECURITIES AND E...   \n",
              "3                                              OFFICER   \n",
              "4                                                  DSP   \n",
              "..                                                 ...   \n",
              "187                                            OFFICER   \n",
              "188                                            OFFICER   \n",
              "189                                            OFFICER   \n",
              "190                                            OFFICER   \n",
              "191                            VSE Stock Services Ltd.   \n",
              "\n",
              "                        pan   cin  \\\n",
              "0    AAACM8027G, AAACM8027G  None   \n",
              "1                      None  None   \n",
              "2                AAACC7241A  None   \n",
              "3                AACCS9035O  None   \n",
              "4                AAACD0535G  None   \n",
              "..                      ...   ...   \n",
              "187                    None  None   \n",
              "188              AJBPA3595N  None   \n",
              "189              AAAPU2220N  None   \n",
              "190                    None  None   \n",
              "191              AABCV4258K  None   \n",
              "\n",
              "                                               address sentiment_heuristic  \\\n",
              "0    10.1 A copy of a letter dated June 12, 2007 fr...            Negative   \n",
              "1                                                 None             Neutral   \n",
              "2    of the company are listed, the names and addre...             Neutral   \n",
              "3                                                 None            Negative   \n",
              "4    email address is a ‘group email address’ which...            Negative   \n",
              "..                                                 ...                 ...   \n",
              "187  the person available at the address refused to...            Negative   \n",
              "188                                               None            Negative   \n",
              "189                                               None            Negative   \n",
              "190                                               None            Negative   \n",
              "191  address for each of its clients and the notice...             Neutral   \n",
              "\n",
              "    sentiment_spacy                                            context  \n",
              "0          Negative   \\n1\\nBEFORE THE ADJUDICATING OFFICER \\nSECURI...  \n",
              "1           Neutral  1995 \\nAgainst \\n                             ...  \n",
              "2           Neutral                                               None  \n",
              "3          Negative  Page 1 of 15 \\nBEFORE THE ADJUDICATING OFFICER...  \n",
              "4          Positive  Page 1 of 8 \\nBEFORE THE ADJUDICATING OFFICER ...  \n",
              "..              ...                                                ...  \n",
              "187         Neutral  Page 1 of 3 \\nBEFORE THE ADJUDICATING OFFICER ...  \n",
              "188        Negative  Page 1 of 14 \\nBEFORE THE ADJUDICATING OFFICER...  \n",
              "189        Negative  Page 1 of 15 \\nBEFORE THE ADJUDICATING OFFICER...  \n",
              "190        Negative  Page 1 of 17 \\nBEFORE THE ADJUDICATING OFFICER...  \n",
              "191         Neutral   \\nAdjudication Order in respect of VSE Stock ...  \n",
              "\n",
              "[192 rows x 8 columns]"
            ],
            "text/html": [
              "\n",
              "  <div id=\"df-c128558d-0183-4285-924b-00c16c5e5c56\" class=\"colab-df-container\">\n",
              "    <div>\n",
              "<style scoped>\n",
              "    .dataframe tbody tr th:only-of-type {\n",
              "        vertical-align: middle;\n",
              "    }\n",
              "\n",
              "    .dataframe tbody tr th {\n",
              "        vertical-align: top;\n",
              "    }\n",
              "\n",
              "    .dataframe thead th {\n",
              "        text-align: right;\n",
              "    }\n",
              "</style>\n",
              "<table border=\"1\" class=\"dataframe\">\n",
              "  <thead>\n",
              "    <tr style=\"text-align: right;\">\n",
              "      <th></th>\n",
              "      <th>pdf_filename</th>\n",
              "      <th>company_name</th>\n",
              "      <th>pan</th>\n",
              "      <th>cin</th>\n",
              "      <th>address</th>\n",
              "      <th>sentiment_heuristic</th>\n",
              "      <th>sentiment_spacy</th>\n",
              "      <th>context</th>\n",
              "    </tr>\n",
              "  </thead>\n",
              "  <tbody>\n",
              "    <tr>\n",
              "      <th>0</th>\n",
              "      <td>Adjudication Order in the matter of MCS Ltd.pdf</td>\n",
              "      <td>BOARD OF INDIA</td>\n",
              "      <td>AAACM8027G, AAACM8027G</td>\n",
              "      <td>None</td>\n",
              "      <td>10.1 A copy of a letter dated June 12, 2007 fr...</td>\n",
              "      <td>Negative</td>\n",
              "      <td>Negative</td>\n",
              "      <td>\\n1\\nBEFORE THE ADJUDICATING OFFICER \\nSECURI...</td>\n",
              "    </tr>\n",
              "    <tr>\n",
              "      <th>1</th>\n",
              "      <td>Adjudication Order passed against Ms. Neelam R...</td>\n",
              "      <td>PAN</td>\n",
              "      <td>None</td>\n",
              "      <td>None</td>\n",
              "      <td>None</td>\n",
              "      <td>Neutral</td>\n",
              "      <td>Neutral</td>\n",
              "      <td>1995 \\nAgainst \\n                             ...</td>\n",
              "    </tr>\n",
              "    <tr>\n",
              "      <th>2</th>\n",
              "      <td>Adjudication order in respect of Canfin Homes ...</td>\n",
              "      <td>THE ADJUDICATING OFFICER \\n \\nSECURITIES AND E...</td>\n",
              "      <td>AAACC7241A</td>\n",
              "      <td>None</td>\n",
              "      <td>of the company are listed, the names and addre...</td>\n",
              "      <td>Neutral</td>\n",
              "      <td>Neutral</td>\n",
              "      <td>None</td>\n",
              "    </tr>\n",
              "    <tr>\n",
              "      <th>3</th>\n",
              "      <td>Adjudication order in respect of Gowri Gopal H...</td>\n",
              "      <td>OFFICER</td>\n",
              "      <td>AACCS9035O</td>\n",
              "      <td>None</td>\n",
              "      <td>None</td>\n",
              "      <td>Negative</td>\n",
              "      <td>Negative</td>\n",
              "      <td>Page 1 of 15 \\nBEFORE THE ADJUDICATING OFFICER...</td>\n",
              "    </tr>\n",
              "    <tr>\n",
              "      <th>4</th>\n",
              "      <td>Adjudication order in the matter of DSP Merill...</td>\n",
              "      <td>DSP</td>\n",
              "      <td>AAACD0535G</td>\n",
              "      <td>None</td>\n",
              "      <td>email address is a ‘group email address’ which...</td>\n",
              "      <td>Negative</td>\n",
              "      <td>Positive</td>\n",
              "      <td>Page 1 of 8 \\nBEFORE THE ADJUDICATING OFFICER ...</td>\n",
              "    </tr>\n",
              "    <tr>\n",
              "      <th>...</th>\n",
              "      <td>...</td>\n",
              "      <td>...</td>\n",
              "      <td>...</td>\n",
              "      <td>...</td>\n",
              "      <td>...</td>\n",
              "      <td>...</td>\n",
              "      <td>...</td>\n",
              "      <td>...</td>\n",
              "    </tr>\n",
              "    <tr>\n",
              "      <th>187</th>\n",
              "      <td>Adjudication Order in respect of Hindustan Tea...</td>\n",
              "      <td>OFFICER</td>\n",
              "      <td>None</td>\n",
              "      <td>None</td>\n",
              "      <td>the person available at the address refused to...</td>\n",
              "      <td>Negative</td>\n",
              "      <td>Neutral</td>\n",
              "      <td>Page 1 of 3 \\nBEFORE THE ADJUDICATING OFFICER ...</td>\n",
              "    </tr>\n",
              "    <tr>\n",
              "      <th>188</th>\n",
              "      <td>Adjudication Order in respect of Emmanuel Anth...</td>\n",
              "      <td>OFFICER</td>\n",
              "      <td>AJBPA3595N</td>\n",
              "      <td>None</td>\n",
              "      <td>None</td>\n",
              "      <td>Negative</td>\n",
              "      <td>Negative</td>\n",
              "      <td>Page 1 of 14 \\nBEFORE THE ADJUDICATING OFFICER...</td>\n",
              "    </tr>\n",
              "    <tr>\n",
              "      <th>189</th>\n",
              "      <td>Adjudication Order in respect of Nimish Kantil...</td>\n",
              "      <td>OFFICER</td>\n",
              "      <td>AAAPU2220N</td>\n",
              "      <td>None</td>\n",
              "      <td>None</td>\n",
              "      <td>Negative</td>\n",
              "      <td>Negative</td>\n",
              "      <td>Page 1 of 15 \\nBEFORE THE ADJUDICATING OFFICER...</td>\n",
              "    </tr>\n",
              "    <tr>\n",
              "      <th>190</th>\n",
              "      <td>Adjudication Order in respect of Pramod Kumar ...</td>\n",
              "      <td>OFFICER</td>\n",
              "      <td>None</td>\n",
              "      <td>None</td>\n",
              "      <td>None</td>\n",
              "      <td>Negative</td>\n",
              "      <td>Negative</td>\n",
              "      <td>Page 1 of 17 \\nBEFORE THE ADJUDICATING OFFICER...</td>\n",
              "    </tr>\n",
              "    <tr>\n",
              "      <th>191</th>\n",
              "      <td>Adjudication order of VSE Stock Services Ltd.pdf</td>\n",
              "      <td>VSE Stock Services Ltd.</td>\n",
              "      <td>AABCV4258K</td>\n",
              "      <td>None</td>\n",
              "      <td>address for each of its clients and the notice...</td>\n",
              "      <td>Neutral</td>\n",
              "      <td>Neutral</td>\n",
              "      <td>\\nAdjudication Order in respect of VSE Stock ...</td>\n",
              "    </tr>\n",
              "  </tbody>\n",
              "</table>\n",
              "<p>192 rows × 8 columns</p>\n",
              "</div>\n",
              "    <div class=\"colab-df-buttons\">\n",
              "\n",
              "  <div class=\"colab-df-container\">\n",
              "    <button class=\"colab-df-convert\" onclick=\"convertToInteractive('df-c128558d-0183-4285-924b-00c16c5e5c56')\"\n",
              "            title=\"Convert this dataframe to an interactive table.\"\n",
              "            style=\"display:none;\">\n",
              "\n",
              "  <svg xmlns=\"http://www.w3.org/2000/svg\" height=\"24px\" viewBox=\"0 -960 960 960\">\n",
              "    <path d=\"M120-120v-720h720v720H120Zm60-500h600v-160H180v160Zm220 220h160v-160H400v160Zm0 220h160v-160H400v160ZM180-400h160v-160H180v160Zm440 0h160v-160H620v160ZM180-180h160v-160H180v160Zm440 0h160v-160H620v160Z\"/>\n",
              "  </svg>\n",
              "    </button>\n",
              "\n",
              "  <style>\n",
              "    .colab-df-container {\n",
              "      display:flex;\n",
              "      gap: 12px;\n",
              "    }\n",
              "\n",
              "    .colab-df-convert {\n",
              "      background-color: #E8F0FE;\n",
              "      border: none;\n",
              "      border-radius: 50%;\n",
              "      cursor: pointer;\n",
              "      display: none;\n",
              "      fill: #1967D2;\n",
              "      height: 32px;\n",
              "      padding: 0 0 0 0;\n",
              "      width: 32px;\n",
              "    }\n",
              "\n",
              "    .colab-df-convert:hover {\n",
              "      background-color: #E2EBFA;\n",
              "      box-shadow: 0px 1px 2px rgba(60, 64, 67, 0.3), 0px 1px 3px 1px rgba(60, 64, 67, 0.15);\n",
              "      fill: #174EA6;\n",
              "    }\n",
              "\n",
              "    .colab-df-buttons div {\n",
              "      margin-bottom: 4px;\n",
              "    }\n",
              "\n",
              "    [theme=dark] .colab-df-convert {\n",
              "      background-color: #3B4455;\n",
              "      fill: #D2E3FC;\n",
              "    }\n",
              "\n",
              "    [theme=dark] .colab-df-convert:hover {\n",
              "      background-color: #434B5C;\n",
              "      box-shadow: 0px 1px 3px 1px rgba(0, 0, 0, 0.15);\n",
              "      filter: drop-shadow(0px 1px 2px rgba(0, 0, 0, 0.3));\n",
              "      fill: #FFFFFF;\n",
              "    }\n",
              "  </style>\n",
              "\n",
              "    <script>\n",
              "      const buttonEl =\n",
              "        document.querySelector('#df-c128558d-0183-4285-924b-00c16c5e5c56 button.colab-df-convert');\n",
              "      buttonEl.style.display =\n",
              "        google.colab.kernel.accessAllowed ? 'block' : 'none';\n",
              "\n",
              "      async function convertToInteractive(key) {\n",
              "        const element = document.querySelector('#df-c128558d-0183-4285-924b-00c16c5e5c56');\n",
              "        const dataTable =\n",
              "          await google.colab.kernel.invokeFunction('convertToInteractive',\n",
              "                                                    [key], {});\n",
              "        if (!dataTable) return;\n",
              "\n",
              "        const docLinkHtml = 'Like what you see? Visit the ' +\n",
              "          '<a target=\"_blank\" href=https://colab.research.google.com/notebooks/data_table.ipynb>data table notebook</a>'\n",
              "          + ' to learn more about interactive tables.';\n",
              "        element.innerHTML = '';\n",
              "        dataTable['output_type'] = 'display_data';\n",
              "        await google.colab.output.renderOutput(dataTable, element);\n",
              "        const docLink = document.createElement('div');\n",
              "        docLink.innerHTML = docLinkHtml;\n",
              "        element.appendChild(docLink);\n",
              "      }\n",
              "    </script>\n",
              "  </div>\n",
              "\n",
              "\n",
              "    <div id=\"df-8f750675-6327-468a-a385-2a97afa9b5a4\">\n",
              "      <button class=\"colab-df-quickchart\" onclick=\"quickchart('df-8f750675-6327-468a-a385-2a97afa9b5a4')\"\n",
              "                title=\"Suggest charts\"\n",
              "                style=\"display:none;\">\n",
              "\n",
              "<svg xmlns=\"http://www.w3.org/2000/svg\" height=\"24px\"viewBox=\"0 0 24 24\"\n",
              "     width=\"24px\">\n",
              "    <g>\n",
              "        <path d=\"M19 3H5c-1.1 0-2 .9-2 2v14c0 1.1.9 2 2 2h14c1.1 0 2-.9 2-2V5c0-1.1-.9-2-2-2zM9 17H7v-7h2v7zm4 0h-2V7h2v10zm4 0h-2v-4h2v4z\"/>\n",
              "    </g>\n",
              "</svg>\n",
              "      </button>\n",
              "\n",
              "<style>\n",
              "  .colab-df-quickchart {\n",
              "      --bg-color: #E8F0FE;\n",
              "      --fill-color: #1967D2;\n",
              "      --hover-bg-color: #E2EBFA;\n",
              "      --hover-fill-color: #174EA6;\n",
              "      --disabled-fill-color: #AAA;\n",
              "      --disabled-bg-color: #DDD;\n",
              "  }\n",
              "\n",
              "  [theme=dark] .colab-df-quickchart {\n",
              "      --bg-color: #3B4455;\n",
              "      --fill-color: #D2E3FC;\n",
              "      --hover-bg-color: #434B5C;\n",
              "      --hover-fill-color: #FFFFFF;\n",
              "      --disabled-bg-color: #3B4455;\n",
              "      --disabled-fill-color: #666;\n",
              "  }\n",
              "\n",
              "  .colab-df-quickchart {\n",
              "    background-color: var(--bg-color);\n",
              "    border: none;\n",
              "    border-radius: 50%;\n",
              "    cursor: pointer;\n",
              "    display: none;\n",
              "    fill: var(--fill-color);\n",
              "    height: 32px;\n",
              "    padding: 0;\n",
              "    width: 32px;\n",
              "  }\n",
              "\n",
              "  .colab-df-quickchart:hover {\n",
              "    background-color: var(--hover-bg-color);\n",
              "    box-shadow: 0 1px 2px rgba(60, 64, 67, 0.3), 0 1px 3px 1px rgba(60, 64, 67, 0.15);\n",
              "    fill: var(--button-hover-fill-color);\n",
              "  }\n",
              "\n",
              "  .colab-df-quickchart-complete:disabled,\n",
              "  .colab-df-quickchart-complete:disabled:hover {\n",
              "    background-color: var(--disabled-bg-color);\n",
              "    fill: var(--disabled-fill-color);\n",
              "    box-shadow: none;\n",
              "  }\n",
              "\n",
              "  .colab-df-spinner {\n",
              "    border: 2px solid var(--fill-color);\n",
              "    border-color: transparent;\n",
              "    border-bottom-color: var(--fill-color);\n",
              "    animation:\n",
              "      spin 1s steps(1) infinite;\n",
              "  }\n",
              "\n",
              "  @keyframes spin {\n",
              "    0% {\n",
              "      border-color: transparent;\n",
              "      border-bottom-color: var(--fill-color);\n",
              "      border-left-color: var(--fill-color);\n",
              "    }\n",
              "    20% {\n",
              "      border-color: transparent;\n",
              "      border-left-color: var(--fill-color);\n",
              "      border-top-color: var(--fill-color);\n",
              "    }\n",
              "    30% {\n",
              "      border-color: transparent;\n",
              "      border-left-color: var(--fill-color);\n",
              "      border-top-color: var(--fill-color);\n",
              "      border-right-color: var(--fill-color);\n",
              "    }\n",
              "    40% {\n",
              "      border-color: transparent;\n",
              "      border-right-color: var(--fill-color);\n",
              "      border-top-color: var(--fill-color);\n",
              "    }\n",
              "    60% {\n",
              "      border-color: transparent;\n",
              "      border-right-color: var(--fill-color);\n",
              "    }\n",
              "    80% {\n",
              "      border-color: transparent;\n",
              "      border-right-color: var(--fill-color);\n",
              "      border-bottom-color: var(--fill-color);\n",
              "    }\n",
              "    90% {\n",
              "      border-color: transparent;\n",
              "      border-bottom-color: var(--fill-color);\n",
              "    }\n",
              "  }\n",
              "</style>\n",
              "\n",
              "      <script>\n",
              "        async function quickchart(key) {\n",
              "          const quickchartButtonEl =\n",
              "            document.querySelector('#' + key + ' button');\n",
              "          quickchartButtonEl.disabled = true;  // To prevent multiple clicks.\n",
              "          quickchartButtonEl.classList.add('colab-df-spinner');\n",
              "          try {\n",
              "            const charts = await google.colab.kernel.invokeFunction(\n",
              "                'suggestCharts', [key], {});\n",
              "          } catch (error) {\n",
              "            console.error('Error during call to suggestCharts:', error);\n",
              "          }\n",
              "          quickchartButtonEl.classList.remove('colab-df-spinner');\n",
              "          quickchartButtonEl.classList.add('colab-df-quickchart-complete');\n",
              "        }\n",
              "        (() => {\n",
              "          let quickchartButtonEl =\n",
              "            document.querySelector('#df-8f750675-6327-468a-a385-2a97afa9b5a4 button');\n",
              "          quickchartButtonEl.style.display =\n",
              "            google.colab.kernel.accessAllowed ? 'block' : 'none';\n",
              "        })();\n",
              "      </script>\n",
              "    </div>\n",
              "\n",
              "  <div id=\"id_27553018-0dd5-4022-8d01-1e3168b7a2db\">\n",
              "    <style>\n",
              "      .colab-df-generate {\n",
              "        background-color: #E8F0FE;\n",
              "        border: none;\n",
              "        border-radius: 50%;\n",
              "        cursor: pointer;\n",
              "        display: none;\n",
              "        fill: #1967D2;\n",
              "        height: 32px;\n",
              "        padding: 0 0 0 0;\n",
              "        width: 32px;\n",
              "      }\n",
              "\n",
              "      .colab-df-generate:hover {\n",
              "        background-color: #E2EBFA;\n",
              "        box-shadow: 0px 1px 2px rgba(60, 64, 67, 0.3), 0px 1px 3px 1px rgba(60, 64, 67, 0.15);\n",
              "        fill: #174EA6;\n",
              "      }\n",
              "\n",
              "      [theme=dark] .colab-df-generate {\n",
              "        background-color: #3B4455;\n",
              "        fill: #D2E3FC;\n",
              "      }\n",
              "\n",
              "      [theme=dark] .colab-df-generate:hover {\n",
              "        background-color: #434B5C;\n",
              "        box-shadow: 0px 1px 3px 1px rgba(0, 0, 0, 0.15);\n",
              "        filter: drop-shadow(0px 1px 2px rgba(0, 0, 0, 0.3));\n",
              "        fill: #FFFFFF;\n",
              "      }\n",
              "    </style>\n",
              "    <button class=\"colab-df-generate\" onclick=\"generateWithVariable('df')\"\n",
              "            title=\"Generate code using this dataframe.\"\n",
              "            style=\"display:none;\">\n",
              "\n",
              "  <svg xmlns=\"http://www.w3.org/2000/svg\" height=\"24px\"viewBox=\"0 0 24 24\"\n",
              "       width=\"24px\">\n",
              "    <path d=\"M7,19H8.4L18.45,9,17,7.55,7,17.6ZM5,21V16.75L18.45,3.32a2,2,0,0,1,2.83,0l1.4,1.43a1.91,1.91,0,0,1,.58,1.4,1.91,1.91,0,0,1-.58,1.4L9.25,21ZM18.45,9,17,7.55Zm-12,3A5.31,5.31,0,0,0,4.9,8.1,5.31,5.31,0,0,0,1,6.5,5.31,5.31,0,0,0,4.9,4.9,5.31,5.31,0,0,0,6.5,1,5.31,5.31,0,0,0,8.1,4.9,5.31,5.31,0,0,0,12,6.5,5.46,5.46,0,0,0,6.5,12Z\"/>\n",
              "  </svg>\n",
              "    </button>\n",
              "    <script>\n",
              "      (() => {\n",
              "      const buttonEl =\n",
              "        document.querySelector('#id_27553018-0dd5-4022-8d01-1e3168b7a2db button.colab-df-generate');\n",
              "      buttonEl.style.display =\n",
              "        google.colab.kernel.accessAllowed ? 'block' : 'none';\n",
              "\n",
              "      buttonEl.onclick = () => {\n",
              "        google.colab.notebook.generateWithVariable('df');\n",
              "      }\n",
              "      })();\n",
              "    </script>\n",
              "  </div>\n",
              "\n",
              "    </div>\n",
              "  </div>\n"
            ],
            "application/vnd.google.colaboratory.intrinsic+json": {
              "type": "dataframe",
              "variable_name": "df",
              "repr_error": "Out of range float values are not JSON compliant: nan"
            }
          },
          "metadata": {},
          "execution_count": 8
        }
      ]
    },
    {
      "cell_type": "code",
      "source": [
        "df[\"pdf_filename\"][0]"
      ],
      "metadata": {
        "colab": {
          "base_uri": "https://localhost:8080/",
          "height": 36
        },
        "id": "86D6rOSgU9CC",
        "outputId": "eefacb72-8255-4fac-dc64-ea50316740ee"
      },
      "execution_count": 9,
      "outputs": [
        {
          "output_type": "execute_result",
          "data": {
            "text/plain": [
              "'Adjudication Order in the matter of MCS Ltd.pdf'"
            ],
            "application/vnd.google.colaboratory.intrinsic+json": {
              "type": "string"
            }
          },
          "metadata": {},
          "execution_count": 9
        }
      ]
    },
    {
      "cell_type": "code",
      "source": [
        "companies=[]"
      ],
      "metadata": {
        "id": "Z8NctJnyVVre"
      },
      "execution_count": 10,
      "outputs": []
    },
    {
      "cell_type": "code",
      "source": [
        "def flair_pre(text):\n",
        "\n",
        "# Load NER tagger\n",
        "  tagger = SequenceTagger.load(\"ner\")\n",
        "\n",
        "  # Example input (can be from a PDF text)\n",
        "  sentence = Sentence(text)\n",
        "\n",
        "  # Predict entities\n",
        "  tagger.predict(sentence)\n",
        "\n",
        "  # Extract ORG only\n",
        "  org_entities = [span.text.replace(\".pdf\", \"\") for span in sentence.get_spans('ner') if span.get_label(\"ner\").value == \"ORG\"]\n",
        "\n",
        "  return org_entities# ['Mithani Securities Private Limited']\n"
      ],
      "metadata": {
        "id": "K0k0E_emWEZG"
      },
      "execution_count": 11,
      "outputs": []
    },
    {
      "cell_type": "code",
      "source": [
        "def flair_per(text):\n",
        "\n",
        "# Load NER tagger\n",
        "  tagger = SequenceTagger.load(\"ner\")\n",
        "\n",
        "  # Example input (can be from a PDF text)\n",
        "  sentence = Sentence(text)\n",
        "\n",
        "  # Predict entities\n",
        "  tagger.predict(sentence)\n",
        "\n",
        "  # Extract ORG only\n",
        "  org_entities = [span.text.replace(\".pdf\", \"\") for span in sentence.get_spans('ner')]\n",
        "\n",
        "  return org_entities# ['Mithani Securities Private Limited']"
      ],
      "metadata": {
        "id": "U0dwBeZrc4zf"
      },
      "execution_count": 12,
      "outputs": []
    },
    {
      "cell_type": "code",
      "source": [
        "flair_per(df[\"pdf_filename\"][2])"
      ],
      "metadata": {
        "colab": {
          "base_uri": "https://localhost:8080/",
          "height": 208,
          "referenced_widgets": [
            "6dcbac582b4c4292b41ae53dc1905b1e",
            "c2061d4f2bf64578b1db023d13650953",
            "6821a2ad38804c4497b6733e664c33e0",
            "0055b138e9e3479693c10893f3ca5e38",
            "d060ef0a6d2945bd8ccce8ca6711ab73",
            "59928ac664ed4a6faf5aa5cd0887617c",
            "7ef9e1ca020d4b07ae901f99342a384f",
            "4305811dfd304d7a8f0af5a38693c6f7",
            "40030239aaa748449498230c482b5504",
            "f7648339f387432e9299c678b8d22057",
            "857579ec28a8462a927306fa841fb94e"
          ]
        },
        "id": "koHVUMm0c8v_",
        "outputId": "f8a33eda-dac4-4757-80b6-1046b7ad397e"
      },
      "execution_count": 29,
      "outputs": [
        {
          "output_type": "stream",
          "name": "stderr",
          "text": [
            "/usr/local/lib/python3.11/dist-packages/huggingface_hub/utils/_auth.py:94: UserWarning: \n",
            "The secret `HF_TOKEN` does not exist in your Colab secrets.\n",
            "To authenticate with the Hugging Face Hub, create a token in your settings tab (https://huggingface.co/settings/tokens), set it as secret in your Google Colab and restart your session.\n",
            "You will be able to reuse this secret in all of your notebooks.\n",
            "Please note that authentication is recommended but still optional to access public models or datasets.\n",
            "  warnings.warn(\n"
          ]
        },
        {
          "output_type": "display_data",
          "data": {
            "text/plain": [
              "pytorch_model.bin:   0%|          | 0.00/419M [00:00<?, ?B/s]"
            ],
            "application/vnd.jupyter.widget-view+json": {
              "version_major": 2,
              "version_minor": 0,
              "model_id": "6dcbac582b4c4292b41ae53dc1905b1e"
            }
          },
          "metadata": {}
        },
        {
          "output_type": "stream",
          "name": "stdout",
          "text": [
            "2025-08-02 18:12:39,557 SequenceTagger predicts: Dictionary with 20 tags: <unk>, O, S-ORG, S-MISC, B-PER, E-PER, S-LOC, B-ORG, E-ORG, I-PER, S-PER, B-MISC, I-MISC, E-MISC, I-ORG, B-LOC, E-LOC, I-LOC, <START>, <STOP>\n"
          ]
        },
        {
          "output_type": "execute_result",
          "data": {
            "text/plain": [
              "['Canfin Homes Ltd.']"
            ]
          },
          "metadata": {},
          "execution_count": 29
        }
      ]
    },
    {
      "cell_type": "code",
      "source": [
        "for i in tqdm(df[\"pdf_filename\"]):\n",
        "  companies.append(flair_pre(i))"
      ],
      "metadata": {
        "colab": {
          "base_uri": "https://localhost:8080/"
        },
        "id": "RXqDPqqvWWMJ",
        "outputId": "067e9255-0de4-412d-d7e4-a9f5eb5c75ad"
      },
      "execution_count": 13,
      "outputs": [
        {
          "output_type": "stream",
          "name": "stderr",
          "text": [
            "\r  0%|          | 0/192 [00:00<?, ?it/s]/usr/local/lib/python3.11/dist-packages/huggingface_hub/utils/_auth.py:94: UserWarning: \n",
            "The secret `HF_TOKEN` does not exist in your Colab secrets.\n",
            "To authenticate with the Hugging Face Hub, create a token in your settings tab (https://huggingface.co/settings/tokens), set it as secret in your Google Colab and restart your session.\n",
            "You will be able to reuse this secret in all of your notebooks.\n",
            "Please note that authentication is recommended but still optional to access public models or datasets.\n",
            "  warnings.warn(\n"
          ]
        },
        {
          "output_type": "stream",
          "name": "stdout",
          "text": [
            "2025-08-02 18:37:39,425 SequenceTagger predicts: Dictionary with 20 tags: <unk>, O, S-ORG, S-MISC, B-PER, E-PER, S-LOC, B-ORG, E-ORG, I-PER, S-PER, B-MISC, I-MISC, E-MISC, I-ORG, B-LOC, E-LOC, I-LOC, <START>, <STOP>\n"
          ]
        },
        {
          "output_type": "stream",
          "name": "stderr",
          "text": [
            "\r  1%|          | 1/192 [00:05<16:39,  5.23s/it]"
          ]
        },
        {
          "output_type": "stream",
          "name": "stdout",
          "text": [
            "2025-08-02 18:37:42,833 SequenceTagger predicts: Dictionary with 20 tags: <unk>, O, S-ORG, S-MISC, B-PER, E-PER, S-LOC, B-ORG, E-ORG, I-PER, S-PER, B-MISC, I-MISC, E-MISC, I-ORG, B-LOC, E-LOC, I-LOC, <START>, <STOP>\n"
          ]
        },
        {
          "output_type": "stream",
          "name": "stderr",
          "text": [
            "\r  1%|          | 2/192 [00:09<14:27,  4.57s/it]"
          ]
        },
        {
          "output_type": "stream",
          "name": "stdout",
          "text": [
            "2025-08-02 18:37:47,404 SequenceTagger predicts: Dictionary with 20 tags: <unk>, O, S-ORG, S-MISC, B-PER, E-PER, S-LOC, B-ORG, E-ORG, I-PER, S-PER, B-MISC, I-MISC, E-MISC, I-ORG, B-LOC, E-LOC, I-LOC, <START>, <STOP>\n"
          ]
        },
        {
          "output_type": "stream",
          "name": "stderr",
          "text": [
            "\r  2%|▏         | 3/192 [00:13<14:00,  4.45s/it]"
          ]
        },
        {
          "output_type": "stream",
          "name": "stdout",
          "text": [
            "2025-08-02 18:37:51,251 SequenceTagger predicts: Dictionary with 20 tags: <unk>, O, S-ORG, S-MISC, B-PER, E-PER, S-LOC, B-ORG, E-ORG, I-PER, S-PER, B-MISC, I-MISC, E-MISC, I-ORG, B-LOC, E-LOC, I-LOC, <START>, <STOP>\n"
          ]
        },
        {
          "output_type": "stream",
          "name": "stderr",
          "text": [
            "\r  2%|▏         | 4/192 [00:17<13:46,  4.40s/it]"
          ]
        },
        {
          "output_type": "stream",
          "name": "stdout",
          "text": [
            "2025-08-02 18:37:55,197 SequenceTagger predicts: Dictionary with 20 tags: <unk>, O, S-ORG, S-MISC, B-PER, E-PER, S-LOC, B-ORG, E-ORG, I-PER, S-PER, B-MISC, I-MISC, E-MISC, I-ORG, B-LOC, E-LOC, I-LOC, <START>, <STOP>\n"
          ]
        },
        {
          "output_type": "stream",
          "name": "stderr",
          "text": [
            "\r  3%|▎         | 5/192 [00:21<12:21,  3.97s/it]"
          ]
        },
        {
          "output_type": "stream",
          "name": "stdout",
          "text": [
            "2025-08-02 18:37:58,736 SequenceTagger predicts: Dictionary with 20 tags: <unk>, O, S-ORG, S-MISC, B-PER, E-PER, S-LOC, B-ORG, E-ORG, I-PER, S-PER, B-MISC, I-MISC, E-MISC, I-ORG, B-LOC, E-LOC, I-LOC, <START>, <STOP>\n"
          ]
        },
        {
          "output_type": "stream",
          "name": "stderr",
          "text": [
            "\r  3%|▎         | 6/192 [00:25<13:12,  4.26s/it]"
          ]
        },
        {
          "output_type": "stream",
          "name": "stdout",
          "text": [
            "2025-08-02 18:38:03,384 SequenceTagger predicts: Dictionary with 20 tags: <unk>, O, S-ORG, S-MISC, B-PER, E-PER, S-LOC, B-ORG, E-ORG, I-PER, S-PER, B-MISC, I-MISC, E-MISC, I-ORG, B-LOC, E-LOC, I-LOC, <START>, <STOP>\n"
          ]
        },
        {
          "output_type": "stream",
          "name": "stderr",
          "text": [
            "\r  4%|▎         | 7/192 [00:29<12:35,  4.08s/it]"
          ]
        },
        {
          "output_type": "stream",
          "name": "stdout",
          "text": [
            "2025-08-02 18:38:06,993 SequenceTagger predicts: Dictionary with 20 tags: <unk>, O, S-ORG, S-MISC, B-PER, E-PER, S-LOC, B-ORG, E-ORG, I-PER, S-PER, B-MISC, I-MISC, E-MISC, I-ORG, B-LOC, E-LOC, I-LOC, <START>, <STOP>\n"
          ]
        },
        {
          "output_type": "stream",
          "name": "stderr",
          "text": [
            "\r  4%|▍         | 8/192 [00:33<12:22,  4.03s/it]"
          ]
        },
        {
          "output_type": "stream",
          "name": "stdout",
          "text": [
            "2025-08-02 18:38:11,148 SequenceTagger predicts: Dictionary with 20 tags: <unk>, O, S-ORG, S-MISC, B-PER, E-PER, S-LOC, B-ORG, E-ORG, I-PER, S-PER, B-MISC, I-MISC, E-MISC, I-ORG, B-LOC, E-LOC, I-LOC, <START>, <STOP>\n"
          ]
        },
        {
          "output_type": "stream",
          "name": "stderr",
          "text": [
            "\r  5%|▍         | 9/192 [00:37<12:26,  4.08s/it]"
          ]
        },
        {
          "output_type": "stream",
          "name": "stdout",
          "text": [
            "2025-08-02 18:38:15,137 SequenceTagger predicts: Dictionary with 20 tags: <unk>, O, S-ORG, S-MISC, B-PER, E-PER, S-LOC, B-ORG, E-ORG, I-PER, S-PER, B-MISC, I-MISC, E-MISC, I-ORG, B-LOC, E-LOC, I-LOC, <START>, <STOP>\n"
          ]
        },
        {
          "output_type": "stream",
          "name": "stderr",
          "text": [
            "\r  5%|▌         | 10/192 [00:41<11:43,  3.86s/it]"
          ]
        },
        {
          "output_type": "stream",
          "name": "stdout",
          "text": [
            "2025-08-02 18:38:18,449 SequenceTagger predicts: Dictionary with 20 tags: <unk>, O, S-ORG, S-MISC, B-PER, E-PER, S-LOC, B-ORG, E-ORG, I-PER, S-PER, B-MISC, I-MISC, E-MISC, I-ORG, B-LOC, E-LOC, I-LOC, <START>, <STOP>\n"
          ]
        },
        {
          "output_type": "stream",
          "name": "stderr",
          "text": [
            "\r  6%|▌         | 11/192 [00:44<11:17,  3.74s/it]"
          ]
        },
        {
          "output_type": "stream",
          "name": "stdout",
          "text": [
            "2025-08-02 18:38:21,903 SequenceTagger predicts: Dictionary with 20 tags: <unk>, O, S-ORG, S-MISC, B-PER, E-PER, S-LOC, B-ORG, E-ORG, I-PER, S-PER, B-MISC, I-MISC, E-MISC, I-ORG, B-LOC, E-LOC, I-LOC, <START>, <STOP>\n"
          ]
        },
        {
          "output_type": "stream",
          "name": "stderr",
          "text": [
            "\r  6%|▋         | 12/192 [00:48<11:42,  3.90s/it]"
          ]
        },
        {
          "output_type": "stream",
          "name": "stdout",
          "text": [
            "2025-08-02 18:38:26,642 SequenceTagger predicts: Dictionary with 20 tags: <unk>, O, S-ORG, S-MISC, B-PER, E-PER, S-LOC, B-ORG, E-ORG, I-PER, S-PER, B-MISC, I-MISC, E-MISC, I-ORG, B-LOC, E-LOC, I-LOC, <START>, <STOP>\n"
          ]
        },
        {
          "output_type": "stream",
          "name": "stderr",
          "text": [
            "\r  7%|▋         | 13/192 [00:53<11:56,  4.00s/it]"
          ]
        },
        {
          "output_type": "stream",
          "name": "stdout",
          "text": [
            "2025-08-02 18:38:30,410 SequenceTagger predicts: Dictionary with 20 tags: <unk>, O, S-ORG, S-MISC, B-PER, E-PER, S-LOC, B-ORG, E-ORG, I-PER, S-PER, B-MISC, I-MISC, E-MISC, I-ORG, B-LOC, E-LOC, I-LOC, <START>, <STOP>\n"
          ]
        },
        {
          "output_type": "stream",
          "name": "stderr",
          "text": [
            "\r  7%|▋         | 14/192 [00:56<11:34,  3.90s/it]"
          ]
        },
        {
          "output_type": "stream",
          "name": "stdout",
          "text": [
            "2025-08-02 18:38:34,062 SequenceTagger predicts: Dictionary with 20 tags: <unk>, O, S-ORG, S-MISC, B-PER, E-PER, S-LOC, B-ORG, E-ORG, I-PER, S-PER, B-MISC, I-MISC, E-MISC, I-ORG, B-LOC, E-LOC, I-LOC, <START>, <STOP>\n"
          ]
        },
        {
          "output_type": "stream",
          "name": "stderr",
          "text": [
            "\r  8%|▊         | 15/192 [00:59<10:49,  3.67s/it]"
          ]
        },
        {
          "output_type": "stream",
          "name": "stdout",
          "text": [
            "2025-08-02 18:38:37,633 SequenceTagger predicts: Dictionary with 20 tags: <unk>, O, S-ORG, S-MISC, B-PER, E-PER, S-LOC, B-ORG, E-ORG, I-PER, S-PER, B-MISC, I-MISC, E-MISC, I-ORG, B-LOC, E-LOC, I-LOC, <START>, <STOP>\n"
          ]
        },
        {
          "output_type": "stream",
          "name": "stderr",
          "text": [
            "\r  8%|▊         | 16/192 [01:03<11:01,  3.76s/it]"
          ]
        },
        {
          "output_type": "stream",
          "name": "stdout",
          "text": [
            "2025-08-02 18:38:41,180 SequenceTagger predicts: Dictionary with 20 tags: <unk>, O, S-ORG, S-MISC, B-PER, E-PER, S-LOC, B-ORG, E-ORG, I-PER, S-PER, B-MISC, I-MISC, E-MISC, I-ORG, B-LOC, E-LOC, I-LOC, <START>, <STOP>\n"
          ]
        },
        {
          "output_type": "stream",
          "name": "stderr",
          "text": [
            "\r  9%|▉         | 17/192 [01:07<10:55,  3.75s/it]"
          ]
        },
        {
          "output_type": "stream",
          "name": "stdout",
          "text": [
            "2025-08-02 18:38:45,123 SequenceTagger predicts: Dictionary with 20 tags: <unk>, O, S-ORG, S-MISC, B-PER, E-PER, S-LOC, B-ORG, E-ORG, I-PER, S-PER, B-MISC, I-MISC, E-MISC, I-ORG, B-LOC, E-LOC, I-LOC, <START>, <STOP>\n"
          ]
        },
        {
          "output_type": "stream",
          "name": "stderr",
          "text": [
            "\r  9%|▉         | 18/192 [01:11<11:02,  3.81s/it]"
          ]
        },
        {
          "output_type": "stream",
          "name": "stdout",
          "text": [
            "2025-08-02 18:38:49,112 SequenceTagger predicts: Dictionary with 20 tags: <unk>, O, S-ORG, S-MISC, B-PER, E-PER, S-LOC, B-ORG, E-ORG, I-PER, S-PER, B-MISC, I-MISC, E-MISC, I-ORG, B-LOC, E-LOC, I-LOC, <START>, <STOP>\n"
          ]
        },
        {
          "output_type": "stream",
          "name": "stderr",
          "text": [
            "\r 10%|▉         | 19/192 [01:16<11:37,  4.03s/it]"
          ]
        },
        {
          "output_type": "stream",
          "name": "stdout",
          "text": [
            "2025-08-02 18:38:53,405 SequenceTagger predicts: Dictionary with 20 tags: <unk>, O, S-ORG, S-MISC, B-PER, E-PER, S-LOC, B-ORG, E-ORG, I-PER, S-PER, B-MISC, I-MISC, E-MISC, I-ORG, B-LOC, E-LOC, I-LOC, <START>, <STOP>\n"
          ]
        },
        {
          "output_type": "stream",
          "name": "stderr",
          "text": [
            "\r 10%|█         | 20/192 [01:19<11:18,  3.94s/it]"
          ]
        },
        {
          "output_type": "stream",
          "name": "stdout",
          "text": [
            "2025-08-02 18:38:57,388 SequenceTagger predicts: Dictionary with 20 tags: <unk>, O, S-ORG, S-MISC, B-PER, E-PER, S-LOC, B-ORG, E-ORG, I-PER, S-PER, B-MISC, I-MISC, E-MISC, I-ORG, B-LOC, E-LOC, I-LOC, <START>, <STOP>\n"
          ]
        },
        {
          "output_type": "stream",
          "name": "stderr",
          "text": [
            "\r 11%|█         | 21/192 [01:23<10:58,  3.85s/it]"
          ]
        },
        {
          "output_type": "stream",
          "name": "stdout",
          "text": [
            "2025-08-02 18:39:01,049 SequenceTagger predicts: Dictionary with 20 tags: <unk>, O, S-ORG, S-MISC, B-PER, E-PER, S-LOC, B-ORG, E-ORG, I-PER, S-PER, B-MISC, I-MISC, E-MISC, I-ORG, B-LOC, E-LOC, I-LOC, <START>, <STOP>\n"
          ]
        },
        {
          "output_type": "stream",
          "name": "stderr",
          "text": [
            "\r 11%|█▏        | 22/192 [01:27<10:46,  3.80s/it]"
          ]
        },
        {
          "output_type": "stream",
          "name": "stdout",
          "text": [
            "2025-08-02 18:39:04,817 SequenceTagger predicts: Dictionary with 20 tags: <unk>, O, S-ORG, S-MISC, B-PER, E-PER, S-LOC, B-ORG, E-ORG, I-PER, S-PER, B-MISC, I-MISC, E-MISC, I-ORG, B-LOC, E-LOC, I-LOC, <START>, <STOP>\n"
          ]
        },
        {
          "output_type": "stream",
          "name": "stderr",
          "text": [
            "\r 12%|█▏        | 23/192 [01:30<10:39,  3.78s/it]"
          ]
        },
        {
          "output_type": "stream",
          "name": "stdout",
          "text": [
            "2025-08-02 18:39:08,438 SequenceTagger predicts: Dictionary with 20 tags: <unk>, O, S-ORG, S-MISC, B-PER, E-PER, S-LOC, B-ORG, E-ORG, I-PER, S-PER, B-MISC, I-MISC, E-MISC, I-ORG, B-LOC, E-LOC, I-LOC, <START>, <STOP>\n"
          ]
        },
        {
          "output_type": "stream",
          "name": "stderr",
          "text": [
            "\r 12%|█▎        | 24/192 [01:34<10:29,  3.75s/it]"
          ]
        },
        {
          "output_type": "stream",
          "name": "stdout",
          "text": [
            "2025-08-02 18:39:11,838 SequenceTagger predicts: Dictionary with 20 tags: <unk>, O, S-ORG, S-MISC, B-PER, E-PER, S-LOC, B-ORG, E-ORG, I-PER, S-PER, B-MISC, I-MISC, E-MISC, I-ORG, B-LOC, E-LOC, I-LOC, <START>, <STOP>\n"
          ]
        },
        {
          "output_type": "stream",
          "name": "stderr",
          "text": [
            "\r 13%|█▎        | 25/192 [01:38<10:27,  3.76s/it]"
          ]
        },
        {
          "output_type": "stream",
          "name": "stdout",
          "text": [
            "2025-08-02 18:39:16,666 SequenceTagger predicts: Dictionary with 20 tags: <unk>, O, S-ORG, S-MISC, B-PER, E-PER, S-LOC, B-ORG, E-ORG, I-PER, S-PER, B-MISC, I-MISC, E-MISC, I-ORG, B-LOC, E-LOC, I-LOC, <START>, <STOP>\n"
          ]
        },
        {
          "output_type": "stream",
          "name": "stderr",
          "text": [
            "\r 14%|█▎        | 26/192 [01:43<11:19,  4.09s/it]"
          ]
        },
        {
          "output_type": "stream",
          "name": "stdout",
          "text": [
            "2025-08-02 18:39:20,532 SequenceTagger predicts: Dictionary with 20 tags: <unk>, O, S-ORG, S-MISC, B-PER, E-PER, S-LOC, B-ORG, E-ORG, I-PER, S-PER, B-MISC, I-MISC, E-MISC, I-ORG, B-LOC, E-LOC, I-LOC, <START>, <STOP>\n"
          ]
        },
        {
          "output_type": "stream",
          "name": "stderr",
          "text": [
            "\r 14%|█▍        | 27/192 [01:46<10:51,  3.95s/it]"
          ]
        },
        {
          "output_type": "stream",
          "name": "stdout",
          "text": [
            "2025-08-02 18:39:24,397 SequenceTagger predicts: Dictionary with 20 tags: <unk>, O, S-ORG, S-MISC, B-PER, E-PER, S-LOC, B-ORG, E-ORG, I-PER, S-PER, B-MISC, I-MISC, E-MISC, I-ORG, B-LOC, E-LOC, I-LOC, <START>, <STOP>\n"
          ]
        },
        {
          "output_type": "stream",
          "name": "stderr",
          "text": [
            "\r 15%|█▍        | 28/192 [01:50<10:49,  3.96s/it]"
          ]
        },
        {
          "output_type": "stream",
          "name": "stdout",
          "text": [
            "2025-08-02 18:39:28,577 SequenceTagger predicts: Dictionary with 20 tags: <unk>, O, S-ORG, S-MISC, B-PER, E-PER, S-LOC, B-ORG, E-ORG, I-PER, S-PER, B-MISC, I-MISC, E-MISC, I-ORG, B-LOC, E-LOC, I-LOC, <START>, <STOP>\n"
          ]
        },
        {
          "output_type": "stream",
          "name": "stderr",
          "text": [
            "\r 15%|█▌        | 29/192 [01:55<10:59,  4.05s/it]"
          ]
        },
        {
          "output_type": "stream",
          "name": "stdout",
          "text": [
            "2025-08-02 18:39:32,337 SequenceTagger predicts: Dictionary with 20 tags: <unk>, O, S-ORG, S-MISC, B-PER, E-PER, S-LOC, B-ORG, E-ORG, I-PER, S-PER, B-MISC, I-MISC, E-MISC, I-ORG, B-LOC, E-LOC, I-LOC, <START>, <STOP>\n"
          ]
        },
        {
          "output_type": "stream",
          "name": "stderr",
          "text": [
            "\r 16%|█▌        | 30/192 [01:58<10:32,  3.91s/it]"
          ]
        },
        {
          "output_type": "stream",
          "name": "stdout",
          "text": [
            "2025-08-02 18:39:35,874 SequenceTagger predicts: Dictionary with 20 tags: <unk>, O, S-ORG, S-MISC, B-PER, E-PER, S-LOC, B-ORG, E-ORG, I-PER, S-PER, B-MISC, I-MISC, E-MISC, I-ORG, B-LOC, E-LOC, I-LOC, <START>, <STOP>\n"
          ]
        },
        {
          "output_type": "stream",
          "name": "stderr",
          "text": [
            "\r 16%|█▌        | 31/192 [02:02<10:22,  3.86s/it]"
          ]
        },
        {
          "output_type": "stream",
          "name": "stdout",
          "text": [
            "2025-08-02 18:39:39,676 SequenceTagger predicts: Dictionary with 20 tags: <unk>, O, S-ORG, S-MISC, B-PER, E-PER, S-LOC, B-ORG, E-ORG, I-PER, S-PER, B-MISC, I-MISC, E-MISC, I-ORG, B-LOC, E-LOC, I-LOC, <START>, <STOP>\n"
          ]
        },
        {
          "output_type": "stream",
          "name": "stderr",
          "text": [
            "\r 17%|█▋        | 32/192 [02:05<09:49,  3.68s/it]"
          ]
        },
        {
          "output_type": "stream",
          "name": "stdout",
          "text": [
            "2025-08-02 18:39:43,232 SequenceTagger predicts: Dictionary with 20 tags: <unk>, O, S-ORG, S-MISC, B-PER, E-PER, S-LOC, B-ORG, E-ORG, I-PER, S-PER, B-MISC, I-MISC, E-MISC, I-ORG, B-LOC, E-LOC, I-LOC, <START>, <STOP>\n"
          ]
        },
        {
          "output_type": "stream",
          "name": "stderr",
          "text": [
            "\r 17%|█▋        | 33/192 [02:09<09:52,  3.73s/it]"
          ]
        },
        {
          "output_type": "stream",
          "name": "stdout",
          "text": [
            "2025-08-02 18:39:46,757 SequenceTagger predicts: Dictionary with 20 tags: <unk>, O, S-ORG, S-MISC, B-PER, E-PER, S-LOC, B-ORG, E-ORG, I-PER, S-PER, B-MISC, I-MISC, E-MISC, I-ORG, B-LOC, E-LOC, I-LOC, <START>, <STOP>\n"
          ]
        },
        {
          "output_type": "stream",
          "name": "stderr",
          "text": [
            "\r 18%|█▊        | 34/192 [02:12<09:30,  3.61s/it]"
          ]
        },
        {
          "output_type": "stream",
          "name": "stdout",
          "text": [
            "2025-08-02 18:39:50,110 SequenceTagger predicts: Dictionary with 20 tags: <unk>, O, S-ORG, S-MISC, B-PER, E-PER, S-LOC, B-ORG, E-ORG, I-PER, S-PER, B-MISC, I-MISC, E-MISC, I-ORG, B-LOC, E-LOC, I-LOC, <START>, <STOP>\n"
          ]
        },
        {
          "output_type": "stream",
          "name": "stderr",
          "text": [
            "\r 18%|█▊        | 35/192 [02:16<09:21,  3.58s/it]"
          ]
        },
        {
          "output_type": "stream",
          "name": "stdout",
          "text": [
            "2025-08-02 18:39:54,090 SequenceTagger predicts: Dictionary with 20 tags: <unk>, O, S-ORG, S-MISC, B-PER, E-PER, S-LOC, B-ORG, E-ORG, I-PER, S-PER, B-MISC, I-MISC, E-MISC, I-ORG, B-LOC, E-LOC, I-LOC, <START>, <STOP>\n"
          ]
        },
        {
          "output_type": "stream",
          "name": "stderr",
          "text": [
            "\r 19%|█▉        | 36/192 [02:20<09:30,  3.66s/it]"
          ]
        },
        {
          "output_type": "stream",
          "name": "stdout",
          "text": [
            "2025-08-02 18:39:57,484 SequenceTagger predicts: Dictionary with 20 tags: <unk>, O, S-ORG, S-MISC, B-PER, E-PER, S-LOC, B-ORG, E-ORG, I-PER, S-PER, B-MISC, I-MISC, E-MISC, I-ORG, B-LOC, E-LOC, I-LOC, <START>, <STOP>\n"
          ]
        },
        {
          "output_type": "stream",
          "name": "stderr",
          "text": [
            "\r 19%|█▉        | 37/192 [02:24<09:35,  3.71s/it]"
          ]
        },
        {
          "output_type": "stream",
          "name": "stdout",
          "text": [
            "2025-08-02 18:40:01,298 SequenceTagger predicts: Dictionary with 20 tags: <unk>, O, S-ORG, S-MISC, B-PER, E-PER, S-LOC, B-ORG, E-ORG, I-PER, S-PER, B-MISC, I-MISC, E-MISC, I-ORG, B-LOC, E-LOC, I-LOC, <START>, <STOP>\n"
          ]
        },
        {
          "output_type": "stream",
          "name": "stderr",
          "text": [
            "\r 20%|█▉        | 38/192 [02:28<09:51,  3.84s/it]"
          ]
        },
        {
          "output_type": "stream",
          "name": "stdout",
          "text": [
            "2025-08-02 18:40:05,516 SequenceTagger predicts: Dictionary with 20 tags: <unk>, O, S-ORG, S-MISC, B-PER, E-PER, S-LOC, B-ORG, E-ORG, I-PER, S-PER, B-MISC, I-MISC, E-MISC, I-ORG, B-LOC, E-LOC, I-LOC, <START>, <STOP>\n"
          ]
        },
        {
          "output_type": "stream",
          "name": "stderr",
          "text": [
            "\r 20%|██        | 39/192 [02:32<10:03,  3.95s/it]"
          ]
        },
        {
          "output_type": "stream",
          "name": "stdout",
          "text": [
            "2025-08-02 18:40:09,640 SequenceTagger predicts: Dictionary with 20 tags: <unk>, O, S-ORG, S-MISC, B-PER, E-PER, S-LOC, B-ORG, E-ORG, I-PER, S-PER, B-MISC, I-MISC, E-MISC, I-ORG, B-LOC, E-LOC, I-LOC, <START>, <STOP>\n"
          ]
        },
        {
          "output_type": "stream",
          "name": "stderr",
          "text": [
            "\r 21%|██        | 40/192 [02:36<09:50,  3.88s/it]"
          ]
        },
        {
          "output_type": "stream",
          "name": "stdout",
          "text": [
            "2025-08-02 18:40:13,339 SequenceTagger predicts: Dictionary with 20 tags: <unk>, O, S-ORG, S-MISC, B-PER, E-PER, S-LOC, B-ORG, E-ORG, I-PER, S-PER, B-MISC, I-MISC, E-MISC, I-ORG, B-LOC, E-LOC, I-LOC, <START>, <STOP>\n"
          ]
        },
        {
          "output_type": "stream",
          "name": "stderr",
          "text": [
            "\r 21%|██▏       | 41/192 [02:39<09:26,  3.75s/it]"
          ]
        },
        {
          "output_type": "stream",
          "name": "stdout",
          "text": [
            "2025-08-02 18:40:16,783 SequenceTagger predicts: Dictionary with 20 tags: <unk>, O, S-ORG, S-MISC, B-PER, E-PER, S-LOC, B-ORG, E-ORG, I-PER, S-PER, B-MISC, I-MISC, E-MISC, I-ORG, B-LOC, E-LOC, I-LOC, <START>, <STOP>\n"
          ]
        },
        {
          "output_type": "stream",
          "name": "stderr",
          "text": [
            "\r 22%|██▏       | 42/192 [02:43<09:28,  3.79s/it]"
          ]
        },
        {
          "output_type": "stream",
          "name": "stdout",
          "text": [
            "2025-08-02 18:40:20,976 SequenceTagger predicts: Dictionary with 20 tags: <unk>, O, S-ORG, S-MISC, B-PER, E-PER, S-LOC, B-ORG, E-ORG, I-PER, S-PER, B-MISC, I-MISC, E-MISC, I-ORG, B-LOC, E-LOC, I-LOC, <START>, <STOP>\n"
          ]
        },
        {
          "output_type": "stream",
          "name": "stderr",
          "text": [
            "\r 22%|██▏       | 43/192 [02:47<09:34,  3.86s/it]"
          ]
        },
        {
          "output_type": "stream",
          "name": "stdout",
          "text": [
            "2025-08-02 18:40:24,699 SequenceTagger predicts: Dictionary with 20 tags: <unk>, O, S-ORG, S-MISC, B-PER, E-PER, S-LOC, B-ORG, E-ORG, I-PER, S-PER, B-MISC, I-MISC, E-MISC, I-ORG, B-LOC, E-LOC, I-LOC, <START>, <STOP>\n"
          ]
        },
        {
          "output_type": "stream",
          "name": "stderr",
          "text": [
            "\r 23%|██▎       | 44/192 [02:51<09:21,  3.79s/it]"
          ]
        },
        {
          "output_type": "stream",
          "name": "stdout",
          "text": [
            "2025-08-02 18:40:28,373 SequenceTagger predicts: Dictionary with 20 tags: <unk>, O, S-ORG, S-MISC, B-PER, E-PER, S-LOC, B-ORG, E-ORG, I-PER, S-PER, B-MISC, I-MISC, E-MISC, I-ORG, B-LOC, E-LOC, I-LOC, <START>, <STOP>\n"
          ]
        },
        {
          "output_type": "stream",
          "name": "stderr",
          "text": [
            "\r 23%|██▎       | 45/192 [02:54<08:43,  3.56s/it]"
          ]
        },
        {
          "output_type": "stream",
          "name": "stdout",
          "text": [
            "2025-08-02 18:40:31,772 SequenceTagger predicts: Dictionary with 20 tags: <unk>, O, S-ORG, S-MISC, B-PER, E-PER, S-LOC, B-ORG, E-ORG, I-PER, S-PER, B-MISC, I-MISC, E-MISC, I-ORG, B-LOC, E-LOC, I-LOC, <START>, <STOP>\n"
          ]
        },
        {
          "output_type": "stream",
          "name": "stderr",
          "text": [
            "\r 24%|██▍       | 46/192 [02:58<09:10,  3.77s/it]"
          ]
        },
        {
          "output_type": "stream",
          "name": "stdout",
          "text": [
            "2025-08-02 18:40:35,603 SequenceTagger predicts: Dictionary with 20 tags: <unk>, O, S-ORG, S-MISC, B-PER, E-PER, S-LOC, B-ORG, E-ORG, I-PER, S-PER, B-MISC, I-MISC, E-MISC, I-ORG, B-LOC, E-LOC, I-LOC, <START>, <STOP>\n"
          ]
        },
        {
          "output_type": "stream",
          "name": "stderr",
          "text": [
            "\r 24%|██▍       | 47/192 [03:02<09:23,  3.89s/it]"
          ]
        },
        {
          "output_type": "stream",
          "name": "stdout",
          "text": [
            "2025-08-02 18:40:39,759 SequenceTagger predicts: Dictionary with 20 tags: <unk>, O, S-ORG, S-MISC, B-PER, E-PER, S-LOC, B-ORG, E-ORG, I-PER, S-PER, B-MISC, I-MISC, E-MISC, I-ORG, B-LOC, E-LOC, I-LOC, <START>, <STOP>\n"
          ]
        },
        {
          "output_type": "stream",
          "name": "stderr",
          "text": [
            "\r 25%|██▌       | 48/192 [03:06<09:02,  3.76s/it]"
          ]
        },
        {
          "output_type": "stream",
          "name": "stdout",
          "text": [
            "2025-08-02 18:40:43,262 SequenceTagger predicts: Dictionary with 20 tags: <unk>, O, S-ORG, S-MISC, B-PER, E-PER, S-LOC, B-ORG, E-ORG, I-PER, S-PER, B-MISC, I-MISC, E-MISC, I-ORG, B-LOC, E-LOC, I-LOC, <START>, <STOP>\n"
          ]
        },
        {
          "output_type": "stream",
          "name": "stderr",
          "text": [
            "\r 26%|██▌       | 49/192 [03:10<09:12,  3.86s/it]"
          ]
        },
        {
          "output_type": "stream",
          "name": "stdout",
          "text": [
            "2025-08-02 18:40:47,395 SequenceTagger predicts: Dictionary with 20 tags: <unk>, O, S-ORG, S-MISC, B-PER, E-PER, S-LOC, B-ORG, E-ORG, I-PER, S-PER, B-MISC, I-MISC, E-MISC, I-ORG, B-LOC, E-LOC, I-LOC, <START>, <STOP>\n"
          ]
        },
        {
          "output_type": "stream",
          "name": "stderr",
          "text": [
            "\r 26%|██▌       | 50/192 [03:14<09:09,  3.87s/it]"
          ]
        },
        {
          "output_type": "stream",
          "name": "stdout",
          "text": [
            "2025-08-02 18:40:51,226 SequenceTagger predicts: Dictionary with 20 tags: <unk>, O, S-ORG, S-MISC, B-PER, E-PER, S-LOC, B-ORG, E-ORG, I-PER, S-PER, B-MISC, I-MISC, E-MISC, I-ORG, B-LOC, E-LOC, I-LOC, <START>, <STOP>\n"
          ]
        },
        {
          "output_type": "stream",
          "name": "stderr",
          "text": [
            "\r 27%|██▋       | 51/192 [03:17<08:49,  3.75s/it]"
          ]
        },
        {
          "output_type": "stream",
          "name": "stdout",
          "text": [
            "2025-08-02 18:40:54,694 SequenceTagger predicts: Dictionary with 20 tags: <unk>, O, S-ORG, S-MISC, B-PER, E-PER, S-LOC, B-ORG, E-ORG, I-PER, S-PER, B-MISC, I-MISC, E-MISC, I-ORG, B-LOC, E-LOC, I-LOC, <START>, <STOP>\n"
          ]
        },
        {
          "output_type": "stream",
          "name": "stderr",
          "text": [
            "\r 27%|██▋       | 52/192 [03:21<08:37,  3.70s/it]"
          ]
        },
        {
          "output_type": "stream",
          "name": "stdout",
          "text": [
            "2025-08-02 18:40:58,718 SequenceTagger predicts: Dictionary with 20 tags: <unk>, O, S-ORG, S-MISC, B-PER, E-PER, S-LOC, B-ORG, E-ORG, I-PER, S-PER, B-MISC, I-MISC, E-MISC, I-ORG, B-LOC, E-LOC, I-LOC, <START>, <STOP>\n"
          ]
        },
        {
          "output_type": "stream",
          "name": "stderr",
          "text": [
            "\r 28%|██▊       | 53/192 [03:24<08:21,  3.61s/it]"
          ]
        },
        {
          "output_type": "stream",
          "name": "stdout",
          "text": [
            "2025-08-02 18:41:01,685 SequenceTagger predicts: Dictionary with 20 tags: <unk>, O, S-ORG, S-MISC, B-PER, E-PER, S-LOC, B-ORG, E-ORG, I-PER, S-PER, B-MISC, I-MISC, E-MISC, I-ORG, B-LOC, E-LOC, I-LOC, <START>, <STOP>\n"
          ]
        },
        {
          "output_type": "stream",
          "name": "stderr",
          "text": [
            "\r 28%|██▊       | 54/192 [03:27<08:11,  3.56s/it]"
          ]
        },
        {
          "output_type": "stream",
          "name": "stdout",
          "text": [
            "2025-08-02 18:41:05,133 SequenceTagger predicts: Dictionary with 20 tags: <unk>, O, S-ORG, S-MISC, B-PER, E-PER, S-LOC, B-ORG, E-ORG, I-PER, S-PER, B-MISC, I-MISC, E-MISC, I-ORG, B-LOC, E-LOC, I-LOC, <START>, <STOP>\n"
          ]
        },
        {
          "output_type": "stream",
          "name": "stderr",
          "text": [
            "\r 29%|██▊       | 55/192 [03:31<08:01,  3.52s/it]"
          ]
        },
        {
          "output_type": "stream",
          "name": "stdout",
          "text": [
            "2025-08-02 18:41:08,603 SequenceTagger predicts: Dictionary with 20 tags: <unk>, O, S-ORG, S-MISC, B-PER, E-PER, S-LOC, B-ORG, E-ORG, I-PER, S-PER, B-MISC, I-MISC, E-MISC, I-ORG, B-LOC, E-LOC, I-LOC, <START>, <STOP>\n"
          ]
        },
        {
          "output_type": "stream",
          "name": "stderr",
          "text": [
            "\r 29%|██▉       | 56/192 [03:35<08:18,  3.67s/it]"
          ]
        },
        {
          "output_type": "stream",
          "name": "stdout",
          "text": [
            "2025-08-02 18:41:12,591 SequenceTagger predicts: Dictionary with 20 tags: <unk>, O, S-ORG, S-MISC, B-PER, E-PER, S-LOC, B-ORG, E-ORG, I-PER, S-PER, B-MISC, I-MISC, E-MISC, I-ORG, B-LOC, E-LOC, I-LOC, <START>, <STOP>\n"
          ]
        },
        {
          "output_type": "stream",
          "name": "stderr",
          "text": [
            "\r 30%|██▉       | 57/192 [03:39<08:15,  3.67s/it]"
          ]
        },
        {
          "output_type": "stream",
          "name": "stdout",
          "text": [
            "2025-08-02 18:41:16,236 SequenceTagger predicts: Dictionary with 20 tags: <unk>, O, S-ORG, S-MISC, B-PER, E-PER, S-LOC, B-ORG, E-ORG, I-PER, S-PER, B-MISC, I-MISC, E-MISC, I-ORG, B-LOC, E-LOC, I-LOC, <START>, <STOP>\n"
          ]
        },
        {
          "output_type": "stream",
          "name": "stderr",
          "text": [
            "\r 30%|███       | 58/192 [03:42<08:19,  3.73s/it]"
          ]
        },
        {
          "output_type": "stream",
          "name": "stdout",
          "text": [
            "2025-08-02 18:41:20,126 SequenceTagger predicts: Dictionary with 20 tags: <unk>, O, S-ORG, S-MISC, B-PER, E-PER, S-LOC, B-ORG, E-ORG, I-PER, S-PER, B-MISC, I-MISC, E-MISC, I-ORG, B-LOC, E-LOC, I-LOC, <START>, <STOP>\n"
          ]
        },
        {
          "output_type": "stream",
          "name": "stderr",
          "text": [
            "\r 31%|███       | 59/192 [03:46<07:57,  3.59s/it]"
          ]
        },
        {
          "output_type": "stream",
          "name": "stdout",
          "text": [
            "2025-08-02 18:41:24,023 SequenceTagger predicts: Dictionary with 20 tags: <unk>, O, S-ORG, S-MISC, B-PER, E-PER, S-LOC, B-ORG, E-ORG, I-PER, S-PER, B-MISC, I-MISC, E-MISC, I-ORG, B-LOC, E-LOC, I-LOC, <START>, <STOP>\n"
          ]
        },
        {
          "output_type": "stream",
          "name": "stderr",
          "text": [
            "\r 31%|███▏      | 60/192 [03:50<08:22,  3.81s/it]"
          ]
        },
        {
          "output_type": "stream",
          "name": "stdout",
          "text": [
            "2025-08-02 18:41:27,699 SequenceTagger predicts: Dictionary with 20 tags: <unk>, O, S-ORG, S-MISC, B-PER, E-PER, S-LOC, B-ORG, E-ORG, I-PER, S-PER, B-MISC, I-MISC, E-MISC, I-ORG, B-LOC, E-LOC, I-LOC, <START>, <STOP>\n"
          ]
        },
        {
          "output_type": "stream",
          "name": "stderr",
          "text": [
            "\r 32%|███▏      | 61/192 [03:54<08:11,  3.76s/it]"
          ]
        },
        {
          "output_type": "stream",
          "name": "stdout",
          "text": [
            "2025-08-02 18:41:31,355 SequenceTagger predicts: Dictionary with 20 tags: <unk>, O, S-ORG, S-MISC, B-PER, E-PER, S-LOC, B-ORG, E-ORG, I-PER, S-PER, B-MISC, I-MISC, E-MISC, I-ORG, B-LOC, E-LOC, I-LOC, <START>, <STOP>\n"
          ]
        },
        {
          "output_type": "stream",
          "name": "stderr",
          "text": [
            "\r 32%|███▏      | 62/192 [03:57<07:35,  3.51s/it]"
          ]
        },
        {
          "output_type": "stream",
          "name": "stdout",
          "text": [
            "2025-08-02 18:41:34,556 SequenceTagger predicts: Dictionary with 20 tags: <unk>, O, S-ORG, S-MISC, B-PER, E-PER, S-LOC, B-ORG, E-ORG, I-PER, S-PER, B-MISC, I-MISC, E-MISC, I-ORG, B-LOC, E-LOC, I-LOC, <START>, <STOP>\n"
          ]
        },
        {
          "output_type": "stream",
          "name": "stderr",
          "text": [
            "\r 33%|███▎      | 63/192 [04:01<08:00,  3.73s/it]"
          ]
        },
        {
          "output_type": "stream",
          "name": "stdout",
          "text": [
            "2025-08-02 18:41:38,492 SequenceTagger predicts: Dictionary with 20 tags: <unk>, O, S-ORG, S-MISC, B-PER, E-PER, S-LOC, B-ORG, E-ORG, I-PER, S-PER, B-MISC, I-MISC, E-MISC, I-ORG, B-LOC, E-LOC, I-LOC, <START>, <STOP>\n"
          ]
        },
        {
          "output_type": "stream",
          "name": "stderr",
          "text": [
            "\r 33%|███▎      | 64/192 [04:04<07:44,  3.63s/it]"
          ]
        },
        {
          "output_type": "stream",
          "name": "stdout",
          "text": [
            "2025-08-02 18:41:41,913 SequenceTagger predicts: Dictionary with 20 tags: <unk>, O, S-ORG, S-MISC, B-PER, E-PER, S-LOC, B-ORG, E-ORG, I-PER, S-PER, B-MISC, I-MISC, E-MISC, I-ORG, B-LOC, E-LOC, I-LOC, <START>, <STOP>\n"
          ]
        },
        {
          "output_type": "stream",
          "name": "stderr",
          "text": [
            "\r 34%|███▍      | 65/192 [04:08<07:38,  3.61s/it]"
          ]
        },
        {
          "output_type": "stream",
          "name": "stdout",
          "text": [
            "2025-08-02 18:41:45,433 SequenceTagger predicts: Dictionary with 20 tags: <unk>, O, S-ORG, S-MISC, B-PER, E-PER, S-LOC, B-ORG, E-ORG, I-PER, S-PER, B-MISC, I-MISC, E-MISC, I-ORG, B-LOC, E-LOC, I-LOC, <START>, <STOP>\n"
          ]
        },
        {
          "output_type": "stream",
          "name": "stderr",
          "text": [
            "\r 34%|███▍      | 66/192 [04:11<07:31,  3.58s/it]"
          ]
        },
        {
          "output_type": "stream",
          "name": "stdout",
          "text": [
            "2025-08-02 18:41:49,419 SequenceTagger predicts: Dictionary with 20 tags: <unk>, O, S-ORG, S-MISC, B-PER, E-PER, S-LOC, B-ORG, E-ORG, I-PER, S-PER, B-MISC, I-MISC, E-MISC, I-ORG, B-LOC, E-LOC, I-LOC, <START>, <STOP>\n"
          ]
        },
        {
          "output_type": "stream",
          "name": "stderr",
          "text": [
            "\r 35%|███▍      | 67/192 [04:15<07:29,  3.60s/it]"
          ]
        },
        {
          "output_type": "stream",
          "name": "stdout",
          "text": [
            "2025-08-02 18:41:52,659 SequenceTagger predicts: Dictionary with 20 tags: <unk>, O, S-ORG, S-MISC, B-PER, E-PER, S-LOC, B-ORG, E-ORG, I-PER, S-PER, B-MISC, I-MISC, E-MISC, I-ORG, B-LOC, E-LOC, I-LOC, <START>, <STOP>\n"
          ]
        },
        {
          "output_type": "stream",
          "name": "stderr",
          "text": [
            "\r 35%|███▌      | 68/192 [04:19<07:29,  3.62s/it]"
          ]
        },
        {
          "output_type": "stream",
          "name": "stdout",
          "text": [
            "2025-08-02 18:41:56,290 SequenceTagger predicts: Dictionary with 20 tags: <unk>, O, S-ORG, S-MISC, B-PER, E-PER, S-LOC, B-ORG, E-ORG, I-PER, S-PER, B-MISC, I-MISC, E-MISC, I-ORG, B-LOC, E-LOC, I-LOC, <START>, <STOP>\n"
          ]
        },
        {
          "output_type": "stream",
          "name": "stderr",
          "text": [
            "\r 36%|███▌      | 69/192 [04:22<07:23,  3.61s/it]"
          ]
        },
        {
          "output_type": "stream",
          "name": "stdout",
          "text": [
            "2025-08-02 18:42:00,254 SequenceTagger predicts: Dictionary with 20 tags: <unk>, O, S-ORG, S-MISC, B-PER, E-PER, S-LOC, B-ORG, E-ORG, I-PER, S-PER, B-MISC, I-MISC, E-MISC, I-ORG, B-LOC, E-LOC, I-LOC, <START>, <STOP>\n"
          ]
        },
        {
          "output_type": "stream",
          "name": "stderr",
          "text": [
            "\r 36%|███▋      | 70/192 [04:26<07:40,  3.78s/it]"
          ]
        },
        {
          "output_type": "stream",
          "name": "stdout",
          "text": [
            "2025-08-02 18:42:04,051 SequenceTagger predicts: Dictionary with 20 tags: <unk>, O, S-ORG, S-MISC, B-PER, E-PER, S-LOC, B-ORG, E-ORG, I-PER, S-PER, B-MISC, I-MISC, E-MISC, I-ORG, B-LOC, E-LOC, I-LOC, <START>, <STOP>\n"
          ]
        },
        {
          "output_type": "stream",
          "name": "stderr",
          "text": [
            "\r 37%|███▋      | 71/192 [04:30<07:23,  3.67s/it]"
          ]
        },
        {
          "output_type": "stream",
          "name": "stdout",
          "text": [
            "2025-08-02 18:42:07,455 SequenceTagger predicts: Dictionary with 20 tags: <unk>, O, S-ORG, S-MISC, B-PER, E-PER, S-LOC, B-ORG, E-ORG, I-PER, S-PER, B-MISC, I-MISC, E-MISC, I-ORG, B-LOC, E-LOC, I-LOC, <START>, <STOP>\n"
          ]
        },
        {
          "output_type": "stream",
          "name": "stderr",
          "text": [
            "\r 38%|███▊      | 72/192 [04:33<06:52,  3.44s/it]"
          ]
        },
        {
          "output_type": "stream",
          "name": "stdout",
          "text": [
            "2025-08-02 18:42:10,377 SequenceTagger predicts: Dictionary with 20 tags: <unk>, O, S-ORG, S-MISC, B-PER, E-PER, S-LOC, B-ORG, E-ORG, I-PER, S-PER, B-MISC, I-MISC, E-MISC, I-ORG, B-LOC, E-LOC, I-LOC, <START>, <STOP>\n"
          ]
        },
        {
          "output_type": "stream",
          "name": "stderr",
          "text": [
            "\r 38%|███▊      | 73/192 [04:36<06:32,  3.30s/it]"
          ]
        },
        {
          "output_type": "stream",
          "name": "stdout",
          "text": [
            "2025-08-02 18:42:13,870 SequenceTagger predicts: Dictionary with 20 tags: <unk>, O, S-ORG, S-MISC, B-PER, E-PER, S-LOC, B-ORG, E-ORG, I-PER, S-PER, B-MISC, I-MISC, E-MISC, I-ORG, B-LOC, E-LOC, I-LOC, <START>, <STOP>\n"
          ]
        },
        {
          "output_type": "stream",
          "name": "stderr",
          "text": [
            "\r 39%|███▊      | 74/192 [04:40<07:03,  3.59s/it]"
          ]
        },
        {
          "output_type": "stream",
          "name": "stdout",
          "text": [
            "2025-08-02 18:42:17,611 SequenceTagger predicts: Dictionary with 20 tags: <unk>, O, S-ORG, S-MISC, B-PER, E-PER, S-LOC, B-ORG, E-ORG, I-PER, S-PER, B-MISC, I-MISC, E-MISC, I-ORG, B-LOC, E-LOC, I-LOC, <START>, <STOP>\n"
          ]
        },
        {
          "output_type": "stream",
          "name": "stderr",
          "text": [
            "\r 39%|███▉      | 75/192 [04:43<06:59,  3.59s/it]"
          ]
        },
        {
          "output_type": "stream",
          "name": "stdout",
          "text": [
            "2025-08-02 18:42:21,165 SequenceTagger predicts: Dictionary with 20 tags: <unk>, O, S-ORG, S-MISC, B-PER, E-PER, S-LOC, B-ORG, E-ORG, I-PER, S-PER, B-MISC, I-MISC, E-MISC, I-ORG, B-LOC, E-LOC, I-LOC, <START>, <STOP>\n"
          ]
        },
        {
          "output_type": "stream",
          "name": "stderr",
          "text": [
            "\r 40%|███▉      | 76/192 [04:46<06:34,  3.40s/it]"
          ]
        },
        {
          "output_type": "stream",
          "name": "stdout",
          "text": [
            "2025-08-02 18:42:24,146 SequenceTagger predicts: Dictionary with 20 tags: <unk>, O, S-ORG, S-MISC, B-PER, E-PER, S-LOC, B-ORG, E-ORG, I-PER, S-PER, B-MISC, I-MISC, E-MISC, I-ORG, B-LOC, E-LOC, I-LOC, <START>, <STOP>\n"
          ]
        },
        {
          "output_type": "stream",
          "name": "stderr",
          "text": [
            "\r 40%|████      | 77/192 [04:50<06:38,  3.47s/it]"
          ]
        },
        {
          "output_type": "stream",
          "name": "stdout",
          "text": [
            "2025-08-02 18:42:27,963 SequenceTagger predicts: Dictionary with 20 tags: <unk>, O, S-ORG, S-MISC, B-PER, E-PER, S-LOC, B-ORG, E-ORG, I-PER, S-PER, B-MISC, I-MISC, E-MISC, I-ORG, B-LOC, E-LOC, I-LOC, <START>, <STOP>\n"
          ]
        },
        {
          "output_type": "stream",
          "name": "stderr",
          "text": [
            "\r 41%|████      | 78/192 [04:54<06:36,  3.48s/it]"
          ]
        },
        {
          "output_type": "stream",
          "name": "stdout",
          "text": [
            "2025-08-02 18:42:31,409 SequenceTagger predicts: Dictionary with 20 tags: <unk>, O, S-ORG, S-MISC, B-PER, E-PER, S-LOC, B-ORG, E-ORG, I-PER, S-PER, B-MISC, I-MISC, E-MISC, I-ORG, B-LOC, E-LOC, I-LOC, <START>, <STOP>\n"
          ]
        },
        {
          "output_type": "stream",
          "name": "stderr",
          "text": [
            "\r 41%|████      | 79/192 [04:57<06:39,  3.53s/it]"
          ]
        },
        {
          "output_type": "stream",
          "name": "stdout",
          "text": [
            "2025-08-02 18:42:34,911 SequenceTagger predicts: Dictionary with 20 tags: <unk>, O, S-ORG, S-MISC, B-PER, E-PER, S-LOC, B-ORG, E-ORG, I-PER, S-PER, B-MISC, I-MISC, E-MISC, I-ORG, B-LOC, E-LOC, I-LOC, <START>, <STOP>\n"
          ]
        },
        {
          "output_type": "stream",
          "name": "stderr",
          "text": [
            "\r 42%|████▏     | 80/192 [05:01<06:37,  3.55s/it]"
          ]
        },
        {
          "output_type": "stream",
          "name": "stdout",
          "text": [
            "2025-08-02 18:42:39,282 SequenceTagger predicts: Dictionary with 20 tags: <unk>, O, S-ORG, S-MISC, B-PER, E-PER, S-LOC, B-ORG, E-ORG, I-PER, S-PER, B-MISC, I-MISC, E-MISC, I-ORG, B-LOC, E-LOC, I-LOC, <START>, <STOP>\n"
          ]
        },
        {
          "output_type": "stream",
          "name": "stderr",
          "text": [
            "\r 42%|████▏     | 81/192 [05:05<07:11,  3.89s/it]"
          ]
        },
        {
          "output_type": "stream",
          "name": "stdout",
          "text": [
            "2025-08-02 18:42:43,191 SequenceTagger predicts: Dictionary with 20 tags: <unk>, O, S-ORG, S-MISC, B-PER, E-PER, S-LOC, B-ORG, E-ORG, I-PER, S-PER, B-MISC, I-MISC, E-MISC, I-ORG, B-LOC, E-LOC, I-LOC, <START>, <STOP>\n"
          ]
        },
        {
          "output_type": "stream",
          "name": "stderr",
          "text": [
            "\r 43%|████▎     | 82/192 [05:09<07:04,  3.86s/it]"
          ]
        },
        {
          "output_type": "stream",
          "name": "stdout",
          "text": [
            "2025-08-02 18:42:46,977 SequenceTagger predicts: Dictionary with 20 tags: <unk>, O, S-ORG, S-MISC, B-PER, E-PER, S-LOC, B-ORG, E-ORG, I-PER, S-PER, B-MISC, I-MISC, E-MISC, I-ORG, B-LOC, E-LOC, I-LOC, <START>, <STOP>\n"
          ]
        },
        {
          "output_type": "stream",
          "name": "stderr",
          "text": [
            "\r 43%|████▎     | 83/192 [05:13<07:02,  3.88s/it]"
          ]
        },
        {
          "output_type": "stream",
          "name": "stdout",
          "text": [
            "2025-08-02 18:42:51,362 SequenceTagger predicts: Dictionary with 20 tags: <unk>, O, S-ORG, S-MISC, B-PER, E-PER, S-LOC, B-ORG, E-ORG, I-PER, S-PER, B-MISC, I-MISC, E-MISC, I-ORG, B-LOC, E-LOC, I-LOC, <START>, <STOP>\n"
          ]
        },
        {
          "output_type": "stream",
          "name": "stderr",
          "text": [
            "\r 44%|████▍     | 84/192 [05:17<07:10,  3.98s/it]"
          ]
        },
        {
          "output_type": "stream",
          "name": "stdout",
          "text": [
            "2025-08-02 18:42:55,109 SequenceTagger predicts: Dictionary with 20 tags: <unk>, O, S-ORG, S-MISC, B-PER, E-PER, S-LOC, B-ORG, E-ORG, I-PER, S-PER, B-MISC, I-MISC, E-MISC, I-ORG, B-LOC, E-LOC, I-LOC, <START>, <STOP>\n"
          ]
        },
        {
          "output_type": "stream",
          "name": "stderr",
          "text": [
            "\r 44%|████▍     | 85/192 [05:21<06:39,  3.73s/it]"
          ]
        },
        {
          "output_type": "stream",
          "name": "stdout",
          "text": [
            "2025-08-02 18:42:58,267 SequenceTagger predicts: Dictionary with 20 tags: <unk>, O, S-ORG, S-MISC, B-PER, E-PER, S-LOC, B-ORG, E-ORG, I-PER, S-PER, B-MISC, I-MISC, E-MISC, I-ORG, B-LOC, E-LOC, I-LOC, <START>, <STOP>\n"
          ]
        },
        {
          "output_type": "stream",
          "name": "stderr",
          "text": [
            "\r 45%|████▍     | 86/192 [05:24<06:27,  3.65s/it]"
          ]
        },
        {
          "output_type": "stream",
          "name": "stdout",
          "text": [
            "2025-08-02 18:43:01,760 SequenceTagger predicts: Dictionary with 20 tags: <unk>, O, S-ORG, S-MISC, B-PER, E-PER, S-LOC, B-ORG, E-ORG, I-PER, S-PER, B-MISC, I-MISC, E-MISC, I-ORG, B-LOC, E-LOC, I-LOC, <START>, <STOP>\n"
          ]
        },
        {
          "output_type": "stream",
          "name": "stderr",
          "text": [
            "\r 45%|████▌     | 87/192 [05:28<06:25,  3.67s/it]"
          ]
        },
        {
          "output_type": "stream",
          "name": "stdout",
          "text": [
            "2025-08-02 18:43:05,768 SequenceTagger predicts: Dictionary with 20 tags: <unk>, O, S-ORG, S-MISC, B-PER, E-PER, S-LOC, B-ORG, E-ORG, I-PER, S-PER, B-MISC, I-MISC, E-MISC, I-ORG, B-LOC, E-LOC, I-LOC, <START>, <STOP>\n"
          ]
        },
        {
          "output_type": "stream",
          "name": "stderr",
          "text": [
            "\r 46%|████▌     | 88/192 [05:32<06:48,  3.93s/it]"
          ]
        },
        {
          "output_type": "stream",
          "name": "stdout",
          "text": [
            "2025-08-02 18:43:09,991 SequenceTagger predicts: Dictionary with 20 tags: <unk>, O, S-ORG, S-MISC, B-PER, E-PER, S-LOC, B-ORG, E-ORG, I-PER, S-PER, B-MISC, I-MISC, E-MISC, I-ORG, B-LOC, E-LOC, I-LOC, <START>, <STOP>\n"
          ]
        },
        {
          "output_type": "stream",
          "name": "stderr",
          "text": [
            "\r 46%|████▋     | 89/192 [05:36<06:29,  3.79s/it]"
          ]
        },
        {
          "output_type": "stream",
          "name": "stdout",
          "text": [
            "2025-08-02 18:43:13,437 SequenceTagger predicts: Dictionary with 20 tags: <unk>, O, S-ORG, S-MISC, B-PER, E-PER, S-LOC, B-ORG, E-ORG, I-PER, S-PER, B-MISC, I-MISC, E-MISC, I-ORG, B-LOC, E-LOC, I-LOC, <START>, <STOP>\n"
          ]
        },
        {
          "output_type": "stream",
          "name": "stderr",
          "text": [
            "\r 47%|████▋     | 90/192 [05:39<06:24,  3.77s/it]"
          ]
        },
        {
          "output_type": "stream",
          "name": "stdout",
          "text": [
            "2025-08-02 18:43:17,788 SequenceTagger predicts: Dictionary with 20 tags: <unk>, O, S-ORG, S-MISC, B-PER, E-PER, S-LOC, B-ORG, E-ORG, I-PER, S-PER, B-MISC, I-MISC, E-MISC, I-ORG, B-LOC, E-LOC, I-LOC, <START>, <STOP>\n"
          ]
        },
        {
          "output_type": "stream",
          "name": "stderr",
          "text": [
            "\r 47%|████▋     | 91/192 [05:44<06:35,  3.92s/it]"
          ]
        },
        {
          "output_type": "stream",
          "name": "stdout",
          "text": [
            "2025-08-02 18:43:21,423 SequenceTagger predicts: Dictionary with 20 tags: <unk>, O, S-ORG, S-MISC, B-PER, E-PER, S-LOC, B-ORG, E-ORG, I-PER, S-PER, B-MISC, I-MISC, E-MISC, I-ORG, B-LOC, E-LOC, I-LOC, <START>, <STOP>\n"
          ]
        },
        {
          "output_type": "stream",
          "name": "stderr",
          "text": [
            "\r 48%|████▊     | 92/192 [05:47<06:08,  3.69s/it]"
          ]
        },
        {
          "output_type": "stream",
          "name": "stdout",
          "text": [
            "2025-08-02 18:43:24,607 SequenceTagger predicts: Dictionary with 20 tags: <unk>, O, S-ORG, S-MISC, B-PER, E-PER, S-LOC, B-ORG, E-ORG, I-PER, S-PER, B-MISC, I-MISC, E-MISC, I-ORG, B-LOC, E-LOC, I-LOC, <START>, <STOP>\n"
          ]
        },
        {
          "output_type": "stream",
          "name": "stderr",
          "text": [
            "\r 48%|████▊     | 93/192 [05:51<06:06,  3.70s/it]"
          ]
        },
        {
          "output_type": "stream",
          "name": "stdout",
          "text": [
            "2025-08-02 18:43:28,655 SequenceTagger predicts: Dictionary with 20 tags: <unk>, O, S-ORG, S-MISC, B-PER, E-PER, S-LOC, B-ORG, E-ORG, I-PER, S-PER, B-MISC, I-MISC, E-MISC, I-ORG, B-LOC, E-LOC, I-LOC, <START>, <STOP>\n"
          ]
        },
        {
          "output_type": "stream",
          "name": "stderr",
          "text": [
            "\r 49%|████▉     | 94/192 [05:55<06:25,  3.94s/it]"
          ]
        },
        {
          "output_type": "stream",
          "name": "stdout",
          "text": [
            "2025-08-02 18:43:32,819 SequenceTagger predicts: Dictionary with 20 tags: <unk>, O, S-ORG, S-MISC, B-PER, E-PER, S-LOC, B-ORG, E-ORG, I-PER, S-PER, B-MISC, I-MISC, E-MISC, I-ORG, B-LOC, E-LOC, I-LOC, <START>, <STOP>\n"
          ]
        },
        {
          "output_type": "stream",
          "name": "stderr",
          "text": [
            "\r 49%|████▉     | 95/192 [05:59<06:10,  3.81s/it]"
          ]
        },
        {
          "output_type": "stream",
          "name": "stdout",
          "text": [
            "2025-08-02 18:43:36,331 SequenceTagger predicts: Dictionary with 20 tags: <unk>, O, S-ORG, S-MISC, B-PER, E-PER, S-LOC, B-ORG, E-ORG, I-PER, S-PER, B-MISC, I-MISC, E-MISC, I-ORG, B-LOC, E-LOC, I-LOC, <START>, <STOP>\n"
          ]
        },
        {
          "output_type": "stream",
          "name": "stderr",
          "text": [
            "\r 50%|█████     | 96/192 [06:02<05:58,  3.73s/it]"
          ]
        },
        {
          "output_type": "stream",
          "name": "stdout",
          "text": [
            "2025-08-02 18:43:39,845 SequenceTagger predicts: Dictionary with 20 tags: <unk>, O, S-ORG, S-MISC, B-PER, E-PER, S-LOC, B-ORG, E-ORG, I-PER, S-PER, B-MISC, I-MISC, E-MISC, I-ORG, B-LOC, E-LOC, I-LOC, <START>, <STOP>\n"
          ]
        },
        {
          "output_type": "stream",
          "name": "stderr",
          "text": [
            "\r 51%|█████     | 97/192 [06:06<06:08,  3.88s/it]"
          ]
        },
        {
          "output_type": "stream",
          "name": "stdout",
          "text": [
            "2025-08-02 18:43:44,179 SequenceTagger predicts: Dictionary with 20 tags: <unk>, O, S-ORG, S-MISC, B-PER, E-PER, S-LOC, B-ORG, E-ORG, I-PER, S-PER, B-MISC, I-MISC, E-MISC, I-ORG, B-LOC, E-LOC, I-LOC, <START>, <STOP>\n"
          ]
        },
        {
          "output_type": "stream",
          "name": "stderr",
          "text": [
            "\r 51%|█████     | 98/192 [06:10<05:43,  3.65s/it]"
          ]
        },
        {
          "output_type": "stream",
          "name": "stdout",
          "text": [
            "2025-08-02 18:43:47,365 SequenceTagger predicts: Dictionary with 20 tags: <unk>, O, S-ORG, S-MISC, B-PER, E-PER, S-LOC, B-ORG, E-ORG, I-PER, S-PER, B-MISC, I-MISC, E-MISC, I-ORG, B-LOC, E-LOC, I-LOC, <START>, <STOP>\n"
          ]
        },
        {
          "output_type": "stream",
          "name": "stderr",
          "text": [
            "\r 52%|█████▏    | 99/192 [06:13<05:47,  3.74s/it]"
          ]
        },
        {
          "output_type": "stream",
          "name": "stdout",
          "text": [
            "2025-08-02 18:43:51,185 SequenceTagger predicts: Dictionary with 20 tags: <unk>, O, S-ORG, S-MISC, B-PER, E-PER, S-LOC, B-ORG, E-ORG, I-PER, S-PER, B-MISC, I-MISC, E-MISC, I-ORG, B-LOC, E-LOC, I-LOC, <START>, <STOP>\n"
          ]
        },
        {
          "output_type": "stream",
          "name": "stderr",
          "text": [
            "\r 52%|█████▏    | 100/192 [06:16<05:24,  3.53s/it]"
          ]
        },
        {
          "output_type": "stream",
          "name": "stdout",
          "text": [
            "2025-08-02 18:43:54,722 SequenceTagger predicts: Dictionary with 20 tags: <unk>, O, S-ORG, S-MISC, B-PER, E-PER, S-LOC, B-ORG, E-ORG, I-PER, S-PER, B-MISC, I-MISC, E-MISC, I-ORG, B-LOC, E-LOC, I-LOC, <START>, <STOP>\n"
          ]
        },
        {
          "output_type": "stream",
          "name": "stderr",
          "text": [
            "\r 53%|█████▎    | 101/192 [06:21<05:52,  3.87s/it]"
          ]
        },
        {
          "output_type": "stream",
          "name": "stdout",
          "text": [
            "2025-08-02 18:43:58,847 SequenceTagger predicts: Dictionary with 20 tags: <unk>, O, S-ORG, S-MISC, B-PER, E-PER, S-LOC, B-ORG, E-ORG, I-PER, S-PER, B-MISC, I-MISC, E-MISC, I-ORG, B-LOC, E-LOC, I-LOC, <START>, <STOP>\n"
          ]
        },
        {
          "output_type": "stream",
          "name": "stderr",
          "text": [
            "\r 53%|█████▎    | 102/192 [06:25<05:39,  3.77s/it]"
          ]
        },
        {
          "output_type": "stream",
          "name": "stdout",
          "text": [
            "2025-08-02 18:44:02,411 SequenceTagger predicts: Dictionary with 20 tags: <unk>, O, S-ORG, S-MISC, B-PER, E-PER, S-LOC, B-ORG, E-ORG, I-PER, S-PER, B-MISC, I-MISC, E-MISC, I-ORG, B-LOC, E-LOC, I-LOC, <START>, <STOP>\n"
          ]
        },
        {
          "output_type": "stream",
          "name": "stderr",
          "text": [
            "\r 54%|█████▎    | 103/192 [06:28<05:30,  3.72s/it]"
          ]
        },
        {
          "output_type": "stream",
          "name": "stdout",
          "text": [
            "2025-08-02 18:44:06,355 SequenceTagger predicts: Dictionary with 20 tags: <unk>, O, S-ORG, S-MISC, B-PER, E-PER, S-LOC, B-ORG, E-ORG, I-PER, S-PER, B-MISC, I-MISC, E-MISC, I-ORG, B-LOC, E-LOC, I-LOC, <START>, <STOP>\n"
          ]
        },
        {
          "output_type": "stream",
          "name": "stderr",
          "text": [
            "\r 54%|█████▍    | 104/192 [06:33<05:43,  3.91s/it]"
          ]
        },
        {
          "output_type": "stream",
          "name": "stdout",
          "text": [
            "2025-08-02 18:44:10,358 SequenceTagger predicts: Dictionary with 20 tags: <unk>, O, S-ORG, S-MISC, B-PER, E-PER, S-LOC, B-ORG, E-ORG, I-PER, S-PER, B-MISC, I-MISC, E-MISC, I-ORG, B-LOC, E-LOC, I-LOC, <START>, <STOP>\n"
          ]
        },
        {
          "output_type": "stream",
          "name": "stderr",
          "text": [
            "\r 55%|█████▍    | 105/192 [06:36<05:29,  3.79s/it]"
          ]
        },
        {
          "output_type": "stream",
          "name": "stdout",
          "text": [
            "2025-08-02 18:44:13,848 SequenceTagger predicts: Dictionary with 20 tags: <unk>, O, S-ORG, S-MISC, B-PER, E-PER, S-LOC, B-ORG, E-ORG, I-PER, S-PER, B-MISC, I-MISC, E-MISC, I-ORG, B-LOC, E-LOC, I-LOC, <START>, <STOP>\n"
          ]
        },
        {
          "output_type": "stream",
          "name": "stderr",
          "text": [
            "\r 55%|█████▌    | 106/192 [06:39<05:12,  3.63s/it]"
          ]
        },
        {
          "output_type": "stream",
          "name": "stdout",
          "text": [
            "2025-08-02 18:44:17,136 SequenceTagger predicts: Dictionary with 20 tags: <unk>, O, S-ORG, S-MISC, B-PER, E-PER, S-LOC, B-ORG, E-ORG, I-PER, S-PER, B-MISC, I-MISC, E-MISC, I-ORG, B-LOC, E-LOC, I-LOC, <START>, <STOP>\n"
          ]
        },
        {
          "output_type": "stream",
          "name": "stderr",
          "text": [
            "\r 56%|█████▌    | 107/192 [06:43<05:08,  3.63s/it]"
          ]
        },
        {
          "output_type": "stream",
          "name": "stdout",
          "text": [
            "2025-08-02 18:44:21,217 SequenceTagger predicts: Dictionary with 20 tags: <unk>, O, S-ORG, S-MISC, B-PER, E-PER, S-LOC, B-ORG, E-ORG, I-PER, S-PER, B-MISC, I-MISC, E-MISC, I-ORG, B-LOC, E-LOC, I-LOC, <START>, <STOP>\n"
          ]
        },
        {
          "output_type": "stream",
          "name": "stderr",
          "text": [
            "\r 56%|█████▋    | 108/192 [06:46<04:59,  3.56s/it]"
          ]
        },
        {
          "output_type": "stream",
          "name": "stdout",
          "text": [
            "2025-08-02 18:44:24,173 SequenceTagger predicts: Dictionary with 20 tags: <unk>, O, S-ORG, S-MISC, B-PER, E-PER, S-LOC, B-ORG, E-ORG, I-PER, S-PER, B-MISC, I-MISC, E-MISC, I-ORG, B-LOC, E-LOC, I-LOC, <START>, <STOP>\n"
          ]
        },
        {
          "output_type": "stream",
          "name": "stderr",
          "text": [
            "\r 57%|█████▋    | 109/192 [06:50<04:57,  3.58s/it]"
          ]
        },
        {
          "output_type": "stream",
          "name": "stdout",
          "text": [
            "2025-08-02 18:44:27,782 SequenceTagger predicts: Dictionary with 20 tags: <unk>, O, S-ORG, S-MISC, B-PER, E-PER, S-LOC, B-ORG, E-ORG, I-PER, S-PER, B-MISC, I-MISC, E-MISC, I-ORG, B-LOC, E-LOC, I-LOC, <START>, <STOP>\n"
          ]
        },
        {
          "output_type": "stream",
          "name": "stderr",
          "text": [
            "\r 57%|█████▋    | 110/192 [06:54<04:50,  3.55s/it]"
          ]
        },
        {
          "output_type": "stream",
          "name": "stdout",
          "text": [
            "2025-08-02 18:44:31,391 SequenceTagger predicts: Dictionary with 20 tags: <unk>, O, S-ORG, S-MISC, B-PER, E-PER, S-LOC, B-ORG, E-ORG, I-PER, S-PER, B-MISC, I-MISC, E-MISC, I-ORG, B-LOC, E-LOC, I-LOC, <START>, <STOP>\n"
          ]
        },
        {
          "output_type": "stream",
          "name": "stderr",
          "text": [
            "\r 58%|█████▊    | 111/192 [06:57<04:51,  3.60s/it]"
          ]
        },
        {
          "output_type": "stream",
          "name": "stdout",
          "text": [
            "2025-08-02 18:44:34,992 SequenceTagger predicts: Dictionary with 20 tags: <unk>, O, S-ORG, S-MISC, B-PER, E-PER, S-LOC, B-ORG, E-ORG, I-PER, S-PER, B-MISC, I-MISC, E-MISC, I-ORG, B-LOC, E-LOC, I-LOC, <START>, <STOP>\n"
          ]
        },
        {
          "output_type": "stream",
          "name": "stderr",
          "text": [
            "\r 58%|█████▊    | 112/192 [07:01<04:47,  3.59s/it]"
          ]
        },
        {
          "output_type": "stream",
          "name": "stdout",
          "text": [
            "2025-08-02 18:44:38,555 SequenceTagger predicts: Dictionary with 20 tags: <unk>, O, S-ORG, S-MISC, B-PER, E-PER, S-LOC, B-ORG, E-ORG, I-PER, S-PER, B-MISC, I-MISC, E-MISC, I-ORG, B-LOC, E-LOC, I-LOC, <START>, <STOP>\n"
          ]
        },
        {
          "output_type": "stream",
          "name": "stderr",
          "text": [
            "\r 59%|█████▉    | 113/192 [07:04<04:37,  3.52s/it]"
          ]
        },
        {
          "output_type": "stream",
          "name": "stdout",
          "text": [
            "2025-08-02 18:44:41,856 SequenceTagger predicts: Dictionary with 20 tags: <unk>, O, S-ORG, S-MISC, B-PER, E-PER, S-LOC, B-ORG, E-ORG, I-PER, S-PER, B-MISC, I-MISC, E-MISC, I-ORG, B-LOC, E-LOC, I-LOC, <START>, <STOP>\n"
          ]
        },
        {
          "output_type": "stream",
          "name": "stderr",
          "text": [
            "\r 59%|█████▉    | 114/192 [07:08<04:31,  3.48s/it]"
          ]
        },
        {
          "output_type": "stream",
          "name": "stdout",
          "text": [
            "2025-08-02 18:44:45,855 SequenceTagger predicts: Dictionary with 20 tags: <unk>, O, S-ORG, S-MISC, B-PER, E-PER, S-LOC, B-ORG, E-ORG, I-PER, S-PER, B-MISC, I-MISC, E-MISC, I-ORG, B-LOC, E-LOC, I-LOC, <START>, <STOP>\n"
          ]
        },
        {
          "output_type": "stream",
          "name": "stderr",
          "text": [
            "\r 60%|█████▉    | 115/192 [07:12<04:50,  3.77s/it]"
          ]
        },
        {
          "output_type": "stream",
          "name": "stdout",
          "text": [
            "2025-08-02 18:44:49,888 SequenceTagger predicts: Dictionary with 20 tags: <unk>, O, S-ORG, S-MISC, B-PER, E-PER, S-LOC, B-ORG, E-ORG, I-PER, S-PER, B-MISC, I-MISC, E-MISC, I-ORG, B-LOC, E-LOC, I-LOC, <START>, <STOP>\n"
          ]
        },
        {
          "output_type": "stream",
          "name": "stderr",
          "text": [
            "\r 60%|██████    | 116/192 [07:16<04:44,  3.74s/it]"
          ]
        },
        {
          "output_type": "stream",
          "name": "stdout",
          "text": [
            "2025-08-02 18:44:53,393 SequenceTagger predicts: Dictionary with 20 tags: <unk>, O, S-ORG, S-MISC, B-PER, E-PER, S-LOC, B-ORG, E-ORG, I-PER, S-PER, B-MISC, I-MISC, E-MISC, I-ORG, B-LOC, E-LOC, I-LOC, <START>, <STOP>\n"
          ]
        },
        {
          "output_type": "stream",
          "name": "stderr",
          "text": [
            "\r 61%|██████    | 117/192 [07:19<04:32,  3.64s/it]"
          ]
        },
        {
          "output_type": "stream",
          "name": "stdout",
          "text": [
            "2025-08-02 18:44:57,227 SequenceTagger predicts: Dictionary with 20 tags: <unk>, O, S-ORG, S-MISC, B-PER, E-PER, S-LOC, B-ORG, E-ORG, I-PER, S-PER, B-MISC, I-MISC, E-MISC, I-ORG, B-LOC, E-LOC, I-LOC, <START>, <STOP>\n"
          ]
        },
        {
          "output_type": "stream",
          "name": "stderr",
          "text": [
            "\r 61%|██████▏   | 118/192 [07:23<04:40,  3.79s/it]"
          ]
        },
        {
          "output_type": "stream",
          "name": "stdout",
          "text": [
            "2025-08-02 18:45:01,099 SequenceTagger predicts: Dictionary with 20 tags: <unk>, O, S-ORG, S-MISC, B-PER, E-PER, S-LOC, B-ORG, E-ORG, I-PER, S-PER, B-MISC, I-MISC, E-MISC, I-ORG, B-LOC, E-LOC, I-LOC, <START>, <STOP>\n"
          ]
        },
        {
          "output_type": "stream",
          "name": "stderr",
          "text": [
            "\r 62%|██████▏   | 119/192 [07:28<04:51,  4.00s/it]"
          ]
        },
        {
          "output_type": "stream",
          "name": "stdout",
          "text": [
            "2025-08-02 18:45:05,419 SequenceTagger predicts: Dictionary with 20 tags: <unk>, O, S-ORG, S-MISC, B-PER, E-PER, S-LOC, B-ORG, E-ORG, I-PER, S-PER, B-MISC, I-MISC, E-MISC, I-ORG, B-LOC, E-LOC, I-LOC, <START>, <STOP>\n"
          ]
        },
        {
          "output_type": "stream",
          "name": "stderr",
          "text": [
            "\r 62%|██████▎   | 120/192 [07:31<04:27,  3.71s/it]"
          ]
        },
        {
          "output_type": "stream",
          "name": "stdout",
          "text": [
            "2025-08-02 18:45:08,443 SequenceTagger predicts: Dictionary with 20 tags: <unk>, O, S-ORG, S-MISC, B-PER, E-PER, S-LOC, B-ORG, E-ORG, I-PER, S-PER, B-MISC, I-MISC, E-MISC, I-ORG, B-LOC, E-LOC, I-LOC, <START>, <STOP>\n"
          ]
        },
        {
          "output_type": "stream",
          "name": "stderr",
          "text": [
            "\r 63%|██████▎   | 121/192 [07:35<04:34,  3.87s/it]"
          ]
        },
        {
          "output_type": "stream",
          "name": "stdout",
          "text": [
            "2025-08-02 18:45:12,804 SequenceTagger predicts: Dictionary with 20 tags: <unk>, O, S-ORG, S-MISC, B-PER, E-PER, S-LOC, B-ORG, E-ORG, I-PER, S-PER, B-MISC, I-MISC, E-MISC, I-ORG, B-LOC, E-LOC, I-LOC, <START>, <STOP>\n"
          ]
        },
        {
          "output_type": "stream",
          "name": "stderr",
          "text": [
            "\r 64%|██████▎   | 122/192 [07:38<04:18,  3.69s/it]"
          ]
        },
        {
          "output_type": "stream",
          "name": "stdout",
          "text": [
            "2025-08-02 18:45:15,980 SequenceTagger predicts: Dictionary with 20 tags: <unk>, O, S-ORG, S-MISC, B-PER, E-PER, S-LOC, B-ORG, E-ORG, I-PER, S-PER, B-MISC, I-MISC, E-MISC, I-ORG, B-LOC, E-LOC, I-LOC, <START>, <STOP>\n"
          ]
        },
        {
          "output_type": "stream",
          "name": "stderr",
          "text": [
            "\r 64%|██████▍   | 123/192 [07:42<04:12,  3.66s/it]"
          ]
        },
        {
          "output_type": "stream",
          "name": "stdout",
          "text": [
            "2025-08-02 18:45:19,586 SequenceTagger predicts: Dictionary with 20 tags: <unk>, O, S-ORG, S-MISC, B-PER, E-PER, S-LOC, B-ORG, E-ORG, I-PER, S-PER, B-MISC, I-MISC, E-MISC, I-ORG, B-LOC, E-LOC, I-LOC, <START>, <STOP>\n"
          ]
        },
        {
          "output_type": "stream",
          "name": "stderr",
          "text": [
            "\r 65%|██████▍   | 124/192 [07:45<03:58,  3.51s/it]"
          ]
        },
        {
          "output_type": "stream",
          "name": "stdout",
          "text": [
            "2025-08-02 18:45:23,275 SequenceTagger predicts: Dictionary with 20 tags: <unk>, O, S-ORG, S-MISC, B-PER, E-PER, S-LOC, B-ORG, E-ORG, I-PER, S-PER, B-MISC, I-MISC, E-MISC, I-ORG, B-LOC, E-LOC, I-LOC, <START>, <STOP>\n"
          ]
        },
        {
          "output_type": "stream",
          "name": "stderr",
          "text": [
            "\r 65%|██████▌   | 125/192 [07:49<04:12,  3.76s/it]"
          ]
        },
        {
          "output_type": "stream",
          "name": "stdout",
          "text": [
            "2025-08-02 18:45:27,096 SequenceTagger predicts: Dictionary with 20 tags: <unk>, O, S-ORG, S-MISC, B-PER, E-PER, S-LOC, B-ORG, E-ORG, I-PER, S-PER, B-MISC, I-MISC, E-MISC, I-ORG, B-LOC, E-LOC, I-LOC, <START>, <STOP>\n"
          ]
        },
        {
          "output_type": "stream",
          "name": "stderr",
          "text": [
            "\r 66%|██████▌   | 126/192 [07:53<04:03,  3.69s/it]"
          ]
        },
        {
          "output_type": "stream",
          "name": "stdout",
          "text": [
            "2025-08-02 18:45:30,643 SequenceTagger predicts: Dictionary with 20 tags: <unk>, O, S-ORG, S-MISC, B-PER, E-PER, S-LOC, B-ORG, E-ORG, I-PER, S-PER, B-MISC, I-MISC, E-MISC, I-ORG, B-LOC, E-LOC, I-LOC, <START>, <STOP>\n"
          ]
        },
        {
          "output_type": "stream",
          "name": "stderr",
          "text": [
            "\r 66%|██████▌   | 127/192 [07:57<04:00,  3.70s/it]"
          ]
        },
        {
          "output_type": "stream",
          "name": "stdout",
          "text": [
            "2025-08-02 18:45:34,440 SequenceTagger predicts: Dictionary with 20 tags: <unk>, O, S-ORG, S-MISC, B-PER, E-PER, S-LOC, B-ORG, E-ORG, I-PER, S-PER, B-MISC, I-MISC, E-MISC, I-ORG, B-LOC, E-LOC, I-LOC, <START>, <STOP>\n"
          ]
        },
        {
          "output_type": "stream",
          "name": "stderr",
          "text": [
            "\r 67%|██████▋   | 128/192 [08:00<03:56,  3.70s/it]"
          ]
        },
        {
          "output_type": "stream",
          "name": "stdout",
          "text": [
            "2025-08-02 18:45:42,215 SequenceTagger predicts: Dictionary with 20 tags: <unk>, O, S-ORG, S-MISC, B-PER, E-PER, S-LOC, B-ORG, E-ORG, I-PER, S-PER, B-MISC, I-MISC, E-MISC, I-ORG, B-LOC, E-LOC, I-LOC, <START>, <STOP>\n"
          ]
        },
        {
          "output_type": "stream",
          "name": "stderr",
          "text": [
            "\r 67%|██████▋   | 129/192 [08:09<05:22,  5.11s/it]"
          ]
        },
        {
          "output_type": "stream",
          "name": "stdout",
          "text": [
            "2025-08-02 18:45:50,137 SequenceTagger predicts: Dictionary with 20 tags: <unk>, O, S-ORG, S-MISC, B-PER, E-PER, S-LOC, B-ORG, E-ORG, I-PER, S-PER, B-MISC, I-MISC, E-MISC, I-ORG, B-LOC, E-LOC, I-LOC, <START>, <STOP>\n"
          ]
        },
        {
          "output_type": "stream",
          "name": "stderr",
          "text": [
            "\r 68%|██████▊   | 130/192 [08:17<06:06,  5.92s/it]"
          ]
        },
        {
          "output_type": "stream",
          "name": "stdout",
          "text": [
            "2025-08-02 18:45:54,747 SequenceTagger predicts: Dictionary with 20 tags: <unk>, O, S-ORG, S-MISC, B-PER, E-PER, S-LOC, B-ORG, E-ORG, I-PER, S-PER, B-MISC, I-MISC, E-MISC, I-ORG, B-LOC, E-LOC, I-LOC, <START>, <STOP>\n"
          ]
        },
        {
          "output_type": "stream",
          "name": "stderr",
          "text": [
            "\r 68%|██████▊   | 131/192 [08:20<05:23,  5.30s/it]"
          ]
        },
        {
          "output_type": "stream",
          "name": "stdout",
          "text": [
            "2025-08-02 18:45:58,154 SequenceTagger predicts: Dictionary with 20 tags: <unk>, O, S-ORG, S-MISC, B-PER, E-PER, S-LOC, B-ORG, E-ORG, I-PER, S-PER, B-MISC, I-MISC, E-MISC, I-ORG, B-LOC, E-LOC, I-LOC, <START>, <STOP>\n"
          ]
        },
        {
          "output_type": "stream",
          "name": "stderr",
          "text": [
            "\r 69%|██████▉   | 132/192 [08:24<04:41,  4.69s/it]"
          ]
        },
        {
          "output_type": "stream",
          "name": "stdout",
          "text": [
            "2025-08-02 18:46:01,734 SequenceTagger predicts: Dictionary with 20 tags: <unk>, O, S-ORG, S-MISC, B-PER, E-PER, S-LOC, B-ORG, E-ORG, I-PER, S-PER, B-MISC, I-MISC, E-MISC, I-ORG, B-LOC, E-LOC, I-LOC, <START>, <STOP>\n"
          ]
        },
        {
          "output_type": "stream",
          "name": "stderr",
          "text": [
            "\r 69%|██████▉   | 133/192 [08:27<04:17,  4.37s/it]"
          ]
        },
        {
          "output_type": "stream",
          "name": "stdout",
          "text": [
            "2025-08-02 18:46:05,434 SequenceTagger predicts: Dictionary with 20 tags: <unk>, O, S-ORG, S-MISC, B-PER, E-PER, S-LOC, B-ORG, E-ORG, I-PER, S-PER, B-MISC, I-MISC, E-MISC, I-ORG, B-LOC, E-LOC, I-LOC, <START>, <STOP>\n"
          ]
        },
        {
          "output_type": "stream",
          "name": "stderr",
          "text": [
            "\r 70%|██████▉   | 134/192 [08:31<04:10,  4.32s/it]"
          ]
        },
        {
          "output_type": "stream",
          "name": "stdout",
          "text": [
            "2025-08-02 18:46:09,504 SequenceTagger predicts: Dictionary with 20 tags: <unk>, O, S-ORG, S-MISC, B-PER, E-PER, S-LOC, B-ORG, E-ORG, I-PER, S-PER, B-MISC, I-MISC, E-MISC, I-ORG, B-LOC, E-LOC, I-LOC, <START>, <STOP>\n"
          ]
        },
        {
          "output_type": "stream",
          "name": "stderr",
          "text": [
            "\r 70%|███████   | 135/192 [08:36<04:02,  4.25s/it]"
          ]
        },
        {
          "output_type": "stream",
          "name": "stdout",
          "text": [
            "2025-08-02 18:46:13,604 SequenceTagger predicts: Dictionary with 20 tags: <unk>, O, S-ORG, S-MISC, B-PER, E-PER, S-LOC, B-ORG, E-ORG, I-PER, S-PER, B-MISC, I-MISC, E-MISC, I-ORG, B-LOC, E-LOC, I-LOC, <START>, <STOP>\n"
          ]
        },
        {
          "output_type": "stream",
          "name": "stderr",
          "text": [
            "\r 71%|███████   | 136/192 [08:40<03:56,  4.23s/it]"
          ]
        },
        {
          "output_type": "stream",
          "name": "stdout",
          "text": [
            "2025-08-02 18:46:18,219 SequenceTagger predicts: Dictionary with 20 tags: <unk>, O, S-ORG, S-MISC, B-PER, E-PER, S-LOC, B-ORG, E-ORG, I-PER, S-PER, B-MISC, I-MISC, E-MISC, I-ORG, B-LOC, E-LOC, I-LOC, <START>, <STOP>\n"
          ]
        },
        {
          "output_type": "stream",
          "name": "stderr",
          "text": [
            "\r 71%|███████▏  | 137/192 [08:44<03:54,  4.26s/it]"
          ]
        },
        {
          "output_type": "stream",
          "name": "stdout",
          "text": [
            "2025-08-02 18:46:21,863 SequenceTagger predicts: Dictionary with 20 tags: <unk>, O, S-ORG, S-MISC, B-PER, E-PER, S-LOC, B-ORG, E-ORG, I-PER, S-PER, B-MISC, I-MISC, E-MISC, I-ORG, B-LOC, E-LOC, I-LOC, <START>, <STOP>\n"
          ]
        },
        {
          "output_type": "stream",
          "name": "stderr",
          "text": [
            "\r 72%|███████▏  | 138/192 [08:48<03:39,  4.07s/it]"
          ]
        },
        {
          "output_type": "stream",
          "name": "stdout",
          "text": [
            "2025-08-02 18:46:25,465 SequenceTagger predicts: Dictionary with 20 tags: <unk>, O, S-ORG, S-MISC, B-PER, E-PER, S-LOC, B-ORG, E-ORG, I-PER, S-PER, B-MISC, I-MISC, E-MISC, I-ORG, B-LOC, E-LOC, I-LOC, <START>, <STOP>\n"
          ]
        },
        {
          "output_type": "stream",
          "name": "stderr",
          "text": [
            "\r 72%|███████▏  | 139/192 [08:51<03:21,  3.80s/it]"
          ]
        },
        {
          "output_type": "stream",
          "name": "stdout",
          "text": [
            "2025-08-02 18:46:29,105 SequenceTagger predicts: Dictionary with 20 tags: <unk>, O, S-ORG, S-MISC, B-PER, E-PER, S-LOC, B-ORG, E-ORG, I-PER, S-PER, B-MISC, I-MISC, E-MISC, I-ORG, B-LOC, E-LOC, I-LOC, <START>, <STOP>\n"
          ]
        },
        {
          "output_type": "stream",
          "name": "stderr",
          "text": [
            "\r 73%|███████▎  | 140/192 [08:55<03:24,  3.92s/it]"
          ]
        },
        {
          "output_type": "stream",
          "name": "stdout",
          "text": [
            "2025-08-02 18:46:32,899 SequenceTagger predicts: Dictionary with 20 tags: <unk>, O, S-ORG, S-MISC, B-PER, E-PER, S-LOC, B-ORG, E-ORG, I-PER, S-PER, B-MISC, I-MISC, E-MISC, I-ORG, B-LOC, E-LOC, I-LOC, <START>, <STOP>\n"
          ]
        },
        {
          "output_type": "stream",
          "name": "stderr",
          "text": [
            "\r 73%|███████▎  | 141/192 [08:59<03:20,  3.92s/it]"
          ]
        },
        {
          "output_type": "stream",
          "name": "stdout",
          "text": [
            "2025-08-02 18:46:36,763 SequenceTagger predicts: Dictionary with 20 tags: <unk>, O, S-ORG, S-MISC, B-PER, E-PER, S-LOC, B-ORG, E-ORG, I-PER, S-PER, B-MISC, I-MISC, E-MISC, I-ORG, B-LOC, E-LOC, I-LOC, <START>, <STOP>\n"
          ]
        },
        {
          "output_type": "stream",
          "name": "stderr",
          "text": [
            "\r 74%|███████▍  | 142/192 [09:03<03:09,  3.80s/it]"
          ]
        },
        {
          "output_type": "stream",
          "name": "stdout",
          "text": [
            "2025-08-02 18:46:40,463 SequenceTagger predicts: Dictionary with 20 tags: <unk>, O, S-ORG, S-MISC, B-PER, E-PER, S-LOC, B-ORG, E-ORG, I-PER, S-PER, B-MISC, I-MISC, E-MISC, I-ORG, B-LOC, E-LOC, I-LOC, <START>, <STOP>\n"
          ]
        },
        {
          "output_type": "stream",
          "name": "stderr",
          "text": [
            "\r 74%|███████▍  | 143/192 [09:07<03:11,  3.91s/it]"
          ]
        },
        {
          "output_type": "stream",
          "name": "stdout",
          "text": [
            "2025-08-02 18:46:44,504 SequenceTagger predicts: Dictionary with 20 tags: <unk>, O, S-ORG, S-MISC, B-PER, E-PER, S-LOC, B-ORG, E-ORG, I-PER, S-PER, B-MISC, I-MISC, E-MISC, I-ORG, B-LOC, E-LOC, I-LOC, <START>, <STOP>\n"
          ]
        },
        {
          "output_type": "stream",
          "name": "stderr",
          "text": [
            "\r 75%|███████▌  | 144/192 [09:10<03:01,  3.77s/it]"
          ]
        },
        {
          "output_type": "stream",
          "name": "stdout",
          "text": [
            "2025-08-02 18:46:47,916 SequenceTagger predicts: Dictionary with 20 tags: <unk>, O, S-ORG, S-MISC, B-PER, E-PER, S-LOC, B-ORG, E-ORG, I-PER, S-PER, B-MISC, I-MISC, E-MISC, I-ORG, B-LOC, E-LOC, I-LOC, <START>, <STOP>\n"
          ]
        },
        {
          "output_type": "stream",
          "name": "stderr",
          "text": [
            "\r 76%|███████▌  | 145/192 [09:14<02:55,  3.73s/it]"
          ]
        },
        {
          "output_type": "stream",
          "name": "stdout",
          "text": [
            "2025-08-02 18:46:51,523 SequenceTagger predicts: Dictionary with 20 tags: <unk>, O, S-ORG, S-MISC, B-PER, E-PER, S-LOC, B-ORG, E-ORG, I-PER, S-PER, B-MISC, I-MISC, E-MISC, I-ORG, B-LOC, E-LOC, I-LOC, <START>, <STOP>\n"
          ]
        },
        {
          "output_type": "stream",
          "name": "stderr",
          "text": [
            "\r 76%|███████▌  | 146/192 [09:17<02:51,  3.73s/it]"
          ]
        },
        {
          "output_type": "stream",
          "name": "stdout",
          "text": [
            "2025-08-02 18:46:55,859 SequenceTagger predicts: Dictionary with 20 tags: <unk>, O, S-ORG, S-MISC, B-PER, E-PER, S-LOC, B-ORG, E-ORG, I-PER, S-PER, B-MISC, I-MISC, E-MISC, I-ORG, B-LOC, E-LOC, I-LOC, <START>, <STOP>\n"
          ]
        },
        {
          "output_type": "stream",
          "name": "stderr",
          "text": [
            "\r 77%|███████▋  | 147/192 [09:22<02:54,  3.87s/it]"
          ]
        },
        {
          "output_type": "stream",
          "name": "stdout",
          "text": [
            "2025-08-02 18:46:59,422 SequenceTagger predicts: Dictionary with 20 tags: <unk>, O, S-ORG, S-MISC, B-PER, E-PER, S-LOC, B-ORG, E-ORG, I-PER, S-PER, B-MISC, I-MISC, E-MISC, I-ORG, B-LOC, E-LOC, I-LOC, <START>, <STOP>\n"
          ]
        },
        {
          "output_type": "stream",
          "name": "stderr",
          "text": [
            "\r 77%|███████▋  | 148/192 [09:26<02:49,  3.86s/it]"
          ]
        },
        {
          "output_type": "stream",
          "name": "stdout",
          "text": [
            "2025-08-02 18:47:03,285 SequenceTagger predicts: Dictionary with 20 tags: <unk>, O, S-ORG, S-MISC, B-PER, E-PER, S-LOC, B-ORG, E-ORG, I-PER, S-PER, B-MISC, I-MISC, E-MISC, I-ORG, B-LOC, E-LOC, I-LOC, <START>, <STOP>\n"
          ]
        },
        {
          "output_type": "stream",
          "name": "stderr",
          "text": [
            "\r 78%|███████▊  | 149/192 [09:29<02:42,  3.78s/it]"
          ]
        },
        {
          "output_type": "stream",
          "name": "stdout",
          "text": [
            "2025-08-02 18:47:07,446 SequenceTagger predicts: Dictionary with 20 tags: <unk>, O, S-ORG, S-MISC, B-PER, E-PER, S-LOC, B-ORG, E-ORG, I-PER, S-PER, B-MISC, I-MISC, E-MISC, I-ORG, B-LOC, E-LOC, I-LOC, <START>, <STOP>\n"
          ]
        },
        {
          "output_type": "stream",
          "name": "stderr",
          "text": [
            "\r 78%|███████▊  | 150/192 [09:33<02:42,  3.87s/it]"
          ]
        },
        {
          "output_type": "stream",
          "name": "stdout",
          "text": [
            "2025-08-02 18:47:11,001 SequenceTagger predicts: Dictionary with 20 tags: <unk>, O, S-ORG, S-MISC, B-PER, E-PER, S-LOC, B-ORG, E-ORG, I-PER, S-PER, B-MISC, I-MISC, E-MISC, I-ORG, B-LOC, E-LOC, I-LOC, <START>, <STOP>\n"
          ]
        },
        {
          "output_type": "stream",
          "name": "stderr",
          "text": [
            "\r 79%|███████▊  | 151/192 [09:37<02:39,  3.89s/it]"
          ]
        },
        {
          "output_type": "stream",
          "name": "stdout",
          "text": [
            "2025-08-02 18:47:14,870 SequenceTagger predicts: Dictionary with 20 tags: <unk>, O, S-ORG, S-MISC, B-PER, E-PER, S-LOC, B-ORG, E-ORG, I-PER, S-PER, B-MISC, I-MISC, E-MISC, I-ORG, B-LOC, E-LOC, I-LOC, <START>, <STOP>\n"
          ]
        },
        {
          "output_type": "stream",
          "name": "stderr",
          "text": [
            "\r 79%|███████▉  | 152/192 [09:41<02:32,  3.80s/it]"
          ]
        },
        {
          "output_type": "stream",
          "name": "stdout",
          "text": [
            "2025-08-02 18:47:18,782 SequenceTagger predicts: Dictionary with 20 tags: <unk>, O, S-ORG, S-MISC, B-PER, E-PER, S-LOC, B-ORG, E-ORG, I-PER, S-PER, B-MISC, I-MISC, E-MISC, I-ORG, B-LOC, E-LOC, I-LOC, <START>, <STOP>\n"
          ]
        },
        {
          "output_type": "stream",
          "name": "stderr",
          "text": [
            "\r 80%|███████▉  | 153/192 [09:44<02:27,  3.77s/it]"
          ]
        },
        {
          "output_type": "stream",
          "name": "stdout",
          "text": [
            "2025-08-02 18:47:22,334 SequenceTagger predicts: Dictionary with 20 tags: <unk>, O, S-ORG, S-MISC, B-PER, E-PER, S-LOC, B-ORG, E-ORG, I-PER, S-PER, B-MISC, I-MISC, E-MISC, I-ORG, B-LOC, E-LOC, I-LOC, <START>, <STOP>\n"
          ]
        },
        {
          "output_type": "stream",
          "name": "stderr",
          "text": [
            "\r 80%|████████  | 154/192 [09:48<02:18,  3.64s/it]"
          ]
        },
        {
          "output_type": "stream",
          "name": "stdout",
          "text": [
            "2025-08-02 18:47:25,656 SequenceTagger predicts: Dictionary with 20 tags: <unk>, O, S-ORG, S-MISC, B-PER, E-PER, S-LOC, B-ORG, E-ORG, I-PER, S-PER, B-MISC, I-MISC, E-MISC, I-ORG, B-LOC, E-LOC, I-LOC, <START>, <STOP>\n"
          ]
        },
        {
          "output_type": "stream",
          "name": "stderr",
          "text": [
            "\r 81%|████████  | 155/192 [09:52<02:16,  3.70s/it]"
          ]
        },
        {
          "output_type": "stream",
          "name": "stdout",
          "text": [
            "2025-08-02 18:47:29,415 SequenceTagger predicts: Dictionary with 20 tags: <unk>, O, S-ORG, S-MISC, B-PER, E-PER, S-LOC, B-ORG, E-ORG, I-PER, S-PER, B-MISC, I-MISC, E-MISC, I-ORG, B-LOC, E-LOC, I-LOC, <START>, <STOP>\n"
          ]
        },
        {
          "output_type": "stream",
          "name": "stderr",
          "text": [
            "\r 81%|████████▏ | 156/192 [09:56<02:18,  3.85s/it]"
          ]
        },
        {
          "output_type": "stream",
          "name": "stdout",
          "text": [
            "2025-08-02 18:47:34,077 SequenceTagger predicts: Dictionary with 20 tags: <unk>, O, S-ORG, S-MISC, B-PER, E-PER, S-LOC, B-ORG, E-ORG, I-PER, S-PER, B-MISC, I-MISC, E-MISC, I-ORG, B-LOC, E-LOC, I-LOC, <START>, <STOP>\n"
          ]
        },
        {
          "output_type": "stream",
          "name": "stderr",
          "text": [
            "\r 82%|████████▏ | 157/192 [10:00<02:14,  3.85s/it]"
          ]
        },
        {
          "output_type": "stream",
          "name": "stdout",
          "text": [
            "2025-08-02 18:47:37,450 SequenceTagger predicts: Dictionary with 20 tags: <unk>, O, S-ORG, S-MISC, B-PER, E-PER, S-LOC, B-ORG, E-ORG, I-PER, S-PER, B-MISC, I-MISC, E-MISC, I-ORG, B-LOC, E-LOC, I-LOC, <START>, <STOP>\n"
          ]
        },
        {
          "output_type": "stream",
          "name": "stderr",
          "text": [
            "\r 82%|████████▏ | 158/192 [10:03<02:04,  3.67s/it]"
          ]
        },
        {
          "output_type": "stream",
          "name": "stdout",
          "text": [
            "2025-08-02 18:47:40,687 SequenceTagger predicts: Dictionary with 20 tags: <unk>, O, S-ORG, S-MISC, B-PER, E-PER, S-LOC, B-ORG, E-ORG, I-PER, S-PER, B-MISC, I-MISC, E-MISC, I-ORG, B-LOC, E-LOC, I-LOC, <START>, <STOP>\n"
          ]
        },
        {
          "output_type": "stream",
          "name": "stderr",
          "text": [
            "\r 83%|████████▎ | 159/192 [10:06<01:56,  3.53s/it]"
          ]
        },
        {
          "output_type": "stream",
          "name": "stdout",
          "text": [
            "2025-08-02 18:47:43,950 SequenceTagger predicts: Dictionary with 20 tags: <unk>, O, S-ORG, S-MISC, B-PER, E-PER, S-LOC, B-ORG, E-ORG, I-PER, S-PER, B-MISC, I-MISC, E-MISC, I-ORG, B-LOC, E-LOC, I-LOC, <START>, <STOP>\n"
          ]
        },
        {
          "output_type": "stream",
          "name": "stderr",
          "text": [
            "\r 83%|████████▎ | 160/192 [10:10<01:52,  3.52s/it]"
          ]
        },
        {
          "output_type": "stream",
          "name": "stdout",
          "text": [
            "2025-08-02 18:47:47,544 SequenceTagger predicts: Dictionary with 20 tags: <unk>, O, S-ORG, S-MISC, B-PER, E-PER, S-LOC, B-ORG, E-ORG, I-PER, S-PER, B-MISC, I-MISC, E-MISC, I-ORG, B-LOC, E-LOC, I-LOC, <START>, <STOP>\n"
          ]
        },
        {
          "output_type": "stream",
          "name": "stderr",
          "text": [
            "\r 84%|████████▍ | 161/192 [10:13<01:47,  3.47s/it]"
          ]
        },
        {
          "output_type": "stream",
          "name": "stdout",
          "text": [
            "2025-08-02 18:47:50,706 SequenceTagger predicts: Dictionary with 20 tags: <unk>, O, S-ORG, S-MISC, B-PER, E-PER, S-LOC, B-ORG, E-ORG, I-PER, S-PER, B-MISC, I-MISC, E-MISC, I-ORG, B-LOC, E-LOC, I-LOC, <START>, <STOP>\n"
          ]
        },
        {
          "output_type": "stream",
          "name": "stderr",
          "text": [
            "\r 84%|████████▍ | 162/192 [10:17<01:45,  3.50s/it]"
          ]
        },
        {
          "output_type": "stream",
          "name": "stdout",
          "text": [
            "2025-08-02 18:47:54,311 SequenceTagger predicts: Dictionary with 20 tags: <unk>, O, S-ORG, S-MISC, B-PER, E-PER, S-LOC, B-ORG, E-ORG, I-PER, S-PER, B-MISC, I-MISC, E-MISC, I-ORG, B-LOC, E-LOC, I-LOC, <START>, <STOP>\n"
          ]
        },
        {
          "output_type": "stream",
          "name": "stderr",
          "text": [
            "\r 85%|████████▍ | 163/192 [10:20<01:44,  3.60s/it]"
          ]
        },
        {
          "output_type": "stream",
          "name": "stdout",
          "text": [
            "2025-08-02 18:47:58,736 SequenceTagger predicts: Dictionary with 20 tags: <unk>, O, S-ORG, S-MISC, B-PER, E-PER, S-LOC, B-ORG, E-ORG, I-PER, S-PER, B-MISC, I-MISC, E-MISC, I-ORG, B-LOC, E-LOC, I-LOC, <START>, <STOP>\n"
          ]
        },
        {
          "output_type": "stream",
          "name": "stderr",
          "text": [
            "\r 85%|████████▌ | 164/192 [10:24<01:40,  3.61s/it]"
          ]
        },
        {
          "output_type": "stream",
          "name": "stdout",
          "text": [
            "2025-08-02 18:48:01,795 SequenceTagger predicts: Dictionary with 20 tags: <unk>, O, S-ORG, S-MISC, B-PER, E-PER, S-LOC, B-ORG, E-ORG, I-PER, S-PER, B-MISC, I-MISC, E-MISC, I-ORG, B-LOC, E-LOC, I-LOC, <START>, <STOP>\n"
          ]
        },
        {
          "output_type": "stream",
          "name": "stderr",
          "text": [
            "\r 86%|████████▌ | 165/192 [10:28<01:39,  3.67s/it]"
          ]
        },
        {
          "output_type": "stream",
          "name": "stdout",
          "text": [
            "2025-08-02 18:48:05,589 SequenceTagger predicts: Dictionary with 20 tags: <unk>, O, S-ORG, S-MISC, B-PER, E-PER, S-LOC, B-ORG, E-ORG, I-PER, S-PER, B-MISC, I-MISC, E-MISC, I-ORG, B-LOC, E-LOC, I-LOC, <START>, <STOP>\n"
          ]
        },
        {
          "output_type": "stream",
          "name": "stderr",
          "text": [
            "\r 86%|████████▋ | 166/192 [10:31<01:34,  3.62s/it]"
          ]
        },
        {
          "output_type": "stream",
          "name": "stdout",
          "text": [
            "2025-08-02 18:48:09,216 SequenceTagger predicts: Dictionary with 20 tags: <unk>, O, S-ORG, S-MISC, B-PER, E-PER, S-LOC, B-ORG, E-ORG, I-PER, S-PER, B-MISC, I-MISC, E-MISC, I-ORG, B-LOC, E-LOC, I-LOC, <START>, <STOP>\n"
          ]
        },
        {
          "output_type": "stream",
          "name": "stderr",
          "text": [
            "\r 87%|████████▋ | 167/192 [10:36<01:36,  3.84s/it]"
          ]
        },
        {
          "output_type": "stream",
          "name": "stdout",
          "text": [
            "2025-08-02 18:48:13,460 SequenceTagger predicts: Dictionary with 20 tags: <unk>, O, S-ORG, S-MISC, B-PER, E-PER, S-LOC, B-ORG, E-ORG, I-PER, S-PER, B-MISC, I-MISC, E-MISC, I-ORG, B-LOC, E-LOC, I-LOC, <START>, <STOP>\n"
          ]
        },
        {
          "output_type": "stream",
          "name": "stderr",
          "text": [
            "\r 88%|████████▊ | 168/192 [10:39<01:25,  3.55s/it]"
          ]
        },
        {
          "output_type": "stream",
          "name": "stdout",
          "text": [
            "2025-08-02 18:48:16,310 SequenceTagger predicts: Dictionary with 20 tags: <unk>, O, S-ORG, S-MISC, B-PER, E-PER, S-LOC, B-ORG, E-ORG, I-PER, S-PER, B-MISC, I-MISC, E-MISC, I-ORG, B-LOC, E-LOC, I-LOC, <START>, <STOP>\n"
          ]
        },
        {
          "output_type": "stream",
          "name": "stderr",
          "text": [
            "\r 88%|████████▊ | 169/192 [10:42<01:21,  3.56s/it]"
          ]
        },
        {
          "output_type": "stream",
          "name": "stdout",
          "text": [
            "2025-08-02 18:48:19,882 SequenceTagger predicts: Dictionary with 20 tags: <unk>, O, S-ORG, S-MISC, B-PER, E-PER, S-LOC, B-ORG, E-ORG, I-PER, S-PER, B-MISC, I-MISC, E-MISC, I-ORG, B-LOC, E-LOC, I-LOC, <START>, <STOP>\n"
          ]
        },
        {
          "output_type": "stream",
          "name": "stderr",
          "text": [
            "\r 89%|████████▊ | 170/192 [10:45<01:14,  3.40s/it]"
          ]
        },
        {
          "output_type": "stream",
          "name": "stdout",
          "text": [
            "2025-08-02 18:48:23,439 SequenceTagger predicts: Dictionary with 20 tags: <unk>, O, S-ORG, S-MISC, B-PER, E-PER, S-LOC, B-ORG, E-ORG, I-PER, S-PER, B-MISC, I-MISC, E-MISC, I-ORG, B-LOC, E-LOC, I-LOC, <START>, <STOP>\n"
          ]
        },
        {
          "output_type": "stream",
          "name": "stderr",
          "text": [
            "\r 89%|████████▉ | 171/192 [10:50<01:17,  3.70s/it]"
          ]
        },
        {
          "output_type": "stream",
          "name": "stdout",
          "text": [
            "2025-08-02 18:48:27,291 SequenceTagger predicts: Dictionary with 20 tags: <unk>, O, S-ORG, S-MISC, B-PER, E-PER, S-LOC, B-ORG, E-ORG, I-PER, S-PER, B-MISC, I-MISC, E-MISC, I-ORG, B-LOC, E-LOC, I-LOC, <START>, <STOP>\n"
          ]
        },
        {
          "output_type": "stream",
          "name": "stderr",
          "text": [
            "\r 90%|████████▉ | 172/192 [10:53<01:14,  3.73s/it]"
          ]
        },
        {
          "output_type": "stream",
          "name": "stdout",
          "text": [
            "2025-08-02 18:48:31,112 SequenceTagger predicts: Dictionary with 20 tags: <unk>, O, S-ORG, S-MISC, B-PER, E-PER, S-LOC, B-ORG, E-ORG, I-PER, S-PER, B-MISC, I-MISC, E-MISC, I-ORG, B-LOC, E-LOC, I-LOC, <START>, <STOP>\n"
          ]
        },
        {
          "output_type": "stream",
          "name": "stderr",
          "text": [
            "\r 90%|█████████ | 173/192 [10:57<01:10,  3.70s/it]"
          ]
        },
        {
          "output_type": "stream",
          "name": "stdout",
          "text": [
            "2025-08-02 18:48:35,127 SequenceTagger predicts: Dictionary with 20 tags: <unk>, O, S-ORG, S-MISC, B-PER, E-PER, S-LOC, B-ORG, E-ORG, I-PER, S-PER, B-MISC, I-MISC, E-MISC, I-ORG, B-LOC, E-LOC, I-LOC, <START>, <STOP>\n"
          ]
        },
        {
          "output_type": "stream",
          "name": "stderr",
          "text": [
            "\r 91%|█████████ | 174/192 [11:01<01:10,  3.92s/it]"
          ]
        },
        {
          "output_type": "stream",
          "name": "stdout",
          "text": [
            "2025-08-02 18:48:39,247 SequenceTagger predicts: Dictionary with 20 tags: <unk>, O, S-ORG, S-MISC, B-PER, E-PER, S-LOC, B-ORG, E-ORG, I-PER, S-PER, B-MISC, I-MISC, E-MISC, I-ORG, B-LOC, E-LOC, I-LOC, <START>, <STOP>\n"
          ]
        },
        {
          "output_type": "stream",
          "name": "stderr",
          "text": [
            "\r 91%|█████████ | 175/192 [11:05<01:03,  3.76s/it]"
          ]
        },
        {
          "output_type": "stream",
          "name": "stdout",
          "text": [
            "2025-08-02 18:48:42,564 SequenceTagger predicts: Dictionary with 20 tags: <unk>, O, S-ORG, S-MISC, B-PER, E-PER, S-LOC, B-ORG, E-ORG, I-PER, S-PER, B-MISC, I-MISC, E-MISC, I-ORG, B-LOC, E-LOC, I-LOC, <START>, <STOP>\n"
          ]
        },
        {
          "output_type": "stream",
          "name": "stderr",
          "text": [
            "\r 92%|█████████▏| 176/192 [11:09<01:00,  3.80s/it]"
          ]
        },
        {
          "output_type": "stream",
          "name": "stdout",
          "text": [
            "2025-08-02 18:48:46,458 SequenceTagger predicts: Dictionary with 20 tags: <unk>, O, S-ORG, S-MISC, B-PER, E-PER, S-LOC, B-ORG, E-ORG, I-PER, S-PER, B-MISC, I-MISC, E-MISC, I-ORG, B-LOC, E-LOC, I-LOC, <START>, <STOP>\n"
          ]
        },
        {
          "output_type": "stream",
          "name": "stderr",
          "text": [
            "\r 92%|█████████▏| 177/192 [11:12<00:56,  3.78s/it]"
          ]
        },
        {
          "output_type": "stream",
          "name": "stdout",
          "text": [
            "2025-08-02 18:48:50,422 SequenceTagger predicts: Dictionary with 20 tags: <unk>, O, S-ORG, S-MISC, B-PER, E-PER, S-LOC, B-ORG, E-ORG, I-PER, S-PER, B-MISC, I-MISC, E-MISC, I-ORG, B-LOC, E-LOC, I-LOC, <START>, <STOP>\n"
          ]
        },
        {
          "output_type": "stream",
          "name": "stderr",
          "text": [
            "\r 93%|█████████▎| 178/192 [11:16<00:51,  3.68s/it]"
          ]
        },
        {
          "output_type": "stream",
          "name": "stdout",
          "text": [
            "2025-08-02 18:48:53,600 SequenceTagger predicts: Dictionary with 20 tags: <unk>, O, S-ORG, S-MISC, B-PER, E-PER, S-LOC, B-ORG, E-ORG, I-PER, S-PER, B-MISC, I-MISC, E-MISC, I-ORG, B-LOC, E-LOC, I-LOC, <START>, <STOP>\n"
          ]
        },
        {
          "output_type": "stream",
          "name": "stderr",
          "text": [
            "\r 93%|█████████▎| 179/192 [11:19<00:47,  3.63s/it]"
          ]
        },
        {
          "output_type": "stream",
          "name": "stdout",
          "text": [
            "2025-08-02 18:48:57,094 SequenceTagger predicts: Dictionary with 20 tags: <unk>, O, S-ORG, S-MISC, B-PER, E-PER, S-LOC, B-ORG, E-ORG, I-PER, S-PER, B-MISC, I-MISC, E-MISC, I-ORG, B-LOC, E-LOC, I-LOC, <START>, <STOP>\n"
          ]
        },
        {
          "output_type": "stream",
          "name": "stderr",
          "text": [
            "\r 94%|█████████▍| 180/192 [11:23<00:41,  3.48s/it]"
          ]
        },
        {
          "output_type": "stream",
          "name": "stdout",
          "text": [
            "2025-08-02 18:49:00,586 SequenceTagger predicts: Dictionary with 20 tags: <unk>, O, S-ORG, S-MISC, B-PER, E-PER, S-LOC, B-ORG, E-ORG, I-PER, S-PER, B-MISC, I-MISC, E-MISC, I-ORG, B-LOC, E-LOC, I-LOC, <START>, <STOP>\n"
          ]
        },
        {
          "output_type": "stream",
          "name": "stderr",
          "text": [
            "\r 94%|█████████▍| 181/192 [11:27<00:40,  3.67s/it]"
          ]
        },
        {
          "output_type": "stream",
          "name": "stdout",
          "text": [
            "2025-08-02 18:49:04,323 SequenceTagger predicts: Dictionary with 20 tags: <unk>, O, S-ORG, S-MISC, B-PER, E-PER, S-LOC, B-ORG, E-ORG, I-PER, S-PER, B-MISC, I-MISC, E-MISC, I-ORG, B-LOC, E-LOC, I-LOC, <START>, <STOP>\n"
          ]
        },
        {
          "output_type": "stream",
          "name": "stderr",
          "text": [
            "\r 95%|█████████▍| 182/192 [11:30<00:35,  3.55s/it]"
          ]
        },
        {
          "output_type": "stream",
          "name": "stdout",
          "text": [
            "2025-08-02 18:49:07,614 SequenceTagger predicts: Dictionary with 20 tags: <unk>, O, S-ORG, S-MISC, B-PER, E-PER, S-LOC, B-ORG, E-ORG, I-PER, S-PER, B-MISC, I-MISC, E-MISC, I-ORG, B-LOC, E-LOC, I-LOC, <START>, <STOP>\n"
          ]
        },
        {
          "output_type": "stream",
          "name": "stderr",
          "text": [
            "\r 95%|█████████▌| 183/192 [11:34<00:32,  3.66s/it]"
          ]
        },
        {
          "output_type": "stream",
          "name": "stdout",
          "text": [
            "2025-08-02 18:49:11,509 SequenceTagger predicts: Dictionary with 20 tags: <unk>, O, S-ORG, S-MISC, B-PER, E-PER, S-LOC, B-ORG, E-ORG, I-PER, S-PER, B-MISC, I-MISC, E-MISC, I-ORG, B-LOC, E-LOC, I-LOC, <START>, <STOP>\n"
          ]
        },
        {
          "output_type": "stream",
          "name": "stderr",
          "text": [
            "\r 96%|█████████▌| 184/192 [11:37<00:29,  3.65s/it]"
          ]
        },
        {
          "output_type": "stream",
          "name": "stdout",
          "text": [
            "2025-08-02 18:49:15,505 SequenceTagger predicts: Dictionary with 20 tags: <unk>, O, S-ORG, S-MISC, B-PER, E-PER, S-LOC, B-ORG, E-ORG, I-PER, S-PER, B-MISC, I-MISC, E-MISC, I-ORG, B-LOC, E-LOC, I-LOC, <START>, <STOP>\n"
          ]
        },
        {
          "output_type": "stream",
          "name": "stderr",
          "text": [
            "\r 96%|█████████▋| 185/192 [11:41<00:26,  3.72s/it]"
          ]
        },
        {
          "output_type": "stream",
          "name": "stdout",
          "text": [
            "2025-08-02 18:49:19,029 SequenceTagger predicts: Dictionary with 20 tags: <unk>, O, S-ORG, S-MISC, B-PER, E-PER, S-LOC, B-ORG, E-ORG, I-PER, S-PER, B-MISC, I-MISC, E-MISC, I-ORG, B-LOC, E-LOC, I-LOC, <START>, <STOP>\n"
          ]
        },
        {
          "output_type": "stream",
          "name": "stderr",
          "text": [
            "\r 97%|█████████▋| 186/192 [11:45<00:22,  3.74s/it]"
          ]
        },
        {
          "output_type": "stream",
          "name": "stdout",
          "text": [
            "2025-08-02 18:49:22,851 SequenceTagger predicts: Dictionary with 20 tags: <unk>, O, S-ORG, S-MISC, B-PER, E-PER, S-LOC, B-ORG, E-ORG, I-PER, S-PER, B-MISC, I-MISC, E-MISC, I-ORG, B-LOC, E-LOC, I-LOC, <START>, <STOP>\n"
          ]
        },
        {
          "output_type": "stream",
          "name": "stderr",
          "text": [
            "\r 97%|█████████▋| 187/192 [11:48<00:17,  3.49s/it]"
          ]
        },
        {
          "output_type": "stream",
          "name": "stdout",
          "text": [
            "2025-08-02 18:49:26,152 SequenceTagger predicts: Dictionary with 20 tags: <unk>, O, S-ORG, S-MISC, B-PER, E-PER, S-LOC, B-ORG, E-ORG, I-PER, S-PER, B-MISC, I-MISC, E-MISC, I-ORG, B-LOC, E-LOC, I-LOC, <START>, <STOP>\n"
          ]
        },
        {
          "output_type": "stream",
          "name": "stderr",
          "text": [
            "\r 98%|█████████▊| 188/192 [11:53<00:15,  3.85s/it]"
          ]
        },
        {
          "output_type": "stream",
          "name": "stdout",
          "text": [
            "2025-08-02 18:49:30,443 SequenceTagger predicts: Dictionary with 20 tags: <unk>, O, S-ORG, S-MISC, B-PER, E-PER, S-LOC, B-ORG, E-ORG, I-PER, S-PER, B-MISC, I-MISC, E-MISC, I-ORG, B-LOC, E-LOC, I-LOC, <START>, <STOP>\n"
          ]
        },
        {
          "output_type": "stream",
          "name": "stderr",
          "text": [
            "\r 98%|█████████▊| 189/192 [11:56<00:11,  3.75s/it]"
          ]
        },
        {
          "output_type": "stream",
          "name": "stdout",
          "text": [
            "2025-08-02 18:49:33,933 SequenceTagger predicts: Dictionary with 20 tags: <unk>, O, S-ORG, S-MISC, B-PER, E-PER, S-LOC, B-ORG, E-ORG, I-PER, S-PER, B-MISC, I-MISC, E-MISC, I-ORG, B-LOC, E-LOC, I-LOC, <START>, <STOP>\n"
          ]
        },
        {
          "output_type": "stream",
          "name": "stderr",
          "text": [
            "\r 99%|█████████▉| 190/192 [12:00<00:07,  3.70s/it]"
          ]
        },
        {
          "output_type": "stream",
          "name": "stdout",
          "text": [
            "2025-08-02 18:49:37,551 SequenceTagger predicts: Dictionary with 20 tags: <unk>, O, S-ORG, S-MISC, B-PER, E-PER, S-LOC, B-ORG, E-ORG, I-PER, S-PER, B-MISC, I-MISC, E-MISC, I-ORG, B-LOC, E-LOC, I-LOC, <START>, <STOP>\n"
          ]
        },
        {
          "output_type": "stream",
          "name": "stderr",
          "text": [
            "\r 99%|█████████▉| 191/192 [12:04<00:03,  3.75s/it]"
          ]
        },
        {
          "output_type": "stream",
          "name": "stdout",
          "text": [
            "2025-08-02 18:49:41,533 SequenceTagger predicts: Dictionary with 20 tags: <unk>, O, S-ORG, S-MISC, B-PER, E-PER, S-LOC, B-ORG, E-ORG, I-PER, S-PER, B-MISC, I-MISC, E-MISC, I-ORG, B-LOC, E-LOC, I-LOC, <START>, <STOP>\n"
          ]
        },
        {
          "output_type": "stream",
          "name": "stderr",
          "text": [
            "100%|██████████| 192/192 [12:07<00:00,  3.79s/it]\n"
          ]
        }
      ]
    },
    {
      "cell_type": "code",
      "source": [
        "companies"
      ],
      "metadata": {
        "colab": {
          "base_uri": "https://localhost:8080/"
        },
        "id": "ttBruLpickbz",
        "outputId": "c79c517a-6e02-4398-ea20-80d43a9a6e2e"
      },
      "execution_count": 14,
      "outputs": [
        {
          "output_type": "execute_result",
          "data": {
            "text/plain": [
              "[['MCS'],\n",
              " ['Karuna Cables Ltd'],\n",
              " ['Canfin Homes Ltd.'],\n",
              " ['Gowri Gopal Hospital Pvt. Ltd', 'Brilliant Securities Ltd'],\n",
              " ['DSP Merill Lynch Ltd'],\n",
              " ['Bimex Exports Private Limited'],\n",
              " ['Karuna Cables Ltd'],\n",
              " ['SSKI Corporate Finance Pvt. Ltd'],\n",
              " ['Atlanta Ltd'],\n",
              " ['Steel City Securities Ltd.'],\n",
              " ['Anushree Tradelink'],\n",
              " ['Capital Markets Limited', 'Hitech Gears', 'Munjal Showa Limited'],\n",
              " ['Karuna Cables Ltd'],\n",
              " ['Nissan Copper Ltd'],\n",
              " [],\n",
              " [],\n",
              " ['Nissan Copper Ltd'],\n",
              " ['SBI Capital Markets Ltd.in'],\n",
              " ['Karuna Cables Ltd'],\n",
              " ['SBEC Sugar Limited'],\n",
              " ['Success Vyapar'],\n",
              " [],\n",
              " ['Srijan Vyapar Private Limited'],\n",
              " ['Dani Shares & Stocks Pvt'],\n",
              " [],\n",
              " ['SBEC Sugar Limited'],\n",
              " ['Usha Iron and Ferro Metals Corporation Ltd'],\n",
              " ['Wellworth Share & Stock Broking Ltd'],\n",
              " ['Adani Exports Limited'],\n",
              " ['Baij Krishna and  Co.', 'Toplight Commercial Limited'],\n",
              " ['Naman Securities and Finance Pvt. Ltd', 'Adani Exports Ltd'],\n",
              " ['Vision Technology India'],\n",
              " ['Sera Sera Production Ltd'],\n",
              " ['Karuna Cables', 'Galaxy Broking Ltd'],\n",
              " ['Nissan Copper Ltd'],\n",
              " [],\n",
              " ['TGV Projects and Investments Ltd', 'Brilliant Securities Ltd'],\n",
              " ['Rishab Financial Services Limited',\n",
              "  'Formerly Madan Financial Services Ltd'],\n",
              " ['Ahilya Commercial Pvt. Ltd', 'Minolta Finance Ltd'],\n",
              " ['Richfield Financial Services Ltd'],\n",
              " [],\n",
              " ['Jagatdal Jute and Industries Ltd', 'Radiant Financial Services Ltd'],\n",
              " ['Mangalam Viniyog Pvt. Ltd', 'Radiant Financial Services Ltd'],\n",
              " ['FMS Securities Limited', 'Havells India'],\n",
              " ['Usha India'],\n",
              " ['Nissan Copper Ltd'],\n",
              " ['Troup International Ltd.', ', R..C. Kamani', 'Rajath Finance Limited'],\n",
              " ['Nissan Copper Ltd'],\n",
              " ['Kingfisher Overseas Pvt. Ltd', 'Blue Information Technology'],\n",
              " ['Roopshri Finvest Private Limited'],\n",
              " ['Nissan Copper Ltd'],\n",
              " ['BSR Finance and Construction Ltd'],\n",
              " [],\n",
              " ['BSR Finance and Construction Ltd'],\n",
              " ['JIK Industries Limited'],\n",
              " ['Apnapan Vyapaar Pvt. Ltd', 'Patriot Trading Co'],\n",
              " [],\n",
              " ['Action Financial Services', 'Ltd', 'Shukun Construction Limited'],\n",
              " [],\n",
              " ['P. K. Agarwal and Co', 'Cyber Family'],\n",
              " ['Galaxy Broking Ltd', 'Sera Sera Productions Ltd'],\n",
              " [],\n",
              " ['Minolta Finance Ltd'],\n",
              " ['Nissan Copper Ltd'],\n",
              " ['Coromadal Fertilizers Ltd'],\n",
              " ['Sarang Viniyog Limited'],\n",
              " ['HB', 'Ltd'],\n",
              " ['Karuna Cables Ltd'],\n",
              " ['S Jhunjhunwala and  Co', 'Sarang Viniyog Limited'],\n",
              " ['Matra Realty Limited'],\n",
              " ['Oasis Media'],\n",
              " ['Jay Rapid Roller Ltd'],\n",
              " [],\n",
              " [],\n",
              " ['Nissan Copper Ltd'],\n",
              " [],\n",
              " [],\n",
              " [],\n",
              " ['Alka India Limited', 'Alka India'],\n",
              " [],\n",
              " ['Nissan Copper Ltd'],\n",
              " ['Manhattan Fingrowth Limited'],\n",
              " ['Shri Parshwa Finance', 'Havells India'],\n",
              " ['JIK Industries Limited'],\n",
              " [],\n",
              " ['Karuna Cables', 'Penninsular Capital Market Ltd'],\n",
              " ['Enam Financial Consultants'],\n",
              " ['Matra Realty Limited',\n",
              "  'Yashraj Securities Limited',\n",
              "  'Matra Realty Limited'],\n",
              " ['Nissan Copper Ltd'],\n",
              " ['Brilliant Industries Ltd', 'Brilliant Securities Ltd'],\n",
              " ['Richfield Financial Services Ltd'],\n",
              " ['Steel City Securities Limited'],\n",
              " ['Right Finstock Limited', 'Innovision E-Commerce Limited'],\n",
              " ['Subh Stock Broking Private Limited', 'Sarang Viniyog Limited'],\n",
              " ['Basant Periwal & Co.', 'Minolta Finance Ltd'],\n",
              " ['Sanchay Fincom Limited', 'Adani Exports Ltd'],\n",
              " ['Mansukh Securities & Finance Ltd', 'Aarti Drugs Ltd.', 'Havells India Ltd'],\n",
              " [],\n",
              " ['BSR Finance and Construction Ltd'],\n",
              " ['Rajrathan Financial Services Ltd'],\n",
              " ['Steel City Capital Services (P) Ltd', 'Recron Synthetics'],\n",
              " ['Mukesh Dokania & Co.', 'Minolta Finance Ltd'],\n",
              " ['Gujarat Ambuja'],\n",
              " ['Sarang Viniyog Limited', 'Sarang Viniyog Limited'],\n",
              " ['Sanchay Finvest Limited', 'Adani Exports Ltd'],\n",
              " ['Angel Capital'],\n",
              " ['Mega Corporation Limited'],\n",
              " [],\n",
              " ['Angel Broking Ltd', 'Channel Guide India'],\n",
              " ['Karuna Cables Ltd'],\n",
              " ['Uniglobal Securities Pvt'],\n",
              " ['Uttam Financial Service Ltd', 'Manshukh Stock Brokers Ltd'],\n",
              " ['Oasis Media'],\n",
              " ['Nissan Copper Ltd'],\n",
              " ['Hem Kanak Mercantile Pvt. Ltd', 'Jindal Drilling and Industries Ltd'],\n",
              " ['Alpha Hi Tech Fuel Limited'],\n",
              " ['Nissan Copper Ltd'],\n",
              " [],\n",
              " ['Rishab Financial Services Ltd', 'Madan Financial Services Ltd'],\n",
              " ['TCW Galileo Funds'],\n",
              " ['Gujarat Ambuja'],\n",
              " ['Shelter Vyapar'],\n",
              " ['JM Morgan Stanley Pvt. Ltd'],\n",
              " ['Scope Vyapar'],\n",
              " [],\n",
              " ['Nissan Copper Ltd'],\n",
              " ['Shree Yaxx Pharma', 'Cosmetics Limited'],\n",
              " ['Mithani Securities Private Limited'],\n",
              " ['Arihant Capital Markets Ltd'],\n",
              " ['Jagruti Securities Limited', 'JIK Industries Limited'],\n",
              " ['Oasis Media'],\n",
              " ['DCM Financial Services Limited'],\n",
              " ['Srijan Vyapar Private Limited'],\n",
              " ['Alpha Hi Tech Fuel Limited'],\n",
              " ['Ahilya Commercial Private Limited', 'Sarang Viniyog Limited'],\n",
              " ['Radiant Financial Services Ltd'],\n",
              " ['Nissan Copper Ltd'],\n",
              " ['Nissan Copper Ltd'],\n",
              " ['TLB Securities Pvt  Ltd'],\n",
              " ['Oasis Media'],\n",
              " ['Sarash Trading Private Limited'],\n",
              " ['S.K.Khemka', 'Brels Infotech Limited'],\n",
              " ['T.G', 'Brilliant Securities Ltd'],\n",
              " ['Karuna Cables', 'Sanchay Fincom Ltd'],\n",
              " ['Coromadal Fertilizers Ltd'],\n",
              " ['Radiant Financial Services Ltd'],\n",
              " ['Kankeshwari Securities', 'Shukun Construction Ltd'],\n",
              " ['Deepraj Vinimay Private Limited'],\n",
              " ['Karuna Cables', 'Jain Securities Pvt. Ltd.'],\n",
              " ['Prudential ICICI'],\n",
              " ['Clock Sign Trading Co. Pvt. Ltd', 'Global Capital Markets Ltd'],\n",
              " ['Matra Realty Limited'],\n",
              " [],\n",
              " ['Rishabh Stock Broking Services Pvt'],\n",
              " ['Nissan Copper Limited'],\n",
              " ['OC Oerlikon Corporation AG', 'Pfaffikon'],\n",
              " ['Swarnganga Trading Private Limited'],\n",
              " [],\n",
              " ['Eupharma Laboratories'],\n",
              " ['Sun TV  Network Limited'],\n",
              " ['Bonanza Stock Brokers Ltd'],\n",
              " ['Nissan Copper Ltd'],\n",
              " ['Ahilya Commercial Pvt. Ltd', 'Brahmanand Himghar Ltd'],\n",
              " ['Celica Developers'],\n",
              " ['Prakash Nahata and  Co.', 'Cyber Family'],\n",
              " ['Nissan Copper Ltd'],\n",
              " ['Triumph International Finance India Ltd', 'Adani Exports Ltd'],\n",
              " ['Opal Industries Limited'],\n",
              " ['Enrich Industries Ltd'],\n",
              " ['Dimensional Securities Pvt'],\n",
              " ['Blue Information Technology'],\n",
              " ['Gama Commerce Pvt. Ltd', 'Amluckie Investment Company Limited.'],\n",
              " ['Minolta Finance Ltd'],\n",
              " [],\n",
              " ['Vatsa Music Ltd'],\n",
              " ['Satya Securities Ltd.', 'Basant Marketing pvt. Ltd', 'Granules India'],\n",
              " ['Amrut Securities Ltd', 'Axel Polymers Ltd'],\n",
              " ['Indiabulls Securities Limited'],\n",
              " ['Nissan Copper Ltd'],\n",
              " ['Anushree Tradelink  Private Limited'],\n",
              " ['Oasis Media'],\n",
              " ['Swarnganga Trading Private Limited'],\n",
              " ['Lumax Ind. Ltd', 'Crew BOS Ind. Ltd'],\n",
              " ['Brilliant Securities Ltd'],\n",
              " ['Coromadal Fertilizers Ltd'],\n",
              " ['Jitendra Harjivandas Securities Pvt. Ltd', 'Shukun Construction Ltd'],\n",
              " [],\n",
              " ['Hindustan Tea & Trading Co. Ltd', 'Orion Paper and Industries Ltd'],\n",
              " ['Matra Realty Limited'],\n",
              " ['Matra Realty Limited'],\n",
              " ['Cyber Family'],\n",
              " ['VSE Stock Services']]"
            ]
          },
          "metadata": {},
          "execution_count": 14
        }
      ]
    },
    {
      "cell_type": "code",
      "source": [
        "df"
      ],
      "metadata": {
        "colab": {
          "base_uri": "https://localhost:8080/",
          "height": 927
        },
        "id": "JBo8vr3jZMgI",
        "outputId": "3935523c-da9f-4519-eac8-eeae0ebb8f35"
      },
      "execution_count": 15,
      "outputs": [
        {
          "output_type": "execute_result",
          "data": {
            "text/plain": [
              "                                          pdf_filename  \\\n",
              "0      Adjudication Order in the matter of MCS Ltd.pdf   \n",
              "1    Adjudication Order passed against Ms. Neelam R...   \n",
              "2    Adjudication order in respect of Canfin Homes ...   \n",
              "3    Adjudication order in respect of Gowri Gopal H...   \n",
              "4    Adjudication order in the matter of DSP Merill...   \n",
              "..                                                 ...   \n",
              "187  Adjudication Order in respect of Hindustan Tea...   \n",
              "188  Adjudication Order in respect of Emmanuel Anth...   \n",
              "189  Adjudication Order in respect of Nimish Kantil...   \n",
              "190  Adjudication Order in respect of Pramod Kumar ...   \n",
              "191   Adjudication order of VSE Stock Services Ltd.pdf   \n",
              "\n",
              "                                          company_name  \\\n",
              "0                                       BOARD OF INDIA   \n",
              "1                                                  PAN   \n",
              "2    THE ADJUDICATING OFFICER \\n \\nSECURITIES AND E...   \n",
              "3                                              OFFICER   \n",
              "4                                                  DSP   \n",
              "..                                                 ...   \n",
              "187                                            OFFICER   \n",
              "188                                            OFFICER   \n",
              "189                                            OFFICER   \n",
              "190                                            OFFICER   \n",
              "191                            VSE Stock Services Ltd.   \n",
              "\n",
              "                        pan   cin  \\\n",
              "0    AAACM8027G, AAACM8027G  None   \n",
              "1                      None  None   \n",
              "2                AAACC7241A  None   \n",
              "3                AACCS9035O  None   \n",
              "4                AAACD0535G  None   \n",
              "..                      ...   ...   \n",
              "187                    None  None   \n",
              "188              AJBPA3595N  None   \n",
              "189              AAAPU2220N  None   \n",
              "190                    None  None   \n",
              "191              AABCV4258K  None   \n",
              "\n",
              "                                               address sentiment_heuristic  \\\n",
              "0    10.1 A copy of a letter dated June 12, 2007 fr...            Negative   \n",
              "1                                                 None             Neutral   \n",
              "2    of the company are listed, the names and addre...             Neutral   \n",
              "3                                                 None            Negative   \n",
              "4    email address is a ‘group email address’ which...            Negative   \n",
              "..                                                 ...                 ...   \n",
              "187  the person available at the address refused to...            Negative   \n",
              "188                                               None            Negative   \n",
              "189                                               None            Negative   \n",
              "190                                               None            Negative   \n",
              "191  address for each of its clients and the notice...             Neutral   \n",
              "\n",
              "    sentiment_spacy                                            context  \n",
              "0          Negative   \\n1\\nBEFORE THE ADJUDICATING OFFICER \\nSECURI...  \n",
              "1           Neutral  1995 \\nAgainst \\n                             ...  \n",
              "2           Neutral                                               None  \n",
              "3          Negative  Page 1 of 15 \\nBEFORE THE ADJUDICATING OFFICER...  \n",
              "4          Positive  Page 1 of 8 \\nBEFORE THE ADJUDICATING OFFICER ...  \n",
              "..              ...                                                ...  \n",
              "187         Neutral  Page 1 of 3 \\nBEFORE THE ADJUDICATING OFFICER ...  \n",
              "188        Negative  Page 1 of 14 \\nBEFORE THE ADJUDICATING OFFICER...  \n",
              "189        Negative  Page 1 of 15 \\nBEFORE THE ADJUDICATING OFFICER...  \n",
              "190        Negative  Page 1 of 17 \\nBEFORE THE ADJUDICATING OFFICER...  \n",
              "191         Neutral   \\nAdjudication Order in respect of VSE Stock ...  \n",
              "\n",
              "[192 rows x 8 columns]"
            ],
            "text/html": [
              "\n",
              "  <div id=\"df-1102bbb5-dcf5-4f63-a402-9b77dbe77fad\" class=\"colab-df-container\">\n",
              "    <div>\n",
              "<style scoped>\n",
              "    .dataframe tbody tr th:only-of-type {\n",
              "        vertical-align: middle;\n",
              "    }\n",
              "\n",
              "    .dataframe tbody tr th {\n",
              "        vertical-align: top;\n",
              "    }\n",
              "\n",
              "    .dataframe thead th {\n",
              "        text-align: right;\n",
              "    }\n",
              "</style>\n",
              "<table border=\"1\" class=\"dataframe\">\n",
              "  <thead>\n",
              "    <tr style=\"text-align: right;\">\n",
              "      <th></th>\n",
              "      <th>pdf_filename</th>\n",
              "      <th>company_name</th>\n",
              "      <th>pan</th>\n",
              "      <th>cin</th>\n",
              "      <th>address</th>\n",
              "      <th>sentiment_heuristic</th>\n",
              "      <th>sentiment_spacy</th>\n",
              "      <th>context</th>\n",
              "    </tr>\n",
              "  </thead>\n",
              "  <tbody>\n",
              "    <tr>\n",
              "      <th>0</th>\n",
              "      <td>Adjudication Order in the matter of MCS Ltd.pdf</td>\n",
              "      <td>BOARD OF INDIA</td>\n",
              "      <td>AAACM8027G, AAACM8027G</td>\n",
              "      <td>None</td>\n",
              "      <td>10.1 A copy of a letter dated June 12, 2007 fr...</td>\n",
              "      <td>Negative</td>\n",
              "      <td>Negative</td>\n",
              "      <td>\\n1\\nBEFORE THE ADJUDICATING OFFICER \\nSECURI...</td>\n",
              "    </tr>\n",
              "    <tr>\n",
              "      <th>1</th>\n",
              "      <td>Adjudication Order passed against Ms. Neelam R...</td>\n",
              "      <td>PAN</td>\n",
              "      <td>None</td>\n",
              "      <td>None</td>\n",
              "      <td>None</td>\n",
              "      <td>Neutral</td>\n",
              "      <td>Neutral</td>\n",
              "      <td>1995 \\nAgainst \\n                             ...</td>\n",
              "    </tr>\n",
              "    <tr>\n",
              "      <th>2</th>\n",
              "      <td>Adjudication order in respect of Canfin Homes ...</td>\n",
              "      <td>THE ADJUDICATING OFFICER \\n \\nSECURITIES AND E...</td>\n",
              "      <td>AAACC7241A</td>\n",
              "      <td>None</td>\n",
              "      <td>of the company are listed, the names and addre...</td>\n",
              "      <td>Neutral</td>\n",
              "      <td>Neutral</td>\n",
              "      <td>None</td>\n",
              "    </tr>\n",
              "    <tr>\n",
              "      <th>3</th>\n",
              "      <td>Adjudication order in respect of Gowri Gopal H...</td>\n",
              "      <td>OFFICER</td>\n",
              "      <td>AACCS9035O</td>\n",
              "      <td>None</td>\n",
              "      <td>None</td>\n",
              "      <td>Negative</td>\n",
              "      <td>Negative</td>\n",
              "      <td>Page 1 of 15 \\nBEFORE THE ADJUDICATING OFFICER...</td>\n",
              "    </tr>\n",
              "    <tr>\n",
              "      <th>4</th>\n",
              "      <td>Adjudication order in the matter of DSP Merill...</td>\n",
              "      <td>DSP</td>\n",
              "      <td>AAACD0535G</td>\n",
              "      <td>None</td>\n",
              "      <td>email address is a ‘group email address’ which...</td>\n",
              "      <td>Negative</td>\n",
              "      <td>Positive</td>\n",
              "      <td>Page 1 of 8 \\nBEFORE THE ADJUDICATING OFFICER ...</td>\n",
              "    </tr>\n",
              "    <tr>\n",
              "      <th>...</th>\n",
              "      <td>...</td>\n",
              "      <td>...</td>\n",
              "      <td>...</td>\n",
              "      <td>...</td>\n",
              "      <td>...</td>\n",
              "      <td>...</td>\n",
              "      <td>...</td>\n",
              "      <td>...</td>\n",
              "    </tr>\n",
              "    <tr>\n",
              "      <th>187</th>\n",
              "      <td>Adjudication Order in respect of Hindustan Tea...</td>\n",
              "      <td>OFFICER</td>\n",
              "      <td>None</td>\n",
              "      <td>None</td>\n",
              "      <td>the person available at the address refused to...</td>\n",
              "      <td>Negative</td>\n",
              "      <td>Neutral</td>\n",
              "      <td>Page 1 of 3 \\nBEFORE THE ADJUDICATING OFFICER ...</td>\n",
              "    </tr>\n",
              "    <tr>\n",
              "      <th>188</th>\n",
              "      <td>Adjudication Order in respect of Emmanuel Anth...</td>\n",
              "      <td>OFFICER</td>\n",
              "      <td>AJBPA3595N</td>\n",
              "      <td>None</td>\n",
              "      <td>None</td>\n",
              "      <td>Negative</td>\n",
              "      <td>Negative</td>\n",
              "      <td>Page 1 of 14 \\nBEFORE THE ADJUDICATING OFFICER...</td>\n",
              "    </tr>\n",
              "    <tr>\n",
              "      <th>189</th>\n",
              "      <td>Adjudication Order in respect of Nimish Kantil...</td>\n",
              "      <td>OFFICER</td>\n",
              "      <td>AAAPU2220N</td>\n",
              "      <td>None</td>\n",
              "      <td>None</td>\n",
              "      <td>Negative</td>\n",
              "      <td>Negative</td>\n",
              "      <td>Page 1 of 15 \\nBEFORE THE ADJUDICATING OFFICER...</td>\n",
              "    </tr>\n",
              "    <tr>\n",
              "      <th>190</th>\n",
              "      <td>Adjudication Order in respect of Pramod Kumar ...</td>\n",
              "      <td>OFFICER</td>\n",
              "      <td>None</td>\n",
              "      <td>None</td>\n",
              "      <td>None</td>\n",
              "      <td>Negative</td>\n",
              "      <td>Negative</td>\n",
              "      <td>Page 1 of 17 \\nBEFORE THE ADJUDICATING OFFICER...</td>\n",
              "    </tr>\n",
              "    <tr>\n",
              "      <th>191</th>\n",
              "      <td>Adjudication order of VSE Stock Services Ltd.pdf</td>\n",
              "      <td>VSE Stock Services Ltd.</td>\n",
              "      <td>AABCV4258K</td>\n",
              "      <td>None</td>\n",
              "      <td>address for each of its clients and the notice...</td>\n",
              "      <td>Neutral</td>\n",
              "      <td>Neutral</td>\n",
              "      <td>\\nAdjudication Order in respect of VSE Stock ...</td>\n",
              "    </tr>\n",
              "  </tbody>\n",
              "</table>\n",
              "<p>192 rows × 8 columns</p>\n",
              "</div>\n",
              "    <div class=\"colab-df-buttons\">\n",
              "\n",
              "  <div class=\"colab-df-container\">\n",
              "    <button class=\"colab-df-convert\" onclick=\"convertToInteractive('df-1102bbb5-dcf5-4f63-a402-9b77dbe77fad')\"\n",
              "            title=\"Convert this dataframe to an interactive table.\"\n",
              "            style=\"display:none;\">\n",
              "\n",
              "  <svg xmlns=\"http://www.w3.org/2000/svg\" height=\"24px\" viewBox=\"0 -960 960 960\">\n",
              "    <path d=\"M120-120v-720h720v720H120Zm60-500h600v-160H180v160Zm220 220h160v-160H400v160Zm0 220h160v-160H400v160ZM180-400h160v-160H180v160Zm440 0h160v-160H620v160ZM180-180h160v-160H180v160Zm440 0h160v-160H620v160Z\"/>\n",
              "  </svg>\n",
              "    </button>\n",
              "\n",
              "  <style>\n",
              "    .colab-df-container {\n",
              "      display:flex;\n",
              "      gap: 12px;\n",
              "    }\n",
              "\n",
              "    .colab-df-convert {\n",
              "      background-color: #E8F0FE;\n",
              "      border: none;\n",
              "      border-radius: 50%;\n",
              "      cursor: pointer;\n",
              "      display: none;\n",
              "      fill: #1967D2;\n",
              "      height: 32px;\n",
              "      padding: 0 0 0 0;\n",
              "      width: 32px;\n",
              "    }\n",
              "\n",
              "    .colab-df-convert:hover {\n",
              "      background-color: #E2EBFA;\n",
              "      box-shadow: 0px 1px 2px rgba(60, 64, 67, 0.3), 0px 1px 3px 1px rgba(60, 64, 67, 0.15);\n",
              "      fill: #174EA6;\n",
              "    }\n",
              "\n",
              "    .colab-df-buttons div {\n",
              "      margin-bottom: 4px;\n",
              "    }\n",
              "\n",
              "    [theme=dark] .colab-df-convert {\n",
              "      background-color: #3B4455;\n",
              "      fill: #D2E3FC;\n",
              "    }\n",
              "\n",
              "    [theme=dark] .colab-df-convert:hover {\n",
              "      background-color: #434B5C;\n",
              "      box-shadow: 0px 1px 3px 1px rgba(0, 0, 0, 0.15);\n",
              "      filter: drop-shadow(0px 1px 2px rgba(0, 0, 0, 0.3));\n",
              "      fill: #FFFFFF;\n",
              "    }\n",
              "  </style>\n",
              "\n",
              "    <script>\n",
              "      const buttonEl =\n",
              "        document.querySelector('#df-1102bbb5-dcf5-4f63-a402-9b77dbe77fad button.colab-df-convert');\n",
              "      buttonEl.style.display =\n",
              "        google.colab.kernel.accessAllowed ? 'block' : 'none';\n",
              "\n",
              "      async function convertToInteractive(key) {\n",
              "        const element = document.querySelector('#df-1102bbb5-dcf5-4f63-a402-9b77dbe77fad');\n",
              "        const dataTable =\n",
              "          await google.colab.kernel.invokeFunction('convertToInteractive',\n",
              "                                                    [key], {});\n",
              "        if (!dataTable) return;\n",
              "\n",
              "        const docLinkHtml = 'Like what you see? Visit the ' +\n",
              "          '<a target=\"_blank\" href=https://colab.research.google.com/notebooks/data_table.ipynb>data table notebook</a>'\n",
              "          + ' to learn more about interactive tables.';\n",
              "        element.innerHTML = '';\n",
              "        dataTable['output_type'] = 'display_data';\n",
              "        await google.colab.output.renderOutput(dataTable, element);\n",
              "        const docLink = document.createElement('div');\n",
              "        docLink.innerHTML = docLinkHtml;\n",
              "        element.appendChild(docLink);\n",
              "      }\n",
              "    </script>\n",
              "  </div>\n",
              "\n",
              "\n",
              "    <div id=\"df-5bae2d5e-1742-4428-a71a-a32a3ade48d8\">\n",
              "      <button class=\"colab-df-quickchart\" onclick=\"quickchart('df-5bae2d5e-1742-4428-a71a-a32a3ade48d8')\"\n",
              "                title=\"Suggest charts\"\n",
              "                style=\"display:none;\">\n",
              "\n",
              "<svg xmlns=\"http://www.w3.org/2000/svg\" height=\"24px\"viewBox=\"0 0 24 24\"\n",
              "     width=\"24px\">\n",
              "    <g>\n",
              "        <path d=\"M19 3H5c-1.1 0-2 .9-2 2v14c0 1.1.9 2 2 2h14c1.1 0 2-.9 2-2V5c0-1.1-.9-2-2-2zM9 17H7v-7h2v7zm4 0h-2V7h2v10zm4 0h-2v-4h2v4z\"/>\n",
              "    </g>\n",
              "</svg>\n",
              "      </button>\n",
              "\n",
              "<style>\n",
              "  .colab-df-quickchart {\n",
              "      --bg-color: #E8F0FE;\n",
              "      --fill-color: #1967D2;\n",
              "      --hover-bg-color: #E2EBFA;\n",
              "      --hover-fill-color: #174EA6;\n",
              "      --disabled-fill-color: #AAA;\n",
              "      --disabled-bg-color: #DDD;\n",
              "  }\n",
              "\n",
              "  [theme=dark] .colab-df-quickchart {\n",
              "      --bg-color: #3B4455;\n",
              "      --fill-color: #D2E3FC;\n",
              "      --hover-bg-color: #434B5C;\n",
              "      --hover-fill-color: #FFFFFF;\n",
              "      --disabled-bg-color: #3B4455;\n",
              "      --disabled-fill-color: #666;\n",
              "  }\n",
              "\n",
              "  .colab-df-quickchart {\n",
              "    background-color: var(--bg-color);\n",
              "    border: none;\n",
              "    border-radius: 50%;\n",
              "    cursor: pointer;\n",
              "    display: none;\n",
              "    fill: var(--fill-color);\n",
              "    height: 32px;\n",
              "    padding: 0;\n",
              "    width: 32px;\n",
              "  }\n",
              "\n",
              "  .colab-df-quickchart:hover {\n",
              "    background-color: var(--hover-bg-color);\n",
              "    box-shadow: 0 1px 2px rgba(60, 64, 67, 0.3), 0 1px 3px 1px rgba(60, 64, 67, 0.15);\n",
              "    fill: var(--button-hover-fill-color);\n",
              "  }\n",
              "\n",
              "  .colab-df-quickchart-complete:disabled,\n",
              "  .colab-df-quickchart-complete:disabled:hover {\n",
              "    background-color: var(--disabled-bg-color);\n",
              "    fill: var(--disabled-fill-color);\n",
              "    box-shadow: none;\n",
              "  }\n",
              "\n",
              "  .colab-df-spinner {\n",
              "    border: 2px solid var(--fill-color);\n",
              "    border-color: transparent;\n",
              "    border-bottom-color: var(--fill-color);\n",
              "    animation:\n",
              "      spin 1s steps(1) infinite;\n",
              "  }\n",
              "\n",
              "  @keyframes spin {\n",
              "    0% {\n",
              "      border-color: transparent;\n",
              "      border-bottom-color: var(--fill-color);\n",
              "      border-left-color: var(--fill-color);\n",
              "    }\n",
              "    20% {\n",
              "      border-color: transparent;\n",
              "      border-left-color: var(--fill-color);\n",
              "      border-top-color: var(--fill-color);\n",
              "    }\n",
              "    30% {\n",
              "      border-color: transparent;\n",
              "      border-left-color: var(--fill-color);\n",
              "      border-top-color: var(--fill-color);\n",
              "      border-right-color: var(--fill-color);\n",
              "    }\n",
              "    40% {\n",
              "      border-color: transparent;\n",
              "      border-right-color: var(--fill-color);\n",
              "      border-top-color: var(--fill-color);\n",
              "    }\n",
              "    60% {\n",
              "      border-color: transparent;\n",
              "      border-right-color: var(--fill-color);\n",
              "    }\n",
              "    80% {\n",
              "      border-color: transparent;\n",
              "      border-right-color: var(--fill-color);\n",
              "      border-bottom-color: var(--fill-color);\n",
              "    }\n",
              "    90% {\n",
              "      border-color: transparent;\n",
              "      border-bottom-color: var(--fill-color);\n",
              "    }\n",
              "  }\n",
              "</style>\n",
              "\n",
              "      <script>\n",
              "        async function quickchart(key) {\n",
              "          const quickchartButtonEl =\n",
              "            document.querySelector('#' + key + ' button');\n",
              "          quickchartButtonEl.disabled = true;  // To prevent multiple clicks.\n",
              "          quickchartButtonEl.classList.add('colab-df-spinner');\n",
              "          try {\n",
              "            const charts = await google.colab.kernel.invokeFunction(\n",
              "                'suggestCharts', [key], {});\n",
              "          } catch (error) {\n",
              "            console.error('Error during call to suggestCharts:', error);\n",
              "          }\n",
              "          quickchartButtonEl.classList.remove('colab-df-spinner');\n",
              "          quickchartButtonEl.classList.add('colab-df-quickchart-complete');\n",
              "        }\n",
              "        (() => {\n",
              "          let quickchartButtonEl =\n",
              "            document.querySelector('#df-5bae2d5e-1742-4428-a71a-a32a3ade48d8 button');\n",
              "          quickchartButtonEl.style.display =\n",
              "            google.colab.kernel.accessAllowed ? 'block' : 'none';\n",
              "        })();\n",
              "      </script>\n",
              "    </div>\n",
              "\n",
              "  <div id=\"id_b5ee6cf8-571a-42fd-bbb9-562ee549aef1\">\n",
              "    <style>\n",
              "      .colab-df-generate {\n",
              "        background-color: #E8F0FE;\n",
              "        border: none;\n",
              "        border-radius: 50%;\n",
              "        cursor: pointer;\n",
              "        display: none;\n",
              "        fill: #1967D2;\n",
              "        height: 32px;\n",
              "        padding: 0 0 0 0;\n",
              "        width: 32px;\n",
              "      }\n",
              "\n",
              "      .colab-df-generate:hover {\n",
              "        background-color: #E2EBFA;\n",
              "        box-shadow: 0px 1px 2px rgba(60, 64, 67, 0.3), 0px 1px 3px 1px rgba(60, 64, 67, 0.15);\n",
              "        fill: #174EA6;\n",
              "      }\n",
              "\n",
              "      [theme=dark] .colab-df-generate {\n",
              "        background-color: #3B4455;\n",
              "        fill: #D2E3FC;\n",
              "      }\n",
              "\n",
              "      [theme=dark] .colab-df-generate:hover {\n",
              "        background-color: #434B5C;\n",
              "        box-shadow: 0px 1px 3px 1px rgba(0, 0, 0, 0.15);\n",
              "        filter: drop-shadow(0px 1px 2px rgba(0, 0, 0, 0.3));\n",
              "        fill: #FFFFFF;\n",
              "      }\n",
              "    </style>\n",
              "    <button class=\"colab-df-generate\" onclick=\"generateWithVariable('df')\"\n",
              "            title=\"Generate code using this dataframe.\"\n",
              "            style=\"display:none;\">\n",
              "\n",
              "  <svg xmlns=\"http://www.w3.org/2000/svg\" height=\"24px\"viewBox=\"0 0 24 24\"\n",
              "       width=\"24px\">\n",
              "    <path d=\"M7,19H8.4L18.45,9,17,7.55,7,17.6ZM5,21V16.75L18.45,3.32a2,2,0,0,1,2.83,0l1.4,1.43a1.91,1.91,0,0,1,.58,1.4,1.91,1.91,0,0,1-.58,1.4L9.25,21ZM18.45,9,17,7.55Zm-12,3A5.31,5.31,0,0,0,4.9,8.1,5.31,5.31,0,0,0,1,6.5,5.31,5.31,0,0,0,4.9,4.9,5.31,5.31,0,0,0,6.5,1,5.31,5.31,0,0,0,8.1,4.9,5.31,5.31,0,0,0,12,6.5,5.46,5.46,0,0,0,6.5,12Z\"/>\n",
              "  </svg>\n",
              "    </button>\n",
              "    <script>\n",
              "      (() => {\n",
              "      const buttonEl =\n",
              "        document.querySelector('#id_b5ee6cf8-571a-42fd-bbb9-562ee549aef1 button.colab-df-generate');\n",
              "      buttonEl.style.display =\n",
              "        google.colab.kernel.accessAllowed ? 'block' : 'none';\n",
              "\n",
              "      buttonEl.onclick = () => {\n",
              "        google.colab.notebook.generateWithVariable('df');\n",
              "      }\n",
              "      })();\n",
              "    </script>\n",
              "  </div>\n",
              "\n",
              "    </div>\n",
              "  </div>\n"
            ],
            "application/vnd.google.colaboratory.intrinsic+json": {
              "type": "dataframe",
              "variable_name": "df",
              "repr_error": "Out of range float values are not JSON compliant: nan"
            }
          },
          "metadata": {},
          "execution_count": 15
        }
      ]
    },
    {
      "cell_type": "code",
      "source": [
        "import re\n",
        "\n",
        "def extract_address_candidates(text):\n",
        "    lines = text.splitlines()\n",
        "    address_keywords = [\"address\", \"registered office\", \"situated at\", \"located at\"]\n",
        "    return [line.strip() for line in lines if any(k in line.lower() for k in address_keywords)]\n"
      ],
      "metadata": {
        "id": "DHoCC6YEXLS6"
      },
      "execution_count": 16,
      "outputs": []
    },
    {
      "cell_type": "code",
      "source": [
        "for i in companies:\n",
        "  if i."
      ],
      "metadata": {
        "colab": {
          "base_uri": "https://localhost:8080/",
          "height": 335
        },
        "id": "2ONeYwDPdHsR",
        "outputId": "c175f71b-ae24-4313-e633-499270dbd3fa"
      },
      "execution_count": null,
      "outputs": [
        {
          "output_type": "execute_result",
          "data": {
            "text/plain": [
              "pdf_filename           Adjudication order in the matter of Mithani Se...\n",
              "company_name                          Mithani Securities Private Limited\n",
              "pan                                                           AABCM4437F\n",
              "cin                                                                 None\n",
              "address                Subsequently, upon obtaining a new address of ...\n",
              "sentiment_heuristic                                             Negative\n",
              "sentiment_spacy                                                  Neutral\n",
              "context                 \\nAdjudication order against Mithani Securiti...\n",
              "Name: 0, dtype: object"
            ],
            "text/html": [
              "<div>\n",
              "<style scoped>\n",
              "    .dataframe tbody tr th:only-of-type {\n",
              "        vertical-align: middle;\n",
              "    }\n",
              "\n",
              "    .dataframe tbody tr th {\n",
              "        vertical-align: top;\n",
              "    }\n",
              "\n",
              "    .dataframe thead th {\n",
              "        text-align: right;\n",
              "    }\n",
              "</style>\n",
              "<table border=\"1\" class=\"dataframe\">\n",
              "  <thead>\n",
              "    <tr style=\"text-align: right;\">\n",
              "      <th></th>\n",
              "      <th>0</th>\n",
              "    </tr>\n",
              "  </thead>\n",
              "  <tbody>\n",
              "    <tr>\n",
              "      <th>pdf_filename</th>\n",
              "      <td>Adjudication order in the matter of Mithani Se...</td>\n",
              "    </tr>\n",
              "    <tr>\n",
              "      <th>company_name</th>\n",
              "      <td>Mithani Securities Private Limited</td>\n",
              "    </tr>\n",
              "    <tr>\n",
              "      <th>pan</th>\n",
              "      <td>AABCM4437F</td>\n",
              "    </tr>\n",
              "    <tr>\n",
              "      <th>cin</th>\n",
              "      <td>None</td>\n",
              "    </tr>\n",
              "    <tr>\n",
              "      <th>address</th>\n",
              "      <td>Subsequently, upon obtaining a new address of ...</td>\n",
              "    </tr>\n",
              "    <tr>\n",
              "      <th>sentiment_heuristic</th>\n",
              "      <td>Negative</td>\n",
              "    </tr>\n",
              "    <tr>\n",
              "      <th>sentiment_spacy</th>\n",
              "      <td>Neutral</td>\n",
              "    </tr>\n",
              "    <tr>\n",
              "      <th>context</th>\n",
              "      <td>\\nAdjudication order against Mithani Securiti...</td>\n",
              "    </tr>\n",
              "  </tbody>\n",
              "</table>\n",
              "</div><br><label><b>dtype:</b> object</label>"
            ]
          },
          "metadata": {},
          "execution_count": 49
        }
      ]
    },
    {
      "cell_type": "code",
      "source": [
        "empty_indexes = [i for i, inner in enumerate(companies) if len(inner) == 0]\n",
        "print(empty_indexes)  # [2]\n"
      ],
      "metadata": {
        "colab": {
          "base_uri": "https://localhost:8080/"
        },
        "id": "ks17RXlAdcM8",
        "outputId": "8c576de6-5cd8-4082-c0c5-adc62f28bf42"
      },
      "execution_count": 17,
      "outputs": [
        {
          "output_type": "stream",
          "name": "stdout",
          "text": [
            "[14, 15, 21, 24, 35, 40, 52, 56, 58, 61, 72, 73, 75, 76, 77, 79, 84, 97, 107, 117, 124, 152, 157, 173, 186]\n"
          ]
        }
      ]
    },
    {
      "cell_type": "code",
      "source": [
        "companies[2]=['Roopa S Shah']"
      ],
      "metadata": {
        "id": "Tw4npB8mde-8"
      },
      "execution_count": 18,
      "outputs": []
    },
    {
      "cell_type": "code",
      "source": [
        "companies"
      ],
      "metadata": {
        "colab": {
          "base_uri": "https://localhost:8080/"
        },
        "id": "qK2NVF96dzrQ",
        "outputId": "2fe255df-852f-4965-a16e-03b85e80524a"
      },
      "execution_count": 19,
      "outputs": [
        {
          "output_type": "execute_result",
          "data": {
            "text/plain": [
              "[['MCS'],\n",
              " ['Karuna Cables Ltd'],\n",
              " ['Roopa S Shah'],\n",
              " ['Gowri Gopal Hospital Pvt. Ltd', 'Brilliant Securities Ltd'],\n",
              " ['DSP Merill Lynch Ltd'],\n",
              " ['Bimex Exports Private Limited'],\n",
              " ['Karuna Cables Ltd'],\n",
              " ['SSKI Corporate Finance Pvt. Ltd'],\n",
              " ['Atlanta Ltd'],\n",
              " ['Steel City Securities Ltd.'],\n",
              " ['Anushree Tradelink'],\n",
              " ['Capital Markets Limited', 'Hitech Gears', 'Munjal Showa Limited'],\n",
              " ['Karuna Cables Ltd'],\n",
              " ['Nissan Copper Ltd'],\n",
              " [],\n",
              " [],\n",
              " ['Nissan Copper Ltd'],\n",
              " ['SBI Capital Markets Ltd.in'],\n",
              " ['Karuna Cables Ltd'],\n",
              " ['SBEC Sugar Limited'],\n",
              " ['Success Vyapar'],\n",
              " [],\n",
              " ['Srijan Vyapar Private Limited'],\n",
              " ['Dani Shares & Stocks Pvt'],\n",
              " [],\n",
              " ['SBEC Sugar Limited'],\n",
              " ['Usha Iron and Ferro Metals Corporation Ltd'],\n",
              " ['Wellworth Share & Stock Broking Ltd'],\n",
              " ['Adani Exports Limited'],\n",
              " ['Baij Krishna and  Co.', 'Toplight Commercial Limited'],\n",
              " ['Naman Securities and Finance Pvt. Ltd', 'Adani Exports Ltd'],\n",
              " ['Vision Technology India'],\n",
              " ['Sera Sera Production Ltd'],\n",
              " ['Karuna Cables', 'Galaxy Broking Ltd'],\n",
              " ['Nissan Copper Ltd'],\n",
              " [],\n",
              " ['TGV Projects and Investments Ltd', 'Brilliant Securities Ltd'],\n",
              " ['Rishab Financial Services Limited',\n",
              "  'Formerly Madan Financial Services Ltd'],\n",
              " ['Ahilya Commercial Pvt. Ltd', 'Minolta Finance Ltd'],\n",
              " ['Richfield Financial Services Ltd'],\n",
              " [],\n",
              " ['Jagatdal Jute and Industries Ltd', 'Radiant Financial Services Ltd'],\n",
              " ['Mangalam Viniyog Pvt. Ltd', 'Radiant Financial Services Ltd'],\n",
              " ['FMS Securities Limited', 'Havells India'],\n",
              " ['Usha India'],\n",
              " ['Nissan Copper Ltd'],\n",
              " ['Troup International Ltd.', ', R..C. Kamani', 'Rajath Finance Limited'],\n",
              " ['Nissan Copper Ltd'],\n",
              " ['Kingfisher Overseas Pvt. Ltd', 'Blue Information Technology'],\n",
              " ['Roopshri Finvest Private Limited'],\n",
              " ['Nissan Copper Ltd'],\n",
              " ['BSR Finance and Construction Ltd'],\n",
              " [],\n",
              " ['BSR Finance and Construction Ltd'],\n",
              " ['JIK Industries Limited'],\n",
              " ['Apnapan Vyapaar Pvt. Ltd', 'Patriot Trading Co'],\n",
              " [],\n",
              " ['Action Financial Services', 'Ltd', 'Shukun Construction Limited'],\n",
              " [],\n",
              " ['P. K. Agarwal and Co', 'Cyber Family'],\n",
              " ['Galaxy Broking Ltd', 'Sera Sera Productions Ltd'],\n",
              " [],\n",
              " ['Minolta Finance Ltd'],\n",
              " ['Nissan Copper Ltd'],\n",
              " ['Coromadal Fertilizers Ltd'],\n",
              " ['Sarang Viniyog Limited'],\n",
              " ['HB', 'Ltd'],\n",
              " ['Karuna Cables Ltd'],\n",
              " ['S Jhunjhunwala and  Co', 'Sarang Viniyog Limited'],\n",
              " ['Matra Realty Limited'],\n",
              " ['Oasis Media'],\n",
              " ['Jay Rapid Roller Ltd'],\n",
              " [],\n",
              " [],\n",
              " ['Nissan Copper Ltd'],\n",
              " [],\n",
              " [],\n",
              " [],\n",
              " ['Alka India Limited', 'Alka India'],\n",
              " [],\n",
              " ['Nissan Copper Ltd'],\n",
              " ['Manhattan Fingrowth Limited'],\n",
              " ['Shri Parshwa Finance', 'Havells India'],\n",
              " ['JIK Industries Limited'],\n",
              " [],\n",
              " ['Karuna Cables', 'Penninsular Capital Market Ltd'],\n",
              " ['Enam Financial Consultants'],\n",
              " ['Matra Realty Limited',\n",
              "  'Yashraj Securities Limited',\n",
              "  'Matra Realty Limited'],\n",
              " ['Nissan Copper Ltd'],\n",
              " ['Brilliant Industries Ltd', 'Brilliant Securities Ltd'],\n",
              " ['Richfield Financial Services Ltd'],\n",
              " ['Steel City Securities Limited'],\n",
              " ['Right Finstock Limited', 'Innovision E-Commerce Limited'],\n",
              " ['Subh Stock Broking Private Limited', 'Sarang Viniyog Limited'],\n",
              " ['Basant Periwal & Co.', 'Minolta Finance Ltd'],\n",
              " ['Sanchay Fincom Limited', 'Adani Exports Ltd'],\n",
              " ['Mansukh Securities & Finance Ltd', 'Aarti Drugs Ltd.', 'Havells India Ltd'],\n",
              " [],\n",
              " ['BSR Finance and Construction Ltd'],\n",
              " ['Rajrathan Financial Services Ltd'],\n",
              " ['Steel City Capital Services (P) Ltd', 'Recron Synthetics'],\n",
              " ['Mukesh Dokania & Co.', 'Minolta Finance Ltd'],\n",
              " ['Gujarat Ambuja'],\n",
              " ['Sarang Viniyog Limited', 'Sarang Viniyog Limited'],\n",
              " ['Sanchay Finvest Limited', 'Adani Exports Ltd'],\n",
              " ['Angel Capital'],\n",
              " ['Mega Corporation Limited'],\n",
              " [],\n",
              " ['Angel Broking Ltd', 'Channel Guide India'],\n",
              " ['Karuna Cables Ltd'],\n",
              " ['Uniglobal Securities Pvt'],\n",
              " ['Uttam Financial Service Ltd', 'Manshukh Stock Brokers Ltd'],\n",
              " ['Oasis Media'],\n",
              " ['Nissan Copper Ltd'],\n",
              " ['Hem Kanak Mercantile Pvt. Ltd', 'Jindal Drilling and Industries Ltd'],\n",
              " ['Alpha Hi Tech Fuel Limited'],\n",
              " ['Nissan Copper Ltd'],\n",
              " [],\n",
              " ['Rishab Financial Services Ltd', 'Madan Financial Services Ltd'],\n",
              " ['TCW Galileo Funds'],\n",
              " ['Gujarat Ambuja'],\n",
              " ['Shelter Vyapar'],\n",
              " ['JM Morgan Stanley Pvt. Ltd'],\n",
              " ['Scope Vyapar'],\n",
              " [],\n",
              " ['Nissan Copper Ltd'],\n",
              " ['Shree Yaxx Pharma', 'Cosmetics Limited'],\n",
              " ['Mithani Securities Private Limited'],\n",
              " ['Arihant Capital Markets Ltd'],\n",
              " ['Jagruti Securities Limited', 'JIK Industries Limited'],\n",
              " ['Oasis Media'],\n",
              " ['DCM Financial Services Limited'],\n",
              " ['Srijan Vyapar Private Limited'],\n",
              " ['Alpha Hi Tech Fuel Limited'],\n",
              " ['Ahilya Commercial Private Limited', 'Sarang Viniyog Limited'],\n",
              " ['Radiant Financial Services Ltd'],\n",
              " ['Nissan Copper Ltd'],\n",
              " ['Nissan Copper Ltd'],\n",
              " ['TLB Securities Pvt  Ltd'],\n",
              " ['Oasis Media'],\n",
              " ['Sarash Trading Private Limited'],\n",
              " ['S.K.Khemka', 'Brels Infotech Limited'],\n",
              " ['T.G', 'Brilliant Securities Ltd'],\n",
              " ['Karuna Cables', 'Sanchay Fincom Ltd'],\n",
              " ['Coromadal Fertilizers Ltd'],\n",
              " ['Radiant Financial Services Ltd'],\n",
              " ['Kankeshwari Securities', 'Shukun Construction Ltd'],\n",
              " ['Deepraj Vinimay Private Limited'],\n",
              " ['Karuna Cables', 'Jain Securities Pvt. Ltd.'],\n",
              " ['Prudential ICICI'],\n",
              " ['Clock Sign Trading Co. Pvt. Ltd', 'Global Capital Markets Ltd'],\n",
              " ['Matra Realty Limited'],\n",
              " [],\n",
              " ['Rishabh Stock Broking Services Pvt'],\n",
              " ['Nissan Copper Limited'],\n",
              " ['OC Oerlikon Corporation AG', 'Pfaffikon'],\n",
              " ['Swarnganga Trading Private Limited'],\n",
              " [],\n",
              " ['Eupharma Laboratories'],\n",
              " ['Sun TV  Network Limited'],\n",
              " ['Bonanza Stock Brokers Ltd'],\n",
              " ['Nissan Copper Ltd'],\n",
              " ['Ahilya Commercial Pvt. Ltd', 'Brahmanand Himghar Ltd'],\n",
              " ['Celica Developers'],\n",
              " ['Prakash Nahata and  Co.', 'Cyber Family'],\n",
              " ['Nissan Copper Ltd'],\n",
              " ['Triumph International Finance India Ltd', 'Adani Exports Ltd'],\n",
              " ['Opal Industries Limited'],\n",
              " ['Enrich Industries Ltd'],\n",
              " ['Dimensional Securities Pvt'],\n",
              " ['Blue Information Technology'],\n",
              " ['Gama Commerce Pvt. Ltd', 'Amluckie Investment Company Limited.'],\n",
              " ['Minolta Finance Ltd'],\n",
              " [],\n",
              " ['Vatsa Music Ltd'],\n",
              " ['Satya Securities Ltd.', 'Basant Marketing pvt. Ltd', 'Granules India'],\n",
              " ['Amrut Securities Ltd', 'Axel Polymers Ltd'],\n",
              " ['Indiabulls Securities Limited'],\n",
              " ['Nissan Copper Ltd'],\n",
              " ['Anushree Tradelink  Private Limited'],\n",
              " ['Oasis Media'],\n",
              " ['Swarnganga Trading Private Limited'],\n",
              " ['Lumax Ind. Ltd', 'Crew BOS Ind. Ltd'],\n",
              " ['Brilliant Securities Ltd'],\n",
              " ['Coromadal Fertilizers Ltd'],\n",
              " ['Jitendra Harjivandas Securities Pvt. Ltd', 'Shukun Construction Ltd'],\n",
              " [],\n",
              " ['Hindustan Tea & Trading Co. Ltd', 'Orion Paper and Industries Ltd'],\n",
              " ['Matra Realty Limited'],\n",
              " ['Matra Realty Limited'],\n",
              " ['Cyber Family'],\n",
              " ['VSE Stock Services']]"
            ]
          },
          "metadata": {},
          "execution_count": 19
        }
      ]
    },
    {
      "cell_type": "code",
      "source": [
        "for i in empty_indexes:\n",
        "  companies[i]=flair_per(df[\"pdf_filename\"][i])"
      ],
      "metadata": {
        "colab": {
          "base_uri": "https://localhost:8080/"
        },
        "id": "thH8lGVKd2ho",
        "outputId": "d3bbc242-e23f-46c1-dd55-890cda9f9136"
      },
      "execution_count": 20,
      "outputs": [
        {
          "output_type": "stream",
          "name": "stdout",
          "text": [
            "2025-08-02 18:51:18,746 SequenceTagger predicts: Dictionary with 20 tags: <unk>, O, S-ORG, S-MISC, B-PER, E-PER, S-LOC, B-ORG, E-ORG, I-PER, S-PER, B-MISC, I-MISC, E-MISC, I-ORG, B-LOC, E-LOC, I-LOC, <START>, <STOP>\n",
            "2025-08-02 18:51:21,977 SequenceTagger predicts: Dictionary with 20 tags: <unk>, O, S-ORG, S-MISC, B-PER, E-PER, S-LOC, B-ORG, E-ORG, I-PER, S-PER, B-MISC, I-MISC, E-MISC, I-ORG, B-LOC, E-LOC, I-LOC, <START>, <STOP>\n",
            "2025-08-02 18:51:25,526 SequenceTagger predicts: Dictionary with 20 tags: <unk>, O, S-ORG, S-MISC, B-PER, E-PER, S-LOC, B-ORG, E-ORG, I-PER, S-PER, B-MISC, I-MISC, E-MISC, I-ORG, B-LOC, E-LOC, I-LOC, <START>, <STOP>\n",
            "2025-08-02 18:51:28,973 SequenceTagger predicts: Dictionary with 20 tags: <unk>, O, S-ORG, S-MISC, B-PER, E-PER, S-LOC, B-ORG, E-ORG, I-PER, S-PER, B-MISC, I-MISC, E-MISC, I-ORG, B-LOC, E-LOC, I-LOC, <START>, <STOP>\n",
            "2025-08-02 18:51:32,624 SequenceTagger predicts: Dictionary with 20 tags: <unk>, O, S-ORG, S-MISC, B-PER, E-PER, S-LOC, B-ORG, E-ORG, I-PER, S-PER, B-MISC, I-MISC, E-MISC, I-ORG, B-LOC, E-LOC, I-LOC, <START>, <STOP>\n",
            "2025-08-02 18:51:35,707 SequenceTagger predicts: Dictionary with 20 tags: <unk>, O, S-ORG, S-MISC, B-PER, E-PER, S-LOC, B-ORG, E-ORG, I-PER, S-PER, B-MISC, I-MISC, E-MISC, I-ORG, B-LOC, E-LOC, I-LOC, <START>, <STOP>\n",
            "2025-08-02 18:51:39,737 SequenceTagger predicts: Dictionary with 20 tags: <unk>, O, S-ORG, S-MISC, B-PER, E-PER, S-LOC, B-ORG, E-ORG, I-PER, S-PER, B-MISC, I-MISC, E-MISC, I-ORG, B-LOC, E-LOC, I-LOC, <START>, <STOP>\n",
            "2025-08-02 18:51:42,748 SequenceTagger predicts: Dictionary with 20 tags: <unk>, O, S-ORG, S-MISC, B-PER, E-PER, S-LOC, B-ORG, E-ORG, I-PER, S-PER, B-MISC, I-MISC, E-MISC, I-ORG, B-LOC, E-LOC, I-LOC, <START>, <STOP>\n",
            "2025-08-02 18:51:46,449 SequenceTagger predicts: Dictionary with 20 tags: <unk>, O, S-ORG, S-MISC, B-PER, E-PER, S-LOC, B-ORG, E-ORG, I-PER, S-PER, B-MISC, I-MISC, E-MISC, I-ORG, B-LOC, E-LOC, I-LOC, <START>, <STOP>\n",
            "2025-08-02 18:51:49,797 SequenceTagger predicts: Dictionary with 20 tags: <unk>, O, S-ORG, S-MISC, B-PER, E-PER, S-LOC, B-ORG, E-ORG, I-PER, S-PER, B-MISC, I-MISC, E-MISC, I-ORG, B-LOC, E-LOC, I-LOC, <START>, <STOP>\n",
            "2025-08-02 18:51:53,163 SequenceTagger predicts: Dictionary with 20 tags: <unk>, O, S-ORG, S-MISC, B-PER, E-PER, S-LOC, B-ORG, E-ORG, I-PER, S-PER, B-MISC, I-MISC, E-MISC, I-ORG, B-LOC, E-LOC, I-LOC, <START>, <STOP>\n",
            "2025-08-02 18:51:56,140 SequenceTagger predicts: Dictionary with 20 tags: <unk>, O, S-ORG, S-MISC, B-PER, E-PER, S-LOC, B-ORG, E-ORG, I-PER, S-PER, B-MISC, I-MISC, E-MISC, I-ORG, B-LOC, E-LOC, I-LOC, <START>, <STOP>\n",
            "2025-08-02 18:51:59,697 SequenceTagger predicts: Dictionary with 20 tags: <unk>, O, S-ORG, S-MISC, B-PER, E-PER, S-LOC, B-ORG, E-ORG, I-PER, S-PER, B-MISC, I-MISC, E-MISC, I-ORG, B-LOC, E-LOC, I-LOC, <START>, <STOP>\n",
            "2025-08-02 18:52:03,169 SequenceTagger predicts: Dictionary with 20 tags: <unk>, O, S-ORG, S-MISC, B-PER, E-PER, S-LOC, B-ORG, E-ORG, I-PER, S-PER, B-MISC, I-MISC, E-MISC, I-ORG, B-LOC, E-LOC, I-LOC, <START>, <STOP>\n",
            "2025-08-02 18:52:06,986 SequenceTagger predicts: Dictionary with 20 tags: <unk>, O, S-ORG, S-MISC, B-PER, E-PER, S-LOC, B-ORG, E-ORG, I-PER, S-PER, B-MISC, I-MISC, E-MISC, I-ORG, B-LOC, E-LOC, I-LOC, <START>, <STOP>\n",
            "2025-08-02 18:52:10,415 SequenceTagger predicts: Dictionary with 20 tags: <unk>, O, S-ORG, S-MISC, B-PER, E-PER, S-LOC, B-ORG, E-ORG, I-PER, S-PER, B-MISC, I-MISC, E-MISC, I-ORG, B-LOC, E-LOC, I-LOC, <START>, <STOP>\n",
            "2025-08-02 18:52:14,052 SequenceTagger predicts: Dictionary with 20 tags: <unk>, O, S-ORG, S-MISC, B-PER, E-PER, S-LOC, B-ORG, E-ORG, I-PER, S-PER, B-MISC, I-MISC, E-MISC, I-ORG, B-LOC, E-LOC, I-LOC, <START>, <STOP>\n",
            "2025-08-02 18:52:17,808 SequenceTagger predicts: Dictionary with 20 tags: <unk>, O, S-ORG, S-MISC, B-PER, E-PER, S-LOC, B-ORG, E-ORG, I-PER, S-PER, B-MISC, I-MISC, E-MISC, I-ORG, B-LOC, E-LOC, I-LOC, <START>, <STOP>\n",
            "2025-08-02 18:52:20,833 SequenceTagger predicts: Dictionary with 20 tags: <unk>, O, S-ORG, S-MISC, B-PER, E-PER, S-LOC, B-ORG, E-ORG, I-PER, S-PER, B-MISC, I-MISC, E-MISC, I-ORG, B-LOC, E-LOC, I-LOC, <START>, <STOP>\n",
            "2025-08-02 18:52:23,772 SequenceTagger predicts: Dictionary with 20 tags: <unk>, O, S-ORG, S-MISC, B-PER, E-PER, S-LOC, B-ORG, E-ORG, I-PER, S-PER, B-MISC, I-MISC, E-MISC, I-ORG, B-LOC, E-LOC, I-LOC, <START>, <STOP>\n",
            "2025-08-02 18:52:27,164 SequenceTagger predicts: Dictionary with 20 tags: <unk>, O, S-ORG, S-MISC, B-PER, E-PER, S-LOC, B-ORG, E-ORG, I-PER, S-PER, B-MISC, I-MISC, E-MISC, I-ORG, B-LOC, E-LOC, I-LOC, <START>, <STOP>\n",
            "2025-08-02 18:52:31,148 SequenceTagger predicts: Dictionary with 20 tags: <unk>, O, S-ORG, S-MISC, B-PER, E-PER, S-LOC, B-ORG, E-ORG, I-PER, S-PER, B-MISC, I-MISC, E-MISC, I-ORG, B-LOC, E-LOC, I-LOC, <START>, <STOP>\n",
            "2025-08-02 18:52:34,542 SequenceTagger predicts: Dictionary with 20 tags: <unk>, O, S-ORG, S-MISC, B-PER, E-PER, S-LOC, B-ORG, E-ORG, I-PER, S-PER, B-MISC, I-MISC, E-MISC, I-ORG, B-LOC, E-LOC, I-LOC, <START>, <STOP>\n",
            "2025-08-02 18:52:38,032 SequenceTagger predicts: Dictionary with 20 tags: <unk>, O, S-ORG, S-MISC, B-PER, E-PER, S-LOC, B-ORG, E-ORG, I-PER, S-PER, B-MISC, I-MISC, E-MISC, I-ORG, B-LOC, E-LOC, I-LOC, <START>, <STOP>\n",
            "2025-08-02 18:52:42,326 SequenceTagger predicts: Dictionary with 20 tags: <unk>, O, S-ORG, S-MISC, B-PER, E-PER, S-LOC, B-ORG, E-ORG, I-PER, S-PER, B-MISC, I-MISC, E-MISC, I-ORG, B-LOC, E-LOC, I-LOC, <START>, <STOP>\n"
          ]
        }
      ]
    },
    {
      "cell_type": "code",
      "source": [
        "companies"
      ],
      "metadata": {
        "colab": {
          "base_uri": "https://localhost:8080/"
        },
        "id": "0uCMKVMqeYBX",
        "outputId": "9eedde65-5862-4636-e5d3-4d3516fc2e88"
      },
      "execution_count": 21,
      "outputs": [
        {
          "output_type": "execute_result",
          "data": {
            "text/plain": [
              "[['MCS'],\n",
              " ['Karuna Cables Ltd'],\n",
              " ['Roopa S Shah'],\n",
              " ['Gowri Gopal Hospital Pvt. Ltd', 'Brilliant Securities Ltd'],\n",
              " ['DSP Merill Lynch Ltd'],\n",
              " ['Bimex Exports Private Limited'],\n",
              " ['Karuna Cables Ltd'],\n",
              " ['SSKI Corporate Finance Pvt. Ltd'],\n",
              " ['Atlanta Ltd'],\n",
              " ['Steel City Securities Ltd.'],\n",
              " ['Anushree Tradelink'],\n",
              " ['Capital Markets Limited', 'Hitech Gears', 'Munjal Showa Limited'],\n",
              " ['Karuna Cables Ltd'],\n",
              " ['Nissan Copper Ltd'],\n",
              " ['Jyotsenaben M Shah'],\n",
              " ['Atul Nibber'],\n",
              " ['Nissan Copper Ltd'],\n",
              " ['SBI Capital Markets Ltd.in'],\n",
              " ['Karuna Cables Ltd'],\n",
              " ['SBEC Sugar Limited'],\n",
              " ['Success Vyapar'],\n",
              " ['Shri Suresh Bharrat'],\n",
              " ['Srijan Vyapar Private Limited'],\n",
              " ['Dani Shares & Stocks Pvt'],\n",
              " ['Roopa S Shah'],\n",
              " ['SBEC Sugar Limited'],\n",
              " ['Usha Iron and Ferro Metals Corporation Ltd'],\n",
              " ['Wellworth Share & Stock Broking Ltd'],\n",
              " ['Adani Exports Limited'],\n",
              " ['Baij Krishna and  Co.', 'Toplight Commercial Limited'],\n",
              " ['Naman Securities and Finance Pvt. Ltd', 'Adani Exports Ltd'],\n",
              " ['Vision Technology India'],\n",
              " ['Sera Sera Production Ltd'],\n",
              " ['Karuna Cables', 'Galaxy Broking Ltd'],\n",
              " ['Nissan Copper Ltd'],\n",
              " ['Shri C.K'],\n",
              " ['TGV Projects and Investments Ltd', 'Brilliant Securities Ltd'],\n",
              " ['Rishab Financial Services Limited',\n",
              "  'Formerly Madan Financial Services Ltd'],\n",
              " ['Ahilya Commercial Pvt. Ltd', 'Minolta Finance Ltd'],\n",
              " ['Richfield Financial Services Ltd'],\n",
              " ['Shri Adolf Pinto', 'K Sera Sera Production Ltd'],\n",
              " ['Jagatdal Jute and Industries Ltd', 'Radiant Financial Services Ltd'],\n",
              " ['Mangalam Viniyog Pvt. Ltd', 'Radiant Financial Services Ltd'],\n",
              " ['FMS Securities Limited', 'Havells India'],\n",
              " ['Usha India'],\n",
              " ['Nissan Copper Ltd'],\n",
              " ['Troup International Ltd.', ', R..C. Kamani', 'Rajath Finance Limited'],\n",
              " ['Nissan Copper Ltd'],\n",
              " ['Kingfisher Overseas Pvt. Ltd', 'Blue Information Technology'],\n",
              " ['Roopshri Finvest Private Limited'],\n",
              " ['Nissan Copper Ltd'],\n",
              " ['BSR Finance and Construction Ltd'],\n",
              " ['Anil Nibber'],\n",
              " ['BSR Finance and Construction Ltd'],\n",
              " ['JIK Industries Limited'],\n",
              " ['Apnapan Vyapaar Pvt. Ltd', 'Patriot Trading Co'],\n",
              " [],\n",
              " ['Action Financial Services', 'Ltd', 'Shukun Construction Limited'],\n",
              " ['Premlata Ramesh Saraogi'],\n",
              " ['P. K. Agarwal and Co', 'Cyber Family'],\n",
              " ['Galaxy Broking Ltd', 'Sera Sera Productions Ltd'],\n",
              " ['Bhankesh Bhavsar'],\n",
              " ['Minolta Finance Ltd'],\n",
              " ['Nissan Copper Ltd'],\n",
              " ['Coromadal Fertilizers Ltd'],\n",
              " ['Sarang Viniyog Limited'],\n",
              " ['HB', 'Ltd'],\n",
              " ['Karuna Cables Ltd'],\n",
              " ['S Jhunjhunwala and  Co', 'Sarang Viniyog Limited'],\n",
              " ['Matra Realty Limited'],\n",
              " ['Oasis Media'],\n",
              " ['Jay Rapid Roller Ltd'],\n",
              " [],\n",
              " ['Shri Kenneth Pinto', 'K Sera Sera Production Ltd'],\n",
              " ['Nissan Copper Ltd'],\n",
              " ['Kashmir Chand'],\n",
              " ['Shri Jagadish Savaji', 'Matter of Shalibhadra Infosec Ltd'],\n",
              " ['Karuna Cables', 'Harikishan Hiralal'],\n",
              " ['Alka India Limited', 'Alka India'],\n",
              " ['Shri Dilip Pendse'],\n",
              " ['Nissan Copper Ltd'],\n",
              " ['Manhattan Fingrowth Limited'],\n",
              " ['Shri Parshwa Finance', 'Havells India'],\n",
              " ['JIK Industries Limited'],\n",
              " [],\n",
              " ['Karuna Cables', 'Penninsular Capital Market Ltd'],\n",
              " ['Enam Financial Consultants'],\n",
              " ['Matra Realty Limited',\n",
              "  'Yashraj Securities Limited',\n",
              "  'Matra Realty Limited'],\n",
              " ['Nissan Copper Ltd'],\n",
              " ['Brilliant Industries Ltd', 'Brilliant Securities Ltd'],\n",
              " ['Richfield Financial Services Ltd'],\n",
              " ['Steel City Securities Limited'],\n",
              " ['Right Finstock Limited', 'Innovision E-Commerce Limited'],\n",
              " ['Subh Stock Broking Private Limited', 'Sarang Viniyog Limited'],\n",
              " ['Basant Periwal & Co.', 'Minolta Finance Ltd'],\n",
              " ['Sanchay Fincom Limited', 'Adani Exports Ltd'],\n",
              " ['Mansukh Securities & Finance Ltd', 'Aarti Drugs Ltd.', 'Havells India Ltd'],\n",
              " ['Putal Kavar'],\n",
              " ['BSR Finance and Construction Ltd'],\n",
              " ['Rajrathan Financial Services Ltd'],\n",
              " ['Steel City Capital Services (P) Ltd', 'Recron Synthetics'],\n",
              " ['Mukesh Dokania & Co.', 'Minolta Finance Ltd'],\n",
              " ['Gujarat Ambuja'],\n",
              " ['Sarang Viniyog Limited', 'Sarang Viniyog Limited'],\n",
              " ['Sanchay Finvest Limited', 'Adani Exports Ltd'],\n",
              " ['Angel Capital'],\n",
              " ['Mega Corporation Limited'],\n",
              " ['Anil D Modi'],\n",
              " ['Angel Broking Ltd', 'Channel Guide India'],\n",
              " ['Karuna Cables Ltd'],\n",
              " ['Uniglobal Securities Pvt'],\n",
              " ['Uttam Financial Service Ltd', 'Manshukh Stock Brokers Ltd'],\n",
              " ['Oasis Media'],\n",
              " ['Nissan Copper Ltd'],\n",
              " ['Hem Kanak Mercantile Pvt. Ltd', 'Jindal Drilling and Industries Ltd'],\n",
              " ['Alpha Hi Tech Fuel Limited'],\n",
              " ['Nissan Copper Ltd'],\n",
              " ['Karuna Cables', 'Vijaykumar J. Thakkar'],\n",
              " ['Rishab Financial Services Ltd', 'Madan Financial Services Ltd'],\n",
              " ['TCW Galileo Funds'],\n",
              " ['Gujarat Ambuja'],\n",
              " ['Shelter Vyapar'],\n",
              " ['JM Morgan Stanley Pvt. Ltd'],\n",
              " ['Scope Vyapar'],\n",
              " ['Premlata Nathany'],\n",
              " ['Nissan Copper Ltd'],\n",
              " ['Shree Yaxx Pharma', 'Cosmetics Limited'],\n",
              " ['Mithani Securities Private Limited'],\n",
              " ['Arihant Capital Markets Ltd'],\n",
              " ['Jagruti Securities Limited', 'JIK Industries Limited'],\n",
              " ['Oasis Media'],\n",
              " ['DCM Financial Services Limited'],\n",
              " ['Srijan Vyapar Private Limited'],\n",
              " ['Alpha Hi Tech Fuel Limited'],\n",
              " ['Ahilya Commercial Private Limited', 'Sarang Viniyog Limited'],\n",
              " ['Radiant Financial Services Ltd'],\n",
              " ['Nissan Copper Ltd'],\n",
              " ['Nissan Copper Ltd'],\n",
              " ['TLB Securities Pvt  Ltd'],\n",
              " ['Oasis Media'],\n",
              " ['Sarash Trading Private Limited'],\n",
              " ['S.K.Khemka', 'Brels Infotech Limited'],\n",
              " ['T.G', 'Brilliant Securities Ltd'],\n",
              " ['Karuna Cables', 'Sanchay Fincom Ltd'],\n",
              " ['Coromadal Fertilizers Ltd'],\n",
              " ['Radiant Financial Services Ltd'],\n",
              " ['Kankeshwari Securities', 'Shukun Construction Ltd'],\n",
              " ['Deepraj Vinimay Private Limited'],\n",
              " ['Karuna Cables', 'Jain Securities Pvt. Ltd.'],\n",
              " ['Prudential ICICI'],\n",
              " ['Clock Sign Trading Co. Pvt. Ltd', 'Global Capital Markets Ltd'],\n",
              " ['Matra Realty Limited'],\n",
              " ['Shri. Vasant', 'C. Shah'],\n",
              " ['Rishabh Stock Broking Services Pvt'],\n",
              " ['Nissan Copper Limited'],\n",
              " ['OC Oerlikon Corporation AG', 'Pfaffikon'],\n",
              " ['Swarnganga Trading Private Limited'],\n",
              " [],\n",
              " ['Eupharma Laboratories'],\n",
              " ['Sun TV  Network Limited'],\n",
              " ['Bonanza Stock Brokers Ltd'],\n",
              " ['Nissan Copper Ltd'],\n",
              " ['Ahilya Commercial Pvt. Ltd', 'Brahmanand Himghar Ltd'],\n",
              " ['Celica Developers'],\n",
              " ['Prakash Nahata and  Co.', 'Cyber Family'],\n",
              " ['Nissan Copper Ltd'],\n",
              " ['Triumph International Finance India Ltd', 'Adani Exports Ltd'],\n",
              " ['Opal Industries Limited'],\n",
              " ['Enrich Industries Ltd'],\n",
              " ['Dimensional Securities Pvt'],\n",
              " ['Blue Information Technology'],\n",
              " ['Gama Commerce Pvt. Ltd', 'Amluckie Investment Company Limited.'],\n",
              " ['Minolta Finance Ltd'],\n",
              " ['Shri Ramkrishna Dudwawala'],\n",
              " ['Vatsa Music Ltd'],\n",
              " ['Satya Securities Ltd.', 'Basant Marketing pvt. Ltd', 'Granules India'],\n",
              " ['Amrut Securities Ltd', 'Axel Polymers Ltd'],\n",
              " ['Indiabulls Securities Limited'],\n",
              " ['Nissan Copper Ltd'],\n",
              " ['Anushree Tradelink  Private Limited'],\n",
              " ['Oasis Media'],\n",
              " ['Swarnganga Trading Private Limited'],\n",
              " ['Lumax Ind. Ltd', 'Crew BOS Ind. Ltd'],\n",
              " ['Brilliant Securities Ltd'],\n",
              " ['Coromadal Fertilizers Ltd'],\n",
              " ['Jitendra Harjivandas Securities Pvt. Ltd', 'Shukun Construction Ltd'],\n",
              " [],\n",
              " ['Hindustan Tea & Trading Co. Ltd', 'Orion Paper and Industries Ltd'],\n",
              " ['Matra Realty Limited'],\n",
              " ['Matra Realty Limited'],\n",
              " ['Cyber Family'],\n",
              " ['VSE Stock Services']]"
            ]
          },
          "metadata": {},
          "execution_count": 21
        }
      ]
    },
    {
      "cell_type": "code",
      "source": [
        "newempty_indexes = [i for i, inner in enumerate(companies) if len(inner) == 0]\n",
        "print(empty_indexes)"
      ],
      "metadata": {
        "colab": {
          "base_uri": "https://localhost:8080/"
        },
        "id": "zfFf2x92ihiD",
        "outputId": "cf4d27bf-e82f-4977-e2f4-726f838d1429"
      },
      "execution_count": 22,
      "outputs": [
        {
          "output_type": "stream",
          "name": "stdout",
          "text": [
            "[14, 15, 21, 24, 35, 40, 52, 56, 58, 61, 72, 73, 75, 76, 77, 79, 84, 97, 107, 117, 124, 152, 157, 173, 186]\n"
          ]
        }
      ]
    },
    {
      "cell_type": "code",
      "source": [
        "flair_per(df[\"pdf_filename\"][18])"
      ],
      "metadata": {
        "colab": {
          "base_uri": "https://localhost:8080/"
        },
        "id": "ZxcKoFfjisSl",
        "outputId": "e3beecf5-008c-4cfb-b0f8-d72ce773fa75"
      },
      "execution_count": 23,
      "outputs": [
        {
          "output_type": "stream",
          "name": "stdout",
          "text": [
            "2025-08-02 19:00:39,710 SequenceTagger predicts: Dictionary with 20 tags: <unk>, O, S-ORG, S-MISC, B-PER, E-PER, S-LOC, B-ORG, E-ORG, I-PER, S-PER, B-MISC, I-MISC, E-MISC, I-ORG, B-LOC, E-LOC, I-LOC, <START>, <STOP>\n"
          ]
        },
        {
          "output_type": "execute_result",
          "data": {
            "text/plain": [
              "['Murlidhar Raimalani', 'Karuna Cables Ltd']"
            ]
          },
          "metadata": {},
          "execution_count": 23
        }
      ]
    },
    {
      "cell_type": "code",
      "source": [
        "to_add=[]"
      ],
      "metadata": {
        "id": "ZJ_DjpRxi5m3"
      },
      "execution_count": 24,
      "outputs": []
    },
    {
      "cell_type": "code",
      "source": [
        "for i in empty_indexes:\n",
        "  to_add.append(flair_per(df[\"pdf_filename\"][i]))"
      ],
      "metadata": {
        "colab": {
          "base_uri": "https://localhost:8080/"
        },
        "id": "xLRdagdbi8Cv",
        "outputId": "d48d1ee0-2b21-4ab2-98c9-6ac83f9f125f"
      },
      "execution_count": 25,
      "outputs": [
        {
          "output_type": "stream",
          "name": "stdout",
          "text": [
            "2025-08-02 19:00:46,505 SequenceTagger predicts: Dictionary with 20 tags: <unk>, O, S-ORG, S-MISC, B-PER, E-PER, S-LOC, B-ORG, E-ORG, I-PER, S-PER, B-MISC, I-MISC, E-MISC, I-ORG, B-LOC, E-LOC, I-LOC, <START>, <STOP>\n",
            "2025-08-02 19:00:49,822 SequenceTagger predicts: Dictionary with 20 tags: <unk>, O, S-ORG, S-MISC, B-PER, E-PER, S-LOC, B-ORG, E-ORG, I-PER, S-PER, B-MISC, I-MISC, E-MISC, I-ORG, B-LOC, E-LOC, I-LOC, <START>, <STOP>\n",
            "2025-08-02 19:00:53,421 SequenceTagger predicts: Dictionary with 20 tags: <unk>, O, S-ORG, S-MISC, B-PER, E-PER, S-LOC, B-ORG, E-ORG, I-PER, S-PER, B-MISC, I-MISC, E-MISC, I-ORG, B-LOC, E-LOC, I-LOC, <START>, <STOP>\n",
            "2025-08-02 19:00:56,923 SequenceTagger predicts: Dictionary with 20 tags: <unk>, O, S-ORG, S-MISC, B-PER, E-PER, S-LOC, B-ORG, E-ORG, I-PER, S-PER, B-MISC, I-MISC, E-MISC, I-ORG, B-LOC, E-LOC, I-LOC, <START>, <STOP>\n",
            "2025-08-02 19:01:00,810 SequenceTagger predicts: Dictionary with 20 tags: <unk>, O, S-ORG, S-MISC, B-PER, E-PER, S-LOC, B-ORG, E-ORG, I-PER, S-PER, B-MISC, I-MISC, E-MISC, I-ORG, B-LOC, E-LOC, I-LOC, <START>, <STOP>\n",
            "2025-08-02 19:01:04,023 SequenceTagger predicts: Dictionary with 20 tags: <unk>, O, S-ORG, S-MISC, B-PER, E-PER, S-LOC, B-ORG, E-ORG, I-PER, S-PER, B-MISC, I-MISC, E-MISC, I-ORG, B-LOC, E-LOC, I-LOC, <START>, <STOP>\n",
            "2025-08-02 19:01:08,479 SequenceTagger predicts: Dictionary with 20 tags: <unk>, O, S-ORG, S-MISC, B-PER, E-PER, S-LOC, B-ORG, E-ORG, I-PER, S-PER, B-MISC, I-MISC, E-MISC, I-ORG, B-LOC, E-LOC, I-LOC, <START>, <STOP>\n",
            "2025-08-02 19:01:11,609 SequenceTagger predicts: Dictionary with 20 tags: <unk>, O, S-ORG, S-MISC, B-PER, E-PER, S-LOC, B-ORG, E-ORG, I-PER, S-PER, B-MISC, I-MISC, E-MISC, I-ORG, B-LOC, E-LOC, I-LOC, <START>, <STOP>\n",
            "2025-08-02 19:01:15,659 SequenceTagger predicts: Dictionary with 20 tags: <unk>, O, S-ORG, S-MISC, B-PER, E-PER, S-LOC, B-ORG, E-ORG, I-PER, S-PER, B-MISC, I-MISC, E-MISC, I-ORG, B-LOC, E-LOC, I-LOC, <START>, <STOP>\n",
            "2025-08-02 19:01:19,822 SequenceTagger predicts: Dictionary with 20 tags: <unk>, O, S-ORG, S-MISC, B-PER, E-PER, S-LOC, B-ORG, E-ORG, I-PER, S-PER, B-MISC, I-MISC, E-MISC, I-ORG, B-LOC, E-LOC, I-LOC, <START>, <STOP>\n",
            "2025-08-02 19:01:23,042 SequenceTagger predicts: Dictionary with 20 tags: <unk>, O, S-ORG, S-MISC, B-PER, E-PER, S-LOC, B-ORG, E-ORG, I-PER, S-PER, B-MISC, I-MISC, E-MISC, I-ORG, B-LOC, E-LOC, I-LOC, <START>, <STOP>\n",
            "2025-08-02 19:01:26,267 SequenceTagger predicts: Dictionary with 20 tags: <unk>, O, S-ORG, S-MISC, B-PER, E-PER, S-LOC, B-ORG, E-ORG, I-PER, S-PER, B-MISC, I-MISC, E-MISC, I-ORG, B-LOC, E-LOC, I-LOC, <START>, <STOP>\n",
            "2025-08-02 19:01:29,890 SequenceTagger predicts: Dictionary with 20 tags: <unk>, O, S-ORG, S-MISC, B-PER, E-PER, S-LOC, B-ORG, E-ORG, I-PER, S-PER, B-MISC, I-MISC, E-MISC, I-ORG, B-LOC, E-LOC, I-LOC, <START>, <STOP>\n",
            "2025-08-02 19:01:33,962 SequenceTagger predicts: Dictionary with 20 tags: <unk>, O, S-ORG, S-MISC, B-PER, E-PER, S-LOC, B-ORG, E-ORG, I-PER, S-PER, B-MISC, I-MISC, E-MISC, I-ORG, B-LOC, E-LOC, I-LOC, <START>, <STOP>\n",
            "2025-08-02 19:01:37,556 SequenceTagger predicts: Dictionary with 20 tags: <unk>, O, S-ORG, S-MISC, B-PER, E-PER, S-LOC, B-ORG, E-ORG, I-PER, S-PER, B-MISC, I-MISC, E-MISC, I-ORG, B-LOC, E-LOC, I-LOC, <START>, <STOP>\n",
            "2025-08-02 19:01:41,365 SequenceTagger predicts: Dictionary with 20 tags: <unk>, O, S-ORG, S-MISC, B-PER, E-PER, S-LOC, B-ORG, E-ORG, I-PER, S-PER, B-MISC, I-MISC, E-MISC, I-ORG, B-LOC, E-LOC, I-LOC, <START>, <STOP>\n",
            "2025-08-02 19:01:45,712 SequenceTagger predicts: Dictionary with 20 tags: <unk>, O, S-ORG, S-MISC, B-PER, E-PER, S-LOC, B-ORG, E-ORG, I-PER, S-PER, B-MISC, I-MISC, E-MISC, I-ORG, B-LOC, E-LOC, I-LOC, <START>, <STOP>\n",
            "2025-08-02 19:01:49,390 SequenceTagger predicts: Dictionary with 20 tags: <unk>, O, S-ORG, S-MISC, B-PER, E-PER, S-LOC, B-ORG, E-ORG, I-PER, S-PER, B-MISC, I-MISC, E-MISC, I-ORG, B-LOC, E-LOC, I-LOC, <START>, <STOP>\n",
            "2025-08-02 19:01:52,764 SequenceTagger predicts: Dictionary with 20 tags: <unk>, O, S-ORG, S-MISC, B-PER, E-PER, S-LOC, B-ORG, E-ORG, I-PER, S-PER, B-MISC, I-MISC, E-MISC, I-ORG, B-LOC, E-LOC, I-LOC, <START>, <STOP>\n",
            "2025-08-02 19:01:55,779 SequenceTagger predicts: Dictionary with 20 tags: <unk>, O, S-ORG, S-MISC, B-PER, E-PER, S-LOC, B-ORG, E-ORG, I-PER, S-PER, B-MISC, I-MISC, E-MISC, I-ORG, B-LOC, E-LOC, I-LOC, <START>, <STOP>\n",
            "2025-08-02 19:01:59,616 SequenceTagger predicts: Dictionary with 20 tags: <unk>, O, S-ORG, S-MISC, B-PER, E-PER, S-LOC, B-ORG, E-ORG, I-PER, S-PER, B-MISC, I-MISC, E-MISC, I-ORG, B-LOC, E-LOC, I-LOC, <START>, <STOP>\n",
            "2025-08-02 19:02:03,641 SequenceTagger predicts: Dictionary with 20 tags: <unk>, O, S-ORG, S-MISC, B-PER, E-PER, S-LOC, B-ORG, E-ORG, I-PER, S-PER, B-MISC, I-MISC, E-MISC, I-ORG, B-LOC, E-LOC, I-LOC, <START>, <STOP>\n",
            "2025-08-02 19:02:06,928 SequenceTagger predicts: Dictionary with 20 tags: <unk>, O, S-ORG, S-MISC, B-PER, E-PER, S-LOC, B-ORG, E-ORG, I-PER, S-PER, B-MISC, I-MISC, E-MISC, I-ORG, B-LOC, E-LOC, I-LOC, <START>, <STOP>\n",
            "2025-08-02 19:02:13,090 SequenceTagger predicts: Dictionary with 20 tags: <unk>, O, S-ORG, S-MISC, B-PER, E-PER, S-LOC, B-ORG, E-ORG, I-PER, S-PER, B-MISC, I-MISC, E-MISC, I-ORG, B-LOC, E-LOC, I-LOC, <START>, <STOP>\n",
            "2025-08-02 19:02:16,911 SequenceTagger predicts: Dictionary with 20 tags: <unk>, O, S-ORG, S-MISC, B-PER, E-PER, S-LOC, B-ORG, E-ORG, I-PER, S-PER, B-MISC, I-MISC, E-MISC, I-ORG, B-LOC, E-LOC, I-LOC, <START>, <STOP>\n"
          ]
        }
      ]
    },
    {
      "cell_type": "code",
      "source": [
        "to_add"
      ],
      "metadata": {
        "colab": {
          "base_uri": "https://localhost:8080/"
        },
        "id": "SoTtVVtLjhH-",
        "outputId": "6e240fa4-745b-4d30-a7be-af63c31d807f"
      },
      "execution_count": 26,
      "outputs": [
        {
          "output_type": "execute_result",
          "data": {
            "text/plain": [
              "[['Jyotsenaben M Shah'],\n",
              " ['Atul Nibber'],\n",
              " ['Shri Suresh Bharrat'],\n",
              " ['Roopa S Shah'],\n",
              " ['Shri C.K'],\n",
              " ['Shri Adolf Pinto', 'K Sera Sera Production Ltd'],\n",
              " ['Anil Nibber'],\n",
              " [],\n",
              " ['Premlata Ramesh Saraogi'],\n",
              " ['Bhankesh Bhavsar'],\n",
              " [],\n",
              " ['Shri Kenneth Pinto', 'K Sera Sera Production Ltd'],\n",
              " ['Kashmir Chand'],\n",
              " ['Shri Jagadish Savaji', 'Matter of Shalibhadra Infosec Ltd'],\n",
              " ['Karuna Cables', 'Harikishan Hiralal'],\n",
              " ['Shri Dilip Pendse'],\n",
              " [],\n",
              " ['Putal Kavar'],\n",
              " ['Anil D Modi'],\n",
              " ['Karuna Cables', 'Vijaykumar J. Thakkar'],\n",
              " ['Premlata Nathany'],\n",
              " ['Shri. Vasant', 'C. Shah'],\n",
              " [],\n",
              " ['Shri Ramkrishna Dudwawala'],\n",
              " []]"
            ]
          },
          "metadata": {},
          "execution_count": 26
        }
      ]
    },
    {
      "cell_type": "code",
      "source": [
        " # your list2 (same length or at least same indexes for empty ones)\n",
        "\n",
        "# Fill list1 wherever it's empty using corresponding list2 value\n",
        "for i in range(len(companies)):\n",
        "    if not companies[i] and i < len(to_add) and to_add[i]:  # check if list1 is empty and list2 has value\n",
        "        companies[i] = to_add[i]\n"
      ],
      "metadata": {
        "id": "c7LKrwHTj92s"
      },
      "execution_count": 27,
      "outputs": []
    },
    {
      "cell_type": "code",
      "source": [
        "df"
      ],
      "metadata": {
        "colab": {
          "base_uri": "https://localhost:8080/",
          "height": 927
        },
        "id": "3l5_rXL4kc5w",
        "outputId": "2b572eab-a4f6-4635-80e3-8d4411e459a6"
      },
      "execution_count": 28,
      "outputs": [
        {
          "output_type": "execute_result",
          "data": {
            "text/plain": [
              "                                          pdf_filename  \\\n",
              "0      Adjudication Order in the matter of MCS Ltd.pdf   \n",
              "1    Adjudication Order passed against Ms. Neelam R...   \n",
              "2    Adjudication order in respect of Canfin Homes ...   \n",
              "3    Adjudication order in respect of Gowri Gopal H...   \n",
              "4    Adjudication order in the matter of DSP Merill...   \n",
              "..                                                 ...   \n",
              "187  Adjudication Order in respect of Hindustan Tea...   \n",
              "188  Adjudication Order in respect of Emmanuel Anth...   \n",
              "189  Adjudication Order in respect of Nimish Kantil...   \n",
              "190  Adjudication Order in respect of Pramod Kumar ...   \n",
              "191   Adjudication order of VSE Stock Services Ltd.pdf   \n",
              "\n",
              "                                          company_name  \\\n",
              "0                                       BOARD OF INDIA   \n",
              "1                                                  PAN   \n",
              "2    THE ADJUDICATING OFFICER \\n \\nSECURITIES AND E...   \n",
              "3                                              OFFICER   \n",
              "4                                                  DSP   \n",
              "..                                                 ...   \n",
              "187                                            OFFICER   \n",
              "188                                            OFFICER   \n",
              "189                                            OFFICER   \n",
              "190                                            OFFICER   \n",
              "191                            VSE Stock Services Ltd.   \n",
              "\n",
              "                        pan   cin  \\\n",
              "0    AAACM8027G, AAACM8027G  None   \n",
              "1                      None  None   \n",
              "2                AAACC7241A  None   \n",
              "3                AACCS9035O  None   \n",
              "4                AAACD0535G  None   \n",
              "..                      ...   ...   \n",
              "187                    None  None   \n",
              "188              AJBPA3595N  None   \n",
              "189              AAAPU2220N  None   \n",
              "190                    None  None   \n",
              "191              AABCV4258K  None   \n",
              "\n",
              "                                               address sentiment_heuristic  \\\n",
              "0    10.1 A copy of a letter dated June 12, 2007 fr...            Negative   \n",
              "1                                                 None             Neutral   \n",
              "2    of the company are listed, the names and addre...             Neutral   \n",
              "3                                                 None            Negative   \n",
              "4    email address is a ‘group email address’ which...            Negative   \n",
              "..                                                 ...                 ...   \n",
              "187  the person available at the address refused to...            Negative   \n",
              "188                                               None            Negative   \n",
              "189                                               None            Negative   \n",
              "190                                               None            Negative   \n",
              "191  address for each of its clients and the notice...             Neutral   \n",
              "\n",
              "    sentiment_spacy                                            context  \n",
              "0          Negative   \\n1\\nBEFORE THE ADJUDICATING OFFICER \\nSECURI...  \n",
              "1           Neutral  1995 \\nAgainst \\n                             ...  \n",
              "2           Neutral                                               None  \n",
              "3          Negative  Page 1 of 15 \\nBEFORE THE ADJUDICATING OFFICER...  \n",
              "4          Positive  Page 1 of 8 \\nBEFORE THE ADJUDICATING OFFICER ...  \n",
              "..              ...                                                ...  \n",
              "187         Neutral  Page 1 of 3 \\nBEFORE THE ADJUDICATING OFFICER ...  \n",
              "188        Negative  Page 1 of 14 \\nBEFORE THE ADJUDICATING OFFICER...  \n",
              "189        Negative  Page 1 of 15 \\nBEFORE THE ADJUDICATING OFFICER...  \n",
              "190        Negative  Page 1 of 17 \\nBEFORE THE ADJUDICATING OFFICER...  \n",
              "191         Neutral   \\nAdjudication Order in respect of VSE Stock ...  \n",
              "\n",
              "[192 rows x 8 columns]"
            ],
            "text/html": [
              "\n",
              "  <div id=\"df-ed2982c3-56a2-4d55-b555-f599fa6bcc43\" class=\"colab-df-container\">\n",
              "    <div>\n",
              "<style scoped>\n",
              "    .dataframe tbody tr th:only-of-type {\n",
              "        vertical-align: middle;\n",
              "    }\n",
              "\n",
              "    .dataframe tbody tr th {\n",
              "        vertical-align: top;\n",
              "    }\n",
              "\n",
              "    .dataframe thead th {\n",
              "        text-align: right;\n",
              "    }\n",
              "</style>\n",
              "<table border=\"1\" class=\"dataframe\">\n",
              "  <thead>\n",
              "    <tr style=\"text-align: right;\">\n",
              "      <th></th>\n",
              "      <th>pdf_filename</th>\n",
              "      <th>company_name</th>\n",
              "      <th>pan</th>\n",
              "      <th>cin</th>\n",
              "      <th>address</th>\n",
              "      <th>sentiment_heuristic</th>\n",
              "      <th>sentiment_spacy</th>\n",
              "      <th>context</th>\n",
              "    </tr>\n",
              "  </thead>\n",
              "  <tbody>\n",
              "    <tr>\n",
              "      <th>0</th>\n",
              "      <td>Adjudication Order in the matter of MCS Ltd.pdf</td>\n",
              "      <td>BOARD OF INDIA</td>\n",
              "      <td>AAACM8027G, AAACM8027G</td>\n",
              "      <td>None</td>\n",
              "      <td>10.1 A copy of a letter dated June 12, 2007 fr...</td>\n",
              "      <td>Negative</td>\n",
              "      <td>Negative</td>\n",
              "      <td>\\n1\\nBEFORE THE ADJUDICATING OFFICER \\nSECURI...</td>\n",
              "    </tr>\n",
              "    <tr>\n",
              "      <th>1</th>\n",
              "      <td>Adjudication Order passed against Ms. Neelam R...</td>\n",
              "      <td>PAN</td>\n",
              "      <td>None</td>\n",
              "      <td>None</td>\n",
              "      <td>None</td>\n",
              "      <td>Neutral</td>\n",
              "      <td>Neutral</td>\n",
              "      <td>1995 \\nAgainst \\n                             ...</td>\n",
              "    </tr>\n",
              "    <tr>\n",
              "      <th>2</th>\n",
              "      <td>Adjudication order in respect of Canfin Homes ...</td>\n",
              "      <td>THE ADJUDICATING OFFICER \\n \\nSECURITIES AND E...</td>\n",
              "      <td>AAACC7241A</td>\n",
              "      <td>None</td>\n",
              "      <td>of the company are listed, the names and addre...</td>\n",
              "      <td>Neutral</td>\n",
              "      <td>Neutral</td>\n",
              "      <td>None</td>\n",
              "    </tr>\n",
              "    <tr>\n",
              "      <th>3</th>\n",
              "      <td>Adjudication order in respect of Gowri Gopal H...</td>\n",
              "      <td>OFFICER</td>\n",
              "      <td>AACCS9035O</td>\n",
              "      <td>None</td>\n",
              "      <td>None</td>\n",
              "      <td>Negative</td>\n",
              "      <td>Negative</td>\n",
              "      <td>Page 1 of 15 \\nBEFORE THE ADJUDICATING OFFICER...</td>\n",
              "    </tr>\n",
              "    <tr>\n",
              "      <th>4</th>\n",
              "      <td>Adjudication order in the matter of DSP Merill...</td>\n",
              "      <td>DSP</td>\n",
              "      <td>AAACD0535G</td>\n",
              "      <td>None</td>\n",
              "      <td>email address is a ‘group email address’ which...</td>\n",
              "      <td>Negative</td>\n",
              "      <td>Positive</td>\n",
              "      <td>Page 1 of 8 \\nBEFORE THE ADJUDICATING OFFICER ...</td>\n",
              "    </tr>\n",
              "    <tr>\n",
              "      <th>...</th>\n",
              "      <td>...</td>\n",
              "      <td>...</td>\n",
              "      <td>...</td>\n",
              "      <td>...</td>\n",
              "      <td>...</td>\n",
              "      <td>...</td>\n",
              "      <td>...</td>\n",
              "      <td>...</td>\n",
              "    </tr>\n",
              "    <tr>\n",
              "      <th>187</th>\n",
              "      <td>Adjudication Order in respect of Hindustan Tea...</td>\n",
              "      <td>OFFICER</td>\n",
              "      <td>None</td>\n",
              "      <td>None</td>\n",
              "      <td>the person available at the address refused to...</td>\n",
              "      <td>Negative</td>\n",
              "      <td>Neutral</td>\n",
              "      <td>Page 1 of 3 \\nBEFORE THE ADJUDICATING OFFICER ...</td>\n",
              "    </tr>\n",
              "    <tr>\n",
              "      <th>188</th>\n",
              "      <td>Adjudication Order in respect of Emmanuel Anth...</td>\n",
              "      <td>OFFICER</td>\n",
              "      <td>AJBPA3595N</td>\n",
              "      <td>None</td>\n",
              "      <td>None</td>\n",
              "      <td>Negative</td>\n",
              "      <td>Negative</td>\n",
              "      <td>Page 1 of 14 \\nBEFORE THE ADJUDICATING OFFICER...</td>\n",
              "    </tr>\n",
              "    <tr>\n",
              "      <th>189</th>\n",
              "      <td>Adjudication Order in respect of Nimish Kantil...</td>\n",
              "      <td>OFFICER</td>\n",
              "      <td>AAAPU2220N</td>\n",
              "      <td>None</td>\n",
              "      <td>None</td>\n",
              "      <td>Negative</td>\n",
              "      <td>Negative</td>\n",
              "      <td>Page 1 of 15 \\nBEFORE THE ADJUDICATING OFFICER...</td>\n",
              "    </tr>\n",
              "    <tr>\n",
              "      <th>190</th>\n",
              "      <td>Adjudication Order in respect of Pramod Kumar ...</td>\n",
              "      <td>OFFICER</td>\n",
              "      <td>None</td>\n",
              "      <td>None</td>\n",
              "      <td>None</td>\n",
              "      <td>Negative</td>\n",
              "      <td>Negative</td>\n",
              "      <td>Page 1 of 17 \\nBEFORE THE ADJUDICATING OFFICER...</td>\n",
              "    </tr>\n",
              "    <tr>\n",
              "      <th>191</th>\n",
              "      <td>Adjudication order of VSE Stock Services Ltd.pdf</td>\n",
              "      <td>VSE Stock Services Ltd.</td>\n",
              "      <td>AABCV4258K</td>\n",
              "      <td>None</td>\n",
              "      <td>address for each of its clients and the notice...</td>\n",
              "      <td>Neutral</td>\n",
              "      <td>Neutral</td>\n",
              "      <td>\\nAdjudication Order in respect of VSE Stock ...</td>\n",
              "    </tr>\n",
              "  </tbody>\n",
              "</table>\n",
              "<p>192 rows × 8 columns</p>\n",
              "</div>\n",
              "    <div class=\"colab-df-buttons\">\n",
              "\n",
              "  <div class=\"colab-df-container\">\n",
              "    <button class=\"colab-df-convert\" onclick=\"convertToInteractive('df-ed2982c3-56a2-4d55-b555-f599fa6bcc43')\"\n",
              "            title=\"Convert this dataframe to an interactive table.\"\n",
              "            style=\"display:none;\">\n",
              "\n",
              "  <svg xmlns=\"http://www.w3.org/2000/svg\" height=\"24px\" viewBox=\"0 -960 960 960\">\n",
              "    <path d=\"M120-120v-720h720v720H120Zm60-500h600v-160H180v160Zm220 220h160v-160H400v160Zm0 220h160v-160H400v160ZM180-400h160v-160H180v160Zm440 0h160v-160H620v160ZM180-180h160v-160H180v160Zm440 0h160v-160H620v160Z\"/>\n",
              "  </svg>\n",
              "    </button>\n",
              "\n",
              "  <style>\n",
              "    .colab-df-container {\n",
              "      display:flex;\n",
              "      gap: 12px;\n",
              "    }\n",
              "\n",
              "    .colab-df-convert {\n",
              "      background-color: #E8F0FE;\n",
              "      border: none;\n",
              "      border-radius: 50%;\n",
              "      cursor: pointer;\n",
              "      display: none;\n",
              "      fill: #1967D2;\n",
              "      height: 32px;\n",
              "      padding: 0 0 0 0;\n",
              "      width: 32px;\n",
              "    }\n",
              "\n",
              "    .colab-df-convert:hover {\n",
              "      background-color: #E2EBFA;\n",
              "      box-shadow: 0px 1px 2px rgba(60, 64, 67, 0.3), 0px 1px 3px 1px rgba(60, 64, 67, 0.15);\n",
              "      fill: #174EA6;\n",
              "    }\n",
              "\n",
              "    .colab-df-buttons div {\n",
              "      margin-bottom: 4px;\n",
              "    }\n",
              "\n",
              "    [theme=dark] .colab-df-convert {\n",
              "      background-color: #3B4455;\n",
              "      fill: #D2E3FC;\n",
              "    }\n",
              "\n",
              "    [theme=dark] .colab-df-convert:hover {\n",
              "      background-color: #434B5C;\n",
              "      box-shadow: 0px 1px 3px 1px rgba(0, 0, 0, 0.15);\n",
              "      filter: drop-shadow(0px 1px 2px rgba(0, 0, 0, 0.3));\n",
              "      fill: #FFFFFF;\n",
              "    }\n",
              "  </style>\n",
              "\n",
              "    <script>\n",
              "      const buttonEl =\n",
              "        document.querySelector('#df-ed2982c3-56a2-4d55-b555-f599fa6bcc43 button.colab-df-convert');\n",
              "      buttonEl.style.display =\n",
              "        google.colab.kernel.accessAllowed ? 'block' : 'none';\n",
              "\n",
              "      async function convertToInteractive(key) {\n",
              "        const element = document.querySelector('#df-ed2982c3-56a2-4d55-b555-f599fa6bcc43');\n",
              "        const dataTable =\n",
              "          await google.colab.kernel.invokeFunction('convertToInteractive',\n",
              "                                                    [key], {});\n",
              "        if (!dataTable) return;\n",
              "\n",
              "        const docLinkHtml = 'Like what you see? Visit the ' +\n",
              "          '<a target=\"_blank\" href=https://colab.research.google.com/notebooks/data_table.ipynb>data table notebook</a>'\n",
              "          + ' to learn more about interactive tables.';\n",
              "        element.innerHTML = '';\n",
              "        dataTable['output_type'] = 'display_data';\n",
              "        await google.colab.output.renderOutput(dataTable, element);\n",
              "        const docLink = document.createElement('div');\n",
              "        docLink.innerHTML = docLinkHtml;\n",
              "        element.appendChild(docLink);\n",
              "      }\n",
              "    </script>\n",
              "  </div>\n",
              "\n",
              "\n",
              "    <div id=\"df-96387d7c-5b7c-476f-aac8-4ded86bf0c5f\">\n",
              "      <button class=\"colab-df-quickchart\" onclick=\"quickchart('df-96387d7c-5b7c-476f-aac8-4ded86bf0c5f')\"\n",
              "                title=\"Suggest charts\"\n",
              "                style=\"display:none;\">\n",
              "\n",
              "<svg xmlns=\"http://www.w3.org/2000/svg\" height=\"24px\"viewBox=\"0 0 24 24\"\n",
              "     width=\"24px\">\n",
              "    <g>\n",
              "        <path d=\"M19 3H5c-1.1 0-2 .9-2 2v14c0 1.1.9 2 2 2h14c1.1 0 2-.9 2-2V5c0-1.1-.9-2-2-2zM9 17H7v-7h2v7zm4 0h-2V7h2v10zm4 0h-2v-4h2v4z\"/>\n",
              "    </g>\n",
              "</svg>\n",
              "      </button>\n",
              "\n",
              "<style>\n",
              "  .colab-df-quickchart {\n",
              "      --bg-color: #E8F0FE;\n",
              "      --fill-color: #1967D2;\n",
              "      --hover-bg-color: #E2EBFA;\n",
              "      --hover-fill-color: #174EA6;\n",
              "      --disabled-fill-color: #AAA;\n",
              "      --disabled-bg-color: #DDD;\n",
              "  }\n",
              "\n",
              "  [theme=dark] .colab-df-quickchart {\n",
              "      --bg-color: #3B4455;\n",
              "      --fill-color: #D2E3FC;\n",
              "      --hover-bg-color: #434B5C;\n",
              "      --hover-fill-color: #FFFFFF;\n",
              "      --disabled-bg-color: #3B4455;\n",
              "      --disabled-fill-color: #666;\n",
              "  }\n",
              "\n",
              "  .colab-df-quickchart {\n",
              "    background-color: var(--bg-color);\n",
              "    border: none;\n",
              "    border-radius: 50%;\n",
              "    cursor: pointer;\n",
              "    display: none;\n",
              "    fill: var(--fill-color);\n",
              "    height: 32px;\n",
              "    padding: 0;\n",
              "    width: 32px;\n",
              "  }\n",
              "\n",
              "  .colab-df-quickchart:hover {\n",
              "    background-color: var(--hover-bg-color);\n",
              "    box-shadow: 0 1px 2px rgba(60, 64, 67, 0.3), 0 1px 3px 1px rgba(60, 64, 67, 0.15);\n",
              "    fill: var(--button-hover-fill-color);\n",
              "  }\n",
              "\n",
              "  .colab-df-quickchart-complete:disabled,\n",
              "  .colab-df-quickchart-complete:disabled:hover {\n",
              "    background-color: var(--disabled-bg-color);\n",
              "    fill: var(--disabled-fill-color);\n",
              "    box-shadow: none;\n",
              "  }\n",
              "\n",
              "  .colab-df-spinner {\n",
              "    border: 2px solid var(--fill-color);\n",
              "    border-color: transparent;\n",
              "    border-bottom-color: var(--fill-color);\n",
              "    animation:\n",
              "      spin 1s steps(1) infinite;\n",
              "  }\n",
              "\n",
              "  @keyframes spin {\n",
              "    0% {\n",
              "      border-color: transparent;\n",
              "      border-bottom-color: var(--fill-color);\n",
              "      border-left-color: var(--fill-color);\n",
              "    }\n",
              "    20% {\n",
              "      border-color: transparent;\n",
              "      border-left-color: var(--fill-color);\n",
              "      border-top-color: var(--fill-color);\n",
              "    }\n",
              "    30% {\n",
              "      border-color: transparent;\n",
              "      border-left-color: var(--fill-color);\n",
              "      border-top-color: var(--fill-color);\n",
              "      border-right-color: var(--fill-color);\n",
              "    }\n",
              "    40% {\n",
              "      border-color: transparent;\n",
              "      border-right-color: var(--fill-color);\n",
              "      border-top-color: var(--fill-color);\n",
              "    }\n",
              "    60% {\n",
              "      border-color: transparent;\n",
              "      border-right-color: var(--fill-color);\n",
              "    }\n",
              "    80% {\n",
              "      border-color: transparent;\n",
              "      border-right-color: var(--fill-color);\n",
              "      border-bottom-color: var(--fill-color);\n",
              "    }\n",
              "    90% {\n",
              "      border-color: transparent;\n",
              "      border-bottom-color: var(--fill-color);\n",
              "    }\n",
              "  }\n",
              "</style>\n",
              "\n",
              "      <script>\n",
              "        async function quickchart(key) {\n",
              "          const quickchartButtonEl =\n",
              "            document.querySelector('#' + key + ' button');\n",
              "          quickchartButtonEl.disabled = true;  // To prevent multiple clicks.\n",
              "          quickchartButtonEl.classList.add('colab-df-spinner');\n",
              "          try {\n",
              "            const charts = await google.colab.kernel.invokeFunction(\n",
              "                'suggestCharts', [key], {});\n",
              "          } catch (error) {\n",
              "            console.error('Error during call to suggestCharts:', error);\n",
              "          }\n",
              "          quickchartButtonEl.classList.remove('colab-df-spinner');\n",
              "          quickchartButtonEl.classList.add('colab-df-quickchart-complete');\n",
              "        }\n",
              "        (() => {\n",
              "          let quickchartButtonEl =\n",
              "            document.querySelector('#df-96387d7c-5b7c-476f-aac8-4ded86bf0c5f button');\n",
              "          quickchartButtonEl.style.display =\n",
              "            google.colab.kernel.accessAllowed ? 'block' : 'none';\n",
              "        })();\n",
              "      </script>\n",
              "    </div>\n",
              "\n",
              "  <div id=\"id_f37df861-bec9-4066-9766-5c46bc2b8f81\">\n",
              "    <style>\n",
              "      .colab-df-generate {\n",
              "        background-color: #E8F0FE;\n",
              "        border: none;\n",
              "        border-radius: 50%;\n",
              "        cursor: pointer;\n",
              "        display: none;\n",
              "        fill: #1967D2;\n",
              "        height: 32px;\n",
              "        padding: 0 0 0 0;\n",
              "        width: 32px;\n",
              "      }\n",
              "\n",
              "      .colab-df-generate:hover {\n",
              "        background-color: #E2EBFA;\n",
              "        box-shadow: 0px 1px 2px rgba(60, 64, 67, 0.3), 0px 1px 3px 1px rgba(60, 64, 67, 0.15);\n",
              "        fill: #174EA6;\n",
              "      }\n",
              "\n",
              "      [theme=dark] .colab-df-generate {\n",
              "        background-color: #3B4455;\n",
              "        fill: #D2E3FC;\n",
              "      }\n",
              "\n",
              "      [theme=dark] .colab-df-generate:hover {\n",
              "        background-color: #434B5C;\n",
              "        box-shadow: 0px 1px 3px 1px rgba(0, 0, 0, 0.15);\n",
              "        filter: drop-shadow(0px 1px 2px rgba(0, 0, 0, 0.3));\n",
              "        fill: #FFFFFF;\n",
              "      }\n",
              "    </style>\n",
              "    <button class=\"colab-df-generate\" onclick=\"generateWithVariable('df')\"\n",
              "            title=\"Generate code using this dataframe.\"\n",
              "            style=\"display:none;\">\n",
              "\n",
              "  <svg xmlns=\"http://www.w3.org/2000/svg\" height=\"24px\"viewBox=\"0 0 24 24\"\n",
              "       width=\"24px\">\n",
              "    <path d=\"M7,19H8.4L18.45,9,17,7.55,7,17.6ZM5,21V16.75L18.45,3.32a2,2,0,0,1,2.83,0l1.4,1.43a1.91,1.91,0,0,1,.58,1.4,1.91,1.91,0,0,1-.58,1.4L9.25,21ZM18.45,9,17,7.55Zm-12,3A5.31,5.31,0,0,0,4.9,8.1,5.31,5.31,0,0,0,1,6.5,5.31,5.31,0,0,0,4.9,4.9,5.31,5.31,0,0,0,6.5,1,5.31,5.31,0,0,0,8.1,4.9,5.31,5.31,0,0,0,12,6.5,5.46,5.46,0,0,0,6.5,12Z\"/>\n",
              "  </svg>\n",
              "    </button>\n",
              "    <script>\n",
              "      (() => {\n",
              "      const buttonEl =\n",
              "        document.querySelector('#id_f37df861-bec9-4066-9766-5c46bc2b8f81 button.colab-df-generate');\n",
              "      buttonEl.style.display =\n",
              "        google.colab.kernel.accessAllowed ? 'block' : 'none';\n",
              "\n",
              "      buttonEl.onclick = () => {\n",
              "        google.colab.notebook.generateWithVariable('df');\n",
              "      }\n",
              "      })();\n",
              "    </script>\n",
              "  </div>\n",
              "\n",
              "    </div>\n",
              "  </div>\n"
            ],
            "application/vnd.google.colaboratory.intrinsic+json": {
              "type": "dataframe",
              "variable_name": "df",
              "repr_error": "Out of range float values are not JSON compliant: nan"
            }
          },
          "metadata": {},
          "execution_count": 28
        }
      ]
    },
    {
      "cell_type": "code",
      "source": [
        "df.insert(loc=1,column=\"Entity_Names\", value=companies)"
      ],
      "metadata": {
        "id": "xr_BwUsckMet"
      },
      "execution_count": 29,
      "outputs": []
    },
    {
      "cell_type": "code",
      "source": [
        "df"
      ],
      "metadata": {
        "colab": {
          "base_uri": "https://localhost:8080/",
          "height": 1000
        },
        "id": "3i4OPqlEkjuB",
        "outputId": "123f5378-62e8-4bcb-fbf1-01de1360a2a9"
      },
      "execution_count": 30,
      "outputs": [
        {
          "output_type": "execute_result",
          "data": {
            "text/plain": [
              "                                          pdf_filename  \\\n",
              "0      Adjudication Order in the matter of MCS Ltd.pdf   \n",
              "1    Adjudication Order passed against Ms. Neelam R...   \n",
              "2    Adjudication order in respect of Canfin Homes ...   \n",
              "3    Adjudication order in respect of Gowri Gopal H...   \n",
              "4    Adjudication order in the matter of DSP Merill...   \n",
              "..                                                 ...   \n",
              "187  Adjudication Order in respect of Hindustan Tea...   \n",
              "188  Adjudication Order in respect of Emmanuel Anth...   \n",
              "189  Adjudication Order in respect of Nimish Kantil...   \n",
              "190  Adjudication Order in respect of Pramod Kumar ...   \n",
              "191   Adjudication order of VSE Stock Services Ltd.pdf   \n",
              "\n",
              "                                          Entity_Names  \\\n",
              "0                                                [MCS]   \n",
              "1                                  [Karuna Cables Ltd]   \n",
              "2                                       [Roopa S Shah]   \n",
              "3    [Gowri Gopal Hospital Pvt. Ltd, Brilliant Secu...   \n",
              "4                               [DSP Merill Lynch Ltd]   \n",
              "..                                                 ...   \n",
              "187  [Hindustan Tea & Trading Co. Ltd, Orion Paper ...   \n",
              "188                             [Matra Realty Limited]   \n",
              "189                             [Matra Realty Limited]   \n",
              "190                                     [Cyber Family]   \n",
              "191                               [VSE Stock Services]   \n",
              "\n",
              "                                          company_name  \\\n",
              "0                                       BOARD OF INDIA   \n",
              "1                                                  PAN   \n",
              "2    THE ADJUDICATING OFFICER \\n \\nSECURITIES AND E...   \n",
              "3                                              OFFICER   \n",
              "4                                                  DSP   \n",
              "..                                                 ...   \n",
              "187                                            OFFICER   \n",
              "188                                            OFFICER   \n",
              "189                                            OFFICER   \n",
              "190                                            OFFICER   \n",
              "191                            VSE Stock Services Ltd.   \n",
              "\n",
              "                        pan   cin  \\\n",
              "0    AAACM8027G, AAACM8027G  None   \n",
              "1                      None  None   \n",
              "2                AAACC7241A  None   \n",
              "3                AACCS9035O  None   \n",
              "4                AAACD0535G  None   \n",
              "..                      ...   ...   \n",
              "187                    None  None   \n",
              "188              AJBPA3595N  None   \n",
              "189              AAAPU2220N  None   \n",
              "190                    None  None   \n",
              "191              AABCV4258K  None   \n",
              "\n",
              "                                               address sentiment_heuristic  \\\n",
              "0    10.1 A copy of a letter dated June 12, 2007 fr...            Negative   \n",
              "1                                                 None             Neutral   \n",
              "2    of the company are listed, the names and addre...             Neutral   \n",
              "3                                                 None            Negative   \n",
              "4    email address is a ‘group email address’ which...            Negative   \n",
              "..                                                 ...                 ...   \n",
              "187  the person available at the address refused to...            Negative   \n",
              "188                                               None            Negative   \n",
              "189                                               None            Negative   \n",
              "190                                               None            Negative   \n",
              "191  address for each of its clients and the notice...             Neutral   \n",
              "\n",
              "    sentiment_spacy                                            context  \n",
              "0          Negative   \\n1\\nBEFORE THE ADJUDICATING OFFICER \\nSECURI...  \n",
              "1           Neutral  1995 \\nAgainst \\n                             ...  \n",
              "2           Neutral                                               None  \n",
              "3          Negative  Page 1 of 15 \\nBEFORE THE ADJUDICATING OFFICER...  \n",
              "4          Positive  Page 1 of 8 \\nBEFORE THE ADJUDICATING OFFICER ...  \n",
              "..              ...                                                ...  \n",
              "187         Neutral  Page 1 of 3 \\nBEFORE THE ADJUDICATING OFFICER ...  \n",
              "188        Negative  Page 1 of 14 \\nBEFORE THE ADJUDICATING OFFICER...  \n",
              "189        Negative  Page 1 of 15 \\nBEFORE THE ADJUDICATING OFFICER...  \n",
              "190        Negative  Page 1 of 17 \\nBEFORE THE ADJUDICATING OFFICER...  \n",
              "191         Neutral   \\nAdjudication Order in respect of VSE Stock ...  \n",
              "\n",
              "[192 rows x 9 columns]"
            ],
            "text/html": [
              "\n",
              "  <div id=\"df-2fc9665d-da7b-40fd-beb0-15b63f767956\" class=\"colab-df-container\">\n",
              "    <div>\n",
              "<style scoped>\n",
              "    .dataframe tbody tr th:only-of-type {\n",
              "        vertical-align: middle;\n",
              "    }\n",
              "\n",
              "    .dataframe tbody tr th {\n",
              "        vertical-align: top;\n",
              "    }\n",
              "\n",
              "    .dataframe thead th {\n",
              "        text-align: right;\n",
              "    }\n",
              "</style>\n",
              "<table border=\"1\" class=\"dataframe\">\n",
              "  <thead>\n",
              "    <tr style=\"text-align: right;\">\n",
              "      <th></th>\n",
              "      <th>pdf_filename</th>\n",
              "      <th>Entity_Names</th>\n",
              "      <th>company_name</th>\n",
              "      <th>pan</th>\n",
              "      <th>cin</th>\n",
              "      <th>address</th>\n",
              "      <th>sentiment_heuristic</th>\n",
              "      <th>sentiment_spacy</th>\n",
              "      <th>context</th>\n",
              "    </tr>\n",
              "  </thead>\n",
              "  <tbody>\n",
              "    <tr>\n",
              "      <th>0</th>\n",
              "      <td>Adjudication Order in the matter of MCS Ltd.pdf</td>\n",
              "      <td>[MCS]</td>\n",
              "      <td>BOARD OF INDIA</td>\n",
              "      <td>AAACM8027G, AAACM8027G</td>\n",
              "      <td>None</td>\n",
              "      <td>10.1 A copy of a letter dated June 12, 2007 fr...</td>\n",
              "      <td>Negative</td>\n",
              "      <td>Negative</td>\n",
              "      <td>\\n1\\nBEFORE THE ADJUDICATING OFFICER \\nSECURI...</td>\n",
              "    </tr>\n",
              "    <tr>\n",
              "      <th>1</th>\n",
              "      <td>Adjudication Order passed against Ms. Neelam R...</td>\n",
              "      <td>[Karuna Cables Ltd]</td>\n",
              "      <td>PAN</td>\n",
              "      <td>None</td>\n",
              "      <td>None</td>\n",
              "      <td>None</td>\n",
              "      <td>Neutral</td>\n",
              "      <td>Neutral</td>\n",
              "      <td>1995 \\nAgainst \\n                             ...</td>\n",
              "    </tr>\n",
              "    <tr>\n",
              "      <th>2</th>\n",
              "      <td>Adjudication order in respect of Canfin Homes ...</td>\n",
              "      <td>[Roopa S Shah]</td>\n",
              "      <td>THE ADJUDICATING OFFICER \\n \\nSECURITIES AND E...</td>\n",
              "      <td>AAACC7241A</td>\n",
              "      <td>None</td>\n",
              "      <td>of the company are listed, the names and addre...</td>\n",
              "      <td>Neutral</td>\n",
              "      <td>Neutral</td>\n",
              "      <td>None</td>\n",
              "    </tr>\n",
              "    <tr>\n",
              "      <th>3</th>\n",
              "      <td>Adjudication order in respect of Gowri Gopal H...</td>\n",
              "      <td>[Gowri Gopal Hospital Pvt. Ltd, Brilliant Secu...</td>\n",
              "      <td>OFFICER</td>\n",
              "      <td>AACCS9035O</td>\n",
              "      <td>None</td>\n",
              "      <td>None</td>\n",
              "      <td>Negative</td>\n",
              "      <td>Negative</td>\n",
              "      <td>Page 1 of 15 \\nBEFORE THE ADJUDICATING OFFICER...</td>\n",
              "    </tr>\n",
              "    <tr>\n",
              "      <th>4</th>\n",
              "      <td>Adjudication order in the matter of DSP Merill...</td>\n",
              "      <td>[DSP Merill Lynch Ltd]</td>\n",
              "      <td>DSP</td>\n",
              "      <td>AAACD0535G</td>\n",
              "      <td>None</td>\n",
              "      <td>email address is a ‘group email address’ which...</td>\n",
              "      <td>Negative</td>\n",
              "      <td>Positive</td>\n",
              "      <td>Page 1 of 8 \\nBEFORE THE ADJUDICATING OFFICER ...</td>\n",
              "    </tr>\n",
              "    <tr>\n",
              "      <th>...</th>\n",
              "      <td>...</td>\n",
              "      <td>...</td>\n",
              "      <td>...</td>\n",
              "      <td>...</td>\n",
              "      <td>...</td>\n",
              "      <td>...</td>\n",
              "      <td>...</td>\n",
              "      <td>...</td>\n",
              "      <td>...</td>\n",
              "    </tr>\n",
              "    <tr>\n",
              "      <th>187</th>\n",
              "      <td>Adjudication Order in respect of Hindustan Tea...</td>\n",
              "      <td>[Hindustan Tea &amp; Trading Co. Ltd, Orion Paper ...</td>\n",
              "      <td>OFFICER</td>\n",
              "      <td>None</td>\n",
              "      <td>None</td>\n",
              "      <td>the person available at the address refused to...</td>\n",
              "      <td>Negative</td>\n",
              "      <td>Neutral</td>\n",
              "      <td>Page 1 of 3 \\nBEFORE THE ADJUDICATING OFFICER ...</td>\n",
              "    </tr>\n",
              "    <tr>\n",
              "      <th>188</th>\n",
              "      <td>Adjudication Order in respect of Emmanuel Anth...</td>\n",
              "      <td>[Matra Realty Limited]</td>\n",
              "      <td>OFFICER</td>\n",
              "      <td>AJBPA3595N</td>\n",
              "      <td>None</td>\n",
              "      <td>None</td>\n",
              "      <td>Negative</td>\n",
              "      <td>Negative</td>\n",
              "      <td>Page 1 of 14 \\nBEFORE THE ADJUDICATING OFFICER...</td>\n",
              "    </tr>\n",
              "    <tr>\n",
              "      <th>189</th>\n",
              "      <td>Adjudication Order in respect of Nimish Kantil...</td>\n",
              "      <td>[Matra Realty Limited]</td>\n",
              "      <td>OFFICER</td>\n",
              "      <td>AAAPU2220N</td>\n",
              "      <td>None</td>\n",
              "      <td>None</td>\n",
              "      <td>Negative</td>\n",
              "      <td>Negative</td>\n",
              "      <td>Page 1 of 15 \\nBEFORE THE ADJUDICATING OFFICER...</td>\n",
              "    </tr>\n",
              "    <tr>\n",
              "      <th>190</th>\n",
              "      <td>Adjudication Order in respect of Pramod Kumar ...</td>\n",
              "      <td>[Cyber Family]</td>\n",
              "      <td>OFFICER</td>\n",
              "      <td>None</td>\n",
              "      <td>None</td>\n",
              "      <td>None</td>\n",
              "      <td>Negative</td>\n",
              "      <td>Negative</td>\n",
              "      <td>Page 1 of 17 \\nBEFORE THE ADJUDICATING OFFICER...</td>\n",
              "    </tr>\n",
              "    <tr>\n",
              "      <th>191</th>\n",
              "      <td>Adjudication order of VSE Stock Services Ltd.pdf</td>\n",
              "      <td>[VSE Stock Services]</td>\n",
              "      <td>VSE Stock Services Ltd.</td>\n",
              "      <td>AABCV4258K</td>\n",
              "      <td>None</td>\n",
              "      <td>address for each of its clients and the notice...</td>\n",
              "      <td>Neutral</td>\n",
              "      <td>Neutral</td>\n",
              "      <td>\\nAdjudication Order in respect of VSE Stock ...</td>\n",
              "    </tr>\n",
              "  </tbody>\n",
              "</table>\n",
              "<p>192 rows × 9 columns</p>\n",
              "</div>\n",
              "    <div class=\"colab-df-buttons\">\n",
              "\n",
              "  <div class=\"colab-df-container\">\n",
              "    <button class=\"colab-df-convert\" onclick=\"convertToInteractive('df-2fc9665d-da7b-40fd-beb0-15b63f767956')\"\n",
              "            title=\"Convert this dataframe to an interactive table.\"\n",
              "            style=\"display:none;\">\n",
              "\n",
              "  <svg xmlns=\"http://www.w3.org/2000/svg\" height=\"24px\" viewBox=\"0 -960 960 960\">\n",
              "    <path d=\"M120-120v-720h720v720H120Zm60-500h600v-160H180v160Zm220 220h160v-160H400v160Zm0 220h160v-160H400v160ZM180-400h160v-160H180v160Zm440 0h160v-160H620v160ZM180-180h160v-160H180v160Zm440 0h160v-160H620v160Z\"/>\n",
              "  </svg>\n",
              "    </button>\n",
              "\n",
              "  <style>\n",
              "    .colab-df-container {\n",
              "      display:flex;\n",
              "      gap: 12px;\n",
              "    }\n",
              "\n",
              "    .colab-df-convert {\n",
              "      background-color: #E8F0FE;\n",
              "      border: none;\n",
              "      border-radius: 50%;\n",
              "      cursor: pointer;\n",
              "      display: none;\n",
              "      fill: #1967D2;\n",
              "      height: 32px;\n",
              "      padding: 0 0 0 0;\n",
              "      width: 32px;\n",
              "    }\n",
              "\n",
              "    .colab-df-convert:hover {\n",
              "      background-color: #E2EBFA;\n",
              "      box-shadow: 0px 1px 2px rgba(60, 64, 67, 0.3), 0px 1px 3px 1px rgba(60, 64, 67, 0.15);\n",
              "      fill: #174EA6;\n",
              "    }\n",
              "\n",
              "    .colab-df-buttons div {\n",
              "      margin-bottom: 4px;\n",
              "    }\n",
              "\n",
              "    [theme=dark] .colab-df-convert {\n",
              "      background-color: #3B4455;\n",
              "      fill: #D2E3FC;\n",
              "    }\n",
              "\n",
              "    [theme=dark] .colab-df-convert:hover {\n",
              "      background-color: #434B5C;\n",
              "      box-shadow: 0px 1px 3px 1px rgba(0, 0, 0, 0.15);\n",
              "      filter: drop-shadow(0px 1px 2px rgba(0, 0, 0, 0.3));\n",
              "      fill: #FFFFFF;\n",
              "    }\n",
              "  </style>\n",
              "\n",
              "    <script>\n",
              "      const buttonEl =\n",
              "        document.querySelector('#df-2fc9665d-da7b-40fd-beb0-15b63f767956 button.colab-df-convert');\n",
              "      buttonEl.style.display =\n",
              "        google.colab.kernel.accessAllowed ? 'block' : 'none';\n",
              "\n",
              "      async function convertToInteractive(key) {\n",
              "        const element = document.querySelector('#df-2fc9665d-da7b-40fd-beb0-15b63f767956');\n",
              "        const dataTable =\n",
              "          await google.colab.kernel.invokeFunction('convertToInteractive',\n",
              "                                                    [key], {});\n",
              "        if (!dataTable) return;\n",
              "\n",
              "        const docLinkHtml = 'Like what you see? Visit the ' +\n",
              "          '<a target=\"_blank\" href=https://colab.research.google.com/notebooks/data_table.ipynb>data table notebook</a>'\n",
              "          + ' to learn more about interactive tables.';\n",
              "        element.innerHTML = '';\n",
              "        dataTable['output_type'] = 'display_data';\n",
              "        await google.colab.output.renderOutput(dataTable, element);\n",
              "        const docLink = document.createElement('div');\n",
              "        docLink.innerHTML = docLinkHtml;\n",
              "        element.appendChild(docLink);\n",
              "      }\n",
              "    </script>\n",
              "  </div>\n",
              "\n",
              "\n",
              "    <div id=\"df-a51b5eb9-8697-407b-b055-aee3ff8efef2\">\n",
              "      <button class=\"colab-df-quickchart\" onclick=\"quickchart('df-a51b5eb9-8697-407b-b055-aee3ff8efef2')\"\n",
              "                title=\"Suggest charts\"\n",
              "                style=\"display:none;\">\n",
              "\n",
              "<svg xmlns=\"http://www.w3.org/2000/svg\" height=\"24px\"viewBox=\"0 0 24 24\"\n",
              "     width=\"24px\">\n",
              "    <g>\n",
              "        <path d=\"M19 3H5c-1.1 0-2 .9-2 2v14c0 1.1.9 2 2 2h14c1.1 0 2-.9 2-2V5c0-1.1-.9-2-2-2zM9 17H7v-7h2v7zm4 0h-2V7h2v10zm4 0h-2v-4h2v4z\"/>\n",
              "    </g>\n",
              "</svg>\n",
              "      </button>\n",
              "\n",
              "<style>\n",
              "  .colab-df-quickchart {\n",
              "      --bg-color: #E8F0FE;\n",
              "      --fill-color: #1967D2;\n",
              "      --hover-bg-color: #E2EBFA;\n",
              "      --hover-fill-color: #174EA6;\n",
              "      --disabled-fill-color: #AAA;\n",
              "      --disabled-bg-color: #DDD;\n",
              "  }\n",
              "\n",
              "  [theme=dark] .colab-df-quickchart {\n",
              "      --bg-color: #3B4455;\n",
              "      --fill-color: #D2E3FC;\n",
              "      --hover-bg-color: #434B5C;\n",
              "      --hover-fill-color: #FFFFFF;\n",
              "      --disabled-bg-color: #3B4455;\n",
              "      --disabled-fill-color: #666;\n",
              "  }\n",
              "\n",
              "  .colab-df-quickchart {\n",
              "    background-color: var(--bg-color);\n",
              "    border: none;\n",
              "    border-radius: 50%;\n",
              "    cursor: pointer;\n",
              "    display: none;\n",
              "    fill: var(--fill-color);\n",
              "    height: 32px;\n",
              "    padding: 0;\n",
              "    width: 32px;\n",
              "  }\n",
              "\n",
              "  .colab-df-quickchart:hover {\n",
              "    background-color: var(--hover-bg-color);\n",
              "    box-shadow: 0 1px 2px rgba(60, 64, 67, 0.3), 0 1px 3px 1px rgba(60, 64, 67, 0.15);\n",
              "    fill: var(--button-hover-fill-color);\n",
              "  }\n",
              "\n",
              "  .colab-df-quickchart-complete:disabled,\n",
              "  .colab-df-quickchart-complete:disabled:hover {\n",
              "    background-color: var(--disabled-bg-color);\n",
              "    fill: var(--disabled-fill-color);\n",
              "    box-shadow: none;\n",
              "  }\n",
              "\n",
              "  .colab-df-spinner {\n",
              "    border: 2px solid var(--fill-color);\n",
              "    border-color: transparent;\n",
              "    border-bottom-color: var(--fill-color);\n",
              "    animation:\n",
              "      spin 1s steps(1) infinite;\n",
              "  }\n",
              "\n",
              "  @keyframes spin {\n",
              "    0% {\n",
              "      border-color: transparent;\n",
              "      border-bottom-color: var(--fill-color);\n",
              "      border-left-color: var(--fill-color);\n",
              "    }\n",
              "    20% {\n",
              "      border-color: transparent;\n",
              "      border-left-color: var(--fill-color);\n",
              "      border-top-color: var(--fill-color);\n",
              "    }\n",
              "    30% {\n",
              "      border-color: transparent;\n",
              "      border-left-color: var(--fill-color);\n",
              "      border-top-color: var(--fill-color);\n",
              "      border-right-color: var(--fill-color);\n",
              "    }\n",
              "    40% {\n",
              "      border-color: transparent;\n",
              "      border-right-color: var(--fill-color);\n",
              "      border-top-color: var(--fill-color);\n",
              "    }\n",
              "    60% {\n",
              "      border-color: transparent;\n",
              "      border-right-color: var(--fill-color);\n",
              "    }\n",
              "    80% {\n",
              "      border-color: transparent;\n",
              "      border-right-color: var(--fill-color);\n",
              "      border-bottom-color: var(--fill-color);\n",
              "    }\n",
              "    90% {\n",
              "      border-color: transparent;\n",
              "      border-bottom-color: var(--fill-color);\n",
              "    }\n",
              "  }\n",
              "</style>\n",
              "\n",
              "      <script>\n",
              "        async function quickchart(key) {\n",
              "          const quickchartButtonEl =\n",
              "            document.querySelector('#' + key + ' button');\n",
              "          quickchartButtonEl.disabled = true;  // To prevent multiple clicks.\n",
              "          quickchartButtonEl.classList.add('colab-df-spinner');\n",
              "          try {\n",
              "            const charts = await google.colab.kernel.invokeFunction(\n",
              "                'suggestCharts', [key], {});\n",
              "          } catch (error) {\n",
              "            console.error('Error during call to suggestCharts:', error);\n",
              "          }\n",
              "          quickchartButtonEl.classList.remove('colab-df-spinner');\n",
              "          quickchartButtonEl.classList.add('colab-df-quickchart-complete');\n",
              "        }\n",
              "        (() => {\n",
              "          let quickchartButtonEl =\n",
              "            document.querySelector('#df-a51b5eb9-8697-407b-b055-aee3ff8efef2 button');\n",
              "          quickchartButtonEl.style.display =\n",
              "            google.colab.kernel.accessAllowed ? 'block' : 'none';\n",
              "        })();\n",
              "      </script>\n",
              "    </div>\n",
              "\n",
              "  <div id=\"id_efca665c-9cf5-423b-aaaa-2acab40c8633\">\n",
              "    <style>\n",
              "      .colab-df-generate {\n",
              "        background-color: #E8F0FE;\n",
              "        border: none;\n",
              "        border-radius: 50%;\n",
              "        cursor: pointer;\n",
              "        display: none;\n",
              "        fill: #1967D2;\n",
              "        height: 32px;\n",
              "        padding: 0 0 0 0;\n",
              "        width: 32px;\n",
              "      }\n",
              "\n",
              "      .colab-df-generate:hover {\n",
              "        background-color: #E2EBFA;\n",
              "        box-shadow: 0px 1px 2px rgba(60, 64, 67, 0.3), 0px 1px 3px 1px rgba(60, 64, 67, 0.15);\n",
              "        fill: #174EA6;\n",
              "      }\n",
              "\n",
              "      [theme=dark] .colab-df-generate {\n",
              "        background-color: #3B4455;\n",
              "        fill: #D2E3FC;\n",
              "      }\n",
              "\n",
              "      [theme=dark] .colab-df-generate:hover {\n",
              "        background-color: #434B5C;\n",
              "        box-shadow: 0px 1px 3px 1px rgba(0, 0, 0, 0.15);\n",
              "        filter: drop-shadow(0px 1px 2px rgba(0, 0, 0, 0.3));\n",
              "        fill: #FFFFFF;\n",
              "      }\n",
              "    </style>\n",
              "    <button class=\"colab-df-generate\" onclick=\"generateWithVariable('df')\"\n",
              "            title=\"Generate code using this dataframe.\"\n",
              "            style=\"display:none;\">\n",
              "\n",
              "  <svg xmlns=\"http://www.w3.org/2000/svg\" height=\"24px\"viewBox=\"0 0 24 24\"\n",
              "       width=\"24px\">\n",
              "    <path d=\"M7,19H8.4L18.45,9,17,7.55,7,17.6ZM5,21V16.75L18.45,3.32a2,2,0,0,1,2.83,0l1.4,1.43a1.91,1.91,0,0,1,.58,1.4,1.91,1.91,0,0,1-.58,1.4L9.25,21ZM18.45,9,17,7.55Zm-12,3A5.31,5.31,0,0,0,4.9,8.1,5.31,5.31,0,0,0,1,6.5,5.31,5.31,0,0,0,4.9,4.9,5.31,5.31,0,0,0,6.5,1,5.31,5.31,0,0,0,8.1,4.9,5.31,5.31,0,0,0,12,6.5,5.46,5.46,0,0,0,6.5,12Z\"/>\n",
              "  </svg>\n",
              "    </button>\n",
              "    <script>\n",
              "      (() => {\n",
              "      const buttonEl =\n",
              "        document.querySelector('#id_efca665c-9cf5-423b-aaaa-2acab40c8633 button.colab-df-generate');\n",
              "      buttonEl.style.display =\n",
              "        google.colab.kernel.accessAllowed ? 'block' : 'none';\n",
              "\n",
              "      buttonEl.onclick = () => {\n",
              "        google.colab.notebook.generateWithVariable('df');\n",
              "      }\n",
              "      })();\n",
              "    </script>\n",
              "  </div>\n",
              "\n",
              "    </div>\n",
              "  </div>\n"
            ],
            "application/vnd.google.colaboratory.intrinsic+json": {
              "type": "dataframe",
              "variable_name": "df",
              "repr_error": "Out of range float values are not JSON compliant: nan"
            }
          },
          "metadata": {},
          "execution_count": 30
        }
      ]
    },
    {
      "cell_type": "code",
      "source": [
        "df.drop(\"company_name\", axis=1, inplace=True)"
      ],
      "metadata": {
        "id": "cptRKPQLktaK"
      },
      "execution_count": 31,
      "outputs": []
    },
    {
      "cell_type": "code",
      "source": [
        "df"
      ],
      "metadata": {
        "colab": {
          "base_uri": "https://localhost:8080/",
          "height": 927
        },
        "id": "n0Yu532tkwLz",
        "outputId": "2f55641c-07be-4882-d988-d6a653282fda"
      },
      "execution_count": 32,
      "outputs": [
        {
          "output_type": "execute_result",
          "data": {
            "text/plain": [
              "                                          pdf_filename  \\\n",
              "0      Adjudication Order in the matter of MCS Ltd.pdf   \n",
              "1    Adjudication Order passed against Ms. Neelam R...   \n",
              "2    Adjudication order in respect of Canfin Homes ...   \n",
              "3    Adjudication order in respect of Gowri Gopal H...   \n",
              "4    Adjudication order in the matter of DSP Merill...   \n",
              "..                                                 ...   \n",
              "187  Adjudication Order in respect of Hindustan Tea...   \n",
              "188  Adjudication Order in respect of Emmanuel Anth...   \n",
              "189  Adjudication Order in respect of Nimish Kantil...   \n",
              "190  Adjudication Order in respect of Pramod Kumar ...   \n",
              "191   Adjudication order of VSE Stock Services Ltd.pdf   \n",
              "\n",
              "                                          Entity_Names  \\\n",
              "0                                                [MCS]   \n",
              "1                                  [Karuna Cables Ltd]   \n",
              "2                                       [Roopa S Shah]   \n",
              "3    [Gowri Gopal Hospital Pvt. Ltd, Brilliant Secu...   \n",
              "4                               [DSP Merill Lynch Ltd]   \n",
              "..                                                 ...   \n",
              "187  [Hindustan Tea & Trading Co. Ltd, Orion Paper ...   \n",
              "188                             [Matra Realty Limited]   \n",
              "189                             [Matra Realty Limited]   \n",
              "190                                     [Cyber Family]   \n",
              "191                               [VSE Stock Services]   \n",
              "\n",
              "                        pan   cin  \\\n",
              "0    AAACM8027G, AAACM8027G  None   \n",
              "1                      None  None   \n",
              "2                AAACC7241A  None   \n",
              "3                AACCS9035O  None   \n",
              "4                AAACD0535G  None   \n",
              "..                      ...   ...   \n",
              "187                    None  None   \n",
              "188              AJBPA3595N  None   \n",
              "189              AAAPU2220N  None   \n",
              "190                    None  None   \n",
              "191              AABCV4258K  None   \n",
              "\n",
              "                                               address sentiment_heuristic  \\\n",
              "0    10.1 A copy of a letter dated June 12, 2007 fr...            Negative   \n",
              "1                                                 None             Neutral   \n",
              "2    of the company are listed, the names and addre...             Neutral   \n",
              "3                                                 None            Negative   \n",
              "4    email address is a ‘group email address’ which...            Negative   \n",
              "..                                                 ...                 ...   \n",
              "187  the person available at the address refused to...            Negative   \n",
              "188                                               None            Negative   \n",
              "189                                               None            Negative   \n",
              "190                                               None            Negative   \n",
              "191  address for each of its clients and the notice...             Neutral   \n",
              "\n",
              "    sentiment_spacy                                            context  \n",
              "0          Negative   \\n1\\nBEFORE THE ADJUDICATING OFFICER \\nSECURI...  \n",
              "1           Neutral  1995 \\nAgainst \\n                             ...  \n",
              "2           Neutral                                               None  \n",
              "3          Negative  Page 1 of 15 \\nBEFORE THE ADJUDICATING OFFICER...  \n",
              "4          Positive  Page 1 of 8 \\nBEFORE THE ADJUDICATING OFFICER ...  \n",
              "..              ...                                                ...  \n",
              "187         Neutral  Page 1 of 3 \\nBEFORE THE ADJUDICATING OFFICER ...  \n",
              "188        Negative  Page 1 of 14 \\nBEFORE THE ADJUDICATING OFFICER...  \n",
              "189        Negative  Page 1 of 15 \\nBEFORE THE ADJUDICATING OFFICER...  \n",
              "190        Negative  Page 1 of 17 \\nBEFORE THE ADJUDICATING OFFICER...  \n",
              "191         Neutral   \\nAdjudication Order in respect of VSE Stock ...  \n",
              "\n",
              "[192 rows x 8 columns]"
            ],
            "text/html": [
              "\n",
              "  <div id=\"df-129a8aba-a792-4c7e-baff-8944ccfcfcd2\" class=\"colab-df-container\">\n",
              "    <div>\n",
              "<style scoped>\n",
              "    .dataframe tbody tr th:only-of-type {\n",
              "        vertical-align: middle;\n",
              "    }\n",
              "\n",
              "    .dataframe tbody tr th {\n",
              "        vertical-align: top;\n",
              "    }\n",
              "\n",
              "    .dataframe thead th {\n",
              "        text-align: right;\n",
              "    }\n",
              "</style>\n",
              "<table border=\"1\" class=\"dataframe\">\n",
              "  <thead>\n",
              "    <tr style=\"text-align: right;\">\n",
              "      <th></th>\n",
              "      <th>pdf_filename</th>\n",
              "      <th>Entity_Names</th>\n",
              "      <th>pan</th>\n",
              "      <th>cin</th>\n",
              "      <th>address</th>\n",
              "      <th>sentiment_heuristic</th>\n",
              "      <th>sentiment_spacy</th>\n",
              "      <th>context</th>\n",
              "    </tr>\n",
              "  </thead>\n",
              "  <tbody>\n",
              "    <tr>\n",
              "      <th>0</th>\n",
              "      <td>Adjudication Order in the matter of MCS Ltd.pdf</td>\n",
              "      <td>[MCS]</td>\n",
              "      <td>AAACM8027G, AAACM8027G</td>\n",
              "      <td>None</td>\n",
              "      <td>10.1 A copy of a letter dated June 12, 2007 fr...</td>\n",
              "      <td>Negative</td>\n",
              "      <td>Negative</td>\n",
              "      <td>\\n1\\nBEFORE THE ADJUDICATING OFFICER \\nSECURI...</td>\n",
              "    </tr>\n",
              "    <tr>\n",
              "      <th>1</th>\n",
              "      <td>Adjudication Order passed against Ms. Neelam R...</td>\n",
              "      <td>[Karuna Cables Ltd]</td>\n",
              "      <td>None</td>\n",
              "      <td>None</td>\n",
              "      <td>None</td>\n",
              "      <td>Neutral</td>\n",
              "      <td>Neutral</td>\n",
              "      <td>1995 \\nAgainst \\n                             ...</td>\n",
              "    </tr>\n",
              "    <tr>\n",
              "      <th>2</th>\n",
              "      <td>Adjudication order in respect of Canfin Homes ...</td>\n",
              "      <td>[Roopa S Shah]</td>\n",
              "      <td>AAACC7241A</td>\n",
              "      <td>None</td>\n",
              "      <td>of the company are listed, the names and addre...</td>\n",
              "      <td>Neutral</td>\n",
              "      <td>Neutral</td>\n",
              "      <td>None</td>\n",
              "    </tr>\n",
              "    <tr>\n",
              "      <th>3</th>\n",
              "      <td>Adjudication order in respect of Gowri Gopal H...</td>\n",
              "      <td>[Gowri Gopal Hospital Pvt. Ltd, Brilliant Secu...</td>\n",
              "      <td>AACCS9035O</td>\n",
              "      <td>None</td>\n",
              "      <td>None</td>\n",
              "      <td>Negative</td>\n",
              "      <td>Negative</td>\n",
              "      <td>Page 1 of 15 \\nBEFORE THE ADJUDICATING OFFICER...</td>\n",
              "    </tr>\n",
              "    <tr>\n",
              "      <th>4</th>\n",
              "      <td>Adjudication order in the matter of DSP Merill...</td>\n",
              "      <td>[DSP Merill Lynch Ltd]</td>\n",
              "      <td>AAACD0535G</td>\n",
              "      <td>None</td>\n",
              "      <td>email address is a ‘group email address’ which...</td>\n",
              "      <td>Negative</td>\n",
              "      <td>Positive</td>\n",
              "      <td>Page 1 of 8 \\nBEFORE THE ADJUDICATING OFFICER ...</td>\n",
              "    </tr>\n",
              "    <tr>\n",
              "      <th>...</th>\n",
              "      <td>...</td>\n",
              "      <td>...</td>\n",
              "      <td>...</td>\n",
              "      <td>...</td>\n",
              "      <td>...</td>\n",
              "      <td>...</td>\n",
              "      <td>...</td>\n",
              "      <td>...</td>\n",
              "    </tr>\n",
              "    <tr>\n",
              "      <th>187</th>\n",
              "      <td>Adjudication Order in respect of Hindustan Tea...</td>\n",
              "      <td>[Hindustan Tea &amp; Trading Co. Ltd, Orion Paper ...</td>\n",
              "      <td>None</td>\n",
              "      <td>None</td>\n",
              "      <td>the person available at the address refused to...</td>\n",
              "      <td>Negative</td>\n",
              "      <td>Neutral</td>\n",
              "      <td>Page 1 of 3 \\nBEFORE THE ADJUDICATING OFFICER ...</td>\n",
              "    </tr>\n",
              "    <tr>\n",
              "      <th>188</th>\n",
              "      <td>Adjudication Order in respect of Emmanuel Anth...</td>\n",
              "      <td>[Matra Realty Limited]</td>\n",
              "      <td>AJBPA3595N</td>\n",
              "      <td>None</td>\n",
              "      <td>None</td>\n",
              "      <td>Negative</td>\n",
              "      <td>Negative</td>\n",
              "      <td>Page 1 of 14 \\nBEFORE THE ADJUDICATING OFFICER...</td>\n",
              "    </tr>\n",
              "    <tr>\n",
              "      <th>189</th>\n",
              "      <td>Adjudication Order in respect of Nimish Kantil...</td>\n",
              "      <td>[Matra Realty Limited]</td>\n",
              "      <td>AAAPU2220N</td>\n",
              "      <td>None</td>\n",
              "      <td>None</td>\n",
              "      <td>Negative</td>\n",
              "      <td>Negative</td>\n",
              "      <td>Page 1 of 15 \\nBEFORE THE ADJUDICATING OFFICER...</td>\n",
              "    </tr>\n",
              "    <tr>\n",
              "      <th>190</th>\n",
              "      <td>Adjudication Order in respect of Pramod Kumar ...</td>\n",
              "      <td>[Cyber Family]</td>\n",
              "      <td>None</td>\n",
              "      <td>None</td>\n",
              "      <td>None</td>\n",
              "      <td>Negative</td>\n",
              "      <td>Negative</td>\n",
              "      <td>Page 1 of 17 \\nBEFORE THE ADJUDICATING OFFICER...</td>\n",
              "    </tr>\n",
              "    <tr>\n",
              "      <th>191</th>\n",
              "      <td>Adjudication order of VSE Stock Services Ltd.pdf</td>\n",
              "      <td>[VSE Stock Services]</td>\n",
              "      <td>AABCV4258K</td>\n",
              "      <td>None</td>\n",
              "      <td>address for each of its clients and the notice...</td>\n",
              "      <td>Neutral</td>\n",
              "      <td>Neutral</td>\n",
              "      <td>\\nAdjudication Order in respect of VSE Stock ...</td>\n",
              "    </tr>\n",
              "  </tbody>\n",
              "</table>\n",
              "<p>192 rows × 8 columns</p>\n",
              "</div>\n",
              "    <div class=\"colab-df-buttons\">\n",
              "\n",
              "  <div class=\"colab-df-container\">\n",
              "    <button class=\"colab-df-convert\" onclick=\"convertToInteractive('df-129a8aba-a792-4c7e-baff-8944ccfcfcd2')\"\n",
              "            title=\"Convert this dataframe to an interactive table.\"\n",
              "            style=\"display:none;\">\n",
              "\n",
              "  <svg xmlns=\"http://www.w3.org/2000/svg\" height=\"24px\" viewBox=\"0 -960 960 960\">\n",
              "    <path d=\"M120-120v-720h720v720H120Zm60-500h600v-160H180v160Zm220 220h160v-160H400v160Zm0 220h160v-160H400v160ZM180-400h160v-160H180v160Zm440 0h160v-160H620v160ZM180-180h160v-160H180v160Zm440 0h160v-160H620v160Z\"/>\n",
              "  </svg>\n",
              "    </button>\n",
              "\n",
              "  <style>\n",
              "    .colab-df-container {\n",
              "      display:flex;\n",
              "      gap: 12px;\n",
              "    }\n",
              "\n",
              "    .colab-df-convert {\n",
              "      background-color: #E8F0FE;\n",
              "      border: none;\n",
              "      border-radius: 50%;\n",
              "      cursor: pointer;\n",
              "      display: none;\n",
              "      fill: #1967D2;\n",
              "      height: 32px;\n",
              "      padding: 0 0 0 0;\n",
              "      width: 32px;\n",
              "    }\n",
              "\n",
              "    .colab-df-convert:hover {\n",
              "      background-color: #E2EBFA;\n",
              "      box-shadow: 0px 1px 2px rgba(60, 64, 67, 0.3), 0px 1px 3px 1px rgba(60, 64, 67, 0.15);\n",
              "      fill: #174EA6;\n",
              "    }\n",
              "\n",
              "    .colab-df-buttons div {\n",
              "      margin-bottom: 4px;\n",
              "    }\n",
              "\n",
              "    [theme=dark] .colab-df-convert {\n",
              "      background-color: #3B4455;\n",
              "      fill: #D2E3FC;\n",
              "    }\n",
              "\n",
              "    [theme=dark] .colab-df-convert:hover {\n",
              "      background-color: #434B5C;\n",
              "      box-shadow: 0px 1px 3px 1px rgba(0, 0, 0, 0.15);\n",
              "      filter: drop-shadow(0px 1px 2px rgba(0, 0, 0, 0.3));\n",
              "      fill: #FFFFFF;\n",
              "    }\n",
              "  </style>\n",
              "\n",
              "    <script>\n",
              "      const buttonEl =\n",
              "        document.querySelector('#df-129a8aba-a792-4c7e-baff-8944ccfcfcd2 button.colab-df-convert');\n",
              "      buttonEl.style.display =\n",
              "        google.colab.kernel.accessAllowed ? 'block' : 'none';\n",
              "\n",
              "      async function convertToInteractive(key) {\n",
              "        const element = document.querySelector('#df-129a8aba-a792-4c7e-baff-8944ccfcfcd2');\n",
              "        const dataTable =\n",
              "          await google.colab.kernel.invokeFunction('convertToInteractive',\n",
              "                                                    [key], {});\n",
              "        if (!dataTable) return;\n",
              "\n",
              "        const docLinkHtml = 'Like what you see? Visit the ' +\n",
              "          '<a target=\"_blank\" href=https://colab.research.google.com/notebooks/data_table.ipynb>data table notebook</a>'\n",
              "          + ' to learn more about interactive tables.';\n",
              "        element.innerHTML = '';\n",
              "        dataTable['output_type'] = 'display_data';\n",
              "        await google.colab.output.renderOutput(dataTable, element);\n",
              "        const docLink = document.createElement('div');\n",
              "        docLink.innerHTML = docLinkHtml;\n",
              "        element.appendChild(docLink);\n",
              "      }\n",
              "    </script>\n",
              "  </div>\n",
              "\n",
              "\n",
              "    <div id=\"df-e0d23af2-7f58-441f-a1c9-830036fdc61b\">\n",
              "      <button class=\"colab-df-quickchart\" onclick=\"quickchart('df-e0d23af2-7f58-441f-a1c9-830036fdc61b')\"\n",
              "                title=\"Suggest charts\"\n",
              "                style=\"display:none;\">\n",
              "\n",
              "<svg xmlns=\"http://www.w3.org/2000/svg\" height=\"24px\"viewBox=\"0 0 24 24\"\n",
              "     width=\"24px\">\n",
              "    <g>\n",
              "        <path d=\"M19 3H5c-1.1 0-2 .9-2 2v14c0 1.1.9 2 2 2h14c1.1 0 2-.9 2-2V5c0-1.1-.9-2-2-2zM9 17H7v-7h2v7zm4 0h-2V7h2v10zm4 0h-2v-4h2v4z\"/>\n",
              "    </g>\n",
              "</svg>\n",
              "      </button>\n",
              "\n",
              "<style>\n",
              "  .colab-df-quickchart {\n",
              "      --bg-color: #E8F0FE;\n",
              "      --fill-color: #1967D2;\n",
              "      --hover-bg-color: #E2EBFA;\n",
              "      --hover-fill-color: #174EA6;\n",
              "      --disabled-fill-color: #AAA;\n",
              "      --disabled-bg-color: #DDD;\n",
              "  }\n",
              "\n",
              "  [theme=dark] .colab-df-quickchart {\n",
              "      --bg-color: #3B4455;\n",
              "      --fill-color: #D2E3FC;\n",
              "      --hover-bg-color: #434B5C;\n",
              "      --hover-fill-color: #FFFFFF;\n",
              "      --disabled-bg-color: #3B4455;\n",
              "      --disabled-fill-color: #666;\n",
              "  }\n",
              "\n",
              "  .colab-df-quickchart {\n",
              "    background-color: var(--bg-color);\n",
              "    border: none;\n",
              "    border-radius: 50%;\n",
              "    cursor: pointer;\n",
              "    display: none;\n",
              "    fill: var(--fill-color);\n",
              "    height: 32px;\n",
              "    padding: 0;\n",
              "    width: 32px;\n",
              "  }\n",
              "\n",
              "  .colab-df-quickchart:hover {\n",
              "    background-color: var(--hover-bg-color);\n",
              "    box-shadow: 0 1px 2px rgba(60, 64, 67, 0.3), 0 1px 3px 1px rgba(60, 64, 67, 0.15);\n",
              "    fill: var(--button-hover-fill-color);\n",
              "  }\n",
              "\n",
              "  .colab-df-quickchart-complete:disabled,\n",
              "  .colab-df-quickchart-complete:disabled:hover {\n",
              "    background-color: var(--disabled-bg-color);\n",
              "    fill: var(--disabled-fill-color);\n",
              "    box-shadow: none;\n",
              "  }\n",
              "\n",
              "  .colab-df-spinner {\n",
              "    border: 2px solid var(--fill-color);\n",
              "    border-color: transparent;\n",
              "    border-bottom-color: var(--fill-color);\n",
              "    animation:\n",
              "      spin 1s steps(1) infinite;\n",
              "  }\n",
              "\n",
              "  @keyframes spin {\n",
              "    0% {\n",
              "      border-color: transparent;\n",
              "      border-bottom-color: var(--fill-color);\n",
              "      border-left-color: var(--fill-color);\n",
              "    }\n",
              "    20% {\n",
              "      border-color: transparent;\n",
              "      border-left-color: var(--fill-color);\n",
              "      border-top-color: var(--fill-color);\n",
              "    }\n",
              "    30% {\n",
              "      border-color: transparent;\n",
              "      border-left-color: var(--fill-color);\n",
              "      border-top-color: var(--fill-color);\n",
              "      border-right-color: var(--fill-color);\n",
              "    }\n",
              "    40% {\n",
              "      border-color: transparent;\n",
              "      border-right-color: var(--fill-color);\n",
              "      border-top-color: var(--fill-color);\n",
              "    }\n",
              "    60% {\n",
              "      border-color: transparent;\n",
              "      border-right-color: var(--fill-color);\n",
              "    }\n",
              "    80% {\n",
              "      border-color: transparent;\n",
              "      border-right-color: var(--fill-color);\n",
              "      border-bottom-color: var(--fill-color);\n",
              "    }\n",
              "    90% {\n",
              "      border-color: transparent;\n",
              "      border-bottom-color: var(--fill-color);\n",
              "    }\n",
              "  }\n",
              "</style>\n",
              "\n",
              "      <script>\n",
              "        async function quickchart(key) {\n",
              "          const quickchartButtonEl =\n",
              "            document.querySelector('#' + key + ' button');\n",
              "          quickchartButtonEl.disabled = true;  // To prevent multiple clicks.\n",
              "          quickchartButtonEl.classList.add('colab-df-spinner');\n",
              "          try {\n",
              "            const charts = await google.colab.kernel.invokeFunction(\n",
              "                'suggestCharts', [key], {});\n",
              "          } catch (error) {\n",
              "            console.error('Error during call to suggestCharts:', error);\n",
              "          }\n",
              "          quickchartButtonEl.classList.remove('colab-df-spinner');\n",
              "          quickchartButtonEl.classList.add('colab-df-quickchart-complete');\n",
              "        }\n",
              "        (() => {\n",
              "          let quickchartButtonEl =\n",
              "            document.querySelector('#df-e0d23af2-7f58-441f-a1c9-830036fdc61b button');\n",
              "          quickchartButtonEl.style.display =\n",
              "            google.colab.kernel.accessAllowed ? 'block' : 'none';\n",
              "        })();\n",
              "      </script>\n",
              "    </div>\n",
              "\n",
              "  <div id=\"id_9ae7c7d1-bd74-443f-9379-a82d51eb0549\">\n",
              "    <style>\n",
              "      .colab-df-generate {\n",
              "        background-color: #E8F0FE;\n",
              "        border: none;\n",
              "        border-radius: 50%;\n",
              "        cursor: pointer;\n",
              "        display: none;\n",
              "        fill: #1967D2;\n",
              "        height: 32px;\n",
              "        padding: 0 0 0 0;\n",
              "        width: 32px;\n",
              "      }\n",
              "\n",
              "      .colab-df-generate:hover {\n",
              "        background-color: #E2EBFA;\n",
              "        box-shadow: 0px 1px 2px rgba(60, 64, 67, 0.3), 0px 1px 3px 1px rgba(60, 64, 67, 0.15);\n",
              "        fill: #174EA6;\n",
              "      }\n",
              "\n",
              "      [theme=dark] .colab-df-generate {\n",
              "        background-color: #3B4455;\n",
              "        fill: #D2E3FC;\n",
              "      }\n",
              "\n",
              "      [theme=dark] .colab-df-generate:hover {\n",
              "        background-color: #434B5C;\n",
              "        box-shadow: 0px 1px 3px 1px rgba(0, 0, 0, 0.15);\n",
              "        filter: drop-shadow(0px 1px 2px rgba(0, 0, 0, 0.3));\n",
              "        fill: #FFFFFF;\n",
              "      }\n",
              "    </style>\n",
              "    <button class=\"colab-df-generate\" onclick=\"generateWithVariable('df')\"\n",
              "            title=\"Generate code using this dataframe.\"\n",
              "            style=\"display:none;\">\n",
              "\n",
              "  <svg xmlns=\"http://www.w3.org/2000/svg\" height=\"24px\"viewBox=\"0 0 24 24\"\n",
              "       width=\"24px\">\n",
              "    <path d=\"M7,19H8.4L18.45,9,17,7.55,7,17.6ZM5,21V16.75L18.45,3.32a2,2,0,0,1,2.83,0l1.4,1.43a1.91,1.91,0,0,1,.58,1.4,1.91,1.91,0,0,1-.58,1.4L9.25,21ZM18.45,9,17,7.55Zm-12,3A5.31,5.31,0,0,0,4.9,8.1,5.31,5.31,0,0,0,1,6.5,5.31,5.31,0,0,0,4.9,4.9,5.31,5.31,0,0,0,6.5,1,5.31,5.31,0,0,0,8.1,4.9,5.31,5.31,0,0,0,12,6.5,5.46,5.46,0,0,0,6.5,12Z\"/>\n",
              "  </svg>\n",
              "    </button>\n",
              "    <script>\n",
              "      (() => {\n",
              "      const buttonEl =\n",
              "        document.querySelector('#id_9ae7c7d1-bd74-443f-9379-a82d51eb0549 button.colab-df-generate');\n",
              "      buttonEl.style.display =\n",
              "        google.colab.kernel.accessAllowed ? 'block' : 'none';\n",
              "\n",
              "      buttonEl.onclick = () => {\n",
              "        google.colab.notebook.generateWithVariable('df');\n",
              "      }\n",
              "      })();\n",
              "    </script>\n",
              "  </div>\n",
              "\n",
              "    </div>\n",
              "  </div>\n"
            ],
            "application/vnd.google.colaboratory.intrinsic+json": {
              "type": "dataframe",
              "variable_name": "df",
              "repr_error": "Out of range float values are not JSON compliant: nan"
            }
          },
          "metadata": {},
          "execution_count": 32
        }
      ]
    },
    {
      "cell_type": "code",
      "source": [
        "df[\"Entity_Names\"] = df[\"Entity_Names\"].apply(lambda x: \", \".join(x) if isinstance(x, list) else x)\n"
      ],
      "metadata": {
        "id": "MKoR_SxelE7W"
      },
      "execution_count": 33,
      "outputs": []
    },
    {
      "cell_type": "code",
      "source": [
        "df.to_csv(\"Final_data_SEBI_without_cin_new.csv\")"
      ],
      "metadata": {
        "id": "yGSXCgdLmIeB"
      },
      "execution_count": 35,
      "outputs": []
    },
    {
      "cell_type": "code",
      "source": [
        "import shutil\n",
        "from google.colab import files\n",
        "shutil.make_archive('/content/pdfs1_backup', 'zip', '/content/pdfs1')\n",
        "\n",
        "\n",
        "files.download('/content/pdfs1_backup.zip')\n"
      ],
      "metadata": {
        "colab": {
          "base_uri": "https://localhost:8080/",
          "height": 17
        },
        "id": "tkbeb88gmNRZ",
        "outputId": "d41cdf8a-0b86-4434-9b8c-c8165debf409"
      },
      "execution_count": null,
      "outputs": [
        {
          "output_type": "display_data",
          "data": {
            "text/plain": [
              "<IPython.core.display.Javascript object>"
            ],
            "application/javascript": [
              "\n",
              "    async function download(id, filename, size) {\n",
              "      if (!google.colab.kernel.accessAllowed) {\n",
              "        return;\n",
              "      }\n",
              "      const div = document.createElement('div');\n",
              "      const label = document.createElement('label');\n",
              "      label.textContent = `Downloading \"${filename}\": `;\n",
              "      div.appendChild(label);\n",
              "      const progress = document.createElement('progress');\n",
              "      progress.max = size;\n",
              "      div.appendChild(progress);\n",
              "      document.body.appendChild(div);\n",
              "\n",
              "      const buffers = [];\n",
              "      let downloaded = 0;\n",
              "\n",
              "      const channel = await google.colab.kernel.comms.open(id);\n",
              "      // Send a message to notify the kernel that we're ready.\n",
              "      channel.send({})\n",
              "\n",
              "      for await (const message of channel.messages) {\n",
              "        // Send a message to notify the kernel that we're ready.\n",
              "        channel.send({})\n",
              "        if (message.buffers) {\n",
              "          for (const buffer of message.buffers) {\n",
              "            buffers.push(buffer);\n",
              "            downloaded += buffer.byteLength;\n",
              "            progress.value = downloaded;\n",
              "          }\n",
              "        }\n",
              "      }\n",
              "      const blob = new Blob(buffers, {type: 'application/binary'});\n",
              "      const a = document.createElement('a');\n",
              "      a.href = window.URL.createObjectURL(blob);\n",
              "      a.download = filename;\n",
              "      div.appendChild(a);\n",
              "      a.click();\n",
              "      div.remove();\n",
              "    }\n",
              "  "
            ]
          },
          "metadata": {}
        },
        {
          "output_type": "display_data",
          "data": {
            "text/plain": [
              "<IPython.core.display.Javascript object>"
            ],
            "application/javascript": [
              "download(\"download_cda34919-e99d-48dc-beab-6bdc908d01e5\", \"pdfs1_backup.zip\", 12595786)"
            ]
          },
          "metadata": {}
        }
      ]
    }
  ]
}